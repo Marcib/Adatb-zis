





<!DOCTYPE html>
<html
  lang="en"
  
  data-color-mode="auto" data-light-theme="light" data-dark-theme="dark"
  data-a11y-animated-images="system" data-a11y-link-underlines="true"
  >




  <head>
    <meta charset="utf-8">
  <link rel="dns-prefetch" href="https://github.githubassets.com">
  <link rel="dns-prefetch" href="https://avatars.githubusercontent.com">
  <link rel="dns-prefetch" href="https://github-cloud.s3.amazonaws.com">
  <link rel="dns-prefetch" href="https://user-images.githubusercontent.com/">
  <link rel="preconnect" href="https://github.githubassets.com" crossorigin>
  <link rel="preconnect" href="https://avatars.githubusercontent.com">

  


  <link crossorigin="anonymous" media="all" rel="stylesheet" href="https://github.githubassets.com/assets/light-0eace2597ca3.css" /><link crossorigin="anonymous" media="all" rel="stylesheet" href="https://github.githubassets.com/assets/dark-a167e256da9c.css" /><link data-color-theme="dark_dimmed" crossorigin="anonymous" media="all" rel="stylesheet" data-href="https://github.githubassets.com/assets/dark_dimmed-d11f2cf8009b.css" /><link data-color-theme="dark_high_contrast" crossorigin="anonymous" media="all" rel="stylesheet" data-href="https://github.githubassets.com/assets/dark_high_contrast-ea7373db06c8.css" /><link data-color-theme="dark_colorblind" crossorigin="anonymous" media="all" rel="stylesheet" data-href="https://github.githubassets.com/assets/dark_colorblind-afa99dcf40f7.css" /><link data-color-theme="light_colorblind" crossorigin="anonymous" media="all" rel="stylesheet" data-href="https://github.githubassets.com/assets/light_colorblind-af6c685139ba.css" /><link data-color-theme="light_high_contrast" crossorigin="anonymous" media="all" rel="stylesheet" data-href="https://github.githubassets.com/assets/light_high_contrast-578cdbc8a5a9.css" /><link data-color-theme="light_tritanopia" crossorigin="anonymous" media="all" rel="stylesheet" data-href="https://github.githubassets.com/assets/light_tritanopia-5cb699a7e247.css" /><link data-color-theme="dark_tritanopia" crossorigin="anonymous" media="all" rel="stylesheet" data-href="https://github.githubassets.com/assets/dark_tritanopia-9b32204967c6.css" />
    <link crossorigin="anonymous" media="all" rel="stylesheet" href="https://github.githubassets.com/assets/primer-primitives-2ef2a46b27ee.css" />
    <link crossorigin="anonymous" media="all" rel="stylesheet" href="https://github.githubassets.com/assets/primer-08e422afeb43.css" />
    <link crossorigin="anonymous" media="all" rel="stylesheet" href="https://github.githubassets.com/assets/global-05ed4a7e07b5.css" />
    <link crossorigin="anonymous" media="all" rel="stylesheet" href="https://github.githubassets.com/assets/github-8eaab228448a.css" />
  <link crossorigin="anonymous" media="all" rel="stylesheet" href="https://github.githubassets.com/assets/repository-6247ca238fd4.css" />
<link crossorigin="anonymous" media="all" rel="stylesheet" href="https://github.githubassets.com/assets/code-ac2c2f3d57f1.css" />

  


  <script type="application/json" id="client-env">{"locale":"en","featureFlags":["code_vulnerability_scanning","copilot_conversational_ux_history_refs","copilot_modal_reference_viewer","copilot_persistent_chat_panel","copilot_smell_icebreaker_ux","copilot_implicit_context","docset_management_ui","failbot_handle_non_errors","geojson_azure_maps","image_metric_tracking","marketing_forms_api_integration_contact_request","marketing_pages_search_explore_provider","repository_suggester_elastic_search","turbo_experiment_risky","sample_network_conn_type","no_character_key_shortcuts_in_inputs","custom_inp","remove_child_patch"]}</script>
<script crossorigin="anonymous" defer="defer" type="application/javascript" src="https://github.githubassets.com/assets/wp-runtime-f765b5a6a079.js"></script>
<script crossorigin="anonymous" defer="defer" type="application/javascript" src="https://github.githubassets.com/assets/vendors-node_modules_dompurify_dist_purify_js-6890e890956f.js"></script>
<script crossorigin="anonymous" defer="defer" type="application/javascript" src="https://github.githubassets.com/assets/vendors-node_modules_stacktrace-parser_dist_stack-trace-parser_esm_js-node_modules_github_bro-a4c183-79f9611c275b.js"></script>
<script crossorigin="anonymous" defer="defer" type="application/javascript" src="https://github.githubassets.com/assets/vendors-node_modules_github_hydro-analytics-client_dist_analytics-client_js-node_modules_gith-6a10dd-e66ebda625fb.js"></script>
<script crossorigin="anonymous" defer="defer" type="application/javascript" src="https://github.githubassets.com/assets/ui_packages_failbot_failbot_ts-afaa9a250f2e.js"></script>
<script crossorigin="anonymous" defer="defer" type="application/javascript" src="https://github.githubassets.com/assets/environment-4ff0d843ea45.js"></script>
<script crossorigin="anonymous" defer="defer" type="application/javascript" src="https://github.githubassets.com/assets/vendors-node_modules_github_selector-observer_dist_index_esm_js-9f960d9b217c.js"></script>
<script crossorigin="anonymous" defer="defer" type="application/javascript" src="https://github.githubassets.com/assets/vendors-node_modules_primer_behaviors_dist_esm_focus-zone_js-086f7a27bac0.js"></script>
<script crossorigin="anonymous" defer="defer" type="application/javascript" src="https://github.githubassets.com/assets/vendors-node_modules_github_relative-time-element_dist_index_js-c76945c5961a.js"></script>
<script crossorigin="anonymous" defer="defer" type="application/javascript" src="https://github.githubassets.com/assets/vendors-node_modules_delegated-events_dist_index_js-node_modules_github_details-dialog-elemen-29dc30-a2a71f11a507.js"></script>
<script crossorigin="anonymous" defer="defer" type="application/javascript" src="https://github.githubassets.com/assets/vendors-node_modules_github_auto-complete-element_dist_index_js-d6c09d7e4e48.js"></script>
<script crossorigin="anonymous" defer="defer" type="application/javascript" src="https://github.githubassets.com/assets/vendors-node_modules_github_filter-input-element_dist_index_js-node_modules_github_remote-inp-b7d8f4-8cd02f324209.js"></script>
<script crossorigin="anonymous" defer="defer" type="application/javascript" src="https://github.githubassets.com/assets/vendors-node_modules_github_file-attachment-element_dist_index_js-node_modules_primer_view-co-6ff72b-44df89427254.js"></script>
<script crossorigin="anonymous" defer="defer" type="application/javascript" src="https://github.githubassets.com/assets/github-elements-91586b615d25.js"></script>
<script crossorigin="anonymous" defer="defer" type="application/javascript" src="https://github.githubassets.com/assets/element-registry-58eba3853ad3.js"></script>
<script crossorigin="anonymous" defer="defer" type="application/javascript" src="https://github.githubassets.com/assets/vendors-node_modules_github_catalyst_lib_index_js-node_modules_github_hydro-analytics-client_-978abc0-add939c751ce.js"></script>
<script crossorigin="anonymous" defer="defer" type="application/javascript" src="https://github.githubassets.com/assets/vendors-node_modules_lit-html_lit-html_js-5b376145beff.js"></script>
<script crossorigin="anonymous" defer="defer" type="application/javascript" src="https://github.githubassets.com/assets/vendors-node_modules_github_mini-throttle_dist_index_js-node_modules_github_alive-client_dist-bf5aa2-1b562c29ab8e.js"></script>
<script crossorigin="anonymous" defer="defer" type="application/javascript" src="https://github.githubassets.com/assets/vendors-node_modules_morphdom_dist_morphdom-esm_js-5bff297a06de.js"></script>
<script crossorigin="anonymous" defer="defer" type="application/javascript" src="https://github.githubassets.com/assets/vendors-node_modules_github_turbo_dist_turbo_es2017-esm_js-c91f4ad18b62.js"></script>
<script crossorigin="anonymous" defer="defer" type="application/javascript" src="https://github.githubassets.com/assets/vendors-node_modules_color-convert_index_js-72c9fbde5ad4.js"></script>
<script crossorigin="anonymous" defer="defer" type="application/javascript" src="https://github.githubassets.com/assets/vendors-node_modules_github_remote-form_dist_index_js-node_modules_scroll-anchoring_dist_scro-231ccf-aa129238d13b.js"></script>
<script crossorigin="anonymous" defer="defer" type="application/javascript" src="https://github.githubassets.com/assets/vendors-node_modules_primer_behaviors_dist_esm_dimensions_js-node_modules_github_jtml_lib_index_js-95b84ee6bc34.js"></script>
<script crossorigin="anonymous" defer="defer" type="application/javascript" src="https://github.githubassets.com/assets/vendors-node_modules_github_paste-markdown_dist_index_esm_js-node_modules_github_quote-select-cbac5f-5c15271fc07d.js"></script>
<script crossorigin="anonymous" defer="defer" type="application/javascript" src="https://github.githubassets.com/assets/app_assets_modules_github_updatable-content_ts-5e0904652c1c.js"></script>
<script crossorigin="anonymous" defer="defer" type="application/javascript" src="https://github.githubassets.com/assets/app_assets_modules_github_behaviors_task-list_ts-app_assets_modules_github_onfocus_ts-app_ass-421cec-751caa0072bd.js"></script>
<script crossorigin="anonymous" defer="defer" type="application/javascript" src="https://github.githubassets.com/assets/app_assets_modules_github_sticky-scroll-into-view_ts-cbcee0788fe3.js"></script>
<script crossorigin="anonymous" defer="defer" type="application/javascript" src="https://github.githubassets.com/assets/app_assets_modules_github_behaviors_ajax-error_ts-app_assets_modules_github_behaviors_include-467754-b59a2b2827ad.js"></script>
<script crossorigin="anonymous" defer="defer" type="application/javascript" src="https://github.githubassets.com/assets/app_assets_modules_github_behaviors_commenting_edit_ts-app_assets_modules_github_behaviors_ht-83c235-b85e9f4f1304.js"></script>
<script crossorigin="anonymous" defer="defer" type="application/javascript" src="https://github.githubassets.com/assets/app_assets_modules_github_blob-anchor_ts-app_assets_modules_github_filter-sort_ts-app_assets_-c96432-ca86212e46a4.js"></script>
<script crossorigin="anonymous" defer="defer" type="application/javascript" src="https://github.githubassets.com/assets/behaviors-d3f168a7b449.js"></script>
<script crossorigin="anonymous" defer="defer" type="application/javascript" src="https://github.githubassets.com/assets/vendors-node_modules_delegated-events_dist_index_js-node_modules_github_catalyst_lib_index_js-d0256ebff5cd.js"></script>
<script crossorigin="anonymous" defer="defer" type="application/javascript" src="https://github.githubassets.com/assets/notifications-global-99d196517b1b.js"></script>
<script crossorigin="anonymous" defer="defer" type="application/javascript" src="https://github.githubassets.com/assets/code-menu-2658b004279a.js"></script>
  
  <script crossorigin="anonymous" defer="defer" type="application/javascript" src="https://github.githubassets.com/assets/react-lib-1fbfc5be2c18.js"></script>
<script crossorigin="anonymous" defer="defer" type="application/javascript" src="https://github.githubassets.com/assets/vendors-node_modules_primer_octicons-react_dist_index_esm_js-node_modules_primer_react_lib-es-2e8e7c-b299afe58dd7.js"></script>
<script crossorigin="anonymous" defer="defer" type="application/javascript" src="https://github.githubassets.com/assets/vendors-node_modules_primer_react_lib-esm_Box_Box_js-ebfceb11fb57.js"></script>
<script crossorigin="anonymous" defer="defer" type="application/javascript" src="https://github.githubassets.com/assets/vendors-node_modules_primer_react_lib-esm_Button_Button_js-0528cb519251.js"></script>
<script crossorigin="anonymous" defer="defer" type="application/javascript" src="https://github.githubassets.com/assets/vendors-node_modules_primer_react_lib-esm_ActionList_index_js-e001d0eead25.js"></script>
<script crossorigin="anonymous" defer="defer" type="application/javascript" src="https://github.githubassets.com/assets/vendors-node_modules_primer_react_lib-esm_Overlay_Overlay_js-node_modules_primer_react_lib-es-fa1130-8d276499c3fb.js"></script>
<script crossorigin="anonymous" defer="defer" type="application/javascript" src="https://github.githubassets.com/assets/vendors-node_modules_primer_react_lib-esm_Text_Text_js-node_modules_primer_react_lib-esm_Text-85a14b-249efa9c2fae.js"></script>
<script crossorigin="anonymous" defer="defer" type="application/javascript" src="https://github.githubassets.com/assets/vendors-node_modules_primer_behaviors_dist_esm_scroll-into-view_js-node_modules_primer_react_-39745e-56454ece1686.js"></script>
<script crossorigin="anonymous" defer="defer" type="application/javascript" src="https://github.githubassets.com/assets/vendors-node_modules_primer_react_lib-esm_FormControl_FormControl_js-e905f63cdd0f.js"></script>
<script crossorigin="anonymous" defer="defer" type="application/javascript" src="https://github.githubassets.com/assets/vendors-node_modules_primer_react_lib-esm_ActionMenu_ActionMenu_js-a3c61ff6363e.js"></script>
<script crossorigin="anonymous" defer="defer" type="application/javascript" src="https://github.githubassets.com/assets/vendors-node_modules_react-router-dom_dist_index_js-3b41341d50fe.js"></script>
<script crossorigin="anonymous" defer="defer" type="application/javascript" src="https://github.githubassets.com/assets/vendors-node_modules_primer_react_lib-esm_PageLayout_PageLayout_js-a0f5dc4acaba.js"></script>
<script crossorigin="anonymous" defer="defer" type="application/javascript" src="https://github.githubassets.com/assets/vendors-node_modules_primer_react_lib-esm_ConfirmationDialog_ConfirmationDialog_js-1396cd0754d9.js"></script>
<script crossorigin="anonymous" defer="defer" type="application/javascript" src="https://github.githubassets.com/assets/vendors-node_modules_primer_react_lib-esm_Dialog_js-node_modules_primer_react_lib-esm_Flash_F-ad64b6-7663299a84eb.js"></script>
<script crossorigin="anonymous" defer="defer" type="application/javascript" src="https://github.githubassets.com/assets/vendors-node_modules_primer_react_lib-esm_Avatar_Avatar_js-node_modules_primer_react_lib-esm_-abca1b-e1f48b432bcb.js"></script>
<script crossorigin="anonymous" defer="defer" type="application/javascript" src="https://github.githubassets.com/assets/vendors-node_modules_primer_react_lib-esm_TreeView_TreeView_js-5d623f8c8e93.js"></script>
<script crossorigin="anonymous" defer="defer" type="application/javascript" src="https://github.githubassets.com/assets/vendors-node_modules_github_mini-throttle_dist_index_js-node_modules_primer_react_lib-esm_Ava-691638-41f6b165755b.js"></script>
<script crossorigin="anonymous" defer="defer" type="application/javascript" src="https://github.githubassets.com/assets/ui_packages_react-core_create-browser-history_ts-ui_packages_react-core_deferred-registry_ts--ebbb92-64923177f972.js"></script>
<script crossorigin="anonymous" defer="defer" type="application/javascript" src="https://github.githubassets.com/assets/ui_packages_react-core_register-app_ts-f7fc9821bc0f.js"></script>
<script crossorigin="anonymous" defer="defer" type="application/javascript" src="https://github.githubassets.com/assets/ui_packages_paths_index_ts-6ac43f859e31.js"></script>
<script crossorigin="anonymous" defer="defer" type="application/javascript" src="https://github.githubassets.com/assets/ui_packages_ref-selector_RefSelector_tsx-858bb94813b1.js"></script>
<script crossorigin="anonymous" defer="defer" type="application/javascript" src="https://github.githubassets.com/assets/app_assets_modules_github_command-palette_copy_ts-ui_packages_commit-checks-status_index_ts-u-d90661-be3d6cb7195b.js"></script>
<script crossorigin="anonymous" defer="defer" type="application/javascript" src="https://github.githubassets.com/assets/app_assets_modules_react-code-view_components_directory_DirectoryContent_index_ts-app_assets_-7718e4-3a0a62ddfb35.js"></script>
<script crossorigin="anonymous" defer="defer" type="application/javascript" src="https://github.githubassets.com/assets/react-code-view-cf32f3bc0919.js"></script>


  <title>Adatb-zis/korsz_adatbgyak02.ipynb at master · Marcib/Adatb-zis</title>



  <meta name="route-pattern" content="/:user_id/:repository/blob/*name(/*path)" data-turbo-transient>
  <meta name="route-controller" content="blob" data-turbo-transient>
  <meta name="route-action" content="show" data-turbo-transient>

    
  <meta name="current-catalog-service-hash" content="82c569b93da5c18ed649ebd4c2c79437db4611a6a1373e805a3cb001c64130b7">


  <meta name="request-id" content="C2E8:0F6D:2188318:22371C5:65DC51A9" data-turbo-transient="true" /><meta name="html-safe-nonce" content="e14897432ff89af51d7129c198caeeb27a560addd20652f6fcdd389b221c4ff7" data-turbo-transient="true" /><meta name="visitor-payload" content="eyJyZWZlcnJlciI6Imh0dHBzOi8vZ2l0aHViLmNvbS9NYXJjaWIvQWRhdGItemlzL3RyZWUvbWFzdGVyIiwicmVxdWVzdF9pZCI6IkMyRTg6MEY2RDoyMTg4MzE4OjIyMzcxQzU6NjVEQzUxQTkiLCJ2aXNpdG9yX2lkIjoiNTcwNTA2MDQ0NDU4OTAxOTQ5OCIsInJlZ2lvbl9lZGdlIjoiZnJhIiwicmVnaW9uX3JlbmRlciI6ImlhZCJ9" data-turbo-transient="true" /><meta name="visitor-hmac" content="de14bffbe8cae0f5041dbd7b15940d919b3bce412b84381d31adbd6d56bc3646" data-turbo-transient="true" />


    <meta name="hovercard-subject-tag" content="repository:759767167" data-turbo-transient>


  <meta name="github-keyboard-shortcuts" content="repository,source-code,file-tree,copilot" data-turbo-transient="true" />
  

  <meta name="selected-link" value="repo_source" data-turbo-transient>
  <link rel="assets" href="https://github.githubassets.com/">

    <meta name="google-site-verification" content="c1kuD-K2HIVF635lypcsWPoD4kilo5-jA_wBFyT4uMY">
  <meta name="google-site-verification" content="KT5gs8h0wvaagLKAVWq8bbeNwnZZK1r1XQysX3xurLU">
  <meta name="google-site-verification" content="ZzhVyEFwb7w3e0-uOTltm8Jsck2F5StVihD0exw2fsA">
  <meta name="google-site-verification" content="GXs5KoUUkNCoaAZn7wPN-t01Pywp9M3sEjnt_3_ZWPc">
  <meta name="google-site-verification" content="Apib7-x98H0j5cPqHWwSMm6dNU4GmODRoqxLiDzdx9I">

<meta name="octolytics-url" content="https://collector.github.com/github/collect" /><meta name="octolytics-actor-id" content="12010738" /><meta name="octolytics-actor-login" content="Marcib" /><meta name="octolytics-actor-hash" content="bec3d990eb8f0ac51d451dc31faa76c0fb27cbaeb3813352a3f316da30404ba0" />

  <meta name="analytics-location" content="/&lt;user-name&gt;/&lt;repo-name&gt;/blob/show" data-turbo-transient="true" />

  




  

    <meta name="user-login" content="Marcib">

  <link rel="sudo-modal" href="/sessions/sudo_modal">

    <meta name="viewport" content="width=device-width">
    
      <meta name="description" content="Contribute to Marcib/Adatb-zis development by creating an account on GitHub.">
      <link rel="search" type="application/opensearchdescription+xml" href="/opensearch.xml" title="GitHub">
    <link rel="fluid-icon" href="https://github.com/fluidicon.png" title="GitHub">
    <meta property="fb:app_id" content="1401488693436528">
    <meta name="apple-itunes-app" content="app-id=1477376905, app-argument=https://github.com/Marcib/Adatb-zis/blob/master/korsz_adatbgyak02.ipynb" />
      <meta name="twitter:image:src" content="https://opengraph.githubassets.com/e39d6c8e8105c92f4be78805404ef1ab83105508f9d7221b5359df0161602821/Marcib/Adatb-zis" /><meta name="twitter:site" content="@github" /><meta name="twitter:card" content="summary_large_image" /><meta name="twitter:title" content="Adatb-zis/korsz_adatbgyak02.ipynb at master · Marcib/Adatb-zis" /><meta name="twitter:description" content="Contribute to Marcib/Adatb-zis development by creating an account on GitHub." />
      <meta property="og:image" content="https://opengraph.githubassets.com/e39d6c8e8105c92f4be78805404ef1ab83105508f9d7221b5359df0161602821/Marcib/Adatb-zis" /><meta property="og:image:alt" content="Contribute to Marcib/Adatb-zis development by creating an account on GitHub." /><meta property="og:image:width" content="1200" /><meta property="og:image:height" content="600" /><meta property="og:site_name" content="GitHub" /><meta property="og:type" content="object" /><meta property="og:title" content="Adatb-zis/korsz_adatbgyak02.ipynb at master · Marcib/Adatb-zis" /><meta property="og:url" content="https://github.com/Marcib/Adatb-zis/blob/master/korsz_adatbgyak02.ipynb" /><meta property="og:description" content="Contribute to Marcib/Adatb-zis development by creating an account on GitHub." />
      

      <link rel="shared-web-socket" href="wss://alive.github.com/_sockets/u/12010738/ws?session=eyJ2IjoiVjMiLCJ1IjoxMjAxMDczOCwicyI6MTMyMDk1MzEyMCwiYyI6MzUzNjU4MTQ4MCwidCI6MTcwODkzNzY0OH0=--0754eedaa205ed70c6863021ac1b14b6051230fdda13366f3bf768f8f6284c10" data-refresh-url="/_alive" data-session-id="e88a8a1dde535be1865c0dea3e96ff47b05ceb9cedcb7d5128ea149119acd87d">
      <link rel="shared-web-socket-src" href="/assets-cdn/worker/socket-worker-9cc1149b224c.js">


        <meta name="hostname" content="github.com">


      <meta name="keyboard-shortcuts-preference" content="all">

        <meta name="expected-hostname" content="github.com">


  <meta http-equiv="x-pjax-version" content="7058d6e10241148a4f9a48803929cf5f0d9e9908d4c4f451b34dfe0ae6b950e3" data-turbo-track="reload">
  <meta http-equiv="x-pjax-csp-version" content="5dcfbec3488c5fd5a334e287ce6a17058b7d4beb91db2d4d184e4d55bbf1d7d7" data-turbo-track="reload">
  <meta http-equiv="x-pjax-css-version" content="fb6c7ab00db5de9a93dcfc20e6359c4b2fbd4dc6d29094144ad33e7a8751b95d" data-turbo-track="reload">
  <meta http-equiv="x-pjax-js-version" content="b80aadc23d64542312b18c29cd8b65c2be6eb491892eb28d80325a8a741c6794" data-turbo-track="reload">

  <meta name="turbo-cache-control" content="no-preview" data-turbo-transient="">

      <meta name="turbo-cache-control" content="no-cache" data-turbo-transient>
    <meta data-hydrostats="publish">

  <meta name="go-import" content="github.com/Marcib/Adatb-zis git https://github.com/Marcib/Adatb-zis.git">

  <meta name="octolytics-dimension-user_id" content="12010738" /><meta name="octolytics-dimension-user_login" content="Marcib" /><meta name="octolytics-dimension-repository_id" content="759767167" /><meta name="octolytics-dimension-repository_nwo" content="Marcib/Adatb-zis" /><meta name="octolytics-dimension-repository_public" content="true" /><meta name="octolytics-dimension-repository_is_fork" content="false" /><meta name="octolytics-dimension-repository_network_root_id" content="759767167" /><meta name="octolytics-dimension-repository_network_root_nwo" content="Marcib/Adatb-zis" />



  <meta name="turbo-body-classes" content="logged-in env-production page-responsive">


  <meta name="browser-stats-url" content="https://api.github.com/_private/browser/stats">

  <meta name="browser-errors-url" content="https://api.github.com/_private/browser/errors">

  <link rel="mask-icon" href="https://github.githubassets.com/assets/pinned-octocat-093da3e6fa40.svg" color="#000000">
  <link rel="alternate icon" class="js-site-favicon" type="image/png" href="https://github.githubassets.com/favicons/favicon.png">
  <link rel="icon" class="js-site-favicon" type="image/svg+xml" href="https://github.githubassets.com/favicons/favicon.svg">

<meta name="theme-color" content="#1e2327">
<meta name="color-scheme" content="light dark" />


  <link rel="manifest" href="/manifest.json" crossOrigin="use-credentials">

  </head>

  <body class="logged-in env-production page-responsive" style="word-wrap: break-word;">
    <div data-turbo-body class="logged-in env-production page-responsive" style="word-wrap: break-word;">
      


    <div class="position-relative js-header-wrapper ">
      <a href="#start-of-content" class="p-3 color-bg-accent-emphasis color-fg-on-emphasis show-on-focus js-skip-to-content">Skip to content</a>
      <span data-view-component="true" class="progress-pjax-loader Progress position-fixed width-full">
    <span style="width: 0%;" data-view-component="true" class="Progress-item progress-pjax-loader-bar left-0 top-0 color-bg-accent-emphasis"></span>
</span>      
      
  




<script crossorigin="anonymous" defer="defer" type="application/javascript" src="https://github.githubassets.com/assets/vendors-node_modules_github_hotkey_dist_index_js-node_modules_lodash-es_capitalize_js-b7930811adc2.js"></script>
<script crossorigin="anonymous" defer="defer" type="application/javascript" src="https://github.githubassets.com/assets/vendors-node_modules_primer_react_lib-esm_Button_IconButton_js-node_modules_primer_react_lib--821147-97ee2d5830e9.js"></script>

<script crossorigin="anonymous" defer="defer" type="application/javascript" src="https://github.githubassets.com/assets/keyboard-shortcuts-dialog-9b7386ec0bee.js"></script>

<react-partial
  partial-name="keyboard-shortcuts-dialog"
  data-ssr="false"
>
  
  <script type="application/json" data-target="react-partial.embeddedData">{"props":{}}</script>
  <div data-target="react-partial.reactRoot"></div>
</react-partial>



      

        <script crossorigin="anonymous" defer="defer" type="application/javascript" src="https://github.githubassets.com/assets/vendors-node_modules_allex_crc32_lib_crc32_esm_js-node_modules_github_mini-throttle_dist_deco-b38cad-748e74df23ce.js"></script>
<script crossorigin="anonymous" defer="defer" type="application/javascript" src="https://github.githubassets.com/assets/vendors-node_modules_github_clipboard-copy-element_dist_index_esm_js-node_modules_delegated-e-b37f7d-2f24d321a3fb.js"></script>
<script crossorigin="anonymous" defer="defer" type="application/javascript" src="https://github.githubassets.com/assets/app_assets_modules_github_command-palette_items_help-item_ts-app_assets_modules_github_comman-48ad9d-b180134b83d3.js"></script>
<script crossorigin="anonymous" defer="defer" type="application/javascript" src="https://github.githubassets.com/assets/command-palette-4a91d9475ff6.js"></script>

            <header class="AppHeader">
    

    <div class="AppHeader-globalBar pb-2 js-global-bar">
      <div class="AppHeader-globalBar-start">
          <deferred-side-panel data-url="/_side-panels/global">
  <include-fragment data-target="deferred-side-panel.fragment">
      <button aria-label="Open global navigation menu" data-action="click:deferred-side-panel#loadPanel click:deferred-side-panel#panelOpened" data-show-dialog-id="dialog-053b3228-ddb7-40dd-9f88-bb3c0cb15331" id="dialog-show-dialog-053b3228-ddb7-40dd-9f88-bb3c0cb15331" type="button" data-view-component="true" class="Button Button--iconOnly Button--secondary Button--medium AppHeader-button color-bg-transparent p-0 color-fg-muted">  <svg aria-hidden="true" height="16" viewBox="0 0 16 16" version="1.1" width="16" data-view-component="true" class="octicon octicon-three-bars Button-visual">
    <path d="M1 2.75A.75.75 0 0 1 1.75 2h12.5a.75.75 0 0 1 0 1.5H1.75A.75.75 0 0 1 1 2.75Zm0 5A.75.75 0 0 1 1.75 7h12.5a.75.75 0 0 1 0 1.5H1.75A.75.75 0 0 1 1 7.75ZM1.75 12h12.5a.75.75 0 0 1 0 1.5H1.75a.75.75 0 0 1 0-1.5Z"></path>
</svg>
</button>

<dialog-helper>
  <dialog data-target="deferred-side-panel.panel" id="dialog-053b3228-ddb7-40dd-9f88-bb3c0cb15331" aria-modal="true" aria-labelledby="dialog-053b3228-ddb7-40dd-9f88-bb3c0cb15331-title" aria-describedby="dialog-053b3228-ddb7-40dd-9f88-bb3c0cb15331-description" data-view-component="true" class="Overlay Overlay-whenNarrow Overlay--size-small-portrait Overlay--motion-scaleFade Overlay--placement-left SidePanel">
    <div styles="flex-direction: row;" data-view-component="true" class="Overlay-header">
  <div class="Overlay-headerContentWrap">
    <div class="Overlay-titleWrap">
      <h1 class="Overlay-title sr-only" id="dialog-053b3228-ddb7-40dd-9f88-bb3c0cb15331-title">
        Global navigation
      </h1>
            <div data-view-component="true" class="d-flex">
      <div data-view-component="true" class="AppHeader-logo position-relative">
        <svg aria-hidden="true" height="24" viewBox="0 0 16 16" version="1.1" width="24" data-view-component="true" class="octicon octicon-mark-github">
    <path d="M8 0c4.42 0 8 3.58 8 8a8.013 8.013 0 0 1-5.45 7.59c-.4.08-.55-.17-.55-.38 0-.27.01-1.13.01-2.2 0-.75-.25-1.23-.54-1.48 1.78-.2 3.65-.88 3.65-3.95 0-.88-.31-1.59-.82-2.15.08-.2.36-1.02-.08-2.12 0 0-.67-.22-2.2.82-.64-.18-1.32-.27-2-.27-.68 0-1.36.09-2 .27-1.53-1.03-2.2-.82-2.2-.82-.44 1.1-.16 1.92-.08 2.12-.51.56-.82 1.28-.82 2.15 0 3.06 1.86 3.75 3.64 3.95-.23.2-.44.55-.51 1.07-.46.21-1.61.55-2.33-.66-.15-.24-.6-.83-1.23-.82-.67.01-.27.38.01.53.34.19.73.9.82 1.13.16.45.68 1.31 2.69.94 0 .67.01 1.3.01 1.49 0 .21-.15.45-.55.38A7.995 7.995 0 0 1 0 8c0-4.42 3.58-8 8-8Z"></path>
</svg>
</div></div>
    </div>
    <div class="Overlay-actionWrap">
      <button data-close-dialog-id="dialog-053b3228-ddb7-40dd-9f88-bb3c0cb15331" aria-label="Close" type="button" data-view-component="true" class="close-button Overlay-closeButton"><svg aria-hidden="true" height="16" viewBox="0 0 16 16" version="1.1" width="16" data-view-component="true" class="octicon octicon-x">
    <path d="M3.72 3.72a.75.75 0 0 1 1.06 0L8 6.94l3.22-3.22a.749.749 0 0 1 1.275.326.749.749 0 0 1-.215.734L9.06 8l3.22 3.22a.749.749 0 0 1-.326 1.275.749.749 0 0 1-.734-.215L8 9.06l-3.22 3.22a.751.751 0 0 1-1.042-.018.751.751 0 0 1-.018-1.042L6.94 8 3.72 4.78a.75.75 0 0 1 0-1.06Z"></path>
</svg></button>
    </div>
  </div>
</div>
      <scrollable-region data-labelled-by="dialog-053b3228-ddb7-40dd-9f88-bb3c0cb15331-title">
        <div data-view-component="true" class="Overlay-body d-flex flex-column px-2">    <div data-view-component="true" class="d-flex flex-column mb-3">
        <nav aria-label="Site navigation" data-view-component="true" class="ActionList">
  
  <nav-list>
    <ul data-view-component="true" class="ActionListWrap">
        
          
<li data-targets="nav-list.items nav-list.items" data-item-id="" data-view-component="true" class="ActionListItem">
    
    <a data-hotkey="g d" data-analytics-event="{&quot;category&quot;:&quot;Global navigation&quot;,&quot;action&quot;:&quot;HOME&quot;,&quot;label&quot;:null}" id="item-eac65882-a7e7-448a-9dfb-103ee2a0c8bd" href="/dashboard" data-view-component="true" class="ActionListContent ActionListContent--visual16">
        <span class="ActionListItem-visual ActionListItem-visual--leading">
          <svg aria-hidden="true" height="16" viewBox="0 0 16 16" version="1.1" width="16" data-view-component="true" class="octicon octicon-home">
    <path d="M6.906.664a1.749 1.749 0 0 1 2.187 0l5.25 4.2c.415.332.657.835.657 1.367v7.019A1.75 1.75 0 0 1 13.25 15h-3.5a.75.75 0 0 1-.75-.75V9H7v5.25a.75.75 0 0 1-.75.75h-3.5A1.75 1.75 0 0 1 1 13.25V6.23c0-.531.242-1.034.657-1.366l5.25-4.2Zm1.25 1.171a.25.25 0 0 0-.312 0l-5.25 4.2a.25.25 0 0 0-.094.196v7.019c0 .138.112.25.25.25H5.5V8.25a.75.75 0 0 1 .75-.75h3.5a.75.75 0 0 1 .75.75v5.25h2.75a.25.25 0 0 0 .25-.25V6.23a.25.25 0 0 0-.094-.195Z"></path>
</svg>
        </span>
      
        <span data-view-component="true" class="ActionListItem-label">
          Home
</span></a>
  
  
</li>

        
          
<li data-targets="nav-list.items nav-list.items" data-item-id="" data-view-component="true" class="ActionListItem">
    
    <a data-hotkey="g i" data-analytics-event="{&quot;category&quot;:&quot;Global navigation&quot;,&quot;action&quot;:&quot;ISSUES&quot;,&quot;label&quot;:null}" id="item-11697d8d-f263-4a0b-becb-979700a9006a" href="/issues" data-view-component="true" class="ActionListContent ActionListContent--visual16">
        <span class="ActionListItem-visual ActionListItem-visual--leading">
          <svg aria-hidden="true" height="16" viewBox="0 0 16 16" version="1.1" width="16" data-view-component="true" class="octicon octicon-issue-opened">
    <path d="M8 9.5a1.5 1.5 0 1 0 0-3 1.5 1.5 0 0 0 0 3Z"></path><path d="M8 0a8 8 0 1 1 0 16A8 8 0 0 1 8 0ZM1.5 8a6.5 6.5 0 1 0 13 0 6.5 6.5 0 0 0-13 0Z"></path>
</svg>
        </span>
      
        <span data-view-component="true" class="ActionListItem-label">
          Issues
</span></a>
  
  
</li>

        
          
<li data-targets="nav-list.items nav-list.items" data-item-id="" data-view-component="true" class="ActionListItem">
    
    <a data-hotkey="g p" data-analytics-event="{&quot;category&quot;:&quot;Global navigation&quot;,&quot;action&quot;:&quot;PULL_REQUESTS&quot;,&quot;label&quot;:null}" id="item-c1e61784-ac9a-4a5a-a7bb-e90fb7cb6fb7" href="/pulls" data-view-component="true" class="ActionListContent ActionListContent--visual16">
        <span class="ActionListItem-visual ActionListItem-visual--leading">
          <svg aria-hidden="true" height="16" viewBox="0 0 16 16" version="1.1" width="16" data-view-component="true" class="octicon octicon-git-pull-request">
    <path d="M1.5 3.25a2.25 2.25 0 1 1 3 2.122v5.256a2.251 2.251 0 1 1-1.5 0V5.372A2.25 2.25 0 0 1 1.5 3.25Zm5.677-.177L9.573.677A.25.25 0 0 1 10 .854V2.5h1A2.5 2.5 0 0 1 13.5 5v5.628a2.251 2.251 0 1 1-1.5 0V5a1 1 0 0 0-1-1h-1v1.646a.25.25 0 0 1-.427.177L7.177 3.427a.25.25 0 0 1 0-.354ZM3.75 2.5a.75.75 0 1 0 0 1.5.75.75 0 0 0 0-1.5Zm0 9.5a.75.75 0 1 0 0 1.5.75.75 0 0 0 0-1.5Zm8.25.75a.75.75 0 1 0 1.5 0 .75.75 0 0 0-1.5 0Z"></path>
</svg>
        </span>
      
        <span data-view-component="true" class="ActionListItem-label">
          Pull requests
</span></a>
  
  
</li>

        
          
<li data-targets="nav-list.items nav-list.items" data-item-id="" data-item-id="projects" data-view-component="true" class="ActionListItem">
    
    <a data-analytics-event="{&quot;category&quot;:&quot;Global navigation&quot;,&quot;action&quot;:&quot;PROJECTS&quot;,&quot;label&quot;:null}" id="item-9f5d8ef2-da4b-4b63-b49a-3a37b95aaf6e" href="/projects" data-view-component="true" class="ActionListContent ActionListContent--visual16">
        <span class="ActionListItem-visual ActionListItem-visual--leading">
          <svg aria-hidden="true" height="16" viewBox="0 0 16 16" version="1.1" width="16" data-view-component="true" class="octicon octicon-table">
    <path d="M0 1.75C0 .784.784 0 1.75 0h12.5C15.216 0 16 .784 16 1.75v12.5A1.75 1.75 0 0 1 14.25 16H1.75A1.75 1.75 0 0 1 0 14.25ZM6.5 6.5v8h7.75a.25.25 0 0 0 .25-.25V6.5Zm8-1.5V1.75a.25.25 0 0 0-.25-.25H6.5V5Zm-13 1.5v7.75c0 .138.112.25.25.25H5v-8ZM5 5V1.5H1.75a.25.25 0 0 0-.25.25V5Z"></path>
</svg>
        </span>
      
        <span data-view-component="true" class="ActionListItem-label">
          Projects
</span></a>
  
  
</li>

        
          
<li data-targets="nav-list.items nav-list.items" data-item-id="" data-view-component="true" class="ActionListItem">
    
    <a data-analytics-event="{&quot;category&quot;:&quot;Global navigation&quot;,&quot;action&quot;:&quot;DISCUSSIONS&quot;,&quot;label&quot;:null}" id="item-8e45e489-7767-421b-b954-43b3c7bcf62d" href="/discussions" data-view-component="true" class="ActionListContent ActionListContent--visual16">
        <span class="ActionListItem-visual ActionListItem-visual--leading">
          <svg aria-hidden="true" height="16" viewBox="0 0 16 16" version="1.1" width="16" data-view-component="true" class="octicon octicon-comment-discussion">
    <path d="M1.75 1h8.5c.966 0 1.75.784 1.75 1.75v5.5A1.75 1.75 0 0 1 10.25 10H7.061l-2.574 2.573A1.458 1.458 0 0 1 2 11.543V10h-.25A1.75 1.75 0 0 1 0 8.25v-5.5C0 1.784.784 1 1.75 1ZM1.5 2.75v5.5c0 .138.112.25.25.25h1a.75.75 0 0 1 .75.75v2.19l2.72-2.72a.749.749 0 0 1 .53-.22h3.5a.25.25 0 0 0 .25-.25v-5.5a.25.25 0 0 0-.25-.25h-8.5a.25.25 0 0 0-.25.25Zm13 2a.25.25 0 0 0-.25-.25h-.5a.75.75 0 0 1 0-1.5h.5c.966 0 1.75.784 1.75 1.75v5.5A1.75 1.75 0 0 1 14.25 12H14v1.543a1.458 1.458 0 0 1-2.487 1.03L9.22 12.28a.749.749 0 0 1 .326-1.275.749.749 0 0 1 .734.215l2.22 2.22v-2.19a.75.75 0 0 1 .75-.75h1a.25.25 0 0 0 .25-.25Z"></path>
</svg>
        </span>
      
        <span data-view-component="true" class="ActionListItem-label">
          Discussions
</span></a>
  
  
</li>

        
          
<li data-targets="nav-list.items nav-list.items" data-item-id="" data-view-component="true" class="ActionListItem">
    
    <a data-analytics-event="{&quot;category&quot;:&quot;Global navigation&quot;,&quot;action&quot;:&quot;CODESPACES&quot;,&quot;label&quot;:null}" id="item-b01ae288-9df9-4603-9085-45cb155aba49" href="https://github.com/codespaces" data-view-component="true" class="ActionListContent ActionListContent--visual16">
        <span class="ActionListItem-visual ActionListItem-visual--leading">
          <svg aria-hidden="true" height="16" viewBox="0 0 16 16" version="1.1" width="16" data-view-component="true" class="octicon octicon-codespaces">
    <path d="M0 11.25c0-.966.784-1.75 1.75-1.75h12.5c.966 0 1.75.784 1.75 1.75v3A1.75 1.75 0 0 1 14.25 16H1.75A1.75 1.75 0 0 1 0 14.25Zm2-9.5C2 .784 2.784 0 3.75 0h8.5C13.216 0 14 .784 14 1.75v5a1.75 1.75 0 0 1-1.75 1.75h-8.5A1.75 1.75 0 0 1 2 6.75Zm1.75-.25a.25.25 0 0 0-.25.25v5c0 .138.112.25.25.25h8.5a.25.25 0 0 0 .25-.25v-5a.25.25 0 0 0-.25-.25Zm-2 9.5a.25.25 0 0 0-.25.25v3c0 .138.112.25.25.25h12.5a.25.25 0 0 0 .25-.25v-3a.25.25 0 0 0-.25-.25Z"></path><path d="M7 12.75a.75.75 0 0 1 .75-.75h4.5a.75.75 0 0 1 0 1.5h-4.5a.75.75 0 0 1-.75-.75Zm-4 0a.75.75 0 0 1 .75-.75h.5a.75.75 0 0 1 0 1.5h-.5a.75.75 0 0 1-.75-.75Z"></path>
</svg>
        </span>
      
        <span data-view-component="true" class="ActionListItem-label">
          Codespaces
</span></a>
  
  
</li>

        
          <li role="presentation" aria-hidden="true" data-view-component="true" class="ActionList-sectionDivider"></li>
        
          
<li data-targets="nav-list.items nav-list.items" data-item-id="" data-view-component="true" class="ActionListItem">
    
    <a data-analytics-event="{&quot;category&quot;:&quot;Global navigation&quot;,&quot;action&quot;:&quot;EXPLORE&quot;,&quot;label&quot;:null}" id="item-3945c065-1fad-4cf8-9f2d-c2a2fb5c6930" href="/explore" data-view-component="true" class="ActionListContent ActionListContent--visual16">
        <span class="ActionListItem-visual ActionListItem-visual--leading">
          <svg aria-hidden="true" height="16" viewBox="0 0 16 16" version="1.1" width="16" data-view-component="true" class="octicon octicon-telescope">
    <path d="M14.184 1.143v-.001l1.422 2.464a1.75 1.75 0 0 1-.757 2.451L3.104 11.713a1.75 1.75 0 0 1-2.275-.702l-.447-.775a1.75 1.75 0 0 1 .53-2.32L11.682.573a1.748 1.748 0 0 1 2.502.57Zm-4.709 9.32h-.001l2.644 3.863a.75.75 0 1 1-1.238.848l-1.881-2.75v2.826a.75.75 0 0 1-1.5 0v-2.826l-1.881 2.75a.75.75 0 1 1-1.238-.848l2.049-2.992a.746.746 0 0 1 .293-.253l1.809-.87a.749.749 0 0 1 .944.252ZM9.436 3.92h-.001l-4.97 3.39.942 1.63 5.42-2.61Zm3.091-2.108h.001l-1.85 1.26 1.505 2.605 2.016-.97a.247.247 0 0 0 .13-.151.247.247 0 0 0-.022-.199l-1.422-2.464a.253.253 0 0 0-.161-.119.254.254 0 0 0-.197.038ZM1.756 9.157a.25.25 0 0 0-.075.33l.447.775a.25.25 0 0 0 .325.1l1.598-.769-.83-1.436-1.465 1Z"></path>
</svg>
        </span>
      
        <span data-view-component="true" class="ActionListItem-label">
          Explore
</span></a>
  
  
</li>

        
          
<li data-targets="nav-list.items nav-list.items" data-item-id="" data-view-component="true" class="ActionListItem">
    
    <a data-analytics-event="{&quot;category&quot;:&quot;Global navigation&quot;,&quot;action&quot;:&quot;MARKETPLACE&quot;,&quot;label&quot;:null}" id="item-dbd77df1-7902-4cdf-99fb-c00d13e833a1" href="/marketplace" data-view-component="true" class="ActionListContent ActionListContent--visual16">
        <span class="ActionListItem-visual ActionListItem-visual--leading">
          <svg aria-hidden="true" height="16" viewBox="0 0 16 16" version="1.1" width="16" data-view-component="true" class="octicon octicon-gift">
    <path d="M2 2.75A2.75 2.75 0 0 1 4.75 0c.983 0 1.873.42 2.57 1.232.268.318.497.668.68 1.042.183-.375.411-.725.68-1.044C9.376.42 10.266 0 11.25 0a2.75 2.75 0 0 1 2.45 4h.55c.966 0 1.75.784 1.75 1.75v2c0 .698-.409 1.301-1 1.582v4.918A1.75 1.75 0 0 1 13.25 16H2.75A1.75 1.75 0 0 1 1 14.25V9.332C.409 9.05 0 8.448 0 7.75v-2C0 4.784.784 4 1.75 4h.55c-.192-.375-.3-.8-.3-1.25ZM7.25 9.5H2.5v4.75c0 .138.112.25.25.25h4.5Zm1.5 0v5h4.5a.25.25 0 0 0 .25-.25V9.5Zm0-4V8h5.5a.25.25 0 0 0 .25-.25v-2a.25.25 0 0 0-.25-.25Zm-7 0a.25.25 0 0 0-.25.25v2c0 .138.112.25.25.25h5.5V5.5h-5.5Zm3-4a1.25 1.25 0 0 0 0 2.5h2.309c-.233-.818-.542-1.401-.878-1.793-.43-.502-.915-.707-1.431-.707ZM8.941 4h2.309a1.25 1.25 0 0 0 0-2.5c-.516 0-1 .205-1.43.707-.337.392-.646.975-.879 1.793Z"></path>
</svg>
        </span>
      
        <span data-view-component="true" class="ActionListItem-label">
          Marketplace
</span></a>
  
  
</li>

</ul>  </nav-list>
</nav>

        <div data-view-component="true" class="my-3 d-flex flex-justify-center height-full">
          <svg style="box-sizing: content-box; color: var(--color-icon-primary);" width="16" height="16" viewBox="0 0 16 16" fill="none" data-view-component="true" class="anim-rotate">
  <circle cx="8" cy="8" r="7" stroke="currentColor" stroke-opacity="0.25" stroke-width="2" vector-effect="non-scaling-stroke" fill="none" />
  <path d="M15 8a7.002 7.002 0 00-7-7" stroke="currentColor" stroke-width="2" stroke-linecap="round" vector-effect="non-scaling-stroke" />
</svg>
</div>
</div>
      <div data-view-component="true" class="flex-1"></div>


      <div data-view-component="true" class="px-2">      <p class="color-fg-subtle text-small text-light">&copy; 2024 GitHub, Inc.</p>

      <div data-view-component="true" class="d-flex flex-wrap text-small text-light">
          <a target="_blank" href="https://github.com/about" data-view-component="true" class="Link mr-2">About</a>
          <a target="_blank" href="https://github.blog" data-view-component="true" class="Link mr-2">Blog</a>
          <a target="_blank" href="https://docs.github.com/site-policy/github-terms/github-terms-of-service" data-view-component="true" class="Link mr-2">Terms</a>
          <a target="_blank" href="https://docs.github.com/site-policy/privacy-policies/github-privacy-statement" data-view-component="true" class="Link mr-2">Privacy</a>
          <a target="_blank" href="https://github.com/security" data-view-component="true" class="Link mr-2">Security</a>
          <a target="_blank" href="https://www.githubstatus.com/" data-view-component="true" class="Link mr-3">Status</a>

</div></div>
</div>
      </scrollable-region>
      
</dialog></dialog-helper>

  </include-fragment>
</deferred-side-panel>

        <a
          class="AppHeader-logo ml-2"
          href="https://github.com/"
          data-hotkey="g d"
          aria-label="Homepage "
          data-turbo="false"
          data-analytics-event="{&quot;category&quot;:&quot;Header&quot;,&quot;action&quot;:&quot;go to dashboard&quot;,&quot;label&quot;:&quot;icon:logo&quot;}"
        >
          <svg height="32" aria-hidden="true" viewBox="0 0 16 16" version="1.1" width="32" data-view-component="true" class="octicon octicon-mark-github v-align-middle color-fg-default">
    <path d="M8 0c4.42 0 8 3.58 8 8a8.013 8.013 0 0 1-5.45 7.59c-.4.08-.55-.17-.55-.38 0-.27.01-1.13.01-2.2 0-.75-.25-1.23-.54-1.48 1.78-.2 3.65-.88 3.65-3.95 0-.88-.31-1.59-.82-2.15.08-.2.36-1.02-.08-2.12 0 0-.67-.22-2.2.82-.64-.18-1.32-.27-2-.27-.68 0-1.36.09-2 .27-1.53-1.03-2.2-.82-2.2-.82-.44 1.1-.16 1.92-.08 2.12-.51.56-.82 1.28-.82 2.15 0 3.06 1.86 3.75 3.64 3.95-.23.2-.44.55-.51 1.07-.46.21-1.61.55-2.33-.66-.15-.24-.6-.83-1.23-.82-.67.01-.27.38.01.53.34.19.73.9.82 1.13.16.45.68 1.31 2.69.94 0 .67.01 1.3.01 1.49 0 .21-.15.45-.55.38A7.995 7.995 0 0 1 0 8c0-4.42 3.58-8 8-8Z"></path>
</svg>
        </a>

          <div class="AppHeader-context" >
  <div class="AppHeader-context-compact">
      <button aria-expanded="false" aria-haspopup="dialog" aria-label="Page context: Marcib / Adatb-zis" id="dialog-show-context-region-dialog" data-show-dialog-id="context-region-dialog" type="button" data-view-component="true" class="AppHeader-context-compact-trigger Truncate Button--secondary Button--medium Button box-shadow-none">  <span class="Button-content">
    <span class="Button-label"><span class="AppHeader-context-compact-lead">
                <span class="AppHeader-context-compact-parentItem">Marcib</span>
                <span class="no-wrap">&nbsp;/</span>

            </span>

            <strong class="AppHeader-context-compact-mainItem d-flex flex-items-center Truncate" >
  <span class="Truncate-text ">Adatb-zis</span>

</strong></span>
  </span>
</button>

<dialog-helper>
  <dialog id="context-region-dialog" aria-modal="true" aria-labelledby="context-region-dialog-title" aria-describedby="context-region-dialog-description" data-view-component="true" class="Overlay Overlay-whenNarrow Overlay--size-medium Overlay--motion-scaleFade">
    <div data-view-component="true" class="Overlay-header">
  <div class="Overlay-headerContentWrap">
    <div class="Overlay-titleWrap">
      <h1 class="Overlay-title " id="context-region-dialog-title">
        Navigate back to
      </h1>
    </div>
    <div class="Overlay-actionWrap">
      <button data-close-dialog-id="context-region-dialog" aria-label="Close" type="button" data-view-component="true" class="close-button Overlay-closeButton"><svg aria-hidden="true" height="16" viewBox="0 0 16 16" version="1.1" width="16" data-view-component="true" class="octicon octicon-x">
    <path d="M3.72 3.72a.75.75 0 0 1 1.06 0L8 6.94l3.22-3.22a.749.749 0 0 1 1.275.326.749.749 0 0 1-.215.734L9.06 8l3.22 3.22a.749.749 0 0 1-.326 1.275.749.749 0 0 1-.734-.215L8 9.06l-3.22 3.22a.751.751 0 0 1-1.042-.018.751.751 0 0 1-.018-1.042L6.94 8 3.72 4.78a.75.75 0 0 1 0-1.06Z"></path>
</svg></button>
    </div>
  </div>
</div>
      <scrollable-region data-labelled-by="context-region-dialog-title">
        <div data-view-component="true" class="Overlay-body">          <ul role="list" class="list-style-none" >
    <li>
      <a data-analytics-event="{&quot;category&quot;:&quot;SiteHeaderComponent&quot;,&quot;action&quot;:&quot;context_region_crumb&quot;,&quot;label&quot;:&quot;Marcib&quot;,&quot;screen_size&quot;:&quot;compact&quot;}" href="/Marcib" data-view-component="true" class="Link--primary Truncate d-flex flex-items-center py-1">
        <span class="AppHeader-context-item-label Truncate-text ">
            <svg aria-hidden="true" height="12" viewBox="0 0 16 16" version="1.1" width="12" data-view-component="true" class="octicon octicon-person mr-1">
    <path d="M10.561 8.073a6.005 6.005 0 0 1 3.432 5.142.75.75 0 1 1-1.498.07 4.5 4.5 0 0 0-8.99 0 .75.75 0 0 1-1.498-.07 6.004 6.004 0 0 1 3.431-5.142 3.999 3.999 0 1 1 5.123 0ZM10.5 5a2.5 2.5 0 1 0-5 0 2.5 2.5 0 0 0 5 0Z"></path>
</svg>

          Marcib
        </span>

</a>
    </li>
    <li>
      <a data-analytics-event="{&quot;category&quot;:&quot;SiteHeaderComponent&quot;,&quot;action&quot;:&quot;context_region_crumb&quot;,&quot;label&quot;:&quot;Adatb-zis&quot;,&quot;screen_size&quot;:&quot;compact&quot;}" href="/Marcib/Adatb-zis" data-view-component="true" class="Link--primary Truncate d-flex flex-items-center py-1">
        <span class="AppHeader-context-item-label Truncate-text ">
            <svg aria-hidden="true" height="12" viewBox="0 0 16 16" version="1.1" width="12" data-view-component="true" class="octicon octicon-repo mr-1">
    <path d="M2 2.5A2.5 2.5 0 0 1 4.5 0h8.75a.75.75 0 0 1 .75.75v12.5a.75.75 0 0 1-.75.75h-2.5a.75.75 0 0 1 0-1.5h1.75v-2h-8a1 1 0 0 0-.714 1.7.75.75 0 1 1-1.072 1.05A2.495 2.495 0 0 1 2 11.5Zm10.5-1h-8a1 1 0 0 0-1 1v6.708A2.486 2.486 0 0 1 4.5 9h8ZM5 12.25a.25.25 0 0 1 .25-.25h3.5a.25.25 0 0 1 .25.25v3.25a.25.25 0 0 1-.4.2l-1.45-1.087a.249.249 0 0 0-.3 0L5.4 15.7a.25.25 0 0 1-.4-.2Z"></path>
</svg>

          Adatb-zis
        </span>

</a>
    </li>
</ul>

</div>
      </scrollable-region>
      
</dialog></dialog-helper>
  </div>

  <div class="AppHeader-context-full">
    <nav role="navigation" aria-label="Page context">
      <ul role="list" class="list-style-none" >
    <li>
      <a data-analytics-event="{&quot;category&quot;:&quot;SiteHeaderComponent&quot;,&quot;action&quot;:&quot;context_region_crumb&quot;,&quot;label&quot;:&quot;Marcib&quot;,&quot;screen_size&quot;:&quot;full&quot;}" data-hovercard-type="user" data-hovercard-url="/users/Marcib/hovercard" data-octo-click="hovercard-link-click" data-octo-dimensions="link_type:self" href="/Marcib" data-view-component="true" class="AppHeader-context-item">
        <span class="AppHeader-context-item-label  ">

          Marcib
        </span>

</a>
        <span class="AppHeader-context-item-separator">/</span>
    </li>
    <li>
      <a data-analytics-event="{&quot;category&quot;:&quot;SiteHeaderComponent&quot;,&quot;action&quot;:&quot;context_region_crumb&quot;,&quot;label&quot;:&quot;Adatb-zis&quot;,&quot;screen_size&quot;:&quot;full&quot;}" href="/Marcib/Adatb-zis" data-view-component="true" class="AppHeader-context-item">
        <span class="AppHeader-context-item-label  ">

          Adatb-zis
        </span>

</a>
    </li>
</ul>

    </nav>
  </div>
</div>

      </div>
      <div class="AppHeader-globalBar-end">
          <div class="AppHeader-search" >
              


<qbsearch-input class="search-input" data-scope="repo:Marcib/Adatb-zis" data-custom-scopes-path="/search/custom_scopes" data-delete-custom-scopes-csrf="s-AULrSxHZDlF4SNeoxkVFxRR2-efHs2u1VvaL0hHaTEr767Kt-MOyj3HVca0tejzVCIfi0DvfClp4Im95CRfQ" data-max-custom-scopes="10" data-header-redesign-enabled="true" data-initial-value="" data-blackbird-suggestions-path="/search/suggestions" data-jump-to-suggestions-path="/_graphql/GetSuggestedNavigationDestinations" data-current-repository="Marcib/Adatb-zis" data-current-org="" data-current-owner="Marcib" data-logged-in="true" data-copilot-chat-enabled="false" data-blackbird-indexed-repo-csrf="<input type=&quot;hidden&quot; value=&quot;F7SfT7z7tyAtvA9Io6YEHbx0U09hZDc2rnmQCq3xSJ06oqBTuMaRgFLeUTWAMfWzkHtA-PFxn6x5iBUP-hzOjg&quot; data-csrf=&quot;true&quot; />">
  <div
    class="search-input-container search-with-dialog position-relative d-flex flex-row flex-items-center height-auto color-bg-transparent border-0 color-fg-subtle mx-0"
    data-action="click:qbsearch-input#searchInputContainerClicked"
  >
      
            <button type="button" data-action="click:qbsearch-input#handleExpand" class="AppHeader-button AppHeader-search-whenNarrow" aria-label="Search or jump to…" aria-expanded="false" aria-haspopup="dialog">
            <svg aria-hidden="true" height="16" viewBox="0 0 16 16" version="1.1" width="16" data-view-component="true" class="octicon octicon-search">
    <path d="M10.68 11.74a6 6 0 0 1-7.922-8.982 6 6 0 0 1 8.982 7.922l3.04 3.04a.749.749 0 0 1-.326 1.275.749.749 0 0 1-.734-.215ZM11.5 7a4.499 4.499 0 1 0-8.997 0A4.499 4.499 0 0 0 11.5 7Z"></path>
</svg>
          </button>


<div class="AppHeader-search-whenRegular">
  <div class="AppHeader-search-wrap AppHeader-search-wrap--hasTrailing">
    <div class="AppHeader-search-control">
      <label
        for="AppHeader-searchInput"
        aria-label="Search or jump to…"
        class="AppHeader-search-visual--leading"
      >
        <svg aria-hidden="true" height="16" viewBox="0 0 16 16" version="1.1" width="16" data-view-component="true" class="octicon octicon-search">
    <path d="M10.68 11.74a6 6 0 0 1-7.922-8.982 6 6 0 0 1 8.982 7.922l3.04 3.04a.749.749 0 0 1-.326 1.275.749.749 0 0 1-.734-.215ZM11.5 7a4.499 4.499 0 1 0-8.997 0A4.499 4.499 0 0 0 11.5 7Z"></path>
</svg>
      </label>

                <button
            type="button"
            data-target="qbsearch-input.inputButton"
            data-action="click:qbsearch-input#handleExpand"
            class="AppHeader-searchButton form-control input-contrast text-left color-fg-subtle no-wrap"
            data-hotkey="s,/"
            data-analytics-event="{&quot;category&quot;:&quot;Global navigation&quot;,&quot;action&quot;:&quot;SEARCH&quot;,&quot;label&quot;:null}"
          >
            <div class="overflow-hidden">
              <span id="qb-input-query" data-target="qbsearch-input.inputButtonText">
                  Type <kbd class="AppHeader-search-kbd">/</kbd> to search
              </span>
            </div>
          </button>

    </div>


      <button type="button" id="AppHeader-commandPalette-button" class="AppHeader-search-action--trailing js-activate-command-palette" data-analytics-event="{&quot;category&quot;:&quot;SiteHeaderComponent&quot;,&quot;action&quot;:&quot;command_palette&quot;,&quot;label&quot;:&quot;open command palette&quot;}">
        <svg aria-hidden="true" height="16" viewBox="0 0 16 16" version="1.1" width="16" data-view-component="true" class="octicon octicon-command-palette">
    <path d="m6.354 8.04-4.773 4.773a.75.75 0 1 0 1.061 1.06L7.945 8.57a.75.75 0 0 0 0-1.06L2.642 2.206a.75.75 0 0 0-1.06 1.061L6.353 8.04ZM8.75 11.5a.75.75 0 0 0 0 1.5h5.5a.75.75 0 0 0 0-1.5h-5.5Z"></path>
</svg>
      </button>

      <tool-tip id="tooltip-3ad59ab7-a6aa-4758-85cc-6d4305cc106f" for="AppHeader-commandPalette-button" popover="manual" data-direction="s" data-type="label" data-view-component="true" class="sr-only position-absolute">Command palette</tool-tip>
  </div>
</div>

    <input type="hidden" name="type" class="js-site-search-type-field">

    
<div class="Overlay--hidden " data-modal-dialog-overlay>
  <modal-dialog data-action="close:qbsearch-input#handleClose cancel:qbsearch-input#handleClose" data-target="qbsearch-input.searchSuggestionsDialog" role="dialog" id="search-suggestions-dialog" aria-modal="true" aria-labelledby="search-suggestions-dialog-header" data-view-component="true" class="Overlay Overlay--width-medium Overlay--height-auto">
      <h1 id="search-suggestions-dialog-header" class="sr-only">Search code, repositories, users, issues, pull requests...</h1>
    <div class="Overlay-body Overlay-body--paddingNone">
      
          <div data-view-component="true">        <div class="search-suggestions position-absolute width-full color-shadow-large border color-fg-default color-bg-default overflow-hidden d-flex flex-column query-builder-container"
          style="border-radius: 12px;"
          data-target="qbsearch-input.queryBuilderContainer"
          hidden
        >
          <!-- '"` --><!-- </textarea></xmp> --></option></form><form id="query-builder-test-form" action="" accept-charset="UTF-8" method="get">
  <query-builder data-target="qbsearch-input.queryBuilder" id="query-builder-query-builder-test" data-filter-key=":" data-view-component="true" class="QueryBuilder search-query-builder">
    <div class="FormControl FormControl--fullWidth">
      <label id="query-builder-test-label" for="query-builder-test" class="FormControl-label sr-only">
        Search
      </label>
      <div
        class="QueryBuilder-StyledInput width-fit "
        data-target="query-builder.styledInput"
      >
          <span id="query-builder-test-leadingvisual-wrap" class="FormControl-input-leadingVisualWrap QueryBuilder-leadingVisualWrap">
            <svg aria-hidden="true" height="16" viewBox="0 0 16 16" version="1.1" width="16" data-view-component="true" class="octicon octicon-search FormControl-input-leadingVisual">
    <path d="M10.68 11.74a6 6 0 0 1-7.922-8.982 6 6 0 0 1 8.982 7.922l3.04 3.04a.749.749 0 0 1-.326 1.275.749.749 0 0 1-.734-.215ZM11.5 7a4.499 4.499 0 1 0-8.997 0A4.499 4.499 0 0 0 11.5 7Z"></path>
</svg>
          </span>
        <div data-target="query-builder.styledInputContainer" class="QueryBuilder-StyledInputContainer">
          <div
            aria-hidden="true"
            class="QueryBuilder-StyledInputContent"
            data-target="query-builder.styledInputContent"
          ></div>
          <div class="QueryBuilder-InputWrapper">
            <div aria-hidden="true" class="QueryBuilder-Sizer" data-target="query-builder.sizer"></div>
            <input id="query-builder-test" name="query-builder-test" value="" autocomplete="off" type="text" role="combobox" spellcheck="false" aria-expanded="false" aria-describedby="validation-4436aa47-16cf-44f9-b86b-6f460d5b60f7" data-target="query-builder.input" data-action="
          input:query-builder#inputChange
          blur:query-builder#inputBlur
          keydown:query-builder#inputKeydown
          focus:query-builder#inputFocus
        " data-view-component="true" class="FormControl-input QueryBuilder-Input FormControl-medium" />
          </div>
        </div>
          <span class="sr-only" id="query-builder-test-clear">Clear</span>
          <button role="button" id="query-builder-test-clear-button" aria-labelledby="query-builder-test-clear query-builder-test-label" data-target="query-builder.clearButton" data-action="
                click:query-builder#clear
                focus:query-builder#clearButtonFocus
                blur:query-builder#clearButtonBlur
              " variant="small" hidden="hidden" type="button" data-view-component="true" class="Button Button--iconOnly Button--invisible Button--medium mr-1 px-2 py-0 d-flex flex-items-center rounded-1 color-fg-muted">  <svg aria-hidden="true" height="16" viewBox="0 0 16 16" version="1.1" width="16" data-view-component="true" class="octicon octicon-x-circle-fill Button-visual">
    <path d="M2.343 13.657A8 8 0 1 1 13.658 2.343 8 8 0 0 1 2.343 13.657ZM6.03 4.97a.751.751 0 0 0-1.042.018.751.751 0 0 0-.018 1.042L6.94 8 4.97 9.97a.749.749 0 0 0 .326 1.275.749.749 0 0 0 .734-.215L8 9.06l1.97 1.97a.749.749 0 0 0 1.275-.326.749.749 0 0 0-.215-.734L9.06 8l1.97-1.97a.749.749 0 0 0-.326-1.275.749.749 0 0 0-.734.215L8 6.94Z"></path>
</svg>
</button>

      </div>
      <template id="search-icon">
  <svg aria-hidden="true" height="16" viewBox="0 0 16 16" version="1.1" width="16" data-view-component="true" class="octicon octicon-search">
    <path d="M10.68 11.74a6 6 0 0 1-7.922-8.982 6 6 0 0 1 8.982 7.922l3.04 3.04a.749.749 0 0 1-.326 1.275.749.749 0 0 1-.734-.215ZM11.5 7a4.499 4.499 0 1 0-8.997 0A4.499 4.499 0 0 0 11.5 7Z"></path>
</svg>
</template>

<template id="code-icon">
  <svg aria-hidden="true" height="16" viewBox="0 0 16 16" version="1.1" width="16" data-view-component="true" class="octicon octicon-code">
    <path d="m11.28 3.22 4.25 4.25a.75.75 0 0 1 0 1.06l-4.25 4.25a.749.749 0 0 1-1.275-.326.749.749 0 0 1 .215-.734L13.94 8l-3.72-3.72a.749.749 0 0 1 .326-1.275.749.749 0 0 1 .734.215Zm-6.56 0a.751.751 0 0 1 1.042.018.751.751 0 0 1 .018 1.042L2.06 8l3.72 3.72a.749.749 0 0 1-.326 1.275.749.749 0 0 1-.734-.215L.47 8.53a.75.75 0 0 1 0-1.06Z"></path>
</svg>
</template>

<template id="file-code-icon">
  <svg aria-hidden="true" height="16" viewBox="0 0 16 16" version="1.1" width="16" data-view-component="true" class="octicon octicon-file-code">
    <path d="M4 1.75C4 .784 4.784 0 5.75 0h5.586c.464 0 .909.184 1.237.513l2.914 2.914c.329.328.513.773.513 1.237v8.586A1.75 1.75 0 0 1 14.25 15h-9a.75.75 0 0 1 0-1.5h9a.25.25 0 0 0 .25-.25V6h-2.75A1.75 1.75 0 0 1 10 4.25V1.5H5.75a.25.25 0 0 0-.25.25v2.5a.75.75 0 0 1-1.5 0Zm1.72 4.97a.75.75 0 0 1 1.06 0l2 2a.75.75 0 0 1 0 1.06l-2 2a.749.749 0 0 1-1.275-.326.749.749 0 0 1 .215-.734l1.47-1.47-1.47-1.47a.75.75 0 0 1 0-1.06ZM3.28 7.78 1.81 9.25l1.47 1.47a.751.751 0 0 1-.018 1.042.751.751 0 0 1-1.042.018l-2-2a.75.75 0 0 1 0-1.06l2-2a.751.751 0 0 1 1.042.018.751.751 0 0 1 .018 1.042Zm8.22-6.218V4.25c0 .138.112.25.25.25h2.688l-.011-.013-2.914-2.914-.013-.011Z"></path>
</svg>
</template>

<template id="history-icon">
  <svg aria-hidden="true" height="16" viewBox="0 0 16 16" version="1.1" width="16" data-view-component="true" class="octicon octicon-history">
    <path d="m.427 1.927 1.215 1.215a8.002 8.002 0 1 1-1.6 5.685.75.75 0 1 1 1.493-.154 6.5 6.5 0 1 0 1.18-4.458l1.358 1.358A.25.25 0 0 1 3.896 6H.25A.25.25 0 0 1 0 5.75V2.104a.25.25 0 0 1 .427-.177ZM7.75 4a.75.75 0 0 1 .75.75v2.992l2.028.812a.75.75 0 0 1-.557 1.392l-2.5-1A.751.751 0 0 1 7 8.25v-3.5A.75.75 0 0 1 7.75 4Z"></path>
</svg>
</template>

<template id="repo-icon">
  <svg aria-hidden="true" height="16" viewBox="0 0 16 16" version="1.1" width="16" data-view-component="true" class="octicon octicon-repo">
    <path d="M2 2.5A2.5 2.5 0 0 1 4.5 0h8.75a.75.75 0 0 1 .75.75v12.5a.75.75 0 0 1-.75.75h-2.5a.75.75 0 0 1 0-1.5h1.75v-2h-8a1 1 0 0 0-.714 1.7.75.75 0 1 1-1.072 1.05A2.495 2.495 0 0 1 2 11.5Zm10.5-1h-8a1 1 0 0 0-1 1v6.708A2.486 2.486 0 0 1 4.5 9h8ZM5 12.25a.25.25 0 0 1 .25-.25h3.5a.25.25 0 0 1 .25.25v3.25a.25.25 0 0 1-.4.2l-1.45-1.087a.249.249 0 0 0-.3 0L5.4 15.7a.25.25 0 0 1-.4-.2Z"></path>
</svg>
</template>

<template id="bookmark-icon">
  <svg aria-hidden="true" height="16" viewBox="0 0 16 16" version="1.1" width="16" data-view-component="true" class="octicon octicon-bookmark">
    <path d="M3 2.75C3 1.784 3.784 1 4.75 1h6.5c.966 0 1.75.784 1.75 1.75v11.5a.75.75 0 0 1-1.227.579L8 11.722l-3.773 3.107A.751.751 0 0 1 3 14.25Zm1.75-.25a.25.25 0 0 0-.25.25v9.91l3.023-2.489a.75.75 0 0 1 .954 0l3.023 2.49V2.75a.25.25 0 0 0-.25-.25Z"></path>
</svg>
</template>

<template id="plus-circle-icon">
  <svg aria-hidden="true" height="16" viewBox="0 0 16 16" version="1.1" width="16" data-view-component="true" class="octicon octicon-plus-circle">
    <path d="M8 0a8 8 0 1 1 0 16A8 8 0 0 1 8 0ZM1.5 8a6.5 6.5 0 1 0 13 0 6.5 6.5 0 0 0-13 0Zm7.25-3.25v2.5h2.5a.75.75 0 0 1 0 1.5h-2.5v2.5a.75.75 0 0 1-1.5 0v-2.5h-2.5a.75.75 0 0 1 0-1.5h2.5v-2.5a.75.75 0 0 1 1.5 0Z"></path>
</svg>
</template>

<template id="circle-icon">
  <svg aria-hidden="true" height="16" viewBox="0 0 16 16" version="1.1" width="16" data-view-component="true" class="octicon octicon-dot-fill">
    <path d="M8 4a4 4 0 1 1 0 8 4 4 0 0 1 0-8Z"></path>
</svg>
</template>

<template id="trash-icon">
  <svg aria-hidden="true" height="16" viewBox="0 0 16 16" version="1.1" width="16" data-view-component="true" class="octicon octicon-trash">
    <path d="M11 1.75V3h2.25a.75.75 0 0 1 0 1.5H2.75a.75.75 0 0 1 0-1.5H5V1.75C5 .784 5.784 0 6.75 0h2.5C10.216 0 11 .784 11 1.75ZM4.496 6.675l.66 6.6a.25.25 0 0 0 .249.225h5.19a.25.25 0 0 0 .249-.225l.66-6.6a.75.75 0 0 1 1.492.149l-.66 6.6A1.748 1.748 0 0 1 10.595 15h-5.19a1.75 1.75 0 0 1-1.741-1.575l-.66-6.6a.75.75 0 1 1 1.492-.15ZM6.5 1.75V3h3V1.75a.25.25 0 0 0-.25-.25h-2.5a.25.25 0 0 0-.25.25Z"></path>
</svg>
</template>

<template id="team-icon">
  <svg aria-hidden="true" height="16" viewBox="0 0 16 16" version="1.1" width="16" data-view-component="true" class="octicon octicon-people">
    <path d="M2 5.5a3.5 3.5 0 1 1 5.898 2.549 5.508 5.508 0 0 1 3.034 4.084.75.75 0 1 1-1.482.235 4 4 0 0 0-7.9 0 .75.75 0 0 1-1.482-.236A5.507 5.507 0 0 1 3.102 8.05 3.493 3.493 0 0 1 2 5.5ZM11 4a3.001 3.001 0 0 1 2.22 5.018 5.01 5.01 0 0 1 2.56 3.012.749.749 0 0 1-.885.954.752.752 0 0 1-.549-.514 3.507 3.507 0 0 0-2.522-2.372.75.75 0 0 1-.574-.73v-.352a.75.75 0 0 1 .416-.672A1.5 1.5 0 0 0 11 5.5.75.75 0 0 1 11 4Zm-5.5-.5a2 2 0 1 0-.001 3.999A2 2 0 0 0 5.5 3.5Z"></path>
</svg>
</template>

<template id="project-icon">
  <svg aria-hidden="true" height="16" viewBox="0 0 16 16" version="1.1" width="16" data-view-component="true" class="octicon octicon-project">
    <path d="M1.75 0h12.5C15.216 0 16 .784 16 1.75v12.5A1.75 1.75 0 0 1 14.25 16H1.75A1.75 1.75 0 0 1 0 14.25V1.75C0 .784.784 0 1.75 0ZM1.5 1.75v12.5c0 .138.112.25.25.25h12.5a.25.25 0 0 0 .25-.25V1.75a.25.25 0 0 0-.25-.25H1.75a.25.25 0 0 0-.25.25ZM11.75 3a.75.75 0 0 1 .75.75v7.5a.75.75 0 0 1-1.5 0v-7.5a.75.75 0 0 1 .75-.75Zm-8.25.75a.75.75 0 0 1 1.5 0v5.5a.75.75 0 0 1-1.5 0ZM8 3a.75.75 0 0 1 .75.75v3.5a.75.75 0 0 1-1.5 0v-3.5A.75.75 0 0 1 8 3Z"></path>
</svg>
</template>

<template id="pencil-icon">
  <svg aria-hidden="true" height="16" viewBox="0 0 16 16" version="1.1" width="16" data-view-component="true" class="octicon octicon-pencil">
    <path d="M11.013 1.427a1.75 1.75 0 0 1 2.474 0l1.086 1.086a1.75 1.75 0 0 1 0 2.474l-8.61 8.61c-.21.21-.47.364-.756.445l-3.251.93a.75.75 0 0 1-.927-.928l.929-3.25c.081-.286.235-.547.445-.758l8.61-8.61Zm.176 4.823L9.75 4.81l-6.286 6.287a.253.253 0 0 0-.064.108l-.558 1.953 1.953-.558a.253.253 0 0 0 .108-.064Zm1.238-3.763a.25.25 0 0 0-.354 0L10.811 3.75l1.439 1.44 1.263-1.263a.25.25 0 0 0 0-.354Z"></path>
</svg>
</template>

<template id="copilot-icon">
  <svg aria-hidden="true" height="16" viewBox="0 0 16 16" version="1.1" width="16" data-view-component="true" class="octicon octicon-copilot">
    <path d="M7.998 15.035c-4.562 0-7.873-2.914-7.998-3.749V9.338c.085-.628.677-1.686 1.588-2.065.013-.07.024-.143.036-.218.029-.183.06-.384.126-.612-.201-.508-.254-1.084-.254-1.656 0-.87.128-1.769.693-2.484.579-.733 1.494-1.124 2.724-1.261 1.206-.134 2.262.034 2.944.765.05.053.096.108.139.165.044-.057.094-.112.143-.165.682-.731 1.738-.899 2.944-.765 1.23.137 2.145.528 2.724 1.261.566.715.693 1.614.693 2.484 0 .572-.053 1.148-.254 1.656.066.228.098.429.126.612.012.076.024.148.037.218.924.385 1.522 1.471 1.591 2.095v1.872c0 .766-3.351 3.795-8.002 3.795Zm0-1.485c2.28 0 4.584-1.11 5.002-1.433V7.862l-.023-.116c-.49.21-1.075.291-1.727.291-1.146 0-2.059-.327-2.71-.991A3.222 3.222 0 0 1 8 6.303a3.24 3.24 0 0 1-.544.743c-.65.664-1.563.991-2.71.991-.652 0-1.236-.081-1.727-.291l-.023.116v4.255c.419.323 2.722 1.433 5.002 1.433ZM6.762 2.83c-.193-.206-.637-.413-1.682-.297-1.019.113-1.479.404-1.713.7-.247.312-.369.789-.369 1.554 0 .793.129 1.171.308 1.371.162.181.519.379 1.442.379.853 0 1.339-.235 1.638-.54.315-.322.527-.827.617-1.553.117-.935-.037-1.395-.241-1.614Zm4.155-.297c-1.044-.116-1.488.091-1.681.297-.204.219-.359.679-.242 1.614.091.726.303 1.231.618 1.553.299.305.784.54 1.638.54.922 0 1.28-.198 1.442-.379.179-.2.308-.578.308-1.371 0-.765-.123-1.242-.37-1.554-.233-.296-.693-.587-1.713-.7Z"></path><path d="M6.25 9.037a.75.75 0 0 1 .75.75v1.501a.75.75 0 0 1-1.5 0V9.787a.75.75 0 0 1 .75-.75Zm4.25.75v1.501a.75.75 0 0 1-1.5 0V9.787a.75.75 0 0 1 1.5 0Z"></path>
</svg>
</template>

<template id="workflow-icon">
  <svg aria-hidden="true" height="16" viewBox="0 0 16 16" version="1.1" width="16" data-view-component="true" class="octicon octicon-workflow">
    <path d="M0 1.75C0 .784.784 0 1.75 0h3.5C6.216 0 7 .784 7 1.75v3.5A1.75 1.75 0 0 1 5.25 7H4v4a1 1 0 0 0 1 1h4v-1.25C9 9.784 9.784 9 10.75 9h3.5c.966 0 1.75.784 1.75 1.75v3.5A1.75 1.75 0 0 1 14.25 16h-3.5A1.75 1.75 0 0 1 9 14.25v-.75H5A2.5 2.5 0 0 1 2.5 11V7h-.75A1.75 1.75 0 0 1 0 5.25Zm1.75-.25a.25.25 0 0 0-.25.25v3.5c0 .138.112.25.25.25h3.5a.25.25 0 0 0 .25-.25v-3.5a.25.25 0 0 0-.25-.25Zm9 9a.25.25 0 0 0-.25.25v3.5c0 .138.112.25.25.25h3.5a.25.25 0 0 0 .25-.25v-3.5a.25.25 0 0 0-.25-.25Z"></path>
</svg>
</template>

<template id="book-icon">
  <svg aria-hidden="true" height="16" viewBox="0 0 16 16" version="1.1" width="16" data-view-component="true" class="octicon octicon-book">
    <path d="M0 1.75A.75.75 0 0 1 .75 1h4.253c1.227 0 2.317.59 3 1.501A3.743 3.743 0 0 1 11.006 1h4.245a.75.75 0 0 1 .75.75v10.5a.75.75 0 0 1-.75.75h-4.507a2.25 2.25 0 0 0-1.591.659l-.622.621a.75.75 0 0 1-1.06 0l-.622-.621A2.25 2.25 0 0 0 5.258 13H.75a.75.75 0 0 1-.75-.75Zm7.251 10.324.004-5.073-.002-2.253A2.25 2.25 0 0 0 5.003 2.5H1.5v9h3.757a3.75 3.75 0 0 1 1.994.574ZM8.755 4.75l-.004 7.322a3.752 3.752 0 0 1 1.992-.572H14.5v-9h-3.495a2.25 2.25 0 0 0-2.25 2.25Z"></path>
</svg>
</template>

<template id="code-review-icon">
  <svg aria-hidden="true" height="16" viewBox="0 0 16 16" version="1.1" width="16" data-view-component="true" class="octicon octicon-code-review">
    <path d="M1.75 1h12.5c.966 0 1.75.784 1.75 1.75v8.5A1.75 1.75 0 0 1 14.25 13H8.061l-2.574 2.573A1.458 1.458 0 0 1 3 14.543V13H1.75A1.75 1.75 0 0 1 0 11.25v-8.5C0 1.784.784 1 1.75 1ZM1.5 2.75v8.5c0 .138.112.25.25.25h2a.75.75 0 0 1 .75.75v2.19l2.72-2.72a.749.749 0 0 1 .53-.22h6.5a.25.25 0 0 0 .25-.25v-8.5a.25.25 0 0 0-.25-.25H1.75a.25.25 0 0 0-.25.25Zm5.28 1.72a.75.75 0 0 1 0 1.06L5.31 7l1.47 1.47a.751.751 0 0 1-.018 1.042.751.751 0 0 1-1.042.018l-2-2a.75.75 0 0 1 0-1.06l2-2a.75.75 0 0 1 1.06 0Zm2.44 0a.75.75 0 0 1 1.06 0l2 2a.75.75 0 0 1 0 1.06l-2 2a.751.751 0 0 1-1.042-.018.751.751 0 0 1-.018-1.042L10.69 7 9.22 5.53a.75.75 0 0 1 0-1.06Z"></path>
</svg>
</template>

<template id="codespaces-icon">
  <svg aria-hidden="true" height="16" viewBox="0 0 16 16" version="1.1" width="16" data-view-component="true" class="octicon octicon-codespaces">
    <path d="M0 11.25c0-.966.784-1.75 1.75-1.75h12.5c.966 0 1.75.784 1.75 1.75v3A1.75 1.75 0 0 1 14.25 16H1.75A1.75 1.75 0 0 1 0 14.25Zm2-9.5C2 .784 2.784 0 3.75 0h8.5C13.216 0 14 .784 14 1.75v5a1.75 1.75 0 0 1-1.75 1.75h-8.5A1.75 1.75 0 0 1 2 6.75Zm1.75-.25a.25.25 0 0 0-.25.25v5c0 .138.112.25.25.25h8.5a.25.25 0 0 0 .25-.25v-5a.25.25 0 0 0-.25-.25Zm-2 9.5a.25.25 0 0 0-.25.25v3c0 .138.112.25.25.25h12.5a.25.25 0 0 0 .25-.25v-3a.25.25 0 0 0-.25-.25Z"></path><path d="M7 12.75a.75.75 0 0 1 .75-.75h4.5a.75.75 0 0 1 0 1.5h-4.5a.75.75 0 0 1-.75-.75Zm-4 0a.75.75 0 0 1 .75-.75h.5a.75.75 0 0 1 0 1.5h-.5a.75.75 0 0 1-.75-.75Z"></path>
</svg>
</template>

<template id="comment-icon">
  <svg aria-hidden="true" height="16" viewBox="0 0 16 16" version="1.1" width="16" data-view-component="true" class="octicon octicon-comment">
    <path d="M1 2.75C1 1.784 1.784 1 2.75 1h10.5c.966 0 1.75.784 1.75 1.75v7.5A1.75 1.75 0 0 1 13.25 12H9.06l-2.573 2.573A1.458 1.458 0 0 1 4 13.543V12H2.75A1.75 1.75 0 0 1 1 10.25Zm1.75-.25a.25.25 0 0 0-.25.25v7.5c0 .138.112.25.25.25h2a.75.75 0 0 1 .75.75v2.19l2.72-2.72a.749.749 0 0 1 .53-.22h4.5a.25.25 0 0 0 .25-.25v-7.5a.25.25 0 0 0-.25-.25Z"></path>
</svg>
</template>

<template id="comment-discussion-icon">
  <svg aria-hidden="true" height="16" viewBox="0 0 16 16" version="1.1" width="16" data-view-component="true" class="octicon octicon-comment-discussion">
    <path d="M1.75 1h8.5c.966 0 1.75.784 1.75 1.75v5.5A1.75 1.75 0 0 1 10.25 10H7.061l-2.574 2.573A1.458 1.458 0 0 1 2 11.543V10h-.25A1.75 1.75 0 0 1 0 8.25v-5.5C0 1.784.784 1 1.75 1ZM1.5 2.75v5.5c0 .138.112.25.25.25h1a.75.75 0 0 1 .75.75v2.19l2.72-2.72a.749.749 0 0 1 .53-.22h3.5a.25.25 0 0 0 .25-.25v-5.5a.25.25 0 0 0-.25-.25h-8.5a.25.25 0 0 0-.25.25Zm13 2a.25.25 0 0 0-.25-.25h-.5a.75.75 0 0 1 0-1.5h.5c.966 0 1.75.784 1.75 1.75v5.5A1.75 1.75 0 0 1 14.25 12H14v1.543a1.458 1.458 0 0 1-2.487 1.03L9.22 12.28a.749.749 0 0 1 .326-1.275.749.749 0 0 1 .734.215l2.22 2.22v-2.19a.75.75 0 0 1 .75-.75h1a.25.25 0 0 0 .25-.25Z"></path>
</svg>
</template>

<template id="organization-icon">
  <svg aria-hidden="true" height="16" viewBox="0 0 16 16" version="1.1" width="16" data-view-component="true" class="octicon octicon-organization">
    <path d="M1.75 16A1.75 1.75 0 0 1 0 14.25V1.75C0 .784.784 0 1.75 0h8.5C11.216 0 12 .784 12 1.75v12.5c0 .085-.006.168-.018.25h2.268a.25.25 0 0 0 .25-.25V8.285a.25.25 0 0 0-.111-.208l-1.055-.703a.749.749 0 1 1 .832-1.248l1.055.703c.487.325.779.871.779 1.456v5.965A1.75 1.75 0 0 1 14.25 16h-3.5a.766.766 0 0 1-.197-.026c-.099.017-.2.026-.303.026h-3a.75.75 0 0 1-.75-.75V14h-1v1.25a.75.75 0 0 1-.75.75Zm-.25-1.75c0 .138.112.25.25.25H4v-1.25a.75.75 0 0 1 .75-.75h2.5a.75.75 0 0 1 .75.75v1.25h2.25a.25.25 0 0 0 .25-.25V1.75a.25.25 0 0 0-.25-.25h-8.5a.25.25 0 0 0-.25.25ZM3.75 6h.5a.75.75 0 0 1 0 1.5h-.5a.75.75 0 0 1 0-1.5ZM3 3.75A.75.75 0 0 1 3.75 3h.5a.75.75 0 0 1 0 1.5h-.5A.75.75 0 0 1 3 3.75Zm4 3A.75.75 0 0 1 7.75 6h.5a.75.75 0 0 1 0 1.5h-.5A.75.75 0 0 1 7 6.75ZM7.75 3h.5a.75.75 0 0 1 0 1.5h-.5a.75.75 0 0 1 0-1.5ZM3 9.75A.75.75 0 0 1 3.75 9h.5a.75.75 0 0 1 0 1.5h-.5A.75.75 0 0 1 3 9.75ZM7.75 9h.5a.75.75 0 0 1 0 1.5h-.5a.75.75 0 0 1 0-1.5Z"></path>
</svg>
</template>

<template id="rocket-icon">
  <svg aria-hidden="true" height="16" viewBox="0 0 16 16" version="1.1" width="16" data-view-component="true" class="octicon octicon-rocket">
    <path d="M14.064 0h.186C15.216 0 16 .784 16 1.75v.186a8.752 8.752 0 0 1-2.564 6.186l-.458.459c-.314.314-.641.616-.979.904v3.207c0 .608-.315 1.172-.833 1.49l-2.774 1.707a.749.749 0 0 1-1.11-.418l-.954-3.102a1.214 1.214 0 0 1-.145-.125L3.754 9.816a1.218 1.218 0 0 1-.124-.145L.528 8.717a.749.749 0 0 1-.418-1.11l1.71-2.774A1.748 1.748 0 0 1 3.31 4h3.204c.288-.338.59-.665.904-.979l.459-.458A8.749 8.749 0 0 1 14.064 0ZM8.938 3.623h-.002l-.458.458c-.76.76-1.437 1.598-2.02 2.5l-1.5 2.317 2.143 2.143 2.317-1.5c.902-.583 1.74-1.26 2.499-2.02l.459-.458a7.25 7.25 0 0 0 2.123-5.127V1.75a.25.25 0 0 0-.25-.25h-.186a7.249 7.249 0 0 0-5.125 2.123ZM3.56 14.56c-.732.732-2.334 1.045-3.005 1.148a.234.234 0 0 1-.201-.064.234.234 0 0 1-.064-.201c.103-.671.416-2.273 1.15-3.003a1.502 1.502 0 1 1 2.12 2.12Zm6.94-3.935c-.088.06-.177.118-.266.175l-2.35 1.521.548 1.783 1.949-1.2a.25.25 0 0 0 .119-.213ZM3.678 8.116 5.2 5.766c.058-.09.117-.178.176-.266H3.309a.25.25 0 0 0-.213.119l-1.2 1.95ZM12 5a1 1 0 1 1-2 0 1 1 0 0 1 2 0Z"></path>
</svg>
</template>

<template id="shield-check-icon">
  <svg aria-hidden="true" height="16" viewBox="0 0 16 16" version="1.1" width="16" data-view-component="true" class="octicon octicon-shield-check">
    <path d="m8.533.133 5.25 1.68A1.75 1.75 0 0 1 15 3.48V7c0 1.566-.32 3.182-1.303 4.682-.983 1.498-2.585 2.813-5.032 3.855a1.697 1.697 0 0 1-1.33 0c-2.447-1.042-4.049-2.357-5.032-3.855C1.32 10.182 1 8.566 1 7V3.48a1.75 1.75 0 0 1 1.217-1.667l5.25-1.68a1.748 1.748 0 0 1 1.066 0Zm-.61 1.429.001.001-5.25 1.68a.251.251 0 0 0-.174.237V7c0 1.36.275 2.666 1.057 3.859.784 1.194 2.121 2.342 4.366 3.298a.196.196 0 0 0 .154 0c2.245-.957 3.582-2.103 4.366-3.297C13.225 9.666 13.5 8.358 13.5 7V3.48a.25.25 0 0 0-.174-.238l-5.25-1.68a.25.25 0 0 0-.153 0ZM11.28 6.28l-3.5 3.5a.75.75 0 0 1-1.06 0l-1.5-1.5a.749.749 0 0 1 .326-1.275.749.749 0 0 1 .734.215l.97.97 2.97-2.97a.751.751 0 0 1 1.042.018.751.751 0 0 1 .018 1.042Z"></path>
</svg>
</template>

<template id="heart-icon">
  <svg aria-hidden="true" height="16" viewBox="0 0 16 16" version="1.1" width="16" data-view-component="true" class="octicon octicon-heart">
    <path d="m8 14.25.345.666a.75.75 0 0 1-.69 0l-.008-.004-.018-.01a7.152 7.152 0 0 1-.31-.17 22.055 22.055 0 0 1-3.434-2.414C2.045 10.731 0 8.35 0 5.5 0 2.836 2.086 1 4.25 1 5.797 1 7.153 1.802 8 3.02 8.847 1.802 10.203 1 11.75 1 13.914 1 16 2.836 16 5.5c0 2.85-2.045 5.231-3.885 6.818a22.066 22.066 0 0 1-3.744 2.584l-.018.01-.006.003h-.002ZM4.25 2.5c-1.336 0-2.75 1.164-2.75 3 0 2.15 1.58 4.144 3.365 5.682A20.58 20.58 0 0 0 8 13.393a20.58 20.58 0 0 0 3.135-2.211C12.92 9.644 14.5 7.65 14.5 5.5c0-1.836-1.414-3-2.75-3-1.373 0-2.609.986-3.029 2.456a.749.749 0 0 1-1.442 0C6.859 3.486 5.623 2.5 4.25 2.5Z"></path>
</svg>
</template>

<template id="server-icon">
  <svg aria-hidden="true" height="16" viewBox="0 0 16 16" version="1.1" width="16" data-view-component="true" class="octicon octicon-server">
    <path d="M1.75 1h12.5c.966 0 1.75.784 1.75 1.75v4c0 .372-.116.717-.314 1 .198.283.314.628.314 1v4a1.75 1.75 0 0 1-1.75 1.75H1.75A1.75 1.75 0 0 1 0 12.75v-4c0-.358.109-.707.314-1a1.739 1.739 0 0 1-.314-1v-4C0 1.784.784 1 1.75 1ZM1.5 2.75v4c0 .138.112.25.25.25h12.5a.25.25 0 0 0 .25-.25v-4a.25.25 0 0 0-.25-.25H1.75a.25.25 0 0 0-.25.25Zm.25 5.75a.25.25 0 0 0-.25.25v4c0 .138.112.25.25.25h12.5a.25.25 0 0 0 .25-.25v-4a.25.25 0 0 0-.25-.25ZM7 4.75A.75.75 0 0 1 7.75 4h4.5a.75.75 0 0 1 0 1.5h-4.5A.75.75 0 0 1 7 4.75ZM7.75 10h4.5a.75.75 0 0 1 0 1.5h-4.5a.75.75 0 0 1 0-1.5ZM3 4.75A.75.75 0 0 1 3.75 4h.5a.75.75 0 0 1 0 1.5h-.5A.75.75 0 0 1 3 4.75ZM3.75 10h.5a.75.75 0 0 1 0 1.5h-.5a.75.75 0 0 1 0-1.5Z"></path>
</svg>
</template>

<template id="globe-icon">
  <svg aria-hidden="true" height="16" viewBox="0 0 16 16" version="1.1" width="16" data-view-component="true" class="octicon octicon-globe">
    <path d="M8 0a8 8 0 1 1 0 16A8 8 0 0 1 8 0ZM5.78 8.75a9.64 9.64 0 0 0 1.363 4.177c.255.426.542.832.857 1.215.245-.296.551-.705.857-1.215A9.64 9.64 0 0 0 10.22 8.75Zm4.44-1.5a9.64 9.64 0 0 0-1.363-4.177c-.307-.51-.612-.919-.857-1.215a9.927 9.927 0 0 0-.857 1.215A9.64 9.64 0 0 0 5.78 7.25Zm-5.944 1.5H1.543a6.507 6.507 0 0 0 4.666 5.5c-.123-.181-.24-.365-.352-.552-.715-1.192-1.437-2.874-1.581-4.948Zm-2.733-1.5h2.733c.144-2.074.866-3.756 1.58-4.948.12-.197.237-.381.353-.552a6.507 6.507 0 0 0-4.666 5.5Zm10.181 1.5c-.144 2.074-.866 3.756-1.58 4.948-.12.197-.237.381-.353.552a6.507 6.507 0 0 0 4.666-5.5Zm2.733-1.5a6.507 6.507 0 0 0-4.666-5.5c.123.181.24.365.353.552.714 1.192 1.436 2.874 1.58 4.948Z"></path>
</svg>
</template>

<template id="issue-opened-icon">
  <svg aria-hidden="true" height="16" viewBox="0 0 16 16" version="1.1" width="16" data-view-component="true" class="octicon octicon-issue-opened">
    <path d="M8 9.5a1.5 1.5 0 1 0 0-3 1.5 1.5 0 0 0 0 3Z"></path><path d="M8 0a8 8 0 1 1 0 16A8 8 0 0 1 8 0ZM1.5 8a6.5 6.5 0 1 0 13 0 6.5 6.5 0 0 0-13 0Z"></path>
</svg>
</template>

<template id="device-mobile-icon">
  <svg aria-hidden="true" height="16" viewBox="0 0 16 16" version="1.1" width="16" data-view-component="true" class="octicon octicon-device-mobile">
    <path d="M3.75 0h8.5C13.216 0 14 .784 14 1.75v12.5A1.75 1.75 0 0 1 12.25 16h-8.5A1.75 1.75 0 0 1 2 14.25V1.75C2 .784 2.784 0 3.75 0ZM3.5 1.75v12.5c0 .138.112.25.25.25h8.5a.25.25 0 0 0 .25-.25V1.75a.25.25 0 0 0-.25-.25h-8.5a.25.25 0 0 0-.25.25ZM8 13a1 1 0 1 1 0-2 1 1 0 0 1 0 2Z"></path>
</svg>
</template>

<template id="package-icon">
  <svg aria-hidden="true" height="16" viewBox="0 0 16 16" version="1.1" width="16" data-view-component="true" class="octicon octicon-package">
    <path d="m8.878.392 5.25 3.045c.54.314.872.89.872 1.514v6.098a1.75 1.75 0 0 1-.872 1.514l-5.25 3.045a1.75 1.75 0 0 1-1.756 0l-5.25-3.045A1.75 1.75 0 0 1 1 11.049V4.951c0-.624.332-1.201.872-1.514L7.122.392a1.75 1.75 0 0 1 1.756 0ZM7.875 1.69l-4.63 2.685L8 7.133l4.755-2.758-4.63-2.685a.248.248 0 0 0-.25 0ZM2.5 5.677v5.372c0 .09.047.171.125.216l4.625 2.683V8.432Zm6.25 8.271 4.625-2.683a.25.25 0 0 0 .125-.216V5.677L8.75 8.432Z"></path>
</svg>
</template>

<template id="credit-card-icon">
  <svg aria-hidden="true" height="16" viewBox="0 0 16 16" version="1.1" width="16" data-view-component="true" class="octicon octicon-credit-card">
    <path d="M10.75 9a.75.75 0 0 0 0 1.5h1.5a.75.75 0 0 0 0-1.5h-1.5Z"></path><path d="M0 3.75C0 2.784.784 2 1.75 2h12.5c.966 0 1.75.784 1.75 1.75v8.5A1.75 1.75 0 0 1 14.25 14H1.75A1.75 1.75 0 0 1 0 12.25ZM14.5 6.5h-13v5.75c0 .138.112.25.25.25h12.5a.25.25 0 0 0 .25-.25Zm0-2.75a.25.25 0 0 0-.25-.25H1.75a.25.25 0 0 0-.25.25V5h13Z"></path>
</svg>
</template>

<template id="play-icon">
  <svg aria-hidden="true" height="16" viewBox="0 0 16 16" version="1.1" width="16" data-view-component="true" class="octicon octicon-play">
    <path d="M8 0a8 8 0 1 1 0 16A8 8 0 0 1 8 0ZM1.5 8a6.5 6.5 0 1 0 13 0 6.5 6.5 0 0 0-13 0Zm4.879-2.773 4.264 2.559a.25.25 0 0 1 0 .428l-4.264 2.559A.25.25 0 0 1 6 10.559V5.442a.25.25 0 0 1 .379-.215Z"></path>
</svg>
</template>

<template id="gift-icon">
  <svg aria-hidden="true" height="16" viewBox="0 0 16 16" version="1.1" width="16" data-view-component="true" class="octicon octicon-gift">
    <path d="M2 2.75A2.75 2.75 0 0 1 4.75 0c.983 0 1.873.42 2.57 1.232.268.318.497.668.68 1.042.183-.375.411-.725.68-1.044C9.376.42 10.266 0 11.25 0a2.75 2.75 0 0 1 2.45 4h.55c.966 0 1.75.784 1.75 1.75v2c0 .698-.409 1.301-1 1.582v4.918A1.75 1.75 0 0 1 13.25 16H2.75A1.75 1.75 0 0 1 1 14.25V9.332C.409 9.05 0 8.448 0 7.75v-2C0 4.784.784 4 1.75 4h.55c-.192-.375-.3-.8-.3-1.25ZM7.25 9.5H2.5v4.75c0 .138.112.25.25.25h4.5Zm1.5 0v5h4.5a.25.25 0 0 0 .25-.25V9.5Zm0-4V8h5.5a.25.25 0 0 0 .25-.25v-2a.25.25 0 0 0-.25-.25Zm-7 0a.25.25 0 0 0-.25.25v2c0 .138.112.25.25.25h5.5V5.5h-5.5Zm3-4a1.25 1.25 0 0 0 0 2.5h2.309c-.233-.818-.542-1.401-.878-1.793-.43-.502-.915-.707-1.431-.707ZM8.941 4h2.309a1.25 1.25 0 0 0 0-2.5c-.516 0-1 .205-1.43.707-.337.392-.646.975-.879 1.793Z"></path>
</svg>
</template>

<template id="code-square-icon">
  <svg aria-hidden="true" height="16" viewBox="0 0 16 16" version="1.1" width="16" data-view-component="true" class="octicon octicon-code-square">
    <path d="M0 1.75C0 .784.784 0 1.75 0h12.5C15.216 0 16 .784 16 1.75v12.5A1.75 1.75 0 0 1 14.25 16H1.75A1.75 1.75 0 0 1 0 14.25Zm1.75-.25a.25.25 0 0 0-.25.25v12.5c0 .138.112.25.25.25h12.5a.25.25 0 0 0 .25-.25V1.75a.25.25 0 0 0-.25-.25Zm7.47 3.97a.75.75 0 0 1 1.06 0l2 2a.75.75 0 0 1 0 1.06l-2 2a.749.749 0 0 1-1.275-.326.749.749 0 0 1 .215-.734L10.69 8 9.22 6.53a.75.75 0 0 1 0-1.06ZM6.78 6.53 5.31 8l1.47 1.47a.749.749 0 0 1-.326 1.275.749.749 0 0 1-.734-.215l-2-2a.75.75 0 0 1 0-1.06l2-2a.751.751 0 0 1 1.042.018.751.751 0 0 1 .018 1.042Z"></path>
</svg>
</template>

<template id="device-desktop-icon">
  <svg aria-hidden="true" height="16" viewBox="0 0 16 16" version="1.1" width="16" data-view-component="true" class="octicon octicon-device-desktop">
    <path d="M14.25 1c.966 0 1.75.784 1.75 1.75v7.5A1.75 1.75 0 0 1 14.25 12h-3.727c.099 1.041.52 1.872 1.292 2.757A.752.752 0 0 1 11.25 16h-6.5a.75.75 0 0 1-.565-1.243c.772-.885 1.192-1.716 1.292-2.757H1.75A1.75 1.75 0 0 1 0 10.25v-7.5C0 1.784.784 1 1.75 1ZM1.75 2.5a.25.25 0 0 0-.25.25v7.5c0 .138.112.25.25.25h12.5a.25.25 0 0 0 .25-.25v-7.5a.25.25 0 0 0-.25-.25ZM9.018 12H6.982a5.72 5.72 0 0 1-.765 2.5h3.566a5.72 5.72 0 0 1-.765-2.5Z"></path>
</svg>
</template>

        <div class="position-relative">
                <ul
                  role="listbox"
                  class="ActionListWrap QueryBuilder-ListWrap"
                  aria-label="Suggestions"
                  data-action="
                    combobox-commit:query-builder#comboboxCommit
                    mousedown:query-builder#resultsMousedown
                  "
                  data-target="query-builder.resultsList"
                  data-persist-list=false
                  id="query-builder-test-results"
                ></ul>
        </div>
      <div class="FormControl-inlineValidation" id="validation-4436aa47-16cf-44f9-b86b-6f460d5b60f7" hidden="hidden">
        <span class="FormControl-inlineValidation--visual">
          <svg aria-hidden="true" height="12" viewBox="0 0 12 12" version="1.1" width="12" data-view-component="true" class="octicon octicon-alert-fill">
    <path d="M4.855.708c.5-.896 1.79-.896 2.29 0l4.675 8.351a1.312 1.312 0 0 1-1.146 1.954H1.33A1.313 1.313 0 0 1 .183 9.058ZM7 7V3H5v4Zm-1 3a1 1 0 1 0 0-2 1 1 0 0 0 0 2Z"></path>
</svg>
        </span>
        <span></span>
</div>    </div>
    <div data-target="query-builder.screenReaderFeedback" aria-live="polite" aria-atomic="true" class="sr-only"></div>
</query-builder></form>
          <div class="d-flex flex-row color-fg-muted px-3 text-small color-bg-default search-feedback-prompt">
            <a target="_blank" href="https://docs.github.com/search-github/github-code-search/understanding-github-code-search-syntax" data-view-component="true" class="Link color-fg-accent text-normal ml-2">
              Search syntax tips
</a>            <div class="d-flex flex-1"></div>
              <button data-action="click:qbsearch-input#showFeedbackDialog" type="button" data-view-component="true" class="Button--link Button--medium Button color-fg-accent text-normal ml-2">  <span class="Button-content">
    <span class="Button-label">Give feedback</span>
  </span>
</button>
          </div>
        </div>
</div>

    </div>
</modal-dialog></div>
  </div>
  <div data-action="click:qbsearch-input#retract" class="dark-backdrop position-fixed" hidden data-target="qbsearch-input.darkBackdrop"></div>
  <div class="color-fg-default">
    
<dialog-helper>
  <dialog data-target="qbsearch-input.feedbackDialog" data-action="close:qbsearch-input#handleDialogClose cancel:qbsearch-input#handleDialogClose" id="feedback-dialog" aria-modal="true" aria-labelledby="feedback-dialog-title" aria-describedby="feedback-dialog-description" data-view-component="true" class="Overlay Overlay-whenNarrow Overlay--size-medium Overlay--motion-scaleFade">
    <div data-view-component="true" class="Overlay-header">
  <div class="Overlay-headerContentWrap">
    <div class="Overlay-titleWrap">
      <h1 class="Overlay-title " id="feedback-dialog-title">
        Provide feedback
      </h1>
    </div>
    <div class="Overlay-actionWrap">
      <button data-close-dialog-id="feedback-dialog" aria-label="Close" type="button" data-view-component="true" class="close-button Overlay-closeButton"><svg aria-hidden="true" height="16" viewBox="0 0 16 16" version="1.1" width="16" data-view-component="true" class="octicon octicon-x">
    <path d="M3.72 3.72a.75.75 0 0 1 1.06 0L8 6.94l3.22-3.22a.749.749 0 0 1 1.275.326.749.749 0 0 1-.215.734L9.06 8l3.22 3.22a.749.749 0 0 1-.326 1.275.749.749 0 0 1-.734-.215L8 9.06l-3.22 3.22a.751.751 0 0 1-1.042-.018.751.751 0 0 1-.018-1.042L6.94 8 3.72 4.78a.75.75 0 0 1 0-1.06Z"></path>
</svg></button>
    </div>
  </div>
</div>
      <scrollable-region data-labelled-by="feedback-dialog-title">
        <div data-view-component="true" class="Overlay-body">        <!-- '"` --><!-- </textarea></xmp> --></option></form><form id="code-search-feedback-form" data-turbo="false" action="/search/feedback" accept-charset="UTF-8" method="post"><input type="hidden" name="authenticity_token" value="onILLc_zigexPH5sD5DAbpgQ9DYPgoWKZABjjUFkHDzvOrpR6ICusEh3ioCzgOWg7-4vXaSTTzw4hUyJ2HwhAQ" />
          <p>We read every piece of feedback, and take your input very seriously.</p>
          <textarea name="feedback" class="form-control width-full mb-2" style="height: 120px" id="feedback"></textarea>
          <input name="include_email" id="include_email" aria-label="Include my email address so I can be contacted" class="form-control mr-2" type="checkbox">
          <label for="include_email" style="font-weight: normal">Include my email address so I can be contacted</label>
</form></div>
      </scrollable-region>
      <div data-view-component="true" class="Overlay-footer Overlay-footer--alignEnd">          <button data-close-dialog-id="feedback-dialog" type="button" data-view-component="true" class="btn">    Cancel
</button>
          <button form="code-search-feedback-form" data-action="click:qbsearch-input#submitFeedback" type="submit" data-view-component="true" class="btn-primary btn">    Submit feedback
</button>
</div>
</dialog></dialog-helper>

    <custom-scopes data-target="qbsearch-input.customScopesManager">
    
<dialog-helper>
  <dialog data-target="custom-scopes.customScopesModalDialog" data-action="close:qbsearch-input#handleDialogClose cancel:qbsearch-input#handleDialogClose" id="custom-scopes-dialog" aria-modal="true" aria-labelledby="custom-scopes-dialog-title" aria-describedby="custom-scopes-dialog-description" data-view-component="true" class="Overlay Overlay-whenNarrow Overlay--size-medium Overlay--motion-scaleFade">
    <div data-view-component="true" class="Overlay-header Overlay-header--divided">
  <div class="Overlay-headerContentWrap">
    <div class="Overlay-titleWrap">
      <h1 class="Overlay-title " id="custom-scopes-dialog-title">
        Saved searches
      </h1>
        <h2 id="custom-scopes-dialog-description" class="Overlay-description">Use saved searches to filter your results more quickly</h2>
    </div>
    <div class="Overlay-actionWrap">
      <button data-close-dialog-id="custom-scopes-dialog" aria-label="Close" type="button" data-view-component="true" class="close-button Overlay-closeButton"><svg aria-hidden="true" height="16" viewBox="0 0 16 16" version="1.1" width="16" data-view-component="true" class="octicon octicon-x">
    <path d="M3.72 3.72a.75.75 0 0 1 1.06 0L8 6.94l3.22-3.22a.749.749 0 0 1 1.275.326.749.749 0 0 1-.215.734L9.06 8l3.22 3.22a.749.749 0 0 1-.326 1.275.749.749 0 0 1-.734-.215L8 9.06l-3.22 3.22a.751.751 0 0 1-1.042-.018.751.751 0 0 1-.018-1.042L6.94 8 3.72 4.78a.75.75 0 0 1 0-1.06Z"></path>
</svg></button>
    </div>
  </div>
</div>
      <scrollable-region data-labelled-by="custom-scopes-dialog-title">
        <div data-view-component="true" class="Overlay-body">        <div data-target="custom-scopes.customScopesModalDialogFlash"></div>

        <div hidden class="create-custom-scope-form" data-target="custom-scopes.createCustomScopeForm">
        <!-- '"` --><!-- </textarea></xmp> --></option></form><form id="custom-scopes-dialog-form" data-turbo="false" action="/search/custom_scopes" accept-charset="UTF-8" method="post"><input type="hidden" name="authenticity_token" value="uMaK5f_vME70_oY8g0kIniw_mIaPWwd_u9mFFiqDn7tJrDS5md_wtZw2jrGmr1sh3M6n45Tz9l2zYKUETeQd_g" />
          <div data-target="custom-scopes.customScopesModalDialogFlash"></div>

          <input type="hidden" id="custom_scope_id" name="custom_scope_id" data-target="custom-scopes.customScopesIdField">

          <div class="form-group">
            <label for="custom_scope_name">Name</label>
            <auto-check src="/search/custom_scopes/check_name" required>
              <input
                type="text"
                name="custom_scope_name"
                id="custom_scope_name"
                data-target="custom-scopes.customScopesNameField"
                class="form-control"
                autocomplete="off"
                placeholder="github-ruby"
                required
                maxlength="50">
              <input type="hidden" value="TJjtm9RAfTrUqAaEzjwPtXO89M8iYzPM7saV9chxAgZ6NphHb9vXNAP81YMbBZs3qWWNq_tmWF3EpBGJkez9Iw" data-csrf="true" />
            </auto-check>
          </div>

          <div class="form-group">
            <label for="custom_scope_query">Query</label>
            <input
              type="text"
              name="custom_scope_query"
              id="custom_scope_query"
              data-target="custom-scopes.customScopesQueryField"
              class="form-control"
              autocomplete="off"
              placeholder="(repo:mona/a OR repo:mona/b) AND lang:python"
              required
              maxlength="500">
          </div>

          <p class="text-small color-fg-muted">
            To see all available qualifiers, see our <a class="Link--inTextBlock" href="https://docs.github.com/search-github/github-code-search/understanding-github-code-search-syntax">documentation</a>.
          </p>
</form>        </div>

        <div data-target="custom-scopes.manageCustomScopesForm">
          <div data-target="custom-scopes.list"></div>
        </div>

</div>
      </scrollable-region>
      <div data-view-component="true" class="Overlay-footer Overlay-footer--alignEnd Overlay-footer--divided">          <button data-action="click:custom-scopes#customScopesCancel" type="button" data-view-component="true" class="btn">    Cancel
</button>
          <button form="custom-scopes-dialog-form" data-action="click:custom-scopes#customScopesSubmit" data-target="custom-scopes.customScopesSubmitButton" type="submit" data-view-component="true" class="btn-primary btn">    Create saved search
</button>
</div>
</dialog></dialog-helper>
    </custom-scopes>
  </div>
</qbsearch-input><input type="hidden" value="N86g8ngu-7Q_SLe4cD5x6G9L7MEWS_UTTkQbHcAluASLhoX0XBhMkLHD1ZLBKA5mTxS6Nvw9p_R34Rv-GQKmHw" data-csrf="true" class="js-data-jump-to-suggestions-path-csrf" />

          </div>

        <div class="AppHeader-actions position-relative">
          <action-menu data-select-variant="none" data-view-component="true">
  <focus-group direction="vertical" mnemonics retain>
    <button id="global-create-menu-button" popovertarget="global-create-menu-overlay" aria-label="Create something new" aria-controls="global-create-menu-list" aria-haspopup="true" type="button" data-view-component="true" class="AppHeader-button Button--secondary Button--small Button width-auto color-fg-muted">  <span class="Button-content">
      <span class="Button-visual Button-leadingVisual">
        <svg aria-hidden="true" height="16" viewBox="0 0 16 16" version="1.1" width="16" data-view-component="true" class="octicon octicon-plus">
    <path d="M7.75 2a.75.75 0 0 1 .75.75V7h4.25a.75.75 0 0 1 0 1.5H8.5v4.25a.75.75 0 0 1-1.5 0V8.5H2.75a.75.75 0 0 1 0-1.5H7V2.75A.75.75 0 0 1 7.75 2Z"></path>
</svg>
      </span>
    <span class="Button-label"><svg aria-hidden="true" height="16" viewBox="0 0 16 16" version="1.1" width="16" data-view-component="true" class="octicon octicon-triangle-down">
    <path d="m4.427 7.427 3.396 3.396a.25.25 0 0 0 .354 0l3.396-3.396A.25.25 0 0 0 11.396 7H4.604a.25.25 0 0 0-.177.427Z"></path>
</svg></span>
  </span>
</button><tool-tip id="tooltip-ac7057e6-9017-45ab-af46-3c7cf2b85b82" for="global-create-menu-button" popover="manual" data-direction="s" data-type="description" data-view-component="true" class="sr-only position-absolute">Create new...</tool-tip>


<anchored-position id="global-create-menu-overlay" anchor="global-create-menu-button" align="end" side="outside-bottom" anchor-offset="normal" popover="auto" data-view-component="true">
  <div data-view-component="true" class="Overlay Overlay--size-auto">
    
      <div data-view-component="true" class="Overlay-body Overlay-body--paddingNone">          <div data-view-component="true">
  <ul aria-labelledby="global-create-menu-button" id="global-create-menu-list" role="menu" data-view-component="true" class="ActionListWrap--inset ActionListWrap">
      <li data-analytics-event="{&quot;category&quot;:&quot;SiteHeaderComponent&quot;,&quot;action&quot;:&quot;add_dropdown&quot;,&quot;label&quot;:&quot;new repository&quot;}" data-targets="action-list.items action-list.items" role="none" data-view-component="true" class="ActionListItem">
    
    <a href="/new" tabindex="-1" id="item-72f3b894-47be-4088-aa53-13ca992c37f0" role="menuitem" data-view-component="true" class="ActionListContent ActionListContent--visual16">
        <span class="ActionListItem-visual ActionListItem-visual--leading">
          <svg aria-hidden="true" height="16" viewBox="0 0 16 16" version="1.1" width="16" data-view-component="true" class="octicon octicon-repo">
    <path d="M2 2.5A2.5 2.5 0 0 1 4.5 0h8.75a.75.75 0 0 1 .75.75v12.5a.75.75 0 0 1-.75.75h-2.5a.75.75 0 0 1 0-1.5h1.75v-2h-8a1 1 0 0 0-.714 1.7.75.75 0 1 1-1.072 1.05A2.495 2.495 0 0 1 2 11.5Zm10.5-1h-8a1 1 0 0 0-1 1v6.708A2.486 2.486 0 0 1 4.5 9h8ZM5 12.25a.25.25 0 0 1 .25-.25h3.5a.25.25 0 0 1 .25.25v3.25a.25.25 0 0 1-.4.2l-1.45-1.087a.249.249 0 0 0-.3 0L5.4 15.7a.25.25 0 0 1-.4-.2Z"></path>
</svg>
        </span>
      
        <span data-view-component="true" class="ActionListItem-label">
              New repository

</span></a>
  
  
</li>
      <li data-analytics-event="{&quot;category&quot;:&quot;SiteHeaderComponent&quot;,&quot;action&quot;:&quot;add_dropdown&quot;,&quot;label&quot;:&quot;import repository&quot;}" data-targets="action-list.items action-list.items" role="none" data-view-component="true" class="ActionListItem">
    
    <a href="/new/import" tabindex="-1" id="item-4216718f-8ce6-4dea-9e01-d71016003ac1" role="menuitem" data-view-component="true" class="ActionListContent ActionListContent--visual16">
        <span class="ActionListItem-visual ActionListItem-visual--leading">
          <svg aria-hidden="true" height="16" viewBox="0 0 16 16" version="1.1" width="16" data-view-component="true" class="octicon octicon-repo-push">
    <path d="M1 2.5A2.5 2.5 0 0 1 3.5 0h8.75a.75.75 0 0 1 .75.75v3.5a.75.75 0 0 1-1.5 0V1.5h-8a1 1 0 0 0-1 1v6.708A2.493 2.493 0 0 1 3.5 9h3.25a.75.75 0 0 1 0 1.5H3.5a1 1 0 0 0 0 2h5.75a.75.75 0 0 1 0 1.5H3.5A2.5 2.5 0 0 1 1 11.5Zm13.23 7.79h-.001l-1.224-1.224v6.184a.75.75 0 0 1-1.5 0V9.066L10.28 10.29a.75.75 0 0 1-1.06-1.061l2.505-2.504a.75.75 0 0 1 1.06 0L15.29 9.23a.751.751 0 0 1-.018 1.042.751.751 0 0 1-1.042.018Z"></path>
</svg>
        </span>
      
        <span data-view-component="true" class="ActionListItem-label">
                Import repository

</span></a>
  
  
</li>
      <li role="presentation" aria-hidden="true" data-view-component="true" class="ActionList-sectionDivider"></li>
      <li data-analytics-event="{&quot;category&quot;:&quot;SiteHeaderComponent&quot;,&quot;action&quot;:&quot;add_dropdown&quot;,&quot;label&quot;:&quot;new codespace&quot;}" data-targets="action-list.items action-list.items" role="none" data-view-component="true" class="ActionListItem">
    
    <a href="/codespaces/new" tabindex="-1" id="item-3242dc87-f51e-4901-b024-3a27dc84ac82" role="menuitem" data-view-component="true" class="ActionListContent ActionListContent--visual16">
        <span class="ActionListItem-visual ActionListItem-visual--leading">
          <svg aria-hidden="true" height="16" viewBox="0 0 16 16" version="1.1" width="16" data-view-component="true" class="octicon octicon-codespaces">
    <path d="M0 11.25c0-.966.784-1.75 1.75-1.75h12.5c.966 0 1.75.784 1.75 1.75v3A1.75 1.75 0 0 1 14.25 16H1.75A1.75 1.75 0 0 1 0 14.25Zm2-9.5C2 .784 2.784 0 3.75 0h8.5C13.216 0 14 .784 14 1.75v5a1.75 1.75 0 0 1-1.75 1.75h-8.5A1.75 1.75 0 0 1 2 6.75Zm1.75-.25a.25.25 0 0 0-.25.25v5c0 .138.112.25.25.25h8.5a.25.25 0 0 0 .25-.25v-5a.25.25 0 0 0-.25-.25Zm-2 9.5a.25.25 0 0 0-.25.25v3c0 .138.112.25.25.25h12.5a.25.25 0 0 0 .25-.25v-3a.25.25 0 0 0-.25-.25Z"></path><path d="M7 12.75a.75.75 0 0 1 .75-.75h4.5a.75.75 0 0 1 0 1.5h-4.5a.75.75 0 0 1-.75-.75Zm-4 0a.75.75 0 0 1 .75-.75h.5a.75.75 0 0 1 0 1.5h-.5a.75.75 0 0 1-.75-.75Z"></path>
</svg>
        </span>
      
        <span data-view-component="true" class="ActionListItem-label">
                New codespace

</span></a>
  
  
</li>
      <li data-analytics-event="{&quot;category&quot;:&quot;SiteHeaderComponent&quot;,&quot;action&quot;:&quot;add_dropdown&quot;,&quot;label&quot;:&quot;new gist&quot;}" data-targets="action-list.items action-list.items" role="none" data-view-component="true" class="ActionListItem">
    
    <a href="https://gist.github.com/" tabindex="-1" id="item-7674afe7-b953-4863-bc9b-ccbb46dfed99" role="menuitem" data-view-component="true" class="ActionListContent ActionListContent--visual16">
        <span class="ActionListItem-visual ActionListItem-visual--leading">
          <svg aria-hidden="true" height="16" viewBox="0 0 16 16" version="1.1" width="16" data-view-component="true" class="octicon octicon-code">
    <path d="m11.28 3.22 4.25 4.25a.75.75 0 0 1 0 1.06l-4.25 4.25a.749.749 0 0 1-1.275-.326.749.749 0 0 1 .215-.734L13.94 8l-3.72-3.72a.749.749 0 0 1 .326-1.275.749.749 0 0 1 .734.215Zm-6.56 0a.751.751 0 0 1 1.042.018.751.751 0 0 1 .018 1.042L2.06 8l3.72 3.72a.749.749 0 0 1-.326 1.275.749.749 0 0 1-.734-.215L.47 8.53a.75.75 0 0 1 0-1.06Z"></path>
</svg>
        </span>
      
        <span data-view-component="true" class="ActionListItem-label">
                New gist

</span></a>
  
  
</li>
      <li role="presentation" aria-hidden="true" data-view-component="true" class="ActionList-sectionDivider"></li>
      <li data-targets="action-list.items action-list.items" role="none" data-view-component="true" class="ActionListItem">
    
    <a href="/account/organizations/new" tabindex="-1" data-dont-follow-via-test="true" data-analytics-event="{&quot;category&quot;:&quot;SiteHeaderComponent&quot;,&quot;action&quot;:&quot;add_dropdown&quot;,&quot;label&quot;:&quot;new organization&quot;}" id="item-22b1724c-c85b-4171-9fbc-eae069769d77" role="menuitem" data-view-component="true" class="ActionListContent ActionListContent--visual16">
        <span class="ActionListItem-visual ActionListItem-visual--leading">
          <svg aria-hidden="true" height="16" viewBox="0 0 16 16" version="1.1" width="16" data-view-component="true" class="octicon octicon-organization">
    <path d="M1.75 16A1.75 1.75 0 0 1 0 14.25V1.75C0 .784.784 0 1.75 0h8.5C11.216 0 12 .784 12 1.75v12.5c0 .085-.006.168-.018.25h2.268a.25.25 0 0 0 .25-.25V8.285a.25.25 0 0 0-.111-.208l-1.055-.703a.749.749 0 1 1 .832-1.248l1.055.703c.487.325.779.871.779 1.456v5.965A1.75 1.75 0 0 1 14.25 16h-3.5a.766.766 0 0 1-.197-.026c-.099.017-.2.026-.303.026h-3a.75.75 0 0 1-.75-.75V14h-1v1.25a.75.75 0 0 1-.75.75Zm-.25-1.75c0 .138.112.25.25.25H4v-1.25a.75.75 0 0 1 .75-.75h2.5a.75.75 0 0 1 .75.75v1.25h2.25a.25.25 0 0 0 .25-.25V1.75a.25.25 0 0 0-.25-.25h-8.5a.25.25 0 0 0-.25.25ZM3.75 6h.5a.75.75 0 0 1 0 1.5h-.5a.75.75 0 0 1 0-1.5ZM3 3.75A.75.75 0 0 1 3.75 3h.5a.75.75 0 0 1 0 1.5h-.5A.75.75 0 0 1 3 3.75Zm4 3A.75.75 0 0 1 7.75 6h.5a.75.75 0 0 1 0 1.5h-.5A.75.75 0 0 1 7 6.75ZM7.75 3h.5a.75.75 0 0 1 0 1.5h-.5a.75.75 0 0 1 0-1.5ZM3 9.75A.75.75 0 0 1 3.75 9h.5a.75.75 0 0 1 0 1.5h-.5A.75.75 0 0 1 3 9.75ZM7.75 9h.5a.75.75 0 0 1 0 1.5h-.5a.75.75 0 0 1 0-1.5Z"></path>
</svg>
        </span>
      
        <span data-view-component="true" class="ActionListItem-label">
                New organization

</span></a>
  
  
</li>
</ul>  
</div>

</div>
      
</div></anchored-position>  </focus-group>
</action-menu>


          <a href="/issues" data-analytics-event="{&quot;category&quot;:&quot;Global navigation&quot;,&quot;action&quot;:&quot;ISSUES_HEADER&quot;,&quot;label&quot;:null}" id="icon-button-ae5e6ec3-5214-4434-b447-5b4358e9efda" aria-labelledby="tooltip-30612913-6bc4-4398-816e-33b3b9aaec44" data-view-component="true" class="Button Button--iconOnly Button--secondary Button--medium AppHeader-button color-fg-muted">  <svg aria-hidden="true" height="16" viewBox="0 0 16 16" version="1.1" width="16" data-view-component="true" class="octicon octicon-issue-opened Button-visual">
    <path d="M8 9.5a1.5 1.5 0 1 0 0-3 1.5 1.5 0 0 0 0 3Z"></path><path d="M8 0a8 8 0 1 1 0 16A8 8 0 0 1 8 0ZM1.5 8a6.5 6.5 0 1 0 13 0 6.5 6.5 0 0 0-13 0Z"></path>
</svg>
</a><tool-tip id="tooltip-30612913-6bc4-4398-816e-33b3b9aaec44" for="icon-button-ae5e6ec3-5214-4434-b447-5b4358e9efda" popover="manual" data-direction="s" data-type="label" data-view-component="true" class="sr-only position-absolute">Issues</tool-tip>

          <a href="/pulls" data-analytics-event="{&quot;category&quot;:&quot;Global navigation&quot;,&quot;action&quot;:&quot;PULL_REQUESTS_HEADER&quot;,&quot;label&quot;:null}" id="icon-button-d35f4b4b-2ed5-4047-8707-1a48f716ab29" aria-labelledby="tooltip-be23e555-285f-4781-98ea-5a23a00809ee" data-view-component="true" class="Button Button--iconOnly Button--secondary Button--medium AppHeader-button color-fg-muted">  <svg aria-hidden="true" height="16" viewBox="0 0 16 16" version="1.1" width="16" data-view-component="true" class="octicon octicon-git-pull-request Button-visual">
    <path d="M1.5 3.25a2.25 2.25 0 1 1 3 2.122v5.256a2.251 2.251 0 1 1-1.5 0V5.372A2.25 2.25 0 0 1 1.5 3.25Zm5.677-.177L9.573.677A.25.25 0 0 1 10 .854V2.5h1A2.5 2.5 0 0 1 13.5 5v5.628a2.251 2.251 0 1 1-1.5 0V5a1 1 0 0 0-1-1h-1v1.646a.25.25 0 0 1-.427.177L7.177 3.427a.25.25 0 0 1 0-.354ZM3.75 2.5a.75.75 0 1 0 0 1.5.75.75 0 0 0 0-1.5Zm0 9.5a.75.75 0 1 0 0 1.5.75.75 0 0 0 0-1.5Zm8.25.75a.75.75 0 1 0 1.5 0 .75.75 0 0 0-1.5 0Z"></path>
</svg>
</a><tool-tip id="tooltip-be23e555-285f-4781-98ea-5a23a00809ee" for="icon-button-d35f4b4b-2ed5-4047-8707-1a48f716ab29" popover="manual" data-direction="s" data-type="label" data-view-component="true" class="sr-only position-absolute">Pull requests</tool-tip>

        </div>

        
<notification-indicator data-channel="eyJjIjoibm90aWZpY2F0aW9uLWNoYW5nZWQ6MTIwMTA3MzgiLCJ0IjoxNzA4OTM3NjQ4fQ==--a812e5b0cb567091fa59f46dc286e251d15aec6cce6778071a43a104e7b61b41" data-indicator-mode="none" data-tooltip-global="You have unread notifications" data-tooltip-unavailable="Notifications are unavailable at the moment." data-tooltip-none="You have no unread notifications" data-header-redesign-enabled="true" data-fetch-indicator-src="/notifications/indicator" data-fetch-indicator-enabled="true" data-view-component="true" class="js-socket-channel">
    <a id="AppHeader-notifications-button" href="/notifications" aria-label="Notifications" data-hotkey="g n" data-target="notification-indicator.link" data-analytics-event="{&quot;category&quot;:&quot;Global navigation&quot;,&quot;action&quot;:&quot;NOTIFICATIONS_HEADER&quot;,&quot;label&quot;:null}" data-view-component="true" class="Button Button--iconOnly Button--secondary Button--medium AppHeader-button  color-fg-muted">  <svg aria-hidden="true" height="16" viewBox="0 0 16 16" version="1.1" width="16" data-view-component="true" class="octicon octicon-inbox Button-visual">
    <path d="M2.8 2.06A1.75 1.75 0 0 1 4.41 1h7.18c.7 0 1.333.417 1.61 1.06l2.74 6.395c.04.093.06.194.06.295v4.5A1.75 1.75 0 0 1 14.25 15H1.75A1.75 1.75 0 0 1 0 13.25v-4.5c0-.101.02-.202.06-.295Zm1.61.44a.25.25 0 0 0-.23.152L1.887 8H4.75a.75.75 0 0 1 .6.3L6.625 10h2.75l1.275-1.7a.75.75 0 0 1 .6-.3h2.863L11.82 2.652a.25.25 0 0 0-.23-.152Zm10.09 7h-2.875l-1.275 1.7a.75.75 0 0 1-.6.3h-3.5a.75.75 0 0 1-.6-.3L4.375 9.5H1.5v3.75c0 .138.112.25.25.25h12.5a.25.25 0 0 0 .25-.25Z"></path>
</svg>
</a>

    <tool-tip data-target="notification-indicator.tooltip" id="tooltip-72bc7b92-3a95-45b7-bdd0-e32a3b08891a" for="AppHeader-notifications-button" popover="manual" data-direction="s" data-type="description" data-view-component="true" class="sr-only position-absolute">Notifications</tool-tip>
</notification-indicator>

        

        <div class="AppHeader-user">
          <deferred-side-panel data-url="/_side-panels/user?repository_id=759767167">
  <include-fragment data-target="deferred-side-panel.fragment">
      <user-drawer-side-panel>
    <button aria-label="Open user account menu" data-action="click:deferred-side-panel#loadPanel click:deferred-side-panel#panelOpened" data-show-dialog-id="dialog-058571e5-2b9b-4817-b972-76a90170b131" id="dialog-show-dialog-058571e5-2b9b-4817-b972-76a90170b131" type="button" data-view-component="true" class="AppHeader-logo Button--invisible Button--medium Button Button--invisible-noVisuals color-bg-transparent p-0">  <span class="Button-content">
    <span class="Button-label"><img src="https://avatars.githubusercontent.com/u/12010738?v=4" alt="" size="32" height="32" width="32" data-view-component="true" class="avatar circle" /></span>
  </span>
</button>

<dialog-helper>
  <dialog data-target="deferred-side-panel.panel" id="dialog-058571e5-2b9b-4817-b972-76a90170b131" aria-modal="true" aria-labelledby="dialog-058571e5-2b9b-4817-b972-76a90170b131-title" aria-describedby="dialog-058571e5-2b9b-4817-b972-76a90170b131-description" data-view-component="true" class="Overlay Overlay-whenNarrow Overlay--size-small-portrait Overlay--motion-scaleFade Overlay--placement-right SidePanel">
    <div styles="flex-direction: row;" data-view-component="true" class="Overlay-header">
  <div class="Overlay-headerContentWrap">
    <div class="Overlay-titleWrap">
      <h1 class="Overlay-title sr-only" id="dialog-058571e5-2b9b-4817-b972-76a90170b131-title">
        Account menu
      </h1>
            <div data-view-component="true" class="d-flex">
      <div data-view-component="true" class="AppHeader-logo position-relative">
        <img src="https://avatars.githubusercontent.com/u/12010738?v=4" alt="" size="32" height="32" width="32" data-view-component="true" class="avatar circle" />
</div>        <div data-view-component="true" class="overflow-hidden d-flex width-full">        <div data-view-component="true" class="lh-condensed overflow-hidden d-flex flex-column flex-justify-center ml-2 f5 mr-auto width-full">
          <span data-view-component="true" class="Truncate text-bold">
    <span data-view-component="true" class="Truncate-text">
            Marcib
</span>
</span>          <span data-view-component="true" class="Truncate color-fg-subtle">
    <span data-view-component="true" class="Truncate-text">
            Finepotato
</span>
</span></div>
        <action-menu data-select-variant="none" data-view-component="true" class="d-sm-none d-md-none d-lg-none">
  <focus-group direction="vertical" mnemonics retain>
    <button id="user-create-menu-button" popovertarget="user-create-menu-overlay" aria-label="Create something new" aria-controls="user-create-menu-list" aria-haspopup="true" type="button" data-view-component="true" class="AppHeader-button Button--secondary Button--small Button width-auto color-fg-muted">  <span class="Button-content">
      <span class="Button-visual Button-leadingVisual">
        <svg aria-hidden="true" height="16" viewBox="0 0 16 16" version="1.1" width="16" data-view-component="true" class="octicon octicon-plus">
    <path d="M7.75 2a.75.75 0 0 1 .75.75V7h4.25a.75.75 0 0 1 0 1.5H8.5v4.25a.75.75 0 0 1-1.5 0V8.5H2.75a.75.75 0 0 1 0-1.5H7V2.75A.75.75 0 0 1 7.75 2Z"></path>
</svg>
      </span>
    <span class="Button-label"><svg aria-hidden="true" height="16" viewBox="0 0 16 16" version="1.1" width="16" data-view-component="true" class="octicon octicon-triangle-down">
    <path d="m4.427 7.427 3.396 3.396a.25.25 0 0 0 .354 0l3.396-3.396A.25.25 0 0 0 11.396 7H4.604a.25.25 0 0 0-.177.427Z"></path>
</svg></span>
  </span>
</button><tool-tip id="tooltip-3e68b443-668d-4588-bdc6-d776c29b4d8f" for="user-create-menu-button" popover="manual" data-direction="s" data-type="description" data-view-component="true" class="sr-only position-absolute">Create new...</tool-tip>


<anchored-position id="user-create-menu-overlay" anchor="user-create-menu-button" align="end" side="outside-bottom" anchor-offset="normal" popover="auto" data-view-component="true">
  <div data-view-component="true" class="Overlay Overlay--size-auto">
    
      <div data-view-component="true" class="Overlay-body Overlay-body--paddingNone">          <div data-view-component="true">
  <ul aria-labelledby="user-create-menu-button" id="user-create-menu-list" role="menu" data-view-component="true" class="ActionListWrap--inset ActionListWrap">
      <li data-analytics-event="{&quot;category&quot;:&quot;SiteHeaderComponent&quot;,&quot;action&quot;:&quot;add_dropdown&quot;,&quot;label&quot;:&quot;new repository&quot;}" data-targets="action-list.items action-list.items" role="none" data-view-component="true" class="ActionListItem">
    
    <a href="/new" tabindex="-1" id="item-7a96b565-184e-4e2b-87f2-a185944b96dc" role="menuitem" data-view-component="true" class="ActionListContent ActionListContent--visual16">
        <span class="ActionListItem-visual ActionListItem-visual--leading">
          <svg aria-hidden="true" height="16" viewBox="0 0 16 16" version="1.1" width="16" data-view-component="true" class="octicon octicon-repo">
    <path d="M2 2.5A2.5 2.5 0 0 1 4.5 0h8.75a.75.75 0 0 1 .75.75v12.5a.75.75 0 0 1-.75.75h-2.5a.75.75 0 0 1 0-1.5h1.75v-2h-8a1 1 0 0 0-.714 1.7.75.75 0 1 1-1.072 1.05A2.495 2.495 0 0 1 2 11.5Zm10.5-1h-8a1 1 0 0 0-1 1v6.708A2.486 2.486 0 0 1 4.5 9h8ZM5 12.25a.25.25 0 0 1 .25-.25h3.5a.25.25 0 0 1 .25.25v3.25a.25.25 0 0 1-.4.2l-1.45-1.087a.249.249 0 0 0-.3 0L5.4 15.7a.25.25 0 0 1-.4-.2Z"></path>
</svg>
        </span>
      
        <span data-view-component="true" class="ActionListItem-label">
              New repository

</span></a>
  
  
</li>
      <li data-analytics-event="{&quot;category&quot;:&quot;SiteHeaderComponent&quot;,&quot;action&quot;:&quot;add_dropdown&quot;,&quot;label&quot;:&quot;import repository&quot;}" data-targets="action-list.items action-list.items" role="none" data-view-component="true" class="ActionListItem">
    
    <a href="/new/import" tabindex="-1" id="item-1f129a02-7161-4517-9a37-1cbd65eecf2d" role="menuitem" data-view-component="true" class="ActionListContent ActionListContent--visual16">
        <span class="ActionListItem-visual ActionListItem-visual--leading">
          <svg aria-hidden="true" height="16" viewBox="0 0 16 16" version="1.1" width="16" data-view-component="true" class="octicon octicon-repo-push">
    <path d="M1 2.5A2.5 2.5 0 0 1 3.5 0h8.75a.75.75 0 0 1 .75.75v3.5a.75.75 0 0 1-1.5 0V1.5h-8a1 1 0 0 0-1 1v6.708A2.493 2.493 0 0 1 3.5 9h3.25a.75.75 0 0 1 0 1.5H3.5a1 1 0 0 0 0 2h5.75a.75.75 0 0 1 0 1.5H3.5A2.5 2.5 0 0 1 1 11.5Zm13.23 7.79h-.001l-1.224-1.224v6.184a.75.75 0 0 1-1.5 0V9.066L10.28 10.29a.75.75 0 0 1-1.06-1.061l2.505-2.504a.75.75 0 0 1 1.06 0L15.29 9.23a.751.751 0 0 1-.018 1.042.751.751 0 0 1-1.042.018Z"></path>
</svg>
        </span>
      
        <span data-view-component="true" class="ActionListItem-label">
                Import repository

</span></a>
  
  
</li>
      <li role="presentation" aria-hidden="true" data-view-component="true" class="ActionList-sectionDivider"></li>
      <li data-analytics-event="{&quot;category&quot;:&quot;SiteHeaderComponent&quot;,&quot;action&quot;:&quot;add_dropdown&quot;,&quot;label&quot;:&quot;new codespace&quot;}" data-targets="action-list.items action-list.items" role="none" data-view-component="true" class="ActionListItem">
    
    <a href="/codespaces/new" tabindex="-1" id="item-5fa6d0d1-5737-4cbf-8ea6-e27cb3e52003" role="menuitem" data-view-component="true" class="ActionListContent ActionListContent--visual16">
        <span class="ActionListItem-visual ActionListItem-visual--leading">
          <svg aria-hidden="true" height="16" viewBox="0 0 16 16" version="1.1" width="16" data-view-component="true" class="octicon octicon-codespaces">
    <path d="M0 11.25c0-.966.784-1.75 1.75-1.75h12.5c.966 0 1.75.784 1.75 1.75v3A1.75 1.75 0 0 1 14.25 16H1.75A1.75 1.75 0 0 1 0 14.25Zm2-9.5C2 .784 2.784 0 3.75 0h8.5C13.216 0 14 .784 14 1.75v5a1.75 1.75 0 0 1-1.75 1.75h-8.5A1.75 1.75 0 0 1 2 6.75Zm1.75-.25a.25.25 0 0 0-.25.25v5c0 .138.112.25.25.25h8.5a.25.25 0 0 0 .25-.25v-5a.25.25 0 0 0-.25-.25Zm-2 9.5a.25.25 0 0 0-.25.25v3c0 .138.112.25.25.25h12.5a.25.25 0 0 0 .25-.25v-3a.25.25 0 0 0-.25-.25Z"></path><path d="M7 12.75a.75.75 0 0 1 .75-.75h4.5a.75.75 0 0 1 0 1.5h-4.5a.75.75 0 0 1-.75-.75Zm-4 0a.75.75 0 0 1 .75-.75h.5a.75.75 0 0 1 0 1.5h-.5a.75.75 0 0 1-.75-.75Z"></path>
</svg>
        </span>
      
        <span data-view-component="true" class="ActionListItem-label">
                New codespace

</span></a>
  
  
</li>
      <li data-analytics-event="{&quot;category&quot;:&quot;SiteHeaderComponent&quot;,&quot;action&quot;:&quot;add_dropdown&quot;,&quot;label&quot;:&quot;new gist&quot;}" data-targets="action-list.items action-list.items" role="none" data-view-component="true" class="ActionListItem">
    
    <a href="https://gist.github.com/" tabindex="-1" id="item-9b667a73-53c6-479a-9243-7c0e6da2c8e1" role="menuitem" data-view-component="true" class="ActionListContent ActionListContent--visual16">
        <span class="ActionListItem-visual ActionListItem-visual--leading">
          <svg aria-hidden="true" height="16" viewBox="0 0 16 16" version="1.1" width="16" data-view-component="true" class="octicon octicon-code">
    <path d="m11.28 3.22 4.25 4.25a.75.75 0 0 1 0 1.06l-4.25 4.25a.749.749 0 0 1-1.275-.326.749.749 0 0 1 .215-.734L13.94 8l-3.72-3.72a.749.749 0 0 1 .326-1.275.749.749 0 0 1 .734.215Zm-6.56 0a.751.751 0 0 1 1.042.018.751.751 0 0 1 .018 1.042L2.06 8l3.72 3.72a.749.749 0 0 1-.326 1.275.749.749 0 0 1-.734-.215L.47 8.53a.75.75 0 0 1 0-1.06Z"></path>
</svg>
        </span>
      
        <span data-view-component="true" class="ActionListItem-label">
                New gist

</span></a>
  
  
</li>
      <li role="presentation" aria-hidden="true" data-view-component="true" class="ActionList-sectionDivider"></li>
      <li data-targets="action-list.items action-list.items" role="none" data-view-component="true" class="ActionListItem">
    
    <a href="/account/organizations/new" tabindex="-1" data-dont-follow-via-test="true" data-analytics-event="{&quot;category&quot;:&quot;SiteHeaderComponent&quot;,&quot;action&quot;:&quot;add_dropdown&quot;,&quot;label&quot;:&quot;new organization&quot;}" id="item-91e82cef-3f32-4129-8efc-957a70c4b04b" role="menuitem" data-view-component="true" class="ActionListContent ActionListContent--visual16">
        <span class="ActionListItem-visual ActionListItem-visual--leading">
          <svg aria-hidden="true" height="16" viewBox="0 0 16 16" version="1.1" width="16" data-view-component="true" class="octicon octicon-organization">
    <path d="M1.75 16A1.75 1.75 0 0 1 0 14.25V1.75C0 .784.784 0 1.75 0h8.5C11.216 0 12 .784 12 1.75v12.5c0 .085-.006.168-.018.25h2.268a.25.25 0 0 0 .25-.25V8.285a.25.25 0 0 0-.111-.208l-1.055-.703a.749.749 0 1 1 .832-1.248l1.055.703c.487.325.779.871.779 1.456v5.965A1.75 1.75 0 0 1 14.25 16h-3.5a.766.766 0 0 1-.197-.026c-.099.017-.2.026-.303.026h-3a.75.75 0 0 1-.75-.75V14h-1v1.25a.75.75 0 0 1-.75.75Zm-.25-1.75c0 .138.112.25.25.25H4v-1.25a.75.75 0 0 1 .75-.75h2.5a.75.75 0 0 1 .75.75v1.25h2.25a.25.25 0 0 0 .25-.25V1.75a.25.25 0 0 0-.25-.25h-8.5a.25.25 0 0 0-.25.25ZM3.75 6h.5a.75.75 0 0 1 0 1.5h-.5a.75.75 0 0 1 0-1.5ZM3 3.75A.75.75 0 0 1 3.75 3h.5a.75.75 0 0 1 0 1.5h-.5A.75.75 0 0 1 3 3.75Zm4 3A.75.75 0 0 1 7.75 6h.5a.75.75 0 0 1 0 1.5h-.5A.75.75 0 0 1 7 6.75ZM7.75 3h.5a.75.75 0 0 1 0 1.5h-.5a.75.75 0 0 1 0-1.5ZM3 9.75A.75.75 0 0 1 3.75 9h.5a.75.75 0 0 1 0 1.5h-.5A.75.75 0 0 1 3 9.75ZM7.75 9h.5a.75.75 0 0 1 0 1.5h-.5a.75.75 0 0 1 0-1.5Z"></path>
</svg>
        </span>
      
        <span data-view-component="true" class="ActionListItem-label">
                New organization

</span></a>
  
  
</li>
</ul>  
</div>

</div>
      
</div></anchored-position>  </focus-group>
</action-menu>

</div>
</div>
    </div>
    <div class="Overlay-actionWrap">
      <button data-close-dialog-id="dialog-058571e5-2b9b-4817-b972-76a90170b131" aria-label="Close" type="button" data-view-component="true" class="close-button Overlay-closeButton"><svg aria-hidden="true" height="16" viewBox="0 0 16 16" version="1.1" width="16" data-view-component="true" class="octicon octicon-x">
    <path d="M3.72 3.72a.75.75 0 0 1 1.06 0L8 6.94l3.22-3.22a.749.749 0 0 1 1.275.326.749.749 0 0 1-.215.734L9.06 8l3.22 3.22a.749.749 0 0 1-.326 1.275.749.749 0 0 1-.734-.215L8 9.06l-3.22 3.22a.751.751 0 0 1-1.042-.018.751.751 0 0 1-.018-1.042L6.94 8 3.72 4.78a.75.75 0 0 1 0-1.06Z"></path>
</svg></button>
    </div>
  </div>
</div>
      <scrollable-region data-labelled-by="dialog-058571e5-2b9b-4817-b972-76a90170b131-title">
        <div data-view-component="true" class="Overlay-body d-flex flex-column px-2">    <div data-view-component="true" class="d-flex flex-column mb-3">
        <nav aria-label="User navigation" data-view-component="true" class="ActionList">
  
  <nav-list>
    <ul data-view-component="true" class="ActionListWrap">
        
          
<li data-targets="nav-list.items nav-list.items" data-item-id="" data-view-component="true" class="ActionListItem">
    
    <button id="item-25422fdc-7490-4890-91b3-73c632861f78" type="button" data-view-component="true" class="ActionListContent ActionListContent--visual16">
        <span class="ActionListItem-visual ActionListItem-visual--leading">
          <span data-view-component="true" class="d-flex flex-items-center">    <svg style="box-sizing: content-box; color: var(--color-icon-primary);" width="16" height="16" viewBox="0 0 16 16" fill="none" data-view-component="true" class="anim-rotate">
  <circle cx="8" cy="8" r="7" stroke="currentColor" stroke-opacity="0.25" stroke-width="2" vector-effect="non-scaling-stroke" fill="none" />
  <path d="M15 8a7.002 7.002 0 00-7-7" stroke="currentColor" stroke-width="2" stroke-linecap="round" vector-effect="non-scaling-stroke" />
</svg>
</span>
        </span>
      
        <span data-view-component="true" class="ActionListItem-label">
          

  <span class="color-fg-muted">
    Loading...
  </span>

</span></button>
  
  
</li>

        
          <li role="presentation" aria-hidden="true" data-view-component="true" class="ActionList-sectionDivider"></li>
        
          
<li data-targets="nav-list.items nav-list.items" data-item-id="" data-view-component="true" class="ActionListItem">
    
    <a data-analytics-event="{&quot;category&quot;:&quot;Global navigation&quot;,&quot;action&quot;:&quot;PROFILE&quot;,&quot;label&quot;:null}" id="item-7235d3b7-417d-43d9-93f1-22be1ccdb7f3" href="https://github.com/Marcib" data-view-component="true" class="ActionListContent ActionListContent--visual16">
        <span class="ActionListItem-visual ActionListItem-visual--leading">
          <svg aria-hidden="true" height="16" viewBox="0 0 16 16" version="1.1" width="16" data-view-component="true" class="octicon octicon-person">
    <path d="M10.561 8.073a6.005 6.005 0 0 1 3.432 5.142.75.75 0 1 1-1.498.07 4.5 4.5 0 0 0-8.99 0 .75.75 0 0 1-1.498-.07 6.004 6.004 0 0 1 3.431-5.142 3.999 3.999 0 1 1 5.123 0ZM10.5 5a2.5 2.5 0 1 0-5 0 2.5 2.5 0 0 0 5 0Z"></path>
</svg>
        </span>
      
        <span data-view-component="true" class="ActionListItem-label">
          Your profile
</span></a>
  
  
</li>

        
          
<li data-targets="nav-list.items nav-list.items" data-item-id="" data-view-component="true" class="ActionListItem">
    
    <button id="item-fec9c1f9-119f-491d-aa93-ff1577d4e6b6" type="button" data-view-component="true" class="ActionListContent ActionListContent--visual16">
        <span class="ActionListItem-visual ActionListItem-visual--leading">
          <span data-view-component="true" class="d-flex flex-items-center">    <svg style="box-sizing: content-box; color: var(--color-icon-primary);" width="16" height="16" viewBox="0 0 16 16" fill="none" data-view-component="true" class="anim-rotate">
  <circle cx="8" cy="8" r="7" stroke="currentColor" stroke-opacity="0.25" stroke-width="2" vector-effect="non-scaling-stroke" fill="none" />
  <path d="M15 8a7.002 7.002 0 00-7-7" stroke="currentColor" stroke-width="2" stroke-linecap="round" vector-effect="non-scaling-stroke" />
</svg>
</span>
        </span>
      
        <span data-view-component="true" class="ActionListItem-label">
          

  <span class="color-fg-muted">
    Loading...
  </span>

</span></button>
  
  
</li>

        
          <li role="presentation" aria-hidden="true" data-view-component="true" class="ActionList-sectionDivider"></li>
        
          
<li data-targets="nav-list.items nav-list.items" data-item-id="" data-view-component="true" class="ActionListItem">
    
    <a data-analytics-event="{&quot;category&quot;:&quot;Global navigation&quot;,&quot;action&quot;:&quot;YOUR_REPOSITORIES&quot;,&quot;label&quot;:null}" id="item-f8e8899d-557c-4dde-bb6f-e8a045f88ad2" href="/Marcib?tab=repositories" data-view-component="true" class="ActionListContent ActionListContent--visual16">
        <span class="ActionListItem-visual ActionListItem-visual--leading">
          <svg aria-hidden="true" height="16" viewBox="0 0 16 16" version="1.1" width="16" data-view-component="true" class="octicon octicon-repo">
    <path d="M2 2.5A2.5 2.5 0 0 1 4.5 0h8.75a.75.75 0 0 1 .75.75v12.5a.75.75 0 0 1-.75.75h-2.5a.75.75 0 0 1 0-1.5h1.75v-2h-8a1 1 0 0 0-.714 1.7.75.75 0 1 1-1.072 1.05A2.495 2.495 0 0 1 2 11.5Zm10.5-1h-8a1 1 0 0 0-1 1v6.708A2.486 2.486 0 0 1 4.5 9h8ZM5 12.25a.25.25 0 0 1 .25-.25h3.5a.25.25 0 0 1 .25.25v3.25a.25.25 0 0 1-.4.2l-1.45-1.087a.249.249 0 0 0-.3 0L5.4 15.7a.25.25 0 0 1-.4-.2Z"></path>
</svg>
        </span>
      
        <span data-view-component="true" class="ActionListItem-label">
          Your repositories
</span></a>
  
  
</li>

        
          
<li data-targets="nav-list.items nav-list.items" data-item-id="" data-view-component="true" class="ActionListItem">
    
    <a data-analytics-event="{&quot;category&quot;:&quot;Global navigation&quot;,&quot;action&quot;:&quot;YOUR_PROJECTS&quot;,&quot;label&quot;:null}" id="item-9d29c9fb-840c-4104-8b4a-f7cd6ed24c25" href="/Marcib?tab=projects" data-view-component="true" class="ActionListContent ActionListContent--visual16">
        <span class="ActionListItem-visual ActionListItem-visual--leading">
          <svg aria-hidden="true" height="16" viewBox="0 0 16 16" version="1.1" width="16" data-view-component="true" class="octicon octicon-project">
    <path d="M1.75 0h12.5C15.216 0 16 .784 16 1.75v12.5A1.75 1.75 0 0 1 14.25 16H1.75A1.75 1.75 0 0 1 0 14.25V1.75C0 .784.784 0 1.75 0ZM1.5 1.75v12.5c0 .138.112.25.25.25h12.5a.25.25 0 0 0 .25-.25V1.75a.25.25 0 0 0-.25-.25H1.75a.25.25 0 0 0-.25.25ZM11.75 3a.75.75 0 0 1 .75.75v7.5a.75.75 0 0 1-1.5 0v-7.5a.75.75 0 0 1 .75-.75Zm-8.25.75a.75.75 0 0 1 1.5 0v5.5a.75.75 0 0 1-1.5 0ZM8 3a.75.75 0 0 1 .75.75v3.5a.75.75 0 0 1-1.5 0v-3.5A.75.75 0 0 1 8 3Z"></path>
</svg>
        </span>
      
        <span data-view-component="true" class="ActionListItem-label">
          Your projects
</span></a>
  
  
</li>

        
          
<li data-targets="nav-list.items nav-list.items" data-item-id="" data-view-component="true" class="ActionListItem">
    
    <button id="item-113985ea-6f70-4c2b-a52c-7eb562f318ba" type="button" data-view-component="true" class="ActionListContent ActionListContent--visual16">
        <span class="ActionListItem-visual ActionListItem-visual--leading">
          <span data-view-component="true" class="d-flex flex-items-center">    <svg style="box-sizing: content-box; color: var(--color-icon-primary);" width="16" height="16" viewBox="0 0 16 16" fill="none" data-view-component="true" class="anim-rotate">
  <circle cx="8" cy="8" r="7" stroke="currentColor" stroke-opacity="0.25" stroke-width="2" vector-effect="non-scaling-stroke" fill="none" />
  <path d="M15 8a7.002 7.002 0 00-7-7" stroke="currentColor" stroke-width="2" stroke-linecap="round" vector-effect="non-scaling-stroke" />
</svg>
</span>
        </span>
      
        <span data-view-component="true" class="ActionListItem-label">
          

  <span class="color-fg-muted">
    Loading...
  </span>

</span></button>
  
  
</li>

        
          
<li data-targets="nav-list.items nav-list.items" data-item-id="" data-view-component="true" class="ActionListItem">
    
    <button id="item-a865a203-a5d9-4597-9914-01b5a52e312b" type="button" data-view-component="true" class="ActionListContent ActionListContent--visual16">
        <span class="ActionListItem-visual ActionListItem-visual--leading">
          <span data-view-component="true" class="d-flex flex-items-center">    <svg style="box-sizing: content-box; color: var(--color-icon-primary);" width="16" height="16" viewBox="0 0 16 16" fill="none" data-view-component="true" class="anim-rotate">
  <circle cx="8" cy="8" r="7" stroke="currentColor" stroke-opacity="0.25" stroke-width="2" vector-effect="non-scaling-stroke" fill="none" />
  <path d="M15 8a7.002 7.002 0 00-7-7" stroke="currentColor" stroke-width="2" stroke-linecap="round" vector-effect="non-scaling-stroke" />
</svg>
</span>
        </span>
      
        <span data-view-component="true" class="ActionListItem-label">
          

  <span class="color-fg-muted">
    Loading...
  </span>

</span></button>
  
  
</li>

        
          
<li data-targets="nav-list.items nav-list.items" data-item-id="" data-view-component="true" class="ActionListItem">
    
    <a data-analytics-event="{&quot;category&quot;:&quot;Global navigation&quot;,&quot;action&quot;:&quot;YOUR_STARS&quot;,&quot;label&quot;:null}" id="item-e6764405-ef48-4917-86bd-f30b9a3bba7d" href="/Marcib?tab=stars" data-view-component="true" class="ActionListContent ActionListContent--visual16">
        <span class="ActionListItem-visual ActionListItem-visual--leading">
          <svg aria-hidden="true" height="16" viewBox="0 0 16 16" version="1.1" width="16" data-view-component="true" class="octicon octicon-star">
    <path d="M8 .25a.75.75 0 0 1 .673.418l1.882 3.815 4.21.612a.75.75 0 0 1 .416 1.279l-3.046 2.97.719 4.192a.751.751 0 0 1-1.088.791L8 12.347l-3.766 1.98a.75.75 0 0 1-1.088-.79l.72-4.194L.818 6.374a.75.75 0 0 1 .416-1.28l4.21-.611L7.327.668A.75.75 0 0 1 8 .25Zm0 2.445L6.615 5.5a.75.75 0 0 1-.564.41l-3.097.45 2.24 2.184a.75.75 0 0 1 .216.664l-.528 3.084 2.769-1.456a.75.75 0 0 1 .698 0l2.77 1.456-.53-3.084a.75.75 0 0 1 .216-.664l2.24-2.183-3.096-.45a.75.75 0 0 1-.564-.41L8 2.694Z"></path>
</svg>
        </span>
      
        <span data-view-component="true" class="ActionListItem-label">
          Your stars
</span></a>
  
  
</li>

        
          
<li data-targets="nav-list.items nav-list.items" data-item-id="" data-view-component="true" class="ActionListItem">
    
    <a data-analytics-event="{&quot;category&quot;:&quot;Global navigation&quot;,&quot;action&quot;:&quot;SPONSORS&quot;,&quot;label&quot;:null}" id="item-f14e4068-bf6c-4596-8827-56451eac4192" href="/sponsors/accounts" data-view-component="true" class="ActionListContent ActionListContent--visual16">
        <span class="ActionListItem-visual ActionListItem-visual--leading">
          <svg aria-hidden="true" height="16" viewBox="0 0 16 16" version="1.1" width="16" data-view-component="true" class="octicon octicon-heart">
    <path d="m8 14.25.345.666a.75.75 0 0 1-.69 0l-.008-.004-.018-.01a7.152 7.152 0 0 1-.31-.17 22.055 22.055 0 0 1-3.434-2.414C2.045 10.731 0 8.35 0 5.5 0 2.836 2.086 1 4.25 1 5.797 1 7.153 1.802 8 3.02 8.847 1.802 10.203 1 11.75 1 13.914 1 16 2.836 16 5.5c0 2.85-2.045 5.231-3.885 6.818a22.066 22.066 0 0 1-3.744 2.584l-.018.01-.006.003h-.002ZM4.25 2.5c-1.336 0-2.75 1.164-2.75 3 0 2.15 1.58 4.144 3.365 5.682A20.58 20.58 0 0 0 8 13.393a20.58 20.58 0 0 0 3.135-2.211C12.92 9.644 14.5 7.65 14.5 5.5c0-1.836-1.414-3-2.75-3-1.373 0-2.609.986-3.029 2.456a.749.749 0 0 1-1.442 0C6.859 3.486 5.623 2.5 4.25 2.5Z"></path>
</svg>
        </span>
      
        <span data-view-component="true" class="ActionListItem-label">
          Your sponsors
</span></a>
  
  
</li>

        
          
<li data-targets="nav-list.items nav-list.items" data-item-id="" data-view-component="true" class="ActionListItem">
    
    <a data-analytics-event="{&quot;category&quot;:&quot;Global navigation&quot;,&quot;action&quot;:&quot;YOUR_GISTS&quot;,&quot;label&quot;:null}" id="item-c2f3813c-671d-4d80-b8cc-f7af8b920062" href="https://gist.github.com/mine" data-view-component="true" class="ActionListContent ActionListContent--visual16">
        <span class="ActionListItem-visual ActionListItem-visual--leading">
          <svg aria-hidden="true" height="16" viewBox="0 0 16 16" version="1.1" width="16" data-view-component="true" class="octicon octicon-code-square">
    <path d="M0 1.75C0 .784.784 0 1.75 0h12.5C15.216 0 16 .784 16 1.75v12.5A1.75 1.75 0 0 1 14.25 16H1.75A1.75 1.75 0 0 1 0 14.25Zm1.75-.25a.25.25 0 0 0-.25.25v12.5c0 .138.112.25.25.25h12.5a.25.25 0 0 0 .25-.25V1.75a.25.25 0 0 0-.25-.25Zm7.47 3.97a.75.75 0 0 1 1.06 0l2 2a.75.75 0 0 1 0 1.06l-2 2a.749.749 0 0 1-1.275-.326.749.749 0 0 1 .215-.734L10.69 8 9.22 6.53a.75.75 0 0 1 0-1.06ZM6.78 6.53 5.31 8l1.47 1.47a.749.749 0 0 1-.326 1.275.749.749 0 0 1-.734-.215l-2-2a.75.75 0 0 1 0-1.06l2-2a.751.751 0 0 1 1.042.018.751.751 0 0 1 .018 1.042Z"></path>
</svg>
        </span>
      
        <span data-view-component="true" class="ActionListItem-label">
          Your gists
</span></a>
  
  
</li>

        
          <li role="presentation" aria-hidden="true" data-view-component="true" class="ActionList-sectionDivider"></li>
        
          
<li data-targets="nav-list.items nav-list.items" data-item-id="" data-view-component="true" class="ActionListItem">
    
    <button id="item-5b9660c8-e10a-4bd7-aec0-d03fdbdc1a64" type="button" data-view-component="true" class="ActionListContent ActionListContent--visual16">
        <span class="ActionListItem-visual ActionListItem-visual--leading">
          <span data-view-component="true" class="d-flex flex-items-center">    <svg style="box-sizing: content-box; color: var(--color-icon-primary);" width="16" height="16" viewBox="0 0 16 16" fill="none" data-view-component="true" class="anim-rotate">
  <circle cx="8" cy="8" r="7" stroke="currentColor" stroke-opacity="0.25" stroke-width="2" vector-effect="non-scaling-stroke" fill="none" />
  <path d="M15 8a7.002 7.002 0 00-7-7" stroke="currentColor" stroke-width="2" stroke-linecap="round" vector-effect="non-scaling-stroke" />
</svg>
</span>
        </span>
      
        <span data-view-component="true" class="ActionListItem-label">
          

  <span class="color-fg-muted">
    Loading...
  </span>

</span></button>
  
  
</li>

        
          
<li data-targets="nav-list.items nav-list.items" data-item-id="" data-view-component="true" class="ActionListItem">
    
    <button id="item-033f9b45-3ef6-4b88-b0f5-911833c88cac" type="button" data-view-component="true" class="ActionListContent ActionListContent--visual16">
        <span class="ActionListItem-visual ActionListItem-visual--leading">
          <span data-view-component="true" class="d-flex flex-items-center">    <svg style="box-sizing: content-box; color: var(--color-icon-primary);" width="16" height="16" viewBox="0 0 16 16" fill="none" data-view-component="true" class="anim-rotate">
  <circle cx="8" cy="8" r="7" stroke="currentColor" stroke-opacity="0.25" stroke-width="2" vector-effect="non-scaling-stroke" fill="none" />
  <path d="M15 8a7.002 7.002 0 00-7-7" stroke="currentColor" stroke-width="2" stroke-linecap="round" vector-effect="non-scaling-stroke" />
</svg>
</span>
        </span>
      
        <span data-view-component="true" class="ActionListItem-label">
          

  <span class="color-fg-muted">
    Loading...
  </span>

</span></button>
  
  
</li>

        
          
<li data-targets="nav-list.items nav-list.items" data-item-id="" data-view-component="true" class="ActionListItem">
    
    <a data-analytics-event="{&quot;category&quot;:&quot;Global navigation&quot;,&quot;action&quot;:&quot;SETTINGS&quot;,&quot;label&quot;:null}" id="item-5e55a4be-5d1e-4bba-8bd2-e131f4543e8a" href="/settings/profile" data-view-component="true" class="ActionListContent ActionListContent--visual16">
        <span class="ActionListItem-visual ActionListItem-visual--leading">
          <svg aria-hidden="true" height="16" viewBox="0 0 16 16" version="1.1" width="16" data-view-component="true" class="octicon octicon-gear">
    <path d="M8 0a8.2 8.2 0 0 1 .701.031C9.444.095 9.99.645 10.16 1.29l.288 1.107c.018.066.079.158.212.224.231.114.454.243.668.386.123.082.233.09.299.071l1.103-.303c.644-.176 1.392.021 1.82.63.27.385.506.792.704 1.218.315.675.111 1.422-.364 1.891l-.814.806c-.049.048-.098.147-.088.294.016.257.016.515 0 .772-.01.147.038.246.088.294l.814.806c.475.469.679 1.216.364 1.891a7.977 7.977 0 0 1-.704 1.217c-.428.61-1.176.807-1.82.63l-1.102-.302c-.067-.019-.177-.011-.3.071a5.909 5.909 0 0 1-.668.386c-.133.066-.194.158-.211.224l-.29 1.106c-.168.646-.715 1.196-1.458 1.26a8.006 8.006 0 0 1-1.402 0c-.743-.064-1.289-.614-1.458-1.26l-.289-1.106c-.018-.066-.079-.158-.212-.224a5.738 5.738 0 0 1-.668-.386c-.123-.082-.233-.09-.299-.071l-1.103.303c-.644.176-1.392-.021-1.82-.63a8.12 8.12 0 0 1-.704-1.218c-.315-.675-.111-1.422.363-1.891l.815-.806c.05-.048.098-.147.088-.294a6.214 6.214 0 0 1 0-.772c.01-.147-.038-.246-.088-.294l-.815-.806C.635 6.045.431 5.298.746 4.623a7.92 7.92 0 0 1 .704-1.217c.428-.61 1.176-.807 1.82-.63l1.102.302c.067.019.177.011.3-.071.214-.143.437-.272.668-.386.133-.066.194-.158.211-.224l.29-1.106C6.009.645 6.556.095 7.299.03 7.53.01 7.764 0 8 0Zm-.571 1.525c-.036.003-.108.036-.137.146l-.289 1.105c-.147.561-.549.967-.998 1.189-.173.086-.34.183-.5.29-.417.278-.97.423-1.529.27l-1.103-.303c-.109-.03-.175.016-.195.045-.22.312-.412.644-.573.99-.014.031-.021.11.059.19l.815.806c.411.406.562.957.53 1.456a4.709 4.709 0 0 0 0 .582c.032.499-.119 1.05-.53 1.456l-.815.806c-.081.08-.073.159-.059.19.162.346.353.677.573.989.02.03.085.076.195.046l1.102-.303c.56-.153 1.113-.008 1.53.27.161.107.328.204.501.29.447.222.85.629.997 1.189l.289 1.105c.029.109.101.143.137.146a6.6 6.6 0 0 0 1.142 0c.036-.003.108-.036.137-.146l.289-1.105c.147-.561.549-.967.998-1.189.173-.086.34-.183.5-.29.417-.278.97-.423 1.529-.27l1.103.303c.109.029.175-.016.195-.045.22-.313.411-.644.573-.99.014-.031.021-.11-.059-.19l-.815-.806c-.411-.406-.562-.957-.53-1.456a4.709 4.709 0 0 0 0-.582c-.032-.499.119-1.05.53-1.456l.815-.806c.081-.08.073-.159.059-.19a6.464 6.464 0 0 0-.573-.989c-.02-.03-.085-.076-.195-.046l-1.102.303c-.56.153-1.113.008-1.53-.27a4.44 4.44 0 0 0-.501-.29c-.447-.222-.85-.629-.997-1.189l-.289-1.105c-.029-.11-.101-.143-.137-.146a6.6 6.6 0 0 0-1.142 0ZM11 8a3 3 0 1 1-6 0 3 3 0 0 1 6 0ZM9.5 8a1.5 1.5 0 1 0-3.001.001A1.5 1.5 0 0 0 9.5 8Z"></path>
</svg>
        </span>
      
        <span data-view-component="true" class="ActionListItem-label">
          Settings
</span></a>
  
  
</li>

        
          <li role="presentation" aria-hidden="true" data-view-component="true" class="ActionList-sectionDivider"></li>
        
          
<li data-targets="nav-list.items nav-list.items" data-item-id="" data-view-component="true" class="ActionListItem">
    
    <a data-analytics-event="{&quot;category&quot;:&quot;Global navigation&quot;,&quot;action&quot;:&quot;DOCS&quot;,&quot;label&quot;:null}" id="item-0ad751ce-f623-4677-990c-1738cd24cf37" href="https://docs.github.com" data-view-component="true" class="ActionListContent ActionListContent--visual16">
        <span class="ActionListItem-visual ActionListItem-visual--leading">
          <svg aria-hidden="true" height="16" viewBox="0 0 16 16" version="1.1" width="16" data-view-component="true" class="octicon octicon-book">
    <path d="M0 1.75A.75.75 0 0 1 .75 1h4.253c1.227 0 2.317.59 3 1.501A3.743 3.743 0 0 1 11.006 1h4.245a.75.75 0 0 1 .75.75v10.5a.75.75 0 0 1-.75.75h-4.507a2.25 2.25 0 0 0-1.591.659l-.622.621a.75.75 0 0 1-1.06 0l-.622-.621A2.25 2.25 0 0 0 5.258 13H.75a.75.75 0 0 1-.75-.75Zm7.251 10.324.004-5.073-.002-2.253A2.25 2.25 0 0 0 5.003 2.5H1.5v9h3.757a3.75 3.75 0 0 1 1.994.574ZM8.755 4.75l-.004 7.322a3.752 3.752 0 0 1 1.992-.572H14.5v-9h-3.495a2.25 2.25 0 0 0-2.25 2.25Z"></path>
</svg>
        </span>
      
        <span data-view-component="true" class="ActionListItem-label">
          GitHub Docs
</span></a>
  
  
</li>

        
          
<li data-targets="nav-list.items nav-list.items" data-item-id="" data-view-component="true" class="ActionListItem">
    
    <a data-analytics-event="{&quot;category&quot;:&quot;Global navigation&quot;,&quot;action&quot;:&quot;SUPPORT&quot;,&quot;label&quot;:null}" id="item-da93cae9-ad04-44fa-bc12-4e78270a1c34" href="https://support.github.com" data-view-component="true" class="ActionListContent ActionListContent--visual16">
        <span class="ActionListItem-visual ActionListItem-visual--leading">
          <svg aria-hidden="true" height="16" viewBox="0 0 16 16" version="1.1" width="16" data-view-component="true" class="octicon octicon-people">
    <path d="M2 5.5a3.5 3.5 0 1 1 5.898 2.549 5.508 5.508 0 0 1 3.034 4.084.75.75 0 1 1-1.482.235 4 4 0 0 0-7.9 0 .75.75 0 0 1-1.482-.236A5.507 5.507 0 0 1 3.102 8.05 3.493 3.493 0 0 1 2 5.5ZM11 4a3.001 3.001 0 0 1 2.22 5.018 5.01 5.01 0 0 1 2.56 3.012.749.749 0 0 1-.885.954.752.752 0 0 1-.549-.514 3.507 3.507 0 0 0-2.522-2.372.75.75 0 0 1-.574-.73v-.352a.75.75 0 0 1 .416-.672A1.5 1.5 0 0 0 11 5.5.75.75 0 0 1 11 4Zm-5.5-.5a2 2 0 1 0-.001 3.999A2 2 0 0 0 5.5 3.5Z"></path>
</svg>
        </span>
      
        <span data-view-component="true" class="ActionListItem-label">
          GitHub Support
</span></a>
  
  
</li>

        
          <li role="presentation" aria-hidden="true" data-view-component="true" class="ActionList-sectionDivider"></li>
        
          
<li data-targets="nav-list.items nav-list.items" data-item-id="" data-view-component="true" class="ActionListItem">
    
    <a data-analytics-event="{&quot;category&quot;:&quot;Global navigation&quot;,&quot;action&quot;:&quot;LOGOUT&quot;,&quot;label&quot;:null}" id="item-784d43f8-049b-439a-8fde-b081d6c0f3ef" href="/logout" data-view-component="true" class="ActionListContent">
      
        <span data-view-component="true" class="ActionListItem-label">
          Sign out
</span></a>
  
  
</li>

</ul>  </nav-list>
</nav>


</div>
</div>
      </scrollable-region>
      
</dialog></dialog-helper>
  </user-drawer-side-panel>

  </include-fragment>
</deferred-side-panel>
          
        </div>

        <div class="position-absolute mt-2">
            
<site-header-logged-in-user-menu>

</site-header-logged-in-user-menu>

        </div>
      </div>
    </div>


      <div class="AppHeader-localBar" >
        <nav data-pjax="#js-repo-pjax-container" aria-label="Repository" data-view-component="true" class="js-repo-nav js-sidenav-container-pjax js-responsive-underlinenav overflow-hidden UnderlineNav">

  <ul data-view-component="true" class="UnderlineNav-body list-style-none">
      <li data-view-component="true" class="d-inline-flex">
  <a id="code-tab" href="/Marcib/Adatb-zis/tree/master" data-tab-item="i0code-tab" data-selected-links="repo_source repo_downloads repo_commits repo_releases repo_tags repo_branches repo_packages repo_deployments repo_attestations /Marcib/Adatb-zis/tree/master" data-pjax="#repo-content-pjax-container" data-turbo-frame="repo-content-turbo-frame" data-hotkey="g c" data-analytics-event="{&quot;category&quot;:&quot;Underline navbar&quot;,&quot;action&quot;:&quot;Click tab&quot;,&quot;label&quot;:&quot;Code&quot;,&quot;target&quot;:&quot;UNDERLINE_NAV.TAB&quot;}" data-view-component="true" class="UnderlineNav-item no-wrap js-responsive-underlinenav-item js-selected-navigation-item">
    
              <svg aria-hidden="true" height="16" viewBox="0 0 16 16" version="1.1" width="16" data-view-component="true" class="octicon octicon-code UnderlineNav-octicon d-none d-sm-inline">
    <path d="m11.28 3.22 4.25 4.25a.75.75 0 0 1 0 1.06l-4.25 4.25a.749.749 0 0 1-1.275-.326.749.749 0 0 1 .215-.734L13.94 8l-3.72-3.72a.749.749 0 0 1 .326-1.275.749.749 0 0 1 .734.215Zm-6.56 0a.751.751 0 0 1 1.042.018.751.751 0 0 1 .018 1.042L2.06 8l3.72 3.72a.749.749 0 0 1-.326 1.275.749.749 0 0 1-.734-.215L.47 8.53a.75.75 0 0 1 0-1.06Z"></path>
</svg>
        <span data-content="Code">Code</span>
          <span id="code-repo-tab-count" data-pjax-replace="" data-turbo-replace="" title="Not available" data-view-component="true" class="Counter"></span>


    
</a></li>
      <li data-view-component="true" class="d-inline-flex">
  <a id="issues-tab" href="/Marcib/Adatb-zis/issues" data-tab-item="i1issues-tab" data-selected-links="repo_issues repo_labels repo_milestones /Marcib/Adatb-zis/issues" data-pjax="#repo-content-pjax-container" data-turbo-frame="repo-content-turbo-frame" data-hotkey="g i" data-analytics-event="{&quot;category&quot;:&quot;Underline navbar&quot;,&quot;action&quot;:&quot;Click tab&quot;,&quot;label&quot;:&quot;Issues&quot;,&quot;target&quot;:&quot;UNDERLINE_NAV.TAB&quot;}" data-view-component="true" class="UnderlineNav-item no-wrap js-responsive-underlinenav-item js-selected-navigation-item">
    
              <svg aria-hidden="true" height="16" viewBox="0 0 16 16" version="1.1" width="16" data-view-component="true" class="octicon octicon-issue-opened UnderlineNav-octicon d-none d-sm-inline">
    <path d="M8 9.5a1.5 1.5 0 1 0 0-3 1.5 1.5 0 0 0 0 3Z"></path><path d="M8 0a8 8 0 1 1 0 16A8 8 0 0 1 8 0ZM1.5 8a6.5 6.5 0 1 0 13 0 6.5 6.5 0 0 0-13 0Z"></path>
</svg>
        <span data-content="Issues">Issues</span>
          <span id="issues-repo-tab-count" data-pjax-replace="" data-turbo-replace="" title="0" hidden="hidden" data-view-component="true" class="Counter">0</span>


    
</a></li>
      <li data-view-component="true" class="d-inline-flex">
  <a id="pull-requests-tab" href="/Marcib/Adatb-zis/pulls" data-tab-item="i2pull-requests-tab" data-selected-links="repo_pulls checks /Marcib/Adatb-zis/pulls" data-pjax="#repo-content-pjax-container" data-turbo-frame="repo-content-turbo-frame" data-hotkey="g p" data-analytics-event="{&quot;category&quot;:&quot;Underline navbar&quot;,&quot;action&quot;:&quot;Click tab&quot;,&quot;label&quot;:&quot;Pull requests&quot;,&quot;target&quot;:&quot;UNDERLINE_NAV.TAB&quot;}" data-view-component="true" class="UnderlineNav-item no-wrap js-responsive-underlinenav-item js-selected-navigation-item">
    
              <svg aria-hidden="true" height="16" viewBox="0 0 16 16" version="1.1" width="16" data-view-component="true" class="octicon octicon-git-pull-request UnderlineNav-octicon d-none d-sm-inline">
    <path d="M1.5 3.25a2.25 2.25 0 1 1 3 2.122v5.256a2.251 2.251 0 1 1-1.5 0V5.372A2.25 2.25 0 0 1 1.5 3.25Zm5.677-.177L9.573.677A.25.25 0 0 1 10 .854V2.5h1A2.5 2.5 0 0 1 13.5 5v5.628a2.251 2.251 0 1 1-1.5 0V5a1 1 0 0 0-1-1h-1v1.646a.25.25 0 0 1-.427.177L7.177 3.427a.25.25 0 0 1 0-.354ZM3.75 2.5a.75.75 0 1 0 0 1.5.75.75 0 0 0 0-1.5Zm0 9.5a.75.75 0 1 0 0 1.5.75.75 0 0 0 0-1.5Zm8.25.75a.75.75 0 1 0 1.5 0 .75.75 0 0 0-1.5 0Z"></path>
</svg>
        <span data-content="Pull requests">Pull requests</span>
          <span id="pull-requests-repo-tab-count" data-pjax-replace="" data-turbo-replace="" title="0" hidden="hidden" data-view-component="true" class="Counter">0</span>


    
</a></li>
      <li data-view-component="true" class="d-inline-flex">
  <a id="actions-tab" href="/Marcib/Adatb-zis/actions" data-tab-item="i3actions-tab" data-selected-links="repo_actions /Marcib/Adatb-zis/actions" data-pjax="#repo-content-pjax-container" data-turbo-frame="repo-content-turbo-frame" data-hotkey="g a" data-analytics-event="{&quot;category&quot;:&quot;Underline navbar&quot;,&quot;action&quot;:&quot;Click tab&quot;,&quot;label&quot;:&quot;Actions&quot;,&quot;target&quot;:&quot;UNDERLINE_NAV.TAB&quot;}" data-view-component="true" class="UnderlineNav-item no-wrap js-responsive-underlinenav-item js-selected-navigation-item">
    
              <svg aria-hidden="true" height="16" viewBox="0 0 16 16" version="1.1" width="16" data-view-component="true" class="octicon octicon-play UnderlineNav-octicon d-none d-sm-inline">
    <path d="M8 0a8 8 0 1 1 0 16A8 8 0 0 1 8 0ZM1.5 8a6.5 6.5 0 1 0 13 0 6.5 6.5 0 0 0-13 0Zm4.879-2.773 4.264 2.559a.25.25 0 0 1 0 .428l-4.264 2.559A.25.25 0 0 1 6 10.559V5.442a.25.25 0 0 1 .379-.215Z"></path>
</svg>
        <span data-content="Actions">Actions</span>
          <span id="actions-repo-tab-count" data-pjax-replace="" data-turbo-replace="" title="Not available" data-view-component="true" class="Counter"></span>


    
</a></li>
      <li data-view-component="true" class="d-inline-flex">
  <a id="projects-tab" href="/Marcib/Adatb-zis/projects" data-tab-item="i4projects-tab" data-selected-links="repo_projects new_repo_project repo_project /Marcib/Adatb-zis/projects" data-pjax="#repo-content-pjax-container" data-turbo-frame="repo-content-turbo-frame" data-hotkey="g b" data-analytics-event="{&quot;category&quot;:&quot;Underline navbar&quot;,&quot;action&quot;:&quot;Click tab&quot;,&quot;label&quot;:&quot;Projects&quot;,&quot;target&quot;:&quot;UNDERLINE_NAV.TAB&quot;}" data-view-component="true" class="UnderlineNav-item no-wrap js-responsive-underlinenav-item js-selected-navigation-item">
    
              <svg aria-hidden="true" height="16" viewBox="0 0 16 16" version="1.1" width="16" data-view-component="true" class="octicon octicon-table UnderlineNav-octicon d-none d-sm-inline">
    <path d="M0 1.75C0 .784.784 0 1.75 0h12.5C15.216 0 16 .784 16 1.75v12.5A1.75 1.75 0 0 1 14.25 16H1.75A1.75 1.75 0 0 1 0 14.25ZM6.5 6.5v8h7.75a.25.25 0 0 0 .25-.25V6.5Zm8-1.5V1.75a.25.25 0 0 0-.25-.25H6.5V5Zm-13 1.5v7.75c0 .138.112.25.25.25H5v-8ZM5 5V1.5H1.75a.25.25 0 0 0-.25.25V5Z"></path>
</svg>
        <span data-content="Projects">Projects</span>
          <span id="projects-repo-tab-count" data-pjax-replace="" data-turbo-replace="" title="0" hidden="hidden" data-view-component="true" class="Counter">0</span>


    
</a></li>
      <li data-view-component="true" class="d-inline-flex">
  <a id="wiki-tab" href="/Marcib/Adatb-zis/wiki" data-tab-item="i5wiki-tab" data-selected-links="repo_wiki /Marcib/Adatb-zis/wiki" data-pjax="#repo-content-pjax-container" data-turbo-frame="repo-content-turbo-frame" data-hotkey="g w" data-analytics-event="{&quot;category&quot;:&quot;Underline navbar&quot;,&quot;action&quot;:&quot;Click tab&quot;,&quot;label&quot;:&quot;Wiki&quot;,&quot;target&quot;:&quot;UNDERLINE_NAV.TAB&quot;}" data-view-component="true" class="UnderlineNav-item no-wrap js-responsive-underlinenav-item js-selected-navigation-item">
    
              <svg aria-hidden="true" height="16" viewBox="0 0 16 16" version="1.1" width="16" data-view-component="true" class="octicon octicon-book UnderlineNav-octicon d-none d-sm-inline">
    <path d="M0 1.75A.75.75 0 0 1 .75 1h4.253c1.227 0 2.317.59 3 1.501A3.743 3.743 0 0 1 11.006 1h4.245a.75.75 0 0 1 .75.75v10.5a.75.75 0 0 1-.75.75h-4.507a2.25 2.25 0 0 0-1.591.659l-.622.621a.75.75 0 0 1-1.06 0l-.622-.621A2.25 2.25 0 0 0 5.258 13H.75a.75.75 0 0 1-.75-.75Zm7.251 10.324.004-5.073-.002-2.253A2.25 2.25 0 0 0 5.003 2.5H1.5v9h3.757a3.75 3.75 0 0 1 1.994.574ZM8.755 4.75l-.004 7.322a3.752 3.752 0 0 1 1.992-.572H14.5v-9h-3.495a2.25 2.25 0 0 0-2.25 2.25Z"></path>
</svg>
        <span data-content="Wiki">Wiki</span>
          <span id="wiki-repo-tab-count" data-pjax-replace="" data-turbo-replace="" title="Not available" data-view-component="true" class="Counter"></span>


    
</a></li>
      <li data-view-component="true" class="d-inline-flex">
  <a id="security-tab" href="/Marcib/Adatb-zis/security" data-tab-item="i6security-tab" data-selected-links="security overview alerts policy token_scanning code_scanning /Marcib/Adatb-zis/security" data-pjax="#repo-content-pjax-container" data-turbo-frame="repo-content-turbo-frame" data-hotkey="g s" data-analytics-event="{&quot;category&quot;:&quot;Underline navbar&quot;,&quot;action&quot;:&quot;Click tab&quot;,&quot;label&quot;:&quot;Security&quot;,&quot;target&quot;:&quot;UNDERLINE_NAV.TAB&quot;}" data-view-component="true" class="UnderlineNav-item no-wrap js-responsive-underlinenav-item js-selected-navigation-item">
    
              <svg aria-hidden="true" height="16" viewBox="0 0 16 16" version="1.1" width="16" data-view-component="true" class="octicon octicon-shield UnderlineNav-octicon d-none d-sm-inline">
    <path d="M7.467.133a1.748 1.748 0 0 1 1.066 0l5.25 1.68A1.75 1.75 0 0 1 15 3.48V7c0 1.566-.32 3.182-1.303 4.682-.983 1.498-2.585 2.813-5.032 3.855a1.697 1.697 0 0 1-1.33 0c-2.447-1.042-4.049-2.357-5.032-3.855C1.32 10.182 1 8.566 1 7V3.48a1.75 1.75 0 0 1 1.217-1.667Zm.61 1.429a.25.25 0 0 0-.153 0l-5.25 1.68a.25.25 0 0 0-.174.238V7c0 1.358.275 2.666 1.057 3.86.784 1.194 2.121 2.34 4.366 3.297a.196.196 0 0 0 .154 0c2.245-.956 3.582-2.104 4.366-3.298C13.225 9.666 13.5 8.36 13.5 7V3.48a.251.251 0 0 0-.174-.237l-5.25-1.68ZM8.75 4.75v3a.75.75 0 0 1-1.5 0v-3a.75.75 0 0 1 1.5 0ZM9 10.5a1 1 0 1 1-2 0 1 1 0 0 1 2 0Z"></path>
</svg>
        <span data-content="Security">Security</span>
          <include-fragment src="/Marcib/Adatb-zis/security/overall-count" accept="text/fragment+html"></include-fragment>

    
</a></li>
      <li data-view-component="true" class="d-inline-flex">
  <a id="insights-tab" href="/Marcib/Adatb-zis/pulse" data-tab-item="i7insights-tab" data-selected-links="repo_graphs repo_contributors dependency_graph dependabot_updates pulse people community /Marcib/Adatb-zis/pulse" data-pjax="#repo-content-pjax-container" data-turbo-frame="repo-content-turbo-frame" data-analytics-event="{&quot;category&quot;:&quot;Underline navbar&quot;,&quot;action&quot;:&quot;Click tab&quot;,&quot;label&quot;:&quot;Insights&quot;,&quot;target&quot;:&quot;UNDERLINE_NAV.TAB&quot;}" data-view-component="true" class="UnderlineNav-item no-wrap js-responsive-underlinenav-item js-selected-navigation-item">
    
              <svg aria-hidden="true" height="16" viewBox="0 0 16 16" version="1.1" width="16" data-view-component="true" class="octicon octicon-graph UnderlineNav-octicon d-none d-sm-inline">
    <path d="M1.5 1.75V13.5h13.75a.75.75 0 0 1 0 1.5H.75a.75.75 0 0 1-.75-.75V1.75a.75.75 0 0 1 1.5 0Zm14.28 2.53-5.25 5.25a.75.75 0 0 1-1.06 0L7 7.06 4.28 9.78a.751.751 0 0 1-1.042-.018.751.751 0 0 1-.018-1.042l3.25-3.25a.75.75 0 0 1 1.06 0L10 7.94l4.72-4.72a.751.751 0 0 1 1.042.018.751.751 0 0 1 .018 1.042Z"></path>
</svg>
        <span data-content="Insights">Insights</span>
          <span id="insights-repo-tab-count" data-pjax-replace="" data-turbo-replace="" title="Not available" data-view-component="true" class="Counter"></span>


    
</a></li>
      <li data-view-component="true" class="d-inline-flex">
  <a id="settings-tab" href="/Marcib/Adatb-zis/settings" data-tab-item="i8settings-tab" data-selected-links="code_review_limits codespaces_repository_settings collaborators custom_tabs hooks integration_installations interaction_limits issue_template_editor key_links_settings notifications repo_actions_settings repo_announcements repo_branch_settings repo_keys_settings repo_pages_settings repo_rule_insights repo_rulesets repo_rules_bypass_requests repo_protected_tags_settings repo_settings reported_content repo_custom_properties repository_actions_settings_add_new_runner repository_actions_settings_general repository_actions_settings_runners repository_environments role_details secrets secrets_settings_actions secrets_settings_codespaces secrets_settings_dependabot security_analysis security_products /Marcib/Adatb-zis/settings" data-pjax="#repo-content-pjax-container" data-turbo-frame="repo-content-turbo-frame" data-analytics-event="{&quot;category&quot;:&quot;Underline navbar&quot;,&quot;action&quot;:&quot;Click tab&quot;,&quot;label&quot;:&quot;Settings&quot;,&quot;target&quot;:&quot;UNDERLINE_NAV.TAB&quot;}" data-view-component="true" class="UnderlineNav-item no-wrap js-responsive-underlinenav-item js-selected-navigation-item">
    
              <svg aria-hidden="true" height="16" viewBox="0 0 16 16" version="1.1" width="16" data-view-component="true" class="octicon octicon-gear UnderlineNav-octicon d-none d-sm-inline">
    <path d="M8 0a8.2 8.2 0 0 1 .701.031C9.444.095 9.99.645 10.16 1.29l.288 1.107c.018.066.079.158.212.224.231.114.454.243.668.386.123.082.233.09.299.071l1.103-.303c.644-.176 1.392.021 1.82.63.27.385.506.792.704 1.218.315.675.111 1.422-.364 1.891l-.814.806c-.049.048-.098.147-.088.294.016.257.016.515 0 .772-.01.147.038.246.088.294l.814.806c.475.469.679 1.216.364 1.891a7.977 7.977 0 0 1-.704 1.217c-.428.61-1.176.807-1.82.63l-1.102-.302c-.067-.019-.177-.011-.3.071a5.909 5.909 0 0 1-.668.386c-.133.066-.194.158-.211.224l-.29 1.106c-.168.646-.715 1.196-1.458 1.26a8.006 8.006 0 0 1-1.402 0c-.743-.064-1.289-.614-1.458-1.26l-.289-1.106c-.018-.066-.079-.158-.212-.224a5.738 5.738 0 0 1-.668-.386c-.123-.082-.233-.09-.299-.071l-1.103.303c-.644.176-1.392-.021-1.82-.63a8.12 8.12 0 0 1-.704-1.218c-.315-.675-.111-1.422.363-1.891l.815-.806c.05-.048.098-.147.088-.294a6.214 6.214 0 0 1 0-.772c.01-.147-.038-.246-.088-.294l-.815-.806C.635 6.045.431 5.298.746 4.623a7.92 7.92 0 0 1 .704-1.217c.428-.61 1.176-.807 1.82-.63l1.102.302c.067.019.177.011.3-.071.214-.143.437-.272.668-.386.133-.066.194-.158.211-.224l.29-1.106C6.009.645 6.556.095 7.299.03 7.53.01 7.764 0 8 0Zm-.571 1.525c-.036.003-.108.036-.137.146l-.289 1.105c-.147.561-.549.967-.998 1.189-.173.086-.34.183-.5.29-.417.278-.97.423-1.529.27l-1.103-.303c-.109-.03-.175.016-.195.045-.22.312-.412.644-.573.99-.014.031-.021.11.059.19l.815.806c.411.406.562.957.53 1.456a4.709 4.709 0 0 0 0 .582c.032.499-.119 1.05-.53 1.456l-.815.806c-.081.08-.073.159-.059.19.162.346.353.677.573.989.02.03.085.076.195.046l1.102-.303c.56-.153 1.113-.008 1.53.27.161.107.328.204.501.29.447.222.85.629.997 1.189l.289 1.105c.029.109.101.143.137.146a6.6 6.6 0 0 0 1.142 0c.036-.003.108-.036.137-.146l.289-1.105c.147-.561.549-.967.998-1.189.173-.086.34-.183.5-.29.417-.278.97-.423 1.529-.27l1.103.303c.109.029.175-.016.195-.045.22-.313.411-.644.573-.99.014-.031.021-.11-.059-.19l-.815-.806c-.411-.406-.562-.957-.53-1.456a4.709 4.709 0 0 0 0-.582c-.032-.499.119-1.05.53-1.456l.815-.806c.081-.08.073-.159.059-.19a6.464 6.464 0 0 0-.573-.989c-.02-.03-.085-.076-.195-.046l-1.102.303c-.56.153-1.113.008-1.53-.27a4.44 4.44 0 0 0-.501-.29c-.447-.222-.85-.629-.997-1.189l-.289-1.105c-.029-.11-.101-.143-.137-.146a6.6 6.6 0 0 0-1.142 0ZM11 8a3 3 0 1 1-6 0 3 3 0 0 1 6 0ZM9.5 8a1.5 1.5 0 1 0-3.001.001A1.5 1.5 0 0 0 9.5 8Z"></path>
</svg>
        <span data-content="Settings">Settings</span>
          <span id="settings-repo-tab-count" data-pjax-replace="" data-turbo-replace="" title="Not available" data-view-component="true" class="Counter"></span>


    
</a></li>
</ul>
    <div style="visibility:hidden;" data-view-component="true" class="UnderlineNav-actions js-responsive-underlinenav-overflow position-absolute pr-3 pr-md-4 pr-lg-5 right-0">      <action-menu data-select-variant="none" data-view-component="true">
  <focus-group direction="vertical" mnemonics retain>
    <button id="action-menu-f0f67bea-b6b2-43a9-849a-2b2aba657d08-button" popovertarget="action-menu-f0f67bea-b6b2-43a9-849a-2b2aba657d08-overlay" aria-controls="action-menu-f0f67bea-b6b2-43a9-849a-2b2aba657d08-list" aria-haspopup="true" aria-labelledby="tooltip-a1509118-b7c6-439f-b26f-33c3ca965794" type="button" data-view-component="true" class="Button Button--iconOnly Button--secondary Button--medium UnderlineNav-item">  <svg aria-hidden="true" height="16" viewBox="0 0 16 16" version="1.1" width="16" data-view-component="true" class="octicon octicon-kebab-horizontal Button-visual">
    <path d="M8 9a1.5 1.5 0 1 0 0-3 1.5 1.5 0 0 0 0 3ZM1.5 9a1.5 1.5 0 1 0 0-3 1.5 1.5 0 0 0 0 3Zm13 0a1.5 1.5 0 1 0 0-3 1.5 1.5 0 0 0 0 3Z"></path>
</svg>
</button><tool-tip id="tooltip-a1509118-b7c6-439f-b26f-33c3ca965794" for="action-menu-f0f67bea-b6b2-43a9-849a-2b2aba657d08-button" popover="manual" data-direction="s" data-type="label" data-view-component="true" class="sr-only position-absolute">Additional navigation options</tool-tip>


<anchored-position id="action-menu-f0f67bea-b6b2-43a9-849a-2b2aba657d08-overlay" anchor="action-menu-f0f67bea-b6b2-43a9-849a-2b2aba657d08-button" align="start" side="outside-bottom" anchor-offset="normal" popover="auto" data-view-component="true">
  <div data-view-component="true" class="Overlay Overlay--size-auto">
    
      <div data-view-component="true" class="Overlay-body Overlay-body--paddingNone">          <div data-view-component="true">
  <ul aria-labelledby="action-menu-f0f67bea-b6b2-43a9-849a-2b2aba657d08-button" id="action-menu-f0f67bea-b6b2-43a9-849a-2b2aba657d08-list" role="menu" data-view-component="true" class="ActionListWrap--inset ActionListWrap">
      <li hidden="hidden" data-menu-item="i0code-tab" data-targets="action-list.items action-list.items" role="none" data-view-component="true" class="ActionListItem">
    
    <a tabindex="-1" id="item-99e0b272-95cb-4091-833c-23372f1f2ac5" href="/Marcib/Adatb-zis/tree/master" role="menuitem" data-view-component="true" class="ActionListContent ActionListContent--visual16">
        <span class="ActionListItem-visual ActionListItem-visual--leading">
          <svg aria-hidden="true" height="16" viewBox="0 0 16 16" version="1.1" width="16" data-view-component="true" class="octicon octicon-code">
    <path d="m11.28 3.22 4.25 4.25a.75.75 0 0 1 0 1.06l-4.25 4.25a.749.749 0 0 1-1.275-.326.749.749 0 0 1 .215-.734L13.94 8l-3.72-3.72a.749.749 0 0 1 .326-1.275.749.749 0 0 1 .734.215Zm-6.56 0a.751.751 0 0 1 1.042.018.751.751 0 0 1 .018 1.042L2.06 8l3.72 3.72a.749.749 0 0 1-.326 1.275.749.749 0 0 1-.734-.215L.47 8.53a.75.75 0 0 1 0-1.06Z"></path>
</svg>
        </span>
      
        <span data-view-component="true" class="ActionListItem-label">
          Code
</span></a>
  
  
</li>
      <li hidden="hidden" data-menu-item="i1issues-tab" data-targets="action-list.items action-list.items" role="none" data-view-component="true" class="ActionListItem">
    
    <a tabindex="-1" id="item-3efa8e78-2ea4-4efa-bea8-fc2d8f878e81" href="/Marcib/Adatb-zis/issues" role="menuitem" data-view-component="true" class="ActionListContent ActionListContent--visual16">
        <span class="ActionListItem-visual ActionListItem-visual--leading">
          <svg aria-hidden="true" height="16" viewBox="0 0 16 16" version="1.1" width="16" data-view-component="true" class="octicon octicon-issue-opened">
    <path d="M8 9.5a1.5 1.5 0 1 0 0-3 1.5 1.5 0 0 0 0 3Z"></path><path d="M8 0a8 8 0 1 1 0 16A8 8 0 0 1 8 0ZM1.5 8a6.5 6.5 0 1 0 13 0 6.5 6.5 0 0 0-13 0Z"></path>
</svg>
        </span>
      
        <span data-view-component="true" class="ActionListItem-label">
          Issues
</span></a>
  
  
</li>
      <li hidden="hidden" data-menu-item="i2pull-requests-tab" data-targets="action-list.items action-list.items" role="none" data-view-component="true" class="ActionListItem">
    
    <a tabindex="-1" id="item-928e614f-8a97-498a-bcd5-863083c998e7" href="/Marcib/Adatb-zis/pulls" role="menuitem" data-view-component="true" class="ActionListContent ActionListContent--visual16">
        <span class="ActionListItem-visual ActionListItem-visual--leading">
          <svg aria-hidden="true" height="16" viewBox="0 0 16 16" version="1.1" width="16" data-view-component="true" class="octicon octicon-git-pull-request">
    <path d="M1.5 3.25a2.25 2.25 0 1 1 3 2.122v5.256a2.251 2.251 0 1 1-1.5 0V5.372A2.25 2.25 0 0 1 1.5 3.25Zm5.677-.177L9.573.677A.25.25 0 0 1 10 .854V2.5h1A2.5 2.5 0 0 1 13.5 5v5.628a2.251 2.251 0 1 1-1.5 0V5a1 1 0 0 0-1-1h-1v1.646a.25.25 0 0 1-.427.177L7.177 3.427a.25.25 0 0 1 0-.354ZM3.75 2.5a.75.75 0 1 0 0 1.5.75.75 0 0 0 0-1.5Zm0 9.5a.75.75 0 1 0 0 1.5.75.75 0 0 0 0-1.5Zm8.25.75a.75.75 0 1 0 1.5 0 .75.75 0 0 0-1.5 0Z"></path>
</svg>
        </span>
      
        <span data-view-component="true" class="ActionListItem-label">
          Pull requests
</span></a>
  
  
</li>
      <li hidden="hidden" data-menu-item="i3actions-tab" data-targets="action-list.items action-list.items" role="none" data-view-component="true" class="ActionListItem">
    
    <a tabindex="-1" id="item-8f431276-d7c5-4f58-9ae4-29e38c3b01d8" href="/Marcib/Adatb-zis/actions" role="menuitem" data-view-component="true" class="ActionListContent ActionListContent--visual16">
        <span class="ActionListItem-visual ActionListItem-visual--leading">
          <svg aria-hidden="true" height="16" viewBox="0 0 16 16" version="1.1" width="16" data-view-component="true" class="octicon octicon-play">
    <path d="M8 0a8 8 0 1 1 0 16A8 8 0 0 1 8 0ZM1.5 8a6.5 6.5 0 1 0 13 0 6.5 6.5 0 0 0-13 0Zm4.879-2.773 4.264 2.559a.25.25 0 0 1 0 .428l-4.264 2.559A.25.25 0 0 1 6 10.559V5.442a.25.25 0 0 1 .379-.215Z"></path>
</svg>
        </span>
      
        <span data-view-component="true" class="ActionListItem-label">
          Actions
</span></a>
  
  
</li>
      <li hidden="hidden" data-menu-item="i4projects-tab" data-targets="action-list.items action-list.items" role="none" data-view-component="true" class="ActionListItem">
    
    <a tabindex="-1" id="item-43210bde-be74-4bef-8d36-e1190ba767b9" href="/Marcib/Adatb-zis/projects" role="menuitem" data-view-component="true" class="ActionListContent ActionListContent--visual16">
        <span class="ActionListItem-visual ActionListItem-visual--leading">
          <svg aria-hidden="true" height="16" viewBox="0 0 16 16" version="1.1" width="16" data-view-component="true" class="octicon octicon-table">
    <path d="M0 1.75C0 .784.784 0 1.75 0h12.5C15.216 0 16 .784 16 1.75v12.5A1.75 1.75 0 0 1 14.25 16H1.75A1.75 1.75 0 0 1 0 14.25ZM6.5 6.5v8h7.75a.25.25 0 0 0 .25-.25V6.5Zm8-1.5V1.75a.25.25 0 0 0-.25-.25H6.5V5Zm-13 1.5v7.75c0 .138.112.25.25.25H5v-8ZM5 5V1.5H1.75a.25.25 0 0 0-.25.25V5Z"></path>
</svg>
        </span>
      
        <span data-view-component="true" class="ActionListItem-label">
          Projects
</span></a>
  
  
</li>
      <li hidden="hidden" data-menu-item="i5wiki-tab" data-targets="action-list.items action-list.items" role="none" data-view-component="true" class="ActionListItem">
    
    <a tabindex="-1" id="item-f49a8c0d-24ce-476c-bda7-89b79860129c" href="/Marcib/Adatb-zis/wiki" role="menuitem" data-view-component="true" class="ActionListContent ActionListContent--visual16">
        <span class="ActionListItem-visual ActionListItem-visual--leading">
          <svg aria-hidden="true" height="16" viewBox="0 0 16 16" version="1.1" width="16" data-view-component="true" class="octicon octicon-book">
    <path d="M0 1.75A.75.75 0 0 1 .75 1h4.253c1.227 0 2.317.59 3 1.501A3.743 3.743 0 0 1 11.006 1h4.245a.75.75 0 0 1 .75.75v10.5a.75.75 0 0 1-.75.75h-4.507a2.25 2.25 0 0 0-1.591.659l-.622.621a.75.75 0 0 1-1.06 0l-.622-.621A2.25 2.25 0 0 0 5.258 13H.75a.75.75 0 0 1-.75-.75Zm7.251 10.324.004-5.073-.002-2.253A2.25 2.25 0 0 0 5.003 2.5H1.5v9h3.757a3.75 3.75 0 0 1 1.994.574ZM8.755 4.75l-.004 7.322a3.752 3.752 0 0 1 1.992-.572H14.5v-9h-3.495a2.25 2.25 0 0 0-2.25 2.25Z"></path>
</svg>
        </span>
      
        <span data-view-component="true" class="ActionListItem-label">
          Wiki
</span></a>
  
  
</li>
      <li hidden="hidden" data-menu-item="i6security-tab" data-targets="action-list.items action-list.items" role="none" data-view-component="true" class="ActionListItem">
    
    <a tabindex="-1" id="item-2d2a44d4-df8c-4bff-a62f-c381659ccf79" href="/Marcib/Adatb-zis/security" role="menuitem" data-view-component="true" class="ActionListContent ActionListContent--visual16">
        <span class="ActionListItem-visual ActionListItem-visual--leading">
          <svg aria-hidden="true" height="16" viewBox="0 0 16 16" version="1.1" width="16" data-view-component="true" class="octicon octicon-shield">
    <path d="M7.467.133a1.748 1.748 0 0 1 1.066 0l5.25 1.68A1.75 1.75 0 0 1 15 3.48V7c0 1.566-.32 3.182-1.303 4.682-.983 1.498-2.585 2.813-5.032 3.855a1.697 1.697 0 0 1-1.33 0c-2.447-1.042-4.049-2.357-5.032-3.855C1.32 10.182 1 8.566 1 7V3.48a1.75 1.75 0 0 1 1.217-1.667Zm.61 1.429a.25.25 0 0 0-.153 0l-5.25 1.68a.25.25 0 0 0-.174.238V7c0 1.358.275 2.666 1.057 3.86.784 1.194 2.121 2.34 4.366 3.297a.196.196 0 0 0 .154 0c2.245-.956 3.582-2.104 4.366-3.298C13.225 9.666 13.5 8.36 13.5 7V3.48a.251.251 0 0 0-.174-.237l-5.25-1.68ZM8.75 4.75v3a.75.75 0 0 1-1.5 0v-3a.75.75 0 0 1 1.5 0ZM9 10.5a1 1 0 1 1-2 0 1 1 0 0 1 2 0Z"></path>
</svg>
        </span>
      
        <span data-view-component="true" class="ActionListItem-label">
          Security
</span></a>
  
  
</li>
      <li hidden="hidden" data-menu-item="i7insights-tab" data-targets="action-list.items action-list.items" role="none" data-view-component="true" class="ActionListItem">
    
    <a tabindex="-1" id="item-2777b9a2-e28b-4348-8f07-31cad252f176" href="/Marcib/Adatb-zis/pulse" role="menuitem" data-view-component="true" class="ActionListContent ActionListContent--visual16">
        <span class="ActionListItem-visual ActionListItem-visual--leading">
          <svg aria-hidden="true" height="16" viewBox="0 0 16 16" version="1.1" width="16" data-view-component="true" class="octicon octicon-graph">
    <path d="M1.5 1.75V13.5h13.75a.75.75 0 0 1 0 1.5H.75a.75.75 0 0 1-.75-.75V1.75a.75.75 0 0 1 1.5 0Zm14.28 2.53-5.25 5.25a.75.75 0 0 1-1.06 0L7 7.06 4.28 9.78a.751.751 0 0 1-1.042-.018.751.751 0 0 1-.018-1.042l3.25-3.25a.75.75 0 0 1 1.06 0L10 7.94l4.72-4.72a.751.751 0 0 1 1.042.018.751.751 0 0 1 .018 1.042Z"></path>
</svg>
        </span>
      
        <span data-view-component="true" class="ActionListItem-label">
          Insights
</span></a>
  
  
</li>
      <li hidden="hidden" data-menu-item="i8settings-tab" data-targets="action-list.items action-list.items" role="none" data-view-component="true" class="ActionListItem">
    
    <a tabindex="-1" id="item-7b6bd2ef-22b3-4274-835b-17ecd2f7c731" href="/Marcib/Adatb-zis/settings" role="menuitem" data-view-component="true" class="ActionListContent ActionListContent--visual16">
        <span class="ActionListItem-visual ActionListItem-visual--leading">
          <svg aria-hidden="true" height="16" viewBox="0 0 16 16" version="1.1" width="16" data-view-component="true" class="octicon octicon-gear">
    <path d="M8 0a8.2 8.2 0 0 1 .701.031C9.444.095 9.99.645 10.16 1.29l.288 1.107c.018.066.079.158.212.224.231.114.454.243.668.386.123.082.233.09.299.071l1.103-.303c.644-.176 1.392.021 1.82.63.27.385.506.792.704 1.218.315.675.111 1.422-.364 1.891l-.814.806c-.049.048-.098.147-.088.294.016.257.016.515 0 .772-.01.147.038.246.088.294l.814.806c.475.469.679 1.216.364 1.891a7.977 7.977 0 0 1-.704 1.217c-.428.61-1.176.807-1.82.63l-1.102-.302c-.067-.019-.177-.011-.3.071a5.909 5.909 0 0 1-.668.386c-.133.066-.194.158-.211.224l-.29 1.106c-.168.646-.715 1.196-1.458 1.26a8.006 8.006 0 0 1-1.402 0c-.743-.064-1.289-.614-1.458-1.26l-.289-1.106c-.018-.066-.079-.158-.212-.224a5.738 5.738 0 0 1-.668-.386c-.123-.082-.233-.09-.299-.071l-1.103.303c-.644.176-1.392-.021-1.82-.63a8.12 8.12 0 0 1-.704-1.218c-.315-.675-.111-1.422.363-1.891l.815-.806c.05-.048.098-.147.088-.294a6.214 6.214 0 0 1 0-.772c.01-.147-.038-.246-.088-.294l-.815-.806C.635 6.045.431 5.298.746 4.623a7.92 7.92 0 0 1 .704-1.217c.428-.61 1.176-.807 1.82-.63l1.102.302c.067.019.177.011.3-.071.214-.143.437-.272.668-.386.133-.066.194-.158.211-.224l.29-1.106C6.009.645 6.556.095 7.299.03 7.53.01 7.764 0 8 0Zm-.571 1.525c-.036.003-.108.036-.137.146l-.289 1.105c-.147.561-.549.967-.998 1.189-.173.086-.34.183-.5.29-.417.278-.97.423-1.529.27l-1.103-.303c-.109-.03-.175.016-.195.045-.22.312-.412.644-.573.99-.014.031-.021.11.059.19l.815.806c.411.406.562.957.53 1.456a4.709 4.709 0 0 0 0 .582c.032.499-.119 1.05-.53 1.456l-.815.806c-.081.08-.073.159-.059.19.162.346.353.677.573.989.02.03.085.076.195.046l1.102-.303c.56-.153 1.113-.008 1.53.27.161.107.328.204.501.29.447.222.85.629.997 1.189l.289 1.105c.029.109.101.143.137.146a6.6 6.6 0 0 0 1.142 0c.036-.003.108-.036.137-.146l.289-1.105c.147-.561.549-.967.998-1.189.173-.086.34-.183.5-.29.417-.278.97-.423 1.529-.27l1.103.303c.109.029.175-.016.195-.045.22-.313.411-.644.573-.99.014-.031.021-.11-.059-.19l-.815-.806c-.411-.406-.562-.957-.53-1.456a4.709 4.709 0 0 0 0-.582c-.032-.499.119-1.05.53-1.456l.815-.806c.081-.08.073-.159.059-.19a6.464 6.464 0 0 0-.573-.989c-.02-.03-.085-.076-.195-.046l-1.102.303c-.56.153-1.113.008-1.53-.27a4.44 4.44 0 0 0-.501-.29c-.447-.222-.85-.629-.997-1.189l-.289-1.105c-.029-.11-.101-.143-.137-.146a6.6 6.6 0 0 0-1.142 0ZM11 8a3 3 0 1 1-6 0 3 3 0 0 1 6 0ZM9.5 8a1.5 1.5 0 1 0-3.001.001A1.5 1.5 0 0 0 9.5 8Z"></path>
</svg>
        </span>
      
        <span data-view-component="true" class="ActionListItem-label">
          Settings
</span></a>
  
  
</li>
</ul>  
</div>

</div>
      
</div></anchored-position>  </focus-group>
</action-menu></div>
</nav>
      </div>
</header>


      <div hidden="hidden" data-view-component="true" class="js-stale-session-flash stale-session-flash flash flash-warn flash-full mb-3">
  
        <svg aria-hidden="true" height="16" viewBox="0 0 16 16" version="1.1" width="16" data-view-component="true" class="octicon octicon-alert">
    <path d="M6.457 1.047c.659-1.234 2.427-1.234 3.086 0l6.082 11.378A1.75 1.75 0 0 1 14.082 15H1.918a1.75 1.75 0 0 1-1.543-2.575Zm1.763.707a.25.25 0 0 0-.44 0L1.698 13.132a.25.25 0 0 0 .22.368h12.164a.25.25 0 0 0 .22-.368Zm.53 3.996v2.5a.75.75 0 0 1-1.5 0v-2.5a.75.75 0 0 1 1.5 0ZM9 11a1 1 0 1 1-2 0 1 1 0 0 1 2 0Z"></path>
</svg>
        <span class="js-stale-session-flash-signed-in" hidden>You signed in with another tab or window. <a class="Link--inTextBlock" href="">Reload</a> to refresh your session.</span>
        <span class="js-stale-session-flash-signed-out" hidden>You signed out in another tab or window. <a class="Link--inTextBlock" href="">Reload</a> to refresh your session.</span>
        <span class="js-stale-session-flash-switched" hidden>You switched accounts on another tab or window. <a class="Link--inTextBlock" href="">Reload</a> to refresh your session.</span>

    <button id="icon-button-2fe56d37-6e26-448f-a4dd-10ed2a7e5038" aria-labelledby="tooltip-4a26afd9-a251-43fd-8974-450d3349ef85" type="button" data-view-component="true" class="Button Button--iconOnly Button--invisible Button--medium flash-close js-flash-close">  <svg aria-hidden="true" height="16" viewBox="0 0 16 16" version="1.1" width="16" data-view-component="true" class="octicon octicon-x Button-visual">
    <path d="M3.72 3.72a.75.75 0 0 1 1.06 0L8 6.94l3.22-3.22a.749.749 0 0 1 1.275.326.749.749 0 0 1-.215.734L9.06 8l3.22 3.22a.749.749 0 0 1-.326 1.275.749.749 0 0 1-.734-.215L8 9.06l-3.22 3.22a.751.751 0 0 1-1.042-.018.751.751 0 0 1-.018-1.042L6.94 8 3.72 4.78a.75.75 0 0 1 0-1.06Z"></path>
</svg>
</button><tool-tip id="tooltip-4a26afd9-a251-43fd-8974-450d3349ef85" for="icon-button-2fe56d37-6e26-448f-a4dd-10ed2a7e5038" popover="manual" data-direction="s" data-type="label" data-view-component="true" class="sr-only position-absolute">Dismiss alert</tool-tip>


  
</div>
          
    </div>

  <div id="start-of-content" class="show-on-focus"></div>








    <div id="js-flash-container" data-turbo-replace>





  <template class="js-flash-template">
    
<div class="flash flash-full   {{ className }}">
  <div class="px-2" >
    <button autofocus class="flash-close js-flash-close" type="button" aria-label="Dismiss this message">
      <svg aria-hidden="true" height="16" viewBox="0 0 16 16" version="1.1" width="16" data-view-component="true" class="octicon octicon-x">
    <path d="M3.72 3.72a.75.75 0 0 1 1.06 0L8 6.94l3.22-3.22a.749.749 0 0 1 1.275.326.749.749 0 0 1-.215.734L9.06 8l3.22 3.22a.749.749 0 0 1-.326 1.275.749.749 0 0 1-.734-.215L8 9.06l-3.22 3.22a.751.751 0 0 1-1.042-.018.751.751 0 0 1-.018-1.042L6.94 8 3.72 4.78a.75.75 0 0 1 0-1.06Z"></path>
</svg>
    </button>
    <div aria-atomic="true" role="alert" class="js-flash-alert">
      
      <div>{{ message }}</div>

    </div>
  </div>
</div>
  </template>
</div>


    
    <notification-shelf-watcher data-base-url="https://github.com/notifications/beta/shelf" data-channel="eyJjIjoibm90aWZpY2F0aW9uLWNoYW5nZWQ6MTIwMTA3MzgiLCJ0IjoxNzA4OTM3NjQ4fQ==--a812e5b0cb567091fa59f46dc286e251d15aec6cce6778071a43a104e7b61b41" data-view-component="true" class="js-socket-channel"></notification-shelf-watcher>
  <div hidden data-initial data-target="notification-shelf-watcher.placeholder"></div>






      <details
  class="details-reset details-overlay details-overlay-dark js-command-palette-dialog"
  id="command-palette-pjax-container"
  data-turbo-replace
>
  <summary aria-label="Command palette trigger" tabindex="-1"></summary>
  <details-dialog class="command-palette-details-dialog d-flex flex-column flex-justify-center height-fit" aria-label="Command palette">
    <command-palette
      class="command-palette color-bg-default rounded-3 border color-shadow-small"
      return-to=/Marcib/Adatb-zis/blob/master/korsz_adatbgyak02.ipynb
      user-id="12010738"
      activation-hotkey="Mod+k,Mod+Alt+k"
      command-mode-hotkey="Mod+Shift+K"
      data-action="
        command-palette-input-ready:command-palette#inputReady
        command-palette-page-stack-updated:command-palette#updateInputScope
        itemsUpdated:command-palette#itemsUpdated
        keydown:command-palette#onKeydown
        loadingStateChanged:command-palette#loadingStateChanged
        selectedItemChanged:command-palette#selectedItemChanged
        pageFetchError:command-palette#pageFetchError
      ">

        <command-palette-mode
          data-char="#"
            data-scope-types="[&quot;&quot;]"
            data-placeholder="Search issues and pull requests"
        ></command-palette-mode>
        <command-palette-mode
          data-char="#"
            data-scope-types="[&quot;owner&quot;,&quot;repository&quot;]"
            data-placeholder="Search issues, pull requests, discussions, and projects"
        ></command-palette-mode>
        <command-palette-mode
          data-char="!"
            data-scope-types="[&quot;owner&quot;,&quot;repository&quot;]"
            data-placeholder="Search projects"
        ></command-palette-mode>
        <command-palette-mode
          data-char="@"
            data-scope-types="[&quot;&quot;]"
            data-placeholder="Search or jump to a user, organization, or repository"
        ></command-palette-mode>
        <command-palette-mode
          data-char="@"
            data-scope-types="[&quot;owner&quot;]"
            data-placeholder="Search or jump to a repository"
        ></command-palette-mode>
        <command-palette-mode
          data-char="/"
            data-scope-types="[&quot;repository&quot;]"
            data-placeholder="Search files"
        ></command-palette-mode>
        <command-palette-mode
          data-char="?"
        ></command-palette-mode>
        <command-palette-mode
          data-char="&gt;"
            data-placeholder="Run a command"
        ></command-palette-mode>
        <command-palette-mode
          data-char=""
            data-scope-types="[&quot;&quot;]"
            data-placeholder="Search or jump to..."
        ></command-palette-mode>
        <command-palette-mode
          data-char=""
            data-scope-types="[&quot;owner&quot;]"
            data-placeholder="Search or jump to..."
        ></command-palette-mode>
      <command-palette-mode
        class="js-command-palette-default-mode"
        data-char=""
        data-placeholder="Search or jump to..."
      ></command-palette-mode>

      <command-palette-input placeholder="Search or jump to..."

        data-action="
          command-palette-input:command-palette#onInput
          command-palette-select:command-palette#onSelect
          command-palette-descope:command-palette#onDescope
          command-palette-cleared:command-palette#onInputClear
        "
      >
        <div class="js-search-icon d-flex flex-items-center mr-2" style="height: 26px">
          <svg aria-hidden="true" height="16" viewBox="0 0 16 16" version="1.1" width="16" data-view-component="true" class="octicon octicon-search color-fg-muted">
    <path d="M10.68 11.74a6 6 0 0 1-7.922-8.982 6 6 0 0 1 8.982 7.922l3.04 3.04a.749.749 0 0 1-.326 1.275.749.749 0 0 1-.734-.215ZM11.5 7a4.499 4.499 0 1 0-8.997 0A4.499 4.499 0 0 0 11.5 7Z"></path>
</svg>
        </div>
        <div class="js-spinner d-flex flex-items-center mr-2 color-fg-muted" hidden>
          <svg aria-label="Loading" class="anim-rotate" viewBox="0 0 16 16" fill="none" width="16" height="16">
            <circle
              cx="8"
              cy="8"
              r="7"
              stroke="currentColor"
              stroke-opacity="0.25"
              stroke-width="2"
              vector-effect="non-scaling-stroke"
            ></circle>
            <path
              d="M15 8a7.002 7.002 0 00-7-7"
              stroke="currentColor"
              stroke-width="2"
              stroke-linecap="round"
              vector-effect="non-scaling-stroke"
            ></path>
          </svg>
        </div>
        <command-palette-scope >
          <div data-target="command-palette-scope.placeholder" hidden class="color-fg-subtle">/&nbsp;&nbsp;<span class="text-semibold color-fg-default">...</span>&nbsp;&nbsp;/&nbsp;&nbsp;</div>
              <command-palette-token
                data-text="Marcib"
                data-id="MDQ6VXNlcjEyMDEwNzM4"
                data-type="owner"
                data-value="Marcib"
                data-targets="command-palette-scope.tokens"
                class="color-fg-default text-semibold"
                style="white-space:nowrap;line-height:20px;"
                >Marcib<span class="color-fg-subtle text-normal">&nbsp;&nbsp;/&nbsp;&nbsp;</span></command-palette-token>
              <command-palette-token
                data-text="Adatb-zis"
                data-id="R_kgDOLUkgfw"
                data-type="repository"
                data-value="Adatb-zis"
                data-targets="command-palette-scope.tokens"
                class="color-fg-default text-semibold"
                style="white-space:nowrap;line-height:20px;"
                >Adatb-zis<span class="color-fg-subtle text-normal">&nbsp;&nbsp;/&nbsp;&nbsp;</span></command-palette-token>
        </command-palette-scope>
        <div class="command-palette-input-group flex-1 form-control border-0 box-shadow-none" style="z-index: 0">
          <div class="command-palette-typeahead position-absolute d-flex flex-items-center Truncate">
            <span class="typeahead-segment input-mirror" data-target="command-palette-input.mirror"></span>
            <span class="Truncate-text" data-target="command-palette-input.typeaheadText"></span>
            <span class="typeahead-segment" data-target="command-palette-input.typeaheadPlaceholder"></span>
          </div>
          <input
            class="js-overlay-input typeahead-input d-none"
            disabled
            tabindex="-1"
            aria-label="Hidden input for typeahead"
          >
          <input
            type="text"
            autocomplete="off"
            autocorrect="off"
            autocapitalize="off"
            spellcheck="false"
            class="js-input typeahead-input form-control border-0 box-shadow-none input-block width-full no-focus-indicator"
            aria-label="Command palette input"
            aria-haspopup="listbox"
            aria-expanded="false"
            aria-autocomplete="list"
            aria-controls="command-palette-page-stack"
            role="combobox"
            data-action="
              input:command-palette-input#onInput
              keydown:command-palette-input#onKeydown
            "
          >
        </div>
          <div data-view-component="true" class="position-relative d-inline-block">
    <button aria-keyshortcuts="Control+Backspace" data-action="click:command-palette-input#onClear keypress:command-palette-input#onClear" data-target="command-palette-input.clearButton" id="command-palette-clear-button" hidden="hidden" type="button" data-view-component="true" class="btn-octicon command-palette-input-clear-button">      <svg aria-hidden="true" height="16" viewBox="0 0 16 16" version="1.1" width="16" data-view-component="true" class="octicon octicon-x-circle-fill">
    <path d="M2.343 13.657A8 8 0 1 1 13.658 2.343 8 8 0 0 1 2.343 13.657ZM6.03 4.97a.751.751 0 0 0-1.042.018.751.751 0 0 0-.018 1.042L6.94 8 4.97 9.97a.749.749 0 0 0 .326 1.275.749.749 0 0 0 .734-.215L8 9.06l1.97 1.97a.749.749 0 0 0 1.275-.326.749.749 0 0 0-.215-.734L9.06 8l1.97-1.97a.749.749 0 0 0-.326-1.275.749.749 0 0 0-.734.215L8 6.94Z"></path>
</svg>
</button>    <tool-tip id="tooltip-611447c0-119a-4c6f-8e41-4bbd1c99b5d2" for="command-palette-clear-button" popover="manual" data-direction="w" data-type="label" data-view-component="true" class="sr-only position-absolute">Clear Command Palette</tool-tip>
</div>
      </command-palette-input>

      <command-palette-page-stack
        data-default-scope-id="R_kgDOLUkgfw"
        data-default-scope-type="Repository"
        data-action="command-palette-page-octicons-cached:command-palette-page-stack#cacheOcticons"
      >
          <command-palette-tip
            class="color-fg-muted f6 px-3 py-1 my-2"
              data-scope-types="[&quot;&quot;,&quot;owner&quot;,&quot;repository&quot;]"
            data-mode=""
            data-value="">
            <div class="d-flex flex-items-start flex-justify-between">
              <div>
                <span class="text-bold">Tip:</span>
                  Type <kbd class="hx_kbd">#</kbd> to search pull requests
              </div>
              <div class="ml-2 flex-shrink-0">
                Type <kbd class="hx_kbd">?</kbd> for help and tips
              </div>
            </div>
          </command-palette-tip>
          <command-palette-tip
            class="color-fg-muted f6 px-3 py-1 my-2"
              data-scope-types="[&quot;&quot;,&quot;owner&quot;,&quot;repository&quot;]"
            data-mode=""
            data-value="">
            <div class="d-flex flex-items-start flex-justify-between">
              <div>
                <span class="text-bold">Tip:</span>
                  Type <kbd class="hx_kbd">#</kbd> to search issues
              </div>
              <div class="ml-2 flex-shrink-0">
                Type <kbd class="hx_kbd">?</kbd> for help and tips
              </div>
            </div>
          </command-palette-tip>
          <command-palette-tip
            class="color-fg-muted f6 px-3 py-1 my-2"
              data-scope-types="[&quot;owner&quot;,&quot;repository&quot;]"
            data-mode=""
            data-value="">
            <div class="d-flex flex-items-start flex-justify-between">
              <div>
                <span class="text-bold">Tip:</span>
                  Type <kbd class="hx_kbd">#</kbd> to search discussions
              </div>
              <div class="ml-2 flex-shrink-0">
                Type <kbd class="hx_kbd">?</kbd> for help and tips
              </div>
            </div>
          </command-palette-tip>
          <command-palette-tip
            class="color-fg-muted f6 px-3 py-1 my-2"
              data-scope-types="[&quot;owner&quot;,&quot;repository&quot;]"
            data-mode=""
            data-value="">
            <div class="d-flex flex-items-start flex-justify-between">
              <div>
                <span class="text-bold">Tip:</span>
                  Type <kbd class="hx_kbd">!</kbd> to search projects
              </div>
              <div class="ml-2 flex-shrink-0">
                Type <kbd class="hx_kbd">?</kbd> for help and tips
              </div>
            </div>
          </command-palette-tip>
          <command-palette-tip
            class="color-fg-muted f6 px-3 py-1 my-2"
              data-scope-types="[&quot;owner&quot;]"
            data-mode=""
            data-value="">
            <div class="d-flex flex-items-start flex-justify-between">
              <div>
                <span class="text-bold">Tip:</span>
                  Type <kbd class="hx_kbd">@</kbd> to search teams
              </div>
              <div class="ml-2 flex-shrink-0">
                Type <kbd class="hx_kbd">?</kbd> for help and tips
              </div>
            </div>
          </command-palette-tip>
          <command-palette-tip
            class="color-fg-muted f6 px-3 py-1 my-2"
              data-scope-types="[&quot;&quot;]"
            data-mode=""
            data-value="">
            <div class="d-flex flex-items-start flex-justify-between">
              <div>
                <span class="text-bold">Tip:</span>
                  Type <kbd class="hx_kbd">@</kbd> to search people and organizations
              </div>
              <div class="ml-2 flex-shrink-0">
                Type <kbd class="hx_kbd">?</kbd> for help and tips
              </div>
            </div>
          </command-palette-tip>
          <command-palette-tip
            class="color-fg-muted f6 px-3 py-1 my-2"
              data-scope-types="[&quot;&quot;,&quot;owner&quot;,&quot;repository&quot;]"
            data-mode=""
            data-value="">
            <div class="d-flex flex-items-start flex-justify-between">
              <div>
                <span class="text-bold">Tip:</span>
                  Type <kbd class="hx_kbd">&gt;</kbd> to activate command mode
              </div>
              <div class="ml-2 flex-shrink-0">
                Type <kbd class="hx_kbd">?</kbd> for help and tips
              </div>
            </div>
          </command-palette-tip>
          <command-palette-tip
            class="color-fg-muted f6 px-3 py-1 my-2"
              data-scope-types="[&quot;&quot;,&quot;owner&quot;,&quot;repository&quot;]"
            data-mode=""
            data-value="">
            <div class="d-flex flex-items-start flex-justify-between">
              <div>
                <span class="text-bold">Tip:</span>
                  Go to your accessibility settings to change your keyboard shortcuts
              </div>
              <div class="ml-2 flex-shrink-0">
                Type <kbd class="hx_kbd">?</kbd> for help and tips
              </div>
            </div>
          </command-palette-tip>
          <command-palette-tip
            class="color-fg-muted f6 px-3 py-1 my-2"
              data-scope-types="[&quot;&quot;,&quot;owner&quot;,&quot;repository&quot;]"
            data-mode="#"
            data-value="">
            <div class="d-flex flex-items-start flex-justify-between">
              <div>
                <span class="text-bold">Tip:</span>
                  Type author:@me to search your content
              </div>
              <div class="ml-2 flex-shrink-0">
                Type <kbd class="hx_kbd">?</kbd> for help and tips
              </div>
            </div>
          </command-palette-tip>
          <command-palette-tip
            class="color-fg-muted f6 px-3 py-1 my-2"
              data-scope-types="[&quot;&quot;,&quot;owner&quot;,&quot;repository&quot;]"
            data-mode="#"
            data-value="">
            <div class="d-flex flex-items-start flex-justify-between">
              <div>
                <span class="text-bold">Tip:</span>
                  Type is:pr to filter to pull requests
              </div>
              <div class="ml-2 flex-shrink-0">
                Type <kbd class="hx_kbd">?</kbd> for help and tips
              </div>
            </div>
          </command-palette-tip>
          <command-palette-tip
            class="color-fg-muted f6 px-3 py-1 my-2"
              data-scope-types="[&quot;&quot;,&quot;owner&quot;,&quot;repository&quot;]"
            data-mode="#"
            data-value="">
            <div class="d-flex flex-items-start flex-justify-between">
              <div>
                <span class="text-bold">Tip:</span>
                  Type is:issue to filter to issues
              </div>
              <div class="ml-2 flex-shrink-0">
                Type <kbd class="hx_kbd">?</kbd> for help and tips
              </div>
            </div>
          </command-palette-tip>
          <command-palette-tip
            class="color-fg-muted f6 px-3 py-1 my-2"
              data-scope-types="[&quot;owner&quot;,&quot;repository&quot;]"
            data-mode="#"
            data-value="">
            <div class="d-flex flex-items-start flex-justify-between">
              <div>
                <span class="text-bold">Tip:</span>
                  Type is:project to filter to projects
              </div>
              <div class="ml-2 flex-shrink-0">
                Type <kbd class="hx_kbd">?</kbd> for help and tips
              </div>
            </div>
          </command-palette-tip>
          <command-palette-tip
            class="color-fg-muted f6 px-3 py-1 my-2"
              data-scope-types="[&quot;&quot;,&quot;owner&quot;,&quot;repository&quot;]"
            data-mode="#"
            data-value="">
            <div class="d-flex flex-items-start flex-justify-between">
              <div>
                <span class="text-bold">Tip:</span>
                  Type is:open to filter to open content
              </div>
              <div class="ml-2 flex-shrink-0">
                Type <kbd class="hx_kbd">?</kbd> for help and tips
              </div>
            </div>
          </command-palette-tip>
        <command-palette-tip class="mx-3 my-2 flash flash-error d-flex flex-items-center" data-scope-types="*" data-on-error>
          <div>
            <svg aria-hidden="true" height="16" viewBox="0 0 16 16" version="1.1" width="16" data-view-component="true" class="octicon octicon-alert">
    <path d="M6.457 1.047c.659-1.234 2.427-1.234 3.086 0l6.082 11.378A1.75 1.75 0 0 1 14.082 15H1.918a1.75 1.75 0 0 1-1.543-2.575Zm1.763.707a.25.25 0 0 0-.44 0L1.698 13.132a.25.25 0 0 0 .22.368h12.164a.25.25 0 0 0 .22-.368Zm.53 3.996v2.5a.75.75 0 0 1-1.5 0v-2.5a.75.75 0 0 1 1.5 0ZM9 11a1 1 0 1 1-2 0 1 1 0 0 1 2 0Z"></path>
</svg>
          </div>
          <div class="px-2">
            We’ve encountered an error and some results aren't available at this time. Type a new search or try again later.
          </div>
        </command-palette-tip>
        <command-palette-tip class="h4 color-fg-default pl-3 pb-2 pt-3" data-on-empty data-scope-types="*" data-match-mode="[^?]|^$">
          No results matched your search
        </command-palette-tip>

        <div hidden>

            <div data-targets="command-palette-page-stack.localOcticons" data-octicon-id="arrow-right-color-fg-muted">
              <svg height="16" class="octicon octicon-arrow-right color-fg-muted" viewBox="0 0 16 16" version="1.1" width="16" aria-hidden="true"><path d="M8.22 2.97a.75.75 0 0 1 1.06 0l4.25 4.25a.75.75 0 0 1 0 1.06l-4.25 4.25a.751.751 0 0 1-1.042-.018.751.751 0 0 1-.018-1.042l2.97-2.97H3.75a.75.75 0 0 1 0-1.5h7.44L8.22 4.03a.75.75 0 0 1 0-1.06Z"></path></svg>
            </div>
            <div data-targets="command-palette-page-stack.localOcticons" data-octicon-id="arrow-right-color-fg-default">
              <svg height="16" class="octicon octicon-arrow-right color-fg-default" viewBox="0 0 16 16" version="1.1" width="16" aria-hidden="true"><path d="M8.22 2.97a.75.75 0 0 1 1.06 0l4.25 4.25a.75.75 0 0 1 0 1.06l-4.25 4.25a.751.751 0 0 1-1.042-.018.751.751 0 0 1-.018-1.042l2.97-2.97H3.75a.75.75 0 0 1 0-1.5h7.44L8.22 4.03a.75.75 0 0 1 0-1.06Z"></path></svg>
            </div>
            <div data-targets="command-palette-page-stack.localOcticons" data-octicon-id="codespaces-color-fg-muted">
              <svg height="16" class="octicon octicon-codespaces color-fg-muted" viewBox="0 0 16 16" version="1.1" width="16" aria-hidden="true"><path d="M0 11.25c0-.966.784-1.75 1.75-1.75h12.5c.966 0 1.75.784 1.75 1.75v3A1.75 1.75 0 0 1 14.25 16H1.75A1.75 1.75 0 0 1 0 14.25Zm2-9.5C2 .784 2.784 0 3.75 0h8.5C13.216 0 14 .784 14 1.75v5a1.75 1.75 0 0 1-1.75 1.75h-8.5A1.75 1.75 0 0 1 2 6.75Zm1.75-.25a.25.25 0 0 0-.25.25v5c0 .138.112.25.25.25h8.5a.25.25 0 0 0 .25-.25v-5a.25.25 0 0 0-.25-.25Zm-2 9.5a.25.25 0 0 0-.25.25v3c0 .138.112.25.25.25h12.5a.25.25 0 0 0 .25-.25v-3a.25.25 0 0 0-.25-.25Z"></path><path d="M7 12.75a.75.75 0 0 1 .75-.75h4.5a.75.75 0 0 1 0 1.5h-4.5a.75.75 0 0 1-.75-.75Zm-4 0a.75.75 0 0 1 .75-.75h.5a.75.75 0 0 1 0 1.5h-.5a.75.75 0 0 1-.75-.75Z"></path></svg>
            </div>
            <div data-targets="command-palette-page-stack.localOcticons" data-octicon-id="copy-color-fg-muted">
              <svg height="16" class="octicon octicon-copy color-fg-muted" viewBox="0 0 16 16" version="1.1" width="16" aria-hidden="true"><path d="M0 6.75C0 5.784.784 5 1.75 5h1.5a.75.75 0 0 1 0 1.5h-1.5a.25.25 0 0 0-.25.25v7.5c0 .138.112.25.25.25h7.5a.25.25 0 0 0 .25-.25v-1.5a.75.75 0 0 1 1.5 0v1.5A1.75 1.75 0 0 1 9.25 16h-7.5A1.75 1.75 0 0 1 0 14.25Z"></path><path d="M5 1.75C5 .784 5.784 0 6.75 0h7.5C15.216 0 16 .784 16 1.75v7.5A1.75 1.75 0 0 1 14.25 11h-7.5A1.75 1.75 0 0 1 5 9.25Zm1.75-.25a.25.25 0 0 0-.25.25v7.5c0 .138.112.25.25.25h7.5a.25.25 0 0 0 .25-.25v-7.5a.25.25 0 0 0-.25-.25Z"></path></svg>
            </div>
            <div data-targets="command-palette-page-stack.localOcticons" data-octicon-id="dash-color-fg-muted">
              <svg height="16" class="octicon octicon-dash color-fg-muted" viewBox="0 0 16 16" version="1.1" width="16" aria-hidden="true"><path d="M2 7.75A.75.75 0 0 1 2.75 7h10a.75.75 0 0 1 0 1.5h-10A.75.75 0 0 1 2 7.75Z"></path></svg>
            </div>
            <div data-targets="command-palette-page-stack.localOcticons" data-octicon-id="file-color-fg-muted">
              <svg height="16" class="octicon octicon-file color-fg-muted" viewBox="0 0 16 16" version="1.1" width="16" aria-hidden="true"><path d="M2 1.75C2 .784 2.784 0 3.75 0h6.586c.464 0 .909.184 1.237.513l2.914 2.914c.329.328.513.773.513 1.237v9.586A1.75 1.75 0 0 1 13.25 16h-9.5A1.75 1.75 0 0 1 2 14.25Zm1.75-.25a.25.25 0 0 0-.25.25v12.5c0 .138.112.25.25.25h9.5a.25.25 0 0 0 .25-.25V6h-2.75A1.75 1.75 0 0 1 9 4.25V1.5Zm6.75.062V4.25c0 .138.112.25.25.25h2.688l-.011-.013-2.914-2.914-.013-.011Z"></path></svg>
            </div>
            <div data-targets="command-palette-page-stack.localOcticons" data-octicon-id="gear-color-fg-muted">
              <svg height="16" class="octicon octicon-gear color-fg-muted" viewBox="0 0 16 16" version="1.1" width="16" aria-hidden="true"><path d="M8 0a8.2 8.2 0 0 1 .701.031C9.444.095 9.99.645 10.16 1.29l.288 1.107c.018.066.079.158.212.224.231.114.454.243.668.386.123.082.233.09.299.071l1.103-.303c.644-.176 1.392.021 1.82.63.27.385.506.792.704 1.218.315.675.111 1.422-.364 1.891l-.814.806c-.049.048-.098.147-.088.294.016.257.016.515 0 .772-.01.147.038.246.088.294l.814.806c.475.469.679 1.216.364 1.891a7.977 7.977 0 0 1-.704 1.217c-.428.61-1.176.807-1.82.63l-1.102-.302c-.067-.019-.177-.011-.3.071a5.909 5.909 0 0 1-.668.386c-.133.066-.194.158-.211.224l-.29 1.106c-.168.646-.715 1.196-1.458 1.26a8.006 8.006 0 0 1-1.402 0c-.743-.064-1.289-.614-1.458-1.26l-.289-1.106c-.018-.066-.079-.158-.212-.224a5.738 5.738 0 0 1-.668-.386c-.123-.082-.233-.09-.299-.071l-1.103.303c-.644.176-1.392-.021-1.82-.63a8.12 8.12 0 0 1-.704-1.218c-.315-.675-.111-1.422.363-1.891l.815-.806c.05-.048.098-.147.088-.294a6.214 6.214 0 0 1 0-.772c.01-.147-.038-.246-.088-.294l-.815-.806C.635 6.045.431 5.298.746 4.623a7.92 7.92 0 0 1 .704-1.217c.428-.61 1.176-.807 1.82-.63l1.102.302c.067.019.177.011.3-.071.214-.143.437-.272.668-.386.133-.066.194-.158.211-.224l.29-1.106C6.009.645 6.556.095 7.299.03 7.53.01 7.764 0 8 0Zm-.571 1.525c-.036.003-.108.036-.137.146l-.289 1.105c-.147.561-.549.967-.998 1.189-.173.086-.34.183-.5.29-.417.278-.97.423-1.529.27l-1.103-.303c-.109-.03-.175.016-.195.045-.22.312-.412.644-.573.99-.014.031-.021.11.059.19l.815.806c.411.406.562.957.53 1.456a4.709 4.709 0 0 0 0 .582c.032.499-.119 1.05-.53 1.456l-.815.806c-.081.08-.073.159-.059.19.162.346.353.677.573.989.02.03.085.076.195.046l1.102-.303c.56-.153 1.113-.008 1.53.27.161.107.328.204.501.29.447.222.85.629.997 1.189l.289 1.105c.029.109.101.143.137.146a6.6 6.6 0 0 0 1.142 0c.036-.003.108-.036.137-.146l.289-1.105c.147-.561.549-.967.998-1.189.173-.086.34-.183.5-.29.417-.278.97-.423 1.529-.27l1.103.303c.109.029.175-.016.195-.045.22-.313.411-.644.573-.99.014-.031.021-.11-.059-.19l-.815-.806c-.411-.406-.562-.957-.53-1.456a4.709 4.709 0 0 0 0-.582c-.032-.499.119-1.05.53-1.456l.815-.806c.081-.08.073-.159.059-.19a6.464 6.464 0 0 0-.573-.989c-.02-.03-.085-.076-.195-.046l-1.102.303c-.56.153-1.113.008-1.53-.27a4.44 4.44 0 0 0-.501-.29c-.447-.222-.85-.629-.997-1.189l-.289-1.105c-.029-.11-.101-.143-.137-.146a6.6 6.6 0 0 0-1.142 0ZM11 8a3 3 0 1 1-6 0 3 3 0 0 1 6 0ZM9.5 8a1.5 1.5 0 1 0-3.001.001A1.5 1.5 0 0 0 9.5 8Z"></path></svg>
            </div>
            <div data-targets="command-palette-page-stack.localOcticons" data-octicon-id="lock-color-fg-muted">
              <svg height="16" class="octicon octicon-lock color-fg-muted" viewBox="0 0 16 16" version="1.1" width="16" aria-hidden="true"><path d="M4 4a4 4 0 0 1 8 0v2h.25c.966 0 1.75.784 1.75 1.75v5.5A1.75 1.75 0 0 1 12.25 15h-8.5A1.75 1.75 0 0 1 2 13.25v-5.5C2 6.784 2.784 6 3.75 6H4Zm8.25 3.5h-8.5a.25.25 0 0 0-.25.25v5.5c0 .138.112.25.25.25h8.5a.25.25 0 0 0 .25-.25v-5.5a.25.25 0 0 0-.25-.25ZM10.5 6V4a2.5 2.5 0 1 0-5 0v2Z"></path></svg>
            </div>
            <div data-targets="command-palette-page-stack.localOcticons" data-octicon-id="moon-color-fg-muted">
              <svg height="16" class="octicon octicon-moon color-fg-muted" viewBox="0 0 16 16" version="1.1" width="16" aria-hidden="true"><path d="M9.598 1.591a.749.749 0 0 1 .785-.175 7.001 7.001 0 1 1-8.967 8.967.75.75 0 0 1 .961-.96 5.5 5.5 0 0 0 7.046-7.046.75.75 0 0 1 .175-.786Zm1.616 1.945a7 7 0 0 1-7.678 7.678 5.499 5.499 0 1 0 7.678-7.678Z"></path></svg>
            </div>
            <div data-targets="command-palette-page-stack.localOcticons" data-octicon-id="person-color-fg-muted">
              <svg height="16" class="octicon octicon-person color-fg-muted" viewBox="0 0 16 16" version="1.1" width="16" aria-hidden="true"><path d="M10.561 8.073a6.005 6.005 0 0 1 3.432 5.142.75.75 0 1 1-1.498.07 4.5 4.5 0 0 0-8.99 0 .75.75 0 0 1-1.498-.07 6.004 6.004 0 0 1 3.431-5.142 3.999 3.999 0 1 1 5.123 0ZM10.5 5a2.5 2.5 0 1 0-5 0 2.5 2.5 0 0 0 5 0Z"></path></svg>
            </div>
            <div data-targets="command-palette-page-stack.localOcticons" data-octicon-id="pencil-color-fg-muted">
              <svg height="16" class="octicon octicon-pencil color-fg-muted" viewBox="0 0 16 16" version="1.1" width="16" aria-hidden="true"><path d="M11.013 1.427a1.75 1.75 0 0 1 2.474 0l1.086 1.086a1.75 1.75 0 0 1 0 2.474l-8.61 8.61c-.21.21-.47.364-.756.445l-3.251.93a.75.75 0 0 1-.927-.928l.929-3.25c.081-.286.235-.547.445-.758l8.61-8.61Zm.176 4.823L9.75 4.81l-6.286 6.287a.253.253 0 0 0-.064.108l-.558 1.953 1.953-.558a.253.253 0 0 0 .108-.064Zm1.238-3.763a.25.25 0 0 0-.354 0L10.811 3.75l1.439 1.44 1.263-1.263a.25.25 0 0 0 0-.354Z"></path></svg>
            </div>
            <div data-targets="command-palette-page-stack.localOcticons" data-octicon-id="issue-opened-open">
              <svg height="16" class="octicon octicon-issue-opened open" viewBox="0 0 16 16" version="1.1" width="16" aria-hidden="true"><path d="M8 9.5a1.5 1.5 0 1 0 0-3 1.5 1.5 0 0 0 0 3Z"></path><path d="M8 0a8 8 0 1 1 0 16A8 8 0 0 1 8 0ZM1.5 8a6.5 6.5 0 1 0 13 0 6.5 6.5 0 0 0-13 0Z"></path></svg>
            </div>
            <div data-targets="command-palette-page-stack.localOcticons" data-octicon-id="git-pull-request-draft-color-fg-muted">
              <svg height="16" class="octicon octicon-git-pull-request-draft color-fg-muted" viewBox="0 0 16 16" version="1.1" width="16" aria-hidden="true"><path d="M3.25 1A2.25 2.25 0 0 1 4 5.372v5.256a2.251 2.251 0 1 1-1.5 0V5.372A2.251 2.251 0 0 1 3.25 1Zm9.5 14a2.25 2.25 0 1 1 0-4.5 2.25 2.25 0 0 1 0 4.5ZM2.5 3.25a.75.75 0 1 0 1.5 0 .75.75 0 0 0-1.5 0ZM3.25 12a.75.75 0 1 0 0 1.5.75.75 0 0 0 0-1.5Zm9.5 0a.75.75 0 1 0 0 1.5.75.75 0 0 0 0-1.5ZM14 7.5a1.25 1.25 0 1 1-2.5 0 1.25 1.25 0 0 1 2.5 0Zm0-4.25a1.25 1.25 0 1 1-2.5 0 1.25 1.25 0 0 1 2.5 0Z"></path></svg>
            </div>
            <div data-targets="command-palette-page-stack.localOcticons" data-octicon-id="search-color-fg-muted">
              <svg height="16" class="octicon octicon-search color-fg-muted" viewBox="0 0 16 16" version="1.1" width="16" aria-hidden="true"><path d="M10.68 11.74a6 6 0 0 1-7.922-8.982 6 6 0 0 1 8.982 7.922l3.04 3.04a.749.749 0 0 1-.326 1.275.749.749 0 0 1-.734-.215ZM11.5 7a4.499 4.499 0 1 0-8.997 0A4.499 4.499 0 0 0 11.5 7Z"></path></svg>
            </div>
            <div data-targets="command-palette-page-stack.localOcticons" data-octicon-id="sun-color-fg-muted">
              <svg height="16" class="octicon octicon-sun color-fg-muted" viewBox="0 0 16 16" version="1.1" width="16" aria-hidden="true"><path d="M8 12a4 4 0 1 1 0-8 4 4 0 0 1 0 8Zm0-1.5a2.5 2.5 0 1 0 0-5 2.5 2.5 0 0 0 0 5Zm5.657-8.157a.75.75 0 0 1 0 1.061l-1.061 1.06a.749.749 0 0 1-1.275-.326.749.749 0 0 1 .215-.734l1.06-1.06a.75.75 0 0 1 1.06 0Zm-9.193 9.193a.75.75 0 0 1 0 1.06l-1.06 1.061a.75.75 0 1 1-1.061-1.06l1.06-1.061a.75.75 0 0 1 1.061 0ZM8 0a.75.75 0 0 1 .75.75v1.5a.75.75 0 0 1-1.5 0V.75A.75.75 0 0 1 8 0ZM3 8a.75.75 0 0 1-.75.75H.75a.75.75 0 0 1 0-1.5h1.5A.75.75 0 0 1 3 8Zm13 0a.75.75 0 0 1-.75.75h-1.5a.75.75 0 0 1 0-1.5h1.5A.75.75 0 0 1 16 8Zm-8 5a.75.75 0 0 1 .75.75v1.5a.75.75 0 0 1-1.5 0v-1.5A.75.75 0 0 1 8 13Zm3.536-1.464a.75.75 0 0 1 1.06 0l1.061 1.06a.75.75 0 0 1-1.06 1.061l-1.061-1.06a.75.75 0 0 1 0-1.061ZM2.343 2.343a.75.75 0 0 1 1.061 0l1.06 1.061a.751.751 0 0 1-.018 1.042.751.751 0 0 1-1.042.018l-1.06-1.06a.75.75 0 0 1 0-1.06Z"></path></svg>
            </div>
            <div data-targets="command-palette-page-stack.localOcticons" data-octicon-id="sync-color-fg-muted">
              <svg height="16" class="octicon octicon-sync color-fg-muted" viewBox="0 0 16 16" version="1.1" width="16" aria-hidden="true"><path d="M1.705 8.005a.75.75 0 0 1 .834.656 5.5 5.5 0 0 0 9.592 2.97l-1.204-1.204a.25.25 0 0 1 .177-.427h3.646a.25.25 0 0 1 .25.25v3.646a.25.25 0 0 1-.427.177l-1.38-1.38A7.002 7.002 0 0 1 1.05 8.84a.75.75 0 0 1 .656-.834ZM8 2.5a5.487 5.487 0 0 0-4.131 1.869l1.204 1.204A.25.25 0 0 1 4.896 6H1.25A.25.25 0 0 1 1 5.75V2.104a.25.25 0 0 1 .427-.177l1.38 1.38A7.002 7.002 0 0 1 14.95 7.16a.75.75 0 0 1-1.49.178A5.5 5.5 0 0 0 8 2.5Z"></path></svg>
            </div>
            <div data-targets="command-palette-page-stack.localOcticons" data-octicon-id="trash-color-fg-muted">
              <svg height="16" class="octicon octicon-trash color-fg-muted" viewBox="0 0 16 16" version="1.1" width="16" aria-hidden="true"><path d="M11 1.75V3h2.25a.75.75 0 0 1 0 1.5H2.75a.75.75 0 0 1 0-1.5H5V1.75C5 .784 5.784 0 6.75 0h2.5C10.216 0 11 .784 11 1.75ZM4.496 6.675l.66 6.6a.25.25 0 0 0 .249.225h5.19a.25.25 0 0 0 .249-.225l.66-6.6a.75.75 0 0 1 1.492.149l-.66 6.6A1.748 1.748 0 0 1 10.595 15h-5.19a1.75 1.75 0 0 1-1.741-1.575l-.66-6.6a.75.75 0 1 1 1.492-.15ZM6.5 1.75V3h3V1.75a.25.25 0 0 0-.25-.25h-2.5a.25.25 0 0 0-.25.25Z"></path></svg>
            </div>
            <div data-targets="command-palette-page-stack.localOcticons" data-octicon-id="key-color-fg-muted">
              <svg height="16" class="octicon octicon-key color-fg-muted" viewBox="0 0 16 16" version="1.1" width="16" aria-hidden="true"><path d="M10.5 0a5.499 5.499 0 1 1-1.288 10.848l-.932.932a.749.749 0 0 1-.53.22H7v.75a.749.749 0 0 1-.22.53l-.5.5a.749.749 0 0 1-.53.22H5v.75a.749.749 0 0 1-.22.53l-.5.5a.749.749 0 0 1-.53.22h-2A1.75 1.75 0 0 1 0 14.25v-2c0-.199.079-.389.22-.53l4.932-4.932A5.5 5.5 0 0 1 10.5 0Zm-4 5.5c-.001.431.069.86.205 1.269a.75.75 0 0 1-.181.768L1.5 12.56v1.69c0 .138.112.25.25.25h1.69l.06-.06v-1.19a.75.75 0 0 1 .75-.75h1.19l.06-.06v-1.19a.75.75 0 0 1 .75-.75h1.19l1.023-1.025a.75.75 0 0 1 .768-.18A4 4 0 1 0 6.5 5.5ZM11 6a1 1 0 1 1 0-2 1 1 0 0 1 0 2Z"></path></svg>
            </div>
            <div data-targets="command-palette-page-stack.localOcticons" data-octicon-id="comment-discussion-color-fg-muted">
              <svg height="16" class="octicon octicon-comment-discussion color-fg-muted" viewBox="0 0 16 16" version="1.1" width="16" aria-hidden="true"><path d="M1.75 1h8.5c.966 0 1.75.784 1.75 1.75v5.5A1.75 1.75 0 0 1 10.25 10H7.061l-2.574 2.573A1.458 1.458 0 0 1 2 11.543V10h-.25A1.75 1.75 0 0 1 0 8.25v-5.5C0 1.784.784 1 1.75 1ZM1.5 2.75v5.5c0 .138.112.25.25.25h1a.75.75 0 0 1 .75.75v2.19l2.72-2.72a.749.749 0 0 1 .53-.22h3.5a.25.25 0 0 0 .25-.25v-5.5a.25.25 0 0 0-.25-.25h-8.5a.25.25 0 0 0-.25.25Zm13 2a.25.25 0 0 0-.25-.25h-.5a.75.75 0 0 1 0-1.5h.5c.966 0 1.75.784 1.75 1.75v5.5A1.75 1.75 0 0 1 14.25 12H14v1.543a1.458 1.458 0 0 1-2.487 1.03L9.22 12.28a.749.749 0 0 1 .326-1.275.749.749 0 0 1 .734.215l2.22 2.22v-2.19a.75.75 0 0 1 .75-.75h1a.25.25 0 0 0 .25-.25Z"></path></svg>
            </div>
            <div data-targets="command-palette-page-stack.localOcticons" data-octicon-id="bell-color-fg-muted">
              <svg height="16" class="octicon octicon-bell color-fg-muted" viewBox="0 0 16 16" version="1.1" width="16" aria-hidden="true"><path d="M8 16a2 2 0 0 0 1.985-1.75c.017-.137-.097-.25-.235-.25h-3.5c-.138 0-.252.113-.235.25A2 2 0 0 0 8 16ZM3 5a5 5 0 0 1 10 0v2.947c0 .05.015.098.042.139l1.703 2.555A1.519 1.519 0 0 1 13.482 13H2.518a1.516 1.516 0 0 1-1.263-2.36l1.703-2.554A.255.255 0 0 0 3 7.947Zm5-3.5A3.5 3.5 0 0 0 4.5 5v2.947c0 .346-.102.683-.294.97l-1.703 2.556a.017.017 0 0 0-.003.01l.001.006c0 .002.002.004.004.006l.006.004.007.001h10.964l.007-.001.006-.004.004-.006.001-.007a.017.017 0 0 0-.003-.01l-1.703-2.554a1.745 1.745 0 0 1-.294-.97V5A3.5 3.5 0 0 0 8 1.5Z"></path></svg>
            </div>
            <div data-targets="command-palette-page-stack.localOcticons" data-octicon-id="bell-slash-color-fg-muted">
              <svg height="16" class="octicon octicon-bell-slash color-fg-muted" viewBox="0 0 16 16" version="1.1" width="16" aria-hidden="true"><path d="m4.182 4.31.016.011 10.104 7.316.013.01 1.375.996a.75.75 0 1 1-.88 1.214L13.626 13H2.518a1.516 1.516 0 0 1-1.263-2.36l1.703-2.554A.255.255 0 0 0 3 7.947V5.305L.31 3.357a.75.75 0 1 1 .88-1.214Zm7.373 7.19L4.5 6.391v1.556c0 .346-.102.683-.294.97l-1.703 2.556a.017.017 0 0 0-.003.01c0 .005.002.009.005.012l.006.004.007.001ZM8 1.5c-.997 0-1.895.416-2.534 1.086A.75.75 0 1 1 4.38 1.55 5 5 0 0 1 13 5v2.373a.75.75 0 0 1-1.5 0V5A3.5 3.5 0 0 0 8 1.5ZM8 16a2 2 0 0 1-1.985-1.75c-.017-.137.097-.25.235-.25h3.5c.138 0 .252.113.235.25A2 2 0 0 1 8 16Z"></path></svg>
            </div>
            <div data-targets="command-palette-page-stack.localOcticons" data-octicon-id="paintbrush-color-fg-muted">
              <svg height="16" class="octicon octicon-paintbrush color-fg-muted" viewBox="0 0 16 16" version="1.1" width="16" aria-hidden="true"><path d="M11.134 1.535c.7-.509 1.416-.942 2.076-1.155.649-.21 1.463-.267 2.069.34.603.601.568 1.411.368 2.07-.202.668-.624 1.39-1.125 2.096-1.011 1.424-2.496 2.987-3.775 4.249-1.098 1.084-2.132 1.839-3.04 2.3a3.744 3.744 0 0 1-1.055 3.217c-.431.431-1.065.691-1.657.861-.614.177-1.294.287-1.914.357A21.151 21.151 0 0 1 .797 16H.743l.007-.75H.749L.742 16a.75.75 0 0 1-.743-.742l.743-.008-.742.007v-.054a21.25 21.25 0 0 1 .13-2.284c.067-.647.187-1.287.358-1.914.17-.591.43-1.226.86-1.657a3.746 3.746 0 0 1 3.227-1.054c.466-.893 1.225-1.907 2.314-2.982 1.271-1.255 2.833-2.75 4.245-3.777ZM1.62 13.089c-.051.464-.086.929-.104 1.395.466-.018.932-.053 1.396-.104a10.511 10.511 0 0 0 1.668-.309c.526-.151.856-.325 1.011-.48a2.25 2.25 0 1 0-3.182-3.182c-.155.155-.329.485-.48 1.01a10.515 10.515 0 0 0-.309 1.67Zm10.396-10.34c-1.224.89-2.605 2.189-3.822 3.384l1.718 1.718c1.21-1.205 2.51-2.597 3.387-3.833.47-.662.78-1.227.912-1.662.134-.444.032-.551.009-.575h-.001V1.78c-.014-.014-.113-.113-.548.027-.432.14-.995.462-1.655.942Zm-4.832 7.266-.001.001a9.859 9.859 0 0 0 1.63-1.142L7.155 7.216a9.7 9.7 0 0 0-1.161 1.607c.482.302.889.71 1.19 1.192Z"></path></svg>
            </div>

            <command-palette-item-group
              data-group-id="top"
              data-group-title="Top result"
              data-group-hint=""
              data-group-limits="{}"
              data-default-priority="0"
            >
            </command-palette-item-group>
            <command-palette-item-group
              data-group-id="commands"
              data-group-title="Commands"
              data-group-hint="Type &gt; to filter"
              data-group-limits="{&quot;static_items_page&quot;:50,&quot;issue&quot;:50,&quot;pull_request&quot;:50,&quot;discussion&quot;:50}"
              data-default-priority="1"
            >
            </command-palette-item-group>
            <command-palette-item-group
              data-group-id="global_commands"
              data-group-title="Global Commands"
              data-group-hint="Type &gt; to filter"
              data-group-limits="{&quot;issue&quot;:0,&quot;pull_request&quot;:0,&quot;discussion&quot;:0}"
              data-default-priority="2"
            >
            </command-palette-item-group>
            <command-palette-item-group
              data-group-id="this_page"
              data-group-title="This Page"
              data-group-hint=""
              data-group-limits="{}"
              data-default-priority="3"
            >
            </command-palette-item-group>
            <command-palette-item-group
              data-group-id="files"
              data-group-title="Files"
              data-group-hint=""
              data-group-limits="{}"
              data-default-priority="4"
            >
            </command-palette-item-group>
            <command-palette-item-group
              data-group-id="default"
              data-group-title="Default"
              data-group-hint=""
              data-group-limits="{&quot;static_items_page&quot;:50}"
              data-default-priority="5"
            >
            </command-palette-item-group>
            <command-palette-item-group
              data-group-id="pages"
              data-group-title="Pages"
              data-group-hint=""
              data-group-limits="{&quot;repository&quot;:10}"
              data-default-priority="6"
            >
            </command-palette-item-group>
            <command-palette-item-group
              data-group-id="access_policies"
              data-group-title="Access Policies"
              data-group-hint=""
              data-group-limits="{}"
              data-default-priority="7"
            >
            </command-palette-item-group>
            <command-palette-item-group
              data-group-id="organizations"
              data-group-title="Organizations"
              data-group-hint=""
              data-group-limits="{}"
              data-default-priority="8"
            >
            </command-palette-item-group>
            <command-palette-item-group
              data-group-id="repositories"
              data-group-title="Repositories"
              data-group-hint=""
              data-group-limits="{}"
              data-default-priority="9"
            >
            </command-palette-item-group>
            <command-palette-item-group
              data-group-id="references"
              data-group-title="Issues, pull requests, and discussions"
              data-group-hint="Type # to filter"
              data-group-limits="{}"
              data-default-priority="10"
            >
            </command-palette-item-group>
            <command-palette-item-group
              data-group-id="teams"
              data-group-title="Teams"
              data-group-hint=""
              data-group-limits="{}"
              data-default-priority="11"
            >
            </command-palette-item-group>
            <command-palette-item-group
              data-group-id="users"
              data-group-title="Users"
              data-group-hint=""
              data-group-limits="{}"
              data-default-priority="12"
            >
            </command-palette-item-group>
            <command-palette-item-group
              data-group-id="memex_projects"
              data-group-title="Projects"
              data-group-hint=""
              data-group-limits="{}"
              data-default-priority="13"
            >
            </command-palette-item-group>
            <command-palette-item-group
              data-group-id="projects"
              data-group-title="Projects (classic)"
              data-group-hint=""
              data-group-limits="{}"
              data-default-priority="14"
            >
            </command-palette-item-group>
            <command-palette-item-group
              data-group-id="footer"
              data-group-title="Footer"
              data-group-hint=""
              data-group-limits="{}"
              data-default-priority="15"
            >
            </command-palette-item-group>
            <command-palette-item-group
              data-group-id="modes_help"
              data-group-title="Modes"
              data-group-hint=""
              data-group-limits="{}"
              data-default-priority="16"
            >
            </command-palette-item-group>
            <command-palette-item-group
              data-group-id="filters_help"
              data-group-title="Use filters in issues, pull requests, discussions, and projects"
              data-group-hint=""
              data-group-limits="{}"
              data-default-priority="17"
            >
            </command-palette-item-group>

            <command-palette-page
              data-page-title="Marcib"
              data-scope-id="MDQ6VXNlcjEyMDEwNzM4"
              data-scope-type="owner"
              data-targets="command-palette-page-stack.defaultPages"
              hidden
            >
            </command-palette-page>
            <command-palette-page
              data-page-title="Adatb-zis"
              data-scope-id="R_kgDOLUkgfw"
              data-scope-type="repository"
              data-targets="command-palette-page-stack.defaultPages"
              hidden
            >
            </command-palette-page>
        </div>

        <command-palette-page data-is-root>
        </command-palette-page>
          <command-palette-page
            data-page-title="Marcib"
            data-scope-id="MDQ6VXNlcjEyMDEwNzM4"
            data-scope-type="owner"
          >
          </command-palette-page>
          <command-palette-page
            data-page-title="Adatb-zis"
            data-scope-id="R_kgDOLUkgfw"
            data-scope-type="repository"
          >
          </command-palette-page>
      </command-palette-page-stack>

      <server-defined-provider data-type="search-links" data-targets="command-palette.serverDefinedProviderElements"></server-defined-provider>
      <server-defined-provider data-type="help" data-targets="command-palette.serverDefinedProviderElements">
          <command-palette-help
            data-group="modes_help"
              data-prefix="#"
              data-scope-types="[&quot;&quot;]"
          >
            <span data-target="command-palette-help.titleElement">Search for <strong>issues</strong> and <strong>pull requests</strong></span>
              <span data-target="command-palette-help.hintElement">
                <kbd class="hx_kbd">#</kbd>
              </span>
          </command-palette-help>
          <command-palette-help
            data-group="modes_help"
              data-prefix="#"
              data-scope-types="[&quot;owner&quot;,&quot;repository&quot;]"
          >
            <span data-target="command-palette-help.titleElement">Search for <strong>issues, pull requests, discussions,</strong> and <strong>projects</strong></span>
              <span data-target="command-palette-help.hintElement">
                <kbd class="hx_kbd">#</kbd>
              </span>
          </command-palette-help>
          <command-palette-help
            data-group="modes_help"
              data-prefix="@"
              data-scope-types="[&quot;&quot;]"
          >
            <span data-target="command-palette-help.titleElement">Search for <strong>organizations, repositories,</strong> and <strong>users</strong></span>
              <span data-target="command-palette-help.hintElement">
                <kbd class="hx_kbd">@</kbd>
              </span>
          </command-palette-help>
          <command-palette-help
            data-group="modes_help"
              data-prefix="!"
              data-scope-types="[&quot;owner&quot;,&quot;repository&quot;]"
          >
            <span data-target="command-palette-help.titleElement">Search for <strong>projects</strong></span>
              <span data-target="command-palette-help.hintElement">
                <kbd class="hx_kbd">!</kbd>
              </span>
          </command-palette-help>
          <command-palette-help
            data-group="modes_help"
              data-prefix="/"
              data-scope-types="[&quot;repository&quot;]"
          >
            <span data-target="command-palette-help.titleElement">Search for <strong>files</strong></span>
              <span data-target="command-palette-help.hintElement">
                <kbd class="hx_kbd">/</kbd>
              </span>
          </command-palette-help>
          <command-palette-help
            data-group="modes_help"
              data-prefix="&gt;"
          >
            <span data-target="command-palette-help.titleElement">Activate <strong>command mode</strong></span>
              <span data-target="command-palette-help.hintElement">
                <kbd class="hx_kbd">&gt;</kbd>
              </span>
          </command-palette-help>
          <command-palette-help
            data-group="filters_help"
              data-prefix="# author:@me"
          >
            <span data-target="command-palette-help.titleElement">Search your issues, pull requests, and discussions</span>
              <span data-target="command-palette-help.hintElement">
                <kbd class="hx_kbd"># author:@me</kbd>
              </span>
          </command-palette-help>
          <command-palette-help
            data-group="filters_help"
              data-prefix="# author:@me"
          >
            <span data-target="command-palette-help.titleElement">Search your issues, pull requests, and discussions</span>
              <span data-target="command-palette-help.hintElement">
                <kbd class="hx_kbd"># author:@me</kbd>
              </span>
          </command-palette-help>
          <command-palette-help
            data-group="filters_help"
              data-prefix="# is:pr"
          >
            <span data-target="command-palette-help.titleElement">Filter to pull requests</span>
              <span data-target="command-palette-help.hintElement">
                <kbd class="hx_kbd"># is:pr</kbd>
              </span>
          </command-palette-help>
          <command-palette-help
            data-group="filters_help"
              data-prefix="# is:issue"
          >
            <span data-target="command-palette-help.titleElement">Filter to issues</span>
              <span data-target="command-palette-help.hintElement">
                <kbd class="hx_kbd"># is:issue</kbd>
              </span>
          </command-palette-help>
          <command-palette-help
            data-group="filters_help"
              data-prefix="# is:discussion"
              data-scope-types="[&quot;owner&quot;,&quot;repository&quot;]"
          >
            <span data-target="command-palette-help.titleElement">Filter to discussions</span>
              <span data-target="command-palette-help.hintElement">
                <kbd class="hx_kbd"># is:discussion</kbd>
              </span>
          </command-palette-help>
          <command-palette-help
            data-group="filters_help"
              data-prefix="# is:project"
              data-scope-types="[&quot;owner&quot;,&quot;repository&quot;]"
          >
            <span data-target="command-palette-help.titleElement">Filter to projects</span>
              <span data-target="command-palette-help.hintElement">
                <kbd class="hx_kbd"># is:project</kbd>
              </span>
          </command-palette-help>
          <command-palette-help
            data-group="filters_help"
              data-prefix="# is:open"
          >
            <span data-target="command-palette-help.titleElement">Filter to open issues, pull requests, and discussions</span>
              <span data-target="command-palette-help.hintElement">
                <kbd class="hx_kbd"># is:open</kbd>
              </span>
          </command-palette-help>
      </server-defined-provider>

        <server-defined-provider
          data-type="commands"
          data-fetch-debounce="0"
            data-src="/command_palette/commands"
          data-supported-modes="[]"
            data-supports-commands
          
          data-targets="command-palette.serverDefinedProviderElements"
          ></server-defined-provider>
        <server-defined-provider
          data-type="prefetched"
          data-fetch-debounce="0"
            data-src="/command_palette/jump_to_page_navigation"
          data-supported-modes="[&quot;&quot;]"
            data-supported-scope-types="[&quot;&quot;,&quot;owner&quot;,&quot;repository&quot;]"
          
          data-targets="command-palette.serverDefinedProviderElements"
          ></server-defined-provider>
        <server-defined-provider
          data-type="remote"
          data-fetch-debounce="200"
            data-src="/command_palette/issues"
          data-supported-modes="[&quot;#&quot;,&quot;#&quot;]"
            data-supported-scope-types="[&quot;owner&quot;,&quot;repository&quot;,&quot;&quot;]"
          
          data-targets="command-palette.serverDefinedProviderElements"
          ></server-defined-provider>
        <server-defined-provider
          data-type="remote"
          data-fetch-debounce="200"
            data-src="/command_palette/jump_to"
          data-supported-modes="[&quot;@&quot;,&quot;@&quot;]"
            data-supported-scope-types="[&quot;&quot;,&quot;owner&quot;]"
          
          data-targets="command-palette.serverDefinedProviderElements"
          ></server-defined-provider>
        <server-defined-provider
          data-type="remote"
          data-fetch-debounce="200"
            data-src="/command_palette/jump_to_members_only"
          data-supported-modes="[&quot;@&quot;,&quot;@&quot;,&quot;&quot;,&quot;&quot;]"
            data-supported-scope-types="[&quot;&quot;,&quot;owner&quot;]"
          
          data-targets="command-palette.serverDefinedProviderElements"
          ></server-defined-provider>
        <server-defined-provider
          data-type="prefetched"
          data-fetch-debounce="0"
            data-src="/command_palette/jump_to_members_only_prefetched"
          data-supported-modes="[&quot;@&quot;,&quot;@&quot;,&quot;&quot;,&quot;&quot;]"
            data-supported-scope-types="[&quot;&quot;,&quot;owner&quot;]"
          
          data-targets="command-palette.serverDefinedProviderElements"
          ></server-defined-provider>
        <server-defined-provider
          data-type="files"
          data-fetch-debounce="0"
            data-src="/command_palette/files"
          data-supported-modes="[&quot;/&quot;]"
            data-supported-scope-types="[&quot;repository&quot;]"
          
          data-targets="command-palette.serverDefinedProviderElements"
          ></server-defined-provider>
        <server-defined-provider
          data-type="remote"
          data-fetch-debounce="200"
            data-src="/command_palette/discussions"
          data-supported-modes="[&quot;#&quot;]"
            data-supported-scope-types="[&quot;owner&quot;,&quot;repository&quot;]"
          
          data-targets="command-palette.serverDefinedProviderElements"
          ></server-defined-provider>
        <server-defined-provider
          data-type="remote"
          data-fetch-debounce="200"
            data-src="/command_palette/projects"
          data-supported-modes="[&quot;#&quot;,&quot;!&quot;]"
            data-supported-scope-types="[&quot;owner&quot;,&quot;repository&quot;]"
          
          data-targets="command-palette.serverDefinedProviderElements"
          ></server-defined-provider>
        <server-defined-provider
          data-type="prefetched"
          data-fetch-debounce="0"
            data-src="/command_palette/recent_issues"
          data-supported-modes="[&quot;#&quot;,&quot;#&quot;]"
            data-supported-scope-types="[&quot;owner&quot;,&quot;repository&quot;,&quot;&quot;]"
          
          data-targets="command-palette.serverDefinedProviderElements"
          ></server-defined-provider>
        <server-defined-provider
          data-type="remote"
          data-fetch-debounce="200"
            data-src="/command_palette/teams"
          data-supported-modes="[&quot;@&quot;,&quot;&quot;]"
            data-supported-scope-types="[&quot;owner&quot;]"
          
          data-targets="command-palette.serverDefinedProviderElements"
          ></server-defined-provider>
        <server-defined-provider
          data-type="remote"
          data-fetch-debounce="200"
            data-src="/command_palette/name_with_owner_repository"
          data-supported-modes="[&quot;@&quot;,&quot;@&quot;,&quot;&quot;,&quot;&quot;]"
            data-supported-scope-types="[&quot;&quot;,&quot;owner&quot;]"
          
          data-targets="command-palette.serverDefinedProviderElements"
          ></server-defined-provider>
    </command-palette>
  </details-dialog>
</details>

<div class="position-fixed bottom-0 left-0 ml-5 mb-5 js-command-palette-toasts" style="z-index: 1000">
  <div hidden class="Toast Toast--loading">
    <span class="Toast-icon">
      <svg class="Toast--spinner" viewBox="0 0 32 32" width="18" height="18" aria-hidden="true">
        <path
          fill="#959da5"
          d="M16 0 A16 16 0 0 0 16 32 A16 16 0 0 0 16 0 M16 4 A12 12 0 0 1 16 28 A12 12 0 0 1 16 4"
        />
        <path fill="#ffffff" d="M16 0 A16 16 0 0 1 32 16 L28 16 A12 12 0 0 0 16 4z"></path>
      </svg>
    </span>
    <span class="Toast-content"></span>
  </div>

  <div hidden class="anim-fade-in fast Toast Toast--error">
    <span class="Toast-icon">
      <svg aria-hidden="true" height="16" viewBox="0 0 16 16" version="1.1" width="16" data-view-component="true" class="octicon octicon-stop">
    <path d="M4.47.22A.749.749 0 0 1 5 0h6c.199 0 .389.079.53.22l4.25 4.25c.141.14.22.331.22.53v6a.749.749 0 0 1-.22.53l-4.25 4.25A.749.749 0 0 1 11 16H5a.749.749 0 0 1-.53-.22L.22 11.53A.749.749 0 0 1 0 11V5c0-.199.079-.389.22-.53Zm.84 1.28L1.5 5.31v5.38l3.81 3.81h5.38l3.81-3.81V5.31L10.69 1.5ZM8 4a.75.75 0 0 1 .75.75v3.5a.75.75 0 0 1-1.5 0v-3.5A.75.75 0 0 1 8 4Zm0 8a1 1 0 1 1 0-2 1 1 0 0 1 0 2Z"></path>
</svg>
    </span>
    <span class="Toast-content"></span>
  </div>

  <div hidden class="anim-fade-in fast Toast Toast--warning">
    <span class="Toast-icon">
      <svg aria-hidden="true" height="16" viewBox="0 0 16 16" version="1.1" width="16" data-view-component="true" class="octicon octicon-alert">
    <path d="M6.457 1.047c.659-1.234 2.427-1.234 3.086 0l6.082 11.378A1.75 1.75 0 0 1 14.082 15H1.918a1.75 1.75 0 0 1-1.543-2.575Zm1.763.707a.25.25 0 0 0-.44 0L1.698 13.132a.25.25 0 0 0 .22.368h12.164a.25.25 0 0 0 .22-.368Zm.53 3.996v2.5a.75.75 0 0 1-1.5 0v-2.5a.75.75 0 0 1 1.5 0ZM9 11a1 1 0 1 1-2 0 1 1 0 0 1 2 0Z"></path>
</svg>
    </span>
    <span class="Toast-content"></span>
  </div>


  <div hidden class="anim-fade-in fast Toast Toast--success">
    <span class="Toast-icon">
      <svg aria-hidden="true" height="16" viewBox="0 0 16 16" version="1.1" width="16" data-view-component="true" class="octicon octicon-check">
    <path d="M13.78 4.22a.75.75 0 0 1 0 1.06l-7.25 7.25a.75.75 0 0 1-1.06 0L2.22 9.28a.751.751 0 0 1 .018-1.042.751.751 0 0 1 1.042-.018L6 10.94l6.72-6.72a.75.75 0 0 1 1.06 0Z"></path>
</svg>
    </span>
    <span class="Toast-content"></span>
  </div>

  <div hidden class="anim-fade-in fast Toast">
    <span class="Toast-icon">
      <svg aria-hidden="true" height="16" viewBox="0 0 16 16" version="1.1" width="16" data-view-component="true" class="octicon octicon-info">
    <path d="M0 8a8 8 0 1 1 16 0A8 8 0 0 1 0 8Zm8-6.5a6.5 6.5 0 1 0 0 13 6.5 6.5 0 0 0 0-13ZM6.5 7.75A.75.75 0 0 1 7.25 7h1a.75.75 0 0 1 .75.75v2.75h.25a.75.75 0 0 1 0 1.5h-2a.75.75 0 0 1 0-1.5h.25v-2h-.25a.75.75 0 0 1-.75-.75ZM8 6a1 1 0 1 1 0-2 1 1 0 0 1 0 2Z"></path>
</svg>
    </span>
    <span class="Toast-content"></span>
  </div>
</div>


  <div
    class="application-main "
    data-commit-hovercards-enabled
    data-discussion-hovercards-enabled
    data-issue-and-pr-hovercards-enabled
  >
        <div itemscope itemtype="http://schema.org/SoftwareSourceCode" class="">
    <main id="js-repo-pjax-container" >
      
      






    
  <div id="repository-container-header" data-turbo-replace hidden></div>




<turbo-frame id="repo-content-turbo-frame" target="_top" data-turbo-action="advance" class="">
    <div id="repo-content-pjax-container" class="repository-content " >
      <a href="https://github.dev/" class="d-none js-github-dev-shortcut" data-hotkey=".,Mod+Alt+.">Open in github.dev</a>
  <a href="https://github.dev/" class="d-none js-github-dev-new-tab-shortcut" data-hotkey="Shift+.,Shift+&gt;,&gt;" target="_blank" rel="noopener noreferrer">Open in a new github.dev tab</a>
    <a class="d-none" data-hotkey=",,Mod+Alt+," target="_blank" href="/codespaces/new/Marcib/Adatb-zis/tree/master?resume=1">Open in codespace</a>



    
      
    





<react-app
  app-name="react-code-view"
  initial-path="/Marcib/Adatb-zis/blob/master/korsz_adatbgyak02.ipynb"
  style="min-height: calc(100vh - 64px)" 
  data-ssr="true"
  data-lazy="false"
  data-alternate="false"
>
  
  <script type="application/json" data-target="react-app.embeddedData">{"payload":{"allShortcutsEnabled":true,"fileTree":{"":{"items":[{"name":"korsz_adatbgyak02.ipynb","path":"korsz_adatbgyak02.ipynb","contentType":"file"}],"totalCount":1}},"fileTreeProcessingTime":1.642215,"foldersToFetch":[],"repo":{"id":759767167,"defaultBranch":"main","name":"Adatb-zis","ownerLogin":"Marcib","currentUserCanPush":true,"isFork":false,"isEmpty":false,"createdAt":"2024-02-19T10:49:00.000+01:00","ownerAvatar":"https://avatars.githubusercontent.com/u/12010738?v=4","public":true,"private":false,"isOrgOwned":false},"symbolsExpanded":false,"treeExpanded":true,"refInfo":{"name":"master","listCacheKey":"v0:1708337239.0","canEdit":true,"refType":"branch","currentOid":"2aa395a161a94fa33259e05fb2791f1b7dbca558"},"path":"korsz_adatbgyak02.ipynb","currentUser":{"id":12010738,"login":"Marcib","userEmail":"marciberecz02@gmail.com"},"blob":{"rawLines":["{","    \"metadata\": {","        \"kernelspec\": {","            \"name\": \"SQL\",","            \"display_name\": \"SQL\",","            \"language\": \"sql\"","        },","        \"language_info\": {","            \"name\": \"sql\",","            \"version\": \"\"","        },","        \"extensions\": {","            \"azuredatastudio\": {","                \"version\": 1,","                \"views\": []","            }","        }","    },","    \"nbformat_minor\": 2,","    \"nbformat\": 4,","    \"cells\": [","        {","            \"cell_type\": \"markdown\",","            \"source\": [","                \"\u003cspan style=\\\"color: #09885a;\\\"\u003e1. \u003c/span\u003e Készítsünk listát arról, hogy melyik ügyfél (\u003cspan style=\\\"color: rgb(0, 0, 255);\\\"\u003eLOGIN\u003c/span\u003e) hányszor rendelt  \\n\",","                \"összesen. A lista tartalmazza a végösszeget \u003cspan style=\\\"color: rgb(0, 0, 255);\\\"\u003eis\u003c/span\u003e. A listát rendezzük  \\n\",","                \"a rendelések száma szerint növekvő sorrendbe!\"","            ],","            \"metadata\": {","                \"azdata_cell_guid\": \"25ef83ae-5fe7-48db-9faf-792af8dce555\"","            },","            \"attachments\": {}","        },","        {","            \"cell_type\": \"code\",","            \"source\": [","                \"SELECT [LOGIN],COUNT(*)\\r\\n\",","                \"From Rendeles\\r\\n\",","                \"Group by Rollup([LOGIN])\\r\\n\",","                \"ORDER by COUNT(*)\"","            ],","            \"metadata\": {","                \"azdata_cell_guid\": \"0204549b-7a8b-46a5-9862-70e57a3de34f\"","            },","            \"outputs\": [],","            \"execution_count\": null","        },","        {","            \"cell_type\": \"markdown\",","            \"source\": [","                \"2\\\\. Átlagosan hány termék van készleten kategóriánként (KAT\\\\_ID),  \\n\",","                \"raktáranként (RAKTAR\\\\_KOD), illetve mennyiségi egységenként?  \\n\",","                \"(szempontonként külön-külön) Az átlagot kerekítsük egészre!  \\n\",","                \"A feladatot egy lekérdezéssel oldja meg!\"","            ],","            \"metadata\": {","                \"azdata_cell_guid\": \"453ffb66-ac5a-48c8-968c-465e7e64ca1b\"","            },","            \"attachments\": {}","        },","        {","            \"cell_type\": \"code\",","            \"source\": [","                \"SELECT KAT_ID, RAKTAR_KOD,MEGYS, Round(AVG(KESZLET),0)\\r\\n\",","                \"From Termek\\r\\n\",","                \"GROUP by GROUPING Sets(KAT_ID,RAKTAR_KOD,MEGYS) \"","            ],","            \"metadata\": {","                \"azdata_cell_guid\": \"649f0fe8-fd7d-4e62-bc90-91076e6a80db\"","            },","            \"outputs\": [],","            \"execution_count\": null","        },","        {","            \"cell_type\": \"markdown\",","            \"source\": [","                \"3\\\\. Készítsünk listát a megrendelt termékek legkisebb és  \\n\",","                \"legnagyobb egységáráról szállítási dátum, azon belül szállítási  \\n\",","                \"mód szerinti bontásban ! A lista csak a 2015 májusi szállításokat  \\n\",","                \"tartalmazza! Jelenítsük meg a részösszegeket és a végösszeget is!\"","            ],","            \"metadata\": {","                \"azdata_cell_guid\": \"3a3c4e41-b621-4e08-b879-78f1f8564bfa\"","            },","            \"attachments\": {}","        },","        {","            \"cell_type\": \"code\",","            \"source\": [","                \"\"","            ],","            \"metadata\": {","                \"azdata_cell_guid\": \"bb359042-df26-49da-a385-ca96b966b8c3\"","            },","            \"outputs\": [],","            \"execution_count\": null","        },","        {","            \"cell_type\": \"markdown\",","            \"source\": [","                \"4 .Készítsünk csoportot a termékek listaára alapján a következők szerint:  \\n\",","                \"Az \\\"olcsó\\\" termékek legyenek azok, amelyek listaára 3000 alatt van.  \\n\",","                \"A \\\"drága\\\" termékek legyenek az 5000 felettiek, a többi legyen \\\"közepes\\\".  \\n\",","                \"Listázzuk az egyes csoportokat, és a csoportokba tartozó termékek  \\n\",","                \"darabszámát! A lista jelenítse meg a végösszeget is!\"","            ],","            \"metadata\": {","                \"azdata_cell_guid\": \"16c0ca87-c668-4216-9a70-fba531289769\"","            },","            \"attachments\": {}","        },","        {","            \"cell_type\": \"code\",","            \"source\": [","                \"SELECT case When LISTAAR \u003e5000 then 'drága'\\r\\n\",","                \"            when LISTAAR \u003c3000 then 'olcsó'\\r\\n\",","                \"            else 'közepes'\\r\\n\",","                \"            end,\\r\\n\",","                \"            Count(*) as 'db'\\r\\n\",","                \"from Termek\\r\\n\",","                \"group by Rollup( case When LISTAAR \u003e5000 then 'drága'\\r\\n\",","                \"            when LISTAAR \u003c3000 then 'olcsó'\\r\\n\",","                \"            else 'közepes'\\r\\n\",","                \"            end)\"","            ],","            \"metadata\": {","                \"azdata_cell_guid\": \"d2e08d04-329e-4555-9a7b-1fec9d5a75fb\"","            },","            \"outputs\": [],","            \"execution_count\": null","        },","        {","            \"cell_type\": \"markdown\",","            \"source\": [","                \"5\\\\. Listázzuk a rendelési tételek számát raktáranként éves bontásban!  \\n\",","                \"A listában a raktár neve, az év és a darabszám jelenjen meg!  \\n\",","                \"A lista jelenítse meg a részösszegeket és a végösszeget is!  \\n\",","                \"A végösszeget megfelelően jelöljük!  \\n\",","                \"Az oszlopokat nevezzük el értelemszerűen!\"","            ],","            \"metadata\": {","                \"azdata_cell_guid\": \"6d0f8d0b-d9b2-4167-a6f5-c046499fe3f6\"","            },","            \"attachments\": {}","        },","        {","            \"cell_type\": \"code\",","            \"source\": [","                \"\"","            ],","            \"metadata\": {","                \"azdata_cell_guid\": \"9a15b997-51d0-4814-a8fd-c55543458de0\"","            },","            \"outputs\": [],","            \"execution_count\": null","        },","        {","            \"cell_type\": \"markdown\",","            \"source\": [","                \"6\\\\. Készítsünk listát az ügyfelek adatairól név szerinti sorrendben.  \\n\",","                \"Minden sorban jelenjen meg a sorrend szerint előző, illetve következő ügyfél neve is.  \\n\",","                \"Ha nincs előző vagy következő ügyfél, akkor a 'Nincs' jelenjen meg!\"","            ],","            \"metadata\": {","                \"azdata_cell_guid\": \"39f58487-beb9-4d7d-94d2-0762cf76a319\"","            },","            \"attachments\": {}","        },","        {","            \"cell_type\": \"code\",","            \"source\": [","                \"SELECT *,\\r\\n\",","                \"LAG(nev,1 ,'Nincs') over(order by nev),\\r\\n\",","                \"Lead(nev,1 ,'Nincs') over(order by nev)\\r\\n\",","                \"from Ugyfel\\r\\n\",","                \"ORDER by NEV\"","            ],","            \"metadata\": {","                \"azdata_cell_guid\": \"f863100a-50d1-437f-96c1-3b4eee9b4959\"","            },","            \"outputs\": [],","            \"execution_count\": null","        },","        {","            \"cell_type\": \"markdown\",","            \"source\": [","                \"7\\\\. Készítsünk lekérdezést, amely megmutatja, hogy melyik  \\n\",","                \"termékkategóriába hány termék tartozik. A lista a kategória nevét  \\n\",","                \"és a darabszámot jelenítse meg. A lista ne tartalmazzon duplikált sorokat.  \\n\",","                \"A feladatot partíciók segítségével oldjuk meg!\"","            ],","            \"metadata\": {","                \"azdata_cell_guid\": \"9593632a-54ea-4c03-825e-9a6ba69a1528\"","            },","            \"attachments\": {}","        },","        {","            \"cell_type\": \"code\",","            \"source\": [","                \"\"","            ],","            \"metadata\": {","                \"azdata_cell_guid\": \"5416cc87-dab6-4017-a305-5cb178345dd9\"","            },","            \"outputs\": [],","            \"execution_count\": null","        },","        {","            \"cell_type\": \"markdown\",","            \"source\": [","                \"8\\\\. Készítsünk listát a rendelési tételekről.  \\n\",","                \"Az egyes rendelési tételeket termékenként soroljuk be 4 osztályba a rendelés mennyisége alapján.\\n\",","                \"\\n\",","                \"Jelenítsük meg ezt az információt is egy új oszlopban, az oszlop neve legyen 'Mennyiségi kategória'.  \\n\",","                \"A lista csak a 100 Ft feletti egységárú rendelési tételeket vegye figyelembe!\"","            ],","            \"metadata\": {","                \"azdata_cell_guid\": \"6b2be7f7-0e1b-4fc4-92de-90b6715d7647\"","            },","            \"attachments\": {}","        },","        {","            \"cell_type\": \"code\",","            \"source\": [","                \"SELECT *,\\r\\n\",","                \"NTILE(4) over(partition by Termekkod order by Mennyiseg)\\r\\n\",","                \"from Rendeles_tetel\\r\\n\",","                \"Where EGYSEGAR\u003e100\"","            ],","            \"metadata\": {","                \"azdata_cell_guid\": \"567aef4c-a7e5-4dec-a264-7f326e1ee820\"","            },","            \"outputs\": [],","            \"execution_count\": null","        },","        {","            \"cell_type\": \"markdown\",","            \"source\": [","                \"9\\\\. Listázzuk a termékek kódját, megnevezését, kategóriájának nevét, és listaárát.  \\n\",","                \"A listát egészítsük ki két új oszloppal, amelyek a kategória legolcsóbb, illetve legdrágább termékének árát tartalmazzák.  \\n\",","                \"A két új oszlop létrehozásánál partíciókkal dolgozzunk!\"","            ],","            \"metadata\": {","                \"azdata_cell_guid\": \"5d826aeb-b0f8-4665-93a1-92c7c827d465\"","            },","            \"attachments\": {}","        },","        {","            \"cell_type\": \"code\",","            \"source\": [","                \"\"","            ],","            \"metadata\": {","                \"azdata_cell_guid\": \"f8c3b11e-200c-4252-a2cf-0bd6042f3fb1\"","            },","            \"outputs\": [],","            \"execution_count\": null","        },","        {","            \"cell_type\": \"markdown\",","            \"source\": [","                \"10\\\\. Készítsünk listát a rendelésekről. A lista legyen rendezve ügyfelenként (LOGIN), azon belül a rendelés dátuma szerint.  \\n\",","                \"A listához készítsünk sorszámozást is.  \\n\",","                \"A sorszám a következő formában jelenjen meg: sorszám\\\\_év\\\\_login. Pl: 1\\\\_2015\\\\_adam1  \\n\",","                \"A számozás login-onként, azon belül rendelési évenként kezdődjön újra.  \\n\",","                \"A sorszám oszlop neve legyen Azonosító.\"","            ],","            \"metadata\": {","                \"azdata_cell_guid\": \"2f42a573-1384-422a-8040-1306b38f2657\"","            },","            \"attachments\": {}","        },","        {","            \"cell_type\": \"code\",","            \"source\": [","                \"\"","            ],","            \"metadata\": {","                \"azdata_cell_guid\": \"29db0d43-7709-44df-a749-ecaca8047f63\"","            },","            \"outputs\": [],","            \"execution_count\": null","        },","        {","            \"cell_type\": \"markdown\",","            \"source\": [","                \"11.Készítsünk listát a termékek adatairól listaár szerint növekvő  sorrenben!  \\n\",","                \"A lista jelenítse meg két új oszlopban a sorrend szerint előző, illetve következő termék listaárát is a termék saját   \\n\",","                \" kategóriájában és raktárában! Ahol nincs előző vagy következő  érték, ott 0 jelenjen meg!  \\n\",","                \" Az oszlopokat nevezzük el értelemszerűen!\"","            ],","            \"metadata\": {","                \"azdata_cell_guid\": \"357279eb-71ee-473e-9763-eb0b238ff906\"","            },","            \"attachments\": {}","        },","        {","            \"cell_type\": \"code\",","            \"source\": [","                \"\"","            ],","            \"metadata\": {","                \"azdata_cell_guid\": \"f79d14ed-9aa1-4434-a9c3-8a9cf40b4d9c\"","            },","            \"outputs\": [],","            \"execution_count\": null","        },","        {","            \"cell_type\": \"markdown\",","            \"source\": [","                \"12\\\\. Listázzuk a termékek kódját, nevét és listaárát listaár szerinti sorrendben!  \\n\",","                \"Vegyünk fel egy új oszlopot Mozgóátlag néven, amely minden esetben az aktuális termék,  \\n\",","                \"az előző, és a következő termék átlagárát tartalmazza!  \\n\",","                \"A mozgóátlagot kerekítsük két tizedesre!\"","            ],","            \"metadata\": {","                \"azdata_cell_guid\": \"f974b17a-0c4a-47f7-8f00-550e9847550f\"","            },","            \"attachments\": {}","        },","        {","            \"cell_type\": \"code\",","            \"source\": [","                \"SELECT TERMEKKOD, MEGNEVEZES,LISTAAR,\\r\\n\",","                \"avg(Listaar) over(ORDER by listaar \\r\\n\",","                \"                rows Between 1 Preceding and 1 following ) \\r\\n\",","                \"from Termek\\r\\n\",","                \"Order by LISTAAR\"","            ],","            \"metadata\": {","                \"azdata_cell_guid\": \"d6acc00d-7046-4f2c-810d-f82a18cca1a4\"","            },","            \"outputs\": [","{","    \"output_type\": \"display_data\",","    \"data\": {","        \"text/html\": \"(551 rows affected)\"","    },","    \"metadata\": {}","}, {","    \"output_type\": \"display_data\",","    \"data\": {","        \"text/html\": \"Total execution time: 00:00:00.133\"","    },","    \"metadata\": {}","}, {","    \"output_type\": \"execute_result\",","    \"metadata\": {},","    \"execution_count\": 5,","    \"data\": {","        \"application/vnd.dataresource+json\": {","            \"schema\": {","                \"fields\": [","                    {","                        \"name\": \"TERMEKKOD\"","                    },","                    {","                        \"name\": \"MEGNEVEZES\"","                    },","                    {","                        \"name\": \"LISTAAR\"","                    },","                    {","                        \"name\": \"(No column name)\"","                    }","                ]","            },","            \"data\": [","                {","                    \"0\": \"07030108T\",","                    \"1\": \"Filctoll CD író\",","                    \"2\": \"0\",","                    \"3\": \"1.5\"","                },","                {","                    \"0\": \"01090498T\",","                    \"1\": \"Műnyomó 300g 17,5*20\",","                    \"2\": \"3\",","                    \"3\": \"2\"","                },","                {","                    \"0\": \"02030042T\",","                    \"1\": \"Boríték LC 6\",","                    \"2\": \"3\",","                    \"3\": \"3\"","                },","                {","                    \"0\": \"04030288T\",","                    \"1\": \"Műanyag pohár 1 dl-es\",","                    \"2\": \"3\",","                    \"3\": \"3.3333333333333335\"","                },","                {","                    \"0\": \"01090501T\",","                    \"1\": \"Kreatív A/4 300g \",","                    \"2\": \"4\",","                    \"3\": \"3.6666666666666665\"","                },","                {","                    \"0\": \"01090517T\",","                    \"1\": \"Színes ofszet B/4\",","                    \"2\": \"4\",","                    \"3\": \"4.333333333333333\"","                },","                {","                    \"0\": \"06040089T\",","                    \"1\": \"Ellenőrzőborító\",","                    \"2\": \"5\",","                    \"3\": \"5\"","                },","                {","                    \"0\": \"02030040T\",","                    \"1\": \"Boríték LA 4 francia\",","                    \"2\": \"6\",","                    \"3\": \"5.666666666666667\"","                },","                {","                    \"0\": \"02030041T\",","                    \"1\": \"Boríték LC 5\",","                    \"2\": \"6\",","                    \"3\": \"6.666666666666667\"","                },","                {","                    \"0\": \"02040147T\",","                    \"1\": \"Genotherm lefűzhető A/5\",","                    \"2\": \"8\",","                    \"3\": \"7.333333333333333\"","                },","                {","                    \"0\": \"06010377T\",","                    \"1\": \"Szögmérő színes\",","                    \"2\": \"8\",","                    \"3\": \"8\"","                },","                {","                    \"0\": \"06080425T\",","                    \"1\": \"Miliméterpapír\",","                    \"2\": \"8\",","                    \"3\": \"8\"","                },","                {","                    \"0\": \"06040181T\",","                    \"1\": \"Gyűjtőlap A/4\",","                    \"2\": \"8\",","                    \"3\": \"8\"","                },","                {","                    \"0\": \"06040353T\",","                    \"1\": \"Sorvezető\",","                    \"2\": \"8\",","                    \"3\": \"8\"","                },","                {","                    \"0\": \"06080118T\",","                    \"1\": \"Füzetborító átlátszó A5\",","                    \"2\": \"8\",","                    \"3\": \"8.333333333333334\"","                },","                {","                    \"0\": \"07040388T\",","                    \"1\": \"Tintapatron /kék/\",","                    \"2\": \"9\",","                    \"3\": \"8.666666666666666\"","                },","                {","                    \"0\": \"06010305T\",","                    \"1\": \"Papírcenti 100 cm-es\",","                    \"2\": \"9\",","                    \"3\": \"9\"","                },","                {","                    \"0\": \"01100072T\",","                    \"1\": \"Dipa A/4 keretezett\",","                    \"2\": \"9\",","                    \"3\": \"9.333333333333334\"","                },","                {","                    \"0\": \"01100503T\",","                    \"1\": \"Color Copy A4 120 g\",","                    \"2\": \"10\",","                    \"3\": \"9.666666666666666\"","                },","                {","                    \"0\": \"06080117T\",","                    \"1\": \"Füzetborító A/4 átlátszó\",","                    \"2\": \"10\",","                    \"3\": \"10.333333333333334\"","                },","                {","                    \"0\": \"07040058T\",","                    \"1\": \"Ceruza radíros kínai\",","                    \"2\": \"11\",","                    \"3\": \"10.666666666666666\"","                },","                {","                    \"0\": \"07040390T\",","                    \"1\": \"Tintapatron színes\",","                    \"2\": \"11\",","                    \"3\": \"11\"","                },","                {","                    \"0\": \"07080065T\",","                    \"1\": \"Ceruza kínai\",","                    \"2\": \"11\",","                    \"3\": \"11\"","                },","                {","                    \"0\": \"01090515T\",","                    \"1\": \"Színes A/3 160 gr IQ\",","                    \"2\": \"11\",","                    \"3\": \"11\"","                },","                {","                    \"0\": \"06010376T\",","                    \"1\": \"Szögmérő papír\",","                    \"2\": \"11\",","                    \"3\": \"11\"","                },","                {","                    \"0\": \"04030285T\",","                    \"1\": \"Mikulás zacskó\",","                    \"2\": \"11\",","                    \"3\": \"11\"","                },","                {","                    \"0\": \"04050269T\",","                    \"1\": \"Lufi hullámos\",","                    \"2\": \"11\",","                    \"3\": \"11.333333333333334\"","                },","                {","                    \"0\": \"06040206T\",","                    \"1\": \"kék indigó\",","                    \"2\": \"12\",","                    \"3\": \"12\"","                },","                {","                    \"0\": \"01100510T\",","                    \"1\": \"Kreatív A/4 120g \",","                    \"2\": \"13\",","                    \"3\": \"13\"","                },","                {","                    \"0\": \"01090500T\",","                    \"1\": \"Color Copy A4 200 g\",","                    \"2\": \"14\",","                    \"3\": \"13.666666666666666\"","                },","                {","                    \"0\": \"01100497T\",","                    \"1\": \"Color Copy 160 g-os \",","                    \"2\": \"14\",","                    \"3\": \"14\"","                },","                {","                    \"0\": \"04030240T\",","                    \"1\": \"Képeslap virágos\",","                    \"2\": \"14\",","                    \"3\": \"14.333333333333334\"","                },","                {","                    \"0\": \"04030236T\",","                    \"1\": \"Képeslap karácsonyi WD\",","                    \"2\": \"15\",","                    \"3\": \"14.666666666666666\"","                },","                {","                    \"0\": \"04030289T\",","                    \"1\": \"Műanyag pohár 5 cl-es\",","                    \"2\": \"15\",","                    \"3\": \"15\"","                },","                {","                    \"0\": \"04030260T\",","                    \"1\": \"Levélpapír A/4\",","                    \"2\": \"15\",","                    \"3\": \"15\"","                },","                {","                    \"0\": \"04050268T\",","                    \"1\": \"Lufi formázható\",","                    \"2\": \"15\",","                    \"3\": \"15\"","                },","                {","                    \"0\": \"01090499T\",","                    \"1\": \"Color Copy A/4 250 g\",","                    \"2\": \"15\",","                    \"3\": \"15\"","                },","                {","                    \"0\": \"01040307T\",","                    \"1\": \"Pausz papír A/4\",","                    \"2\": \"15\",","                    \"3\": \"15\"","                },","                {","                    \"0\": \"02040291T\",","                    \"1\": \"Naptárhát kicsi\",","                    \"2\": \"15\",","                    \"3\": \"15\"","                },","                {","                    \"0\": \"02030044T\",","                    \"1\": \"Boríték mintás\",","                    \"2\": \"15\",","                    \"3\": \"15\"","                },","                {","                    \"0\": \"02050460T\",","                    \"1\": \"Boríték C/4-es\",","                    \"2\": \"15\",","                    \"3\": \"15\"","                },","                {","                    \"0\": \"03010342T\",","                    \"1\": \"Ragasztószalag  TIXO\",","                    \"2\": \"15\",","                    \"3\": \"15\"","                },","                {","                    \"0\": \"03050078T\",","                    \"1\": \"Díszkötöző szalag metál kicsi\",","                    \"2\": \"15\",","                    \"3\": \"15\"","                },","                {","                    \"0\": \"03050079T\",","                    \"1\": \"Díszkötöző szalag vékony\",","                    \"2\": \"15\",","                    \"3\": \"15\"","                },","                {","                    \"0\": \"06040205T\",","                    \"1\": \"Indigó Pelikán\",","                    \"2\": \"15\",","                    \"3\": \"15\"","                },","                {","                    \"0\": \"07010141T\",","                    \"1\": \"G.toll betét X20\",","                    \"2\": \"15\",","                    \"3\": \"16\"","                },","                {","                    \"0\": \"02050461T\",","                    \"1\": \"Boríték B/4-es\",","                    \"2\": \"18\",","                    \"3\": \"17\"","                },","                {","                    \"0\": \"02040176T\",","                    \"1\": \"Gyorsfűző dosszié fehér\",","                    \"2\": \"18\",","                    \"3\": \"18.333333333333332\"","                },","                {","                    \"0\": \"02040207T\",","                    \"1\": \"Iratgyűjtő ESSELTE ablakos\",","                    \"2\": \"19\",","                    \"3\": \"18.666666666666668\"","                },","                {","                    \"0\": \"02040208T\",","                    \"1\": \"Iratgyűjtő fehér\",","                    \"2\": \"19\",","                    \"3\": \"19\"","                },","                {","                    \"0\": \"03080004T\",","                    \"1\": \"Ajándék cs. tasak italos, fólia\",","                    \"2\": \"19\",","                    \"3\": \"19\"","                },","                {","                    \"0\": \"05050170T\",","                    \"1\": \"Gumigyűrű\",","                    \"2\": \"19\",","                    \"3\": \"19\"","                },","                {","                    \"0\": \"06040326T\",","                    \"1\": \"Radír KOH-I-NOR 80\",","                    \"2\": \"19\",","                    \"3\": \"19\"","                },","                {","                    \"0\": \"06080122T\",","                    \"1\": \"Füzetborító öntapadós nagy\",","                    \"2\": \"19\",","                    \"3\": \"19\"","                },","                {","                    \"0\": \"06080119T\",","                    \"1\": \"Füzetborító mesefig.\",","                    \"2\": \"19\",","                    \"3\": \"19\"","                },","                {","                    \"0\": \"06040383T\",","                    \"1\": \"Taffet papír\",","                    \"2\": \"19\",","                    \"3\": \"19.333333333333332\"","                },","                {","                    \"0\": \"06080417T\",","                    \"1\": \"Zászló papír\",","                    \"2\": \"20\",","                    \"3\": \"19.666666666666668\"","                },","                {","                    \"0\": \"04110068T\",","                    \"1\": \"Címke egyszínű\",","                    \"2\": \"20\",","                    \"3\": \"20\"","                },","                {","                    \"0\": \"05010306T\",","                    \"1\": \"Papízsebkendő,10db Szindy\",","                    \"2\": \"20\",","                    \"3\": \"21\"","                },","                {","                    \"0\": \"06010202T\",","                    \"1\": \"Hurkapálca 10 db-os\",","                    \"2\": \"23\",","                    \"3\": \"22\"","                },","                {","                    \"0\": \"03080021T\",","                    \"1\": \"Ajándék csom. vékony\",","                    \"2\": \"23\",","                    \"3\": \"23\"","                },","                {","                    \"0\": \"04030287T\",","                    \"1\": \"Műanyag foszforeszkáló állat\",","                    \"2\": \"23\",","                    \"3\": \"23\"","                },","                {","                    \"0\": \"06080190T\",","                    \"1\": \"Hegyező műanyag egyes\",","                    \"2\": \"23\",","                    \"3\": \"23\"","                },","                {","                    \"0\": \"07010140T\",","                    \"1\": \"G.toll betét Stabilo\",","                    \"2\": \"23\",","                    \"3\": \"23\"","                },","                {","                    \"0\": \"07040053T\",","                    \"1\": \"Ceruza HB radiros\",","                    \"2\": \"23\",","                    \"3\": \"23\"","                },","                {","                    \"0\": \"06080120T\",","                    \"1\": \"Füzetborító öntapadó kicsi\",","                    \"2\": \"23\",","                    \"3\": \"23\"","                },","                {","                    \"0\": \"07040218T\",","                    \"1\": \"Ironbél HB 0,5\",","                    \"2\": \"23\",","                    \"3\": \"23\"","                },","                {","                    \"0\": \"07080156T\",","                    \"1\": \"Golyóstoll kupakos piros\",","                    \"2\": \"23\",","                    \"3\": \"23.333333333333332\"","                },","                {","                    \"0\": \"06080424T\",","                    \"1\": \"Füzetborító A/4 mintás\",","                    \"2\": \"24\",","                    \"3\": \"23.666666666666668\"","                },","                {","                    \"0\": \"04050203T\",","                    \"1\": \"Hűtőmágnes\",","                    \"2\": \"24\",","                    \"3\": \"24\"","                },","                {","                    \"0\": \"04050035T\",","                    \"1\": \"Bérlet tok\",","                    \"2\": \"24\",","                    \"3\": \"24\"","                },","                {","                    \"0\": \"06010375T\",","                    \"1\": \"Szögmérő 180 fokos műa.\",","                    \"2\": \"24\",","                    \"3\": \"24.333333333333332\"","                },","                {","                    \"0\": \"01040502T\",","                    \"1\": \"Előlap spirálhoz\",","                    \"2\": \"25\",","                    \"3\": \"24.666666666666668\"","                },","                {","                    \"0\": \"01090516T\",","                    \"1\": \"Színes karton A4\",","                    \"2\": \"25\",","                    \"3\": \"25.333333333333332\"","                },","                {","                    \"0\": \"01030091T\",","                    \"1\": \"Emléklap A/5\",","                    \"2\": \"26\",","                    \"3\": \"25.666666666666668\"","                },","                {","                    \"0\": \"03080006T\",","                    \"1\": \"Ajándék cs. tasak mintás kicsi\",","                    \"2\": \"26\",","                    \"3\": \"26\"","                },","                {","                    \"0\": \"03050457T\",","                    \"1\": \"Ajándék cs. tasak kicsi\",","                    \"2\": \"26\",","                    \"3\": \"26\"","                },","                {","                    \"0\": \"03050076T\",","                    \"1\": \"Díszkötöző szalag metál nagy\",","                    \"2\": \"26\",","                    \"3\": \"26\"","                },","                {","                    \"0\": \"04110066T\",","                    \"1\": \"Címke 8 db-os\",","                    \"2\": \"26\",","                    \"3\": \"26\"","                },","                {","                    \"0\": \"07040097T\",","                    \"1\": \"Filctoll \",","                    \"2\": \"26\",","                    \"3\": \"26.666666666666668\"","                },","                {","                    \"0\": \"06040347T\",","                    \"1\": \"Rajzlap A/4 10db ffam.\",","                    \"2\": \"28\",","                    \"3\": \"27.666666666666668\"","                },","                {","                    \"0\": \"06040212T\",","                    \"1\": \"Írólap 10-50 ffam.\",","                    \"2\": \"29\",","                    \"3\": \"29\"","                },","                {","                    \"0\": \"06040247T\",","                    \"1\": \"Körzőhegy grafit\",","                    \"2\": \"30\",","                    \"3\": \"29.666666666666668\"","                },","                {","                    \"0\": \"06080189T\",","                    \"1\": \"Hegyező műanyag dupla\",","                    \"2\": \"30\",","                    \"3\": \"30\"","                },","                {","                    \"0\": \"07040050T\",","                    \"1\": \"Ceruza Cseh\",","                    \"2\": \"30\",","                    \"3\": \"30\"","                },","                {","                    \"0\": \"06080191T\",","                    \"1\": \"Hegyező tartályos egyes\",","                    \"2\": \"30\",","                    \"3\": \"30\"","                },","                {","                    \"0\": \"06080412T\",","                    \"1\": \"Vonalzó 16 cm-es LIZZY\",","                    \"2\": \"30\",","                    \"3\": \"30\"","                },","                {","                    \"0\": \"06080413T\",","                    \"1\": \"Vonalzó 30 cm\",","                    \"2\": \"30\",","                    \"3\": \"30\"","                },","                {","                    \"0\": \"06080414T\",","                    \"1\": \"Vonalzó 20 cm-es \",","                    \"2\": \"30\",","                    \"3\": \"30\"","                },","                {","                    \"0\": \"06080415T\",","                    \"1\": \"Vonalzó 45 fokos\",","                    \"2\": \"30\",","                    \"3\": \"30\"","                },","                {","                    \"0\": \"07040127T\",","                    \"1\": \"G. toll betét mini\",","                    \"2\": \"30\",","                    \"3\": \"30\"","                },","                {","                    \"0\": \"07040129T\",","                    \"1\": \"G. toll betét réz\",","                    \"2\": \"30\",","                    \"3\": \"30\"","                },","                {","                    \"0\": \"04030234T\",","                    \"1\": \"Képeslap karácsonyi\",","                    \"2\": \"30\",","                    \"3\": \"30\"","                },","                {","                    \"0\": \"06010114T\",","                    \"1\": \"Füzet A/5 hangjegy 36/16\",","                    \"2\": \"30\",","                    \"3\": \"30\"","                },","                {","                    \"0\": \"02080069T\",","                    \"1\": \"CD tartó tok\",","                    \"2\": \"30\",","                    \"3\": \"30\"","                },","                {","                    \"0\": \"01010110T\",","                    \"1\": \"Fotópapír A/4 fényes\",","                    \"2\": \"30\",","                    \"3\": \"30\"","                },","                {","                    \"0\": \"02040177T\",","                    \"1\": \"Gyorsfűző műa.\",","                    \"2\": \"30\",","                    \"3\": \"30\"","                },","                {","                    \"0\": \"02040145T\",","                    \"1\": \"Gemkapocs 28 mm\",","                    \"2\": \"30\",","                    \"3\": \"30.333333333333332\"","                },","                {","                    \"0\": \"04110067T\",","                    \"1\": \"Címke WD. állat\",","                    \"2\": \"31\",","                    \"3\": \"31.333333333333332\"","                },","                {","                    \"0\": \"06010083T\",","                    \"1\": \"Ecset Centrum 7,8,9\",","                    \"2\": \"33\",","                    \"3\": \"32.333333333333336\"","                },","                {","                    \"0\": \"06010036T\",","                    \"1\": \"Betűtartó sin\",","                    \"2\": \"33\",","                    \"3\": \"33\"","                },","                {","                    \"0\": \"04110227T\",","                    \"1\": \"Képeslap  borítékos\",","                    \"2\": \"33\",","                    \"3\": \"33\"","                },","                {","                    \"0\": \"04110229T\",","                    \"1\": \"Képeslap \\\"Részvét\\\"\",","                    \"2\": \"33\",","                    \"3\": \"33\"","                },","                {","                    \"0\": \"07080155T\",","                    \"1\": \"Golyóstoll\",","                    \"2\": \"33\",","                    \"3\": \"33\"","                },","                {","                    \"0\": \"06080416T\",","                    \"1\": \"Vonalzó 60 fokos\",","                    \"2\": \"33\",","                    \"3\": \"33\"","                },","                {","                    \"0\": \"07010138T\",","                    \"1\": \"G.toll betét jumbo\",","                    \"2\": \"33\",","                    \"3\": \"33.333333333333336\"","                },","                {","                    \"0\": \"06080116T\",","                    \"1\": \"Füzet A5 1-8 osz.-ig\",","                    \"2\": \"34\",","                    \"3\": \"33.666666666666664\"","                },","                {","                    \"0\": \"06040213T\",","                    \"1\": \"Írólap 20-50 \",","                    \"2\": \"34\",","                    \"3\": \"34\"","                },","                {","                    \"0\": \"06010113T\",","                    \"1\": \"Füzet 31-32 szótár\",","                    \"2\": \"34\",","                    \"3\": \"34\"","                },","                {","                    \"0\": \"02040406T\",","                    \"1\": \"Tűzőkapocs 24/6\",","                    \"2\": \"34\",","                    \"3\": \"34.333333333333336\"","                },","                {","                    \"0\": \"02040178T\",","                    \"1\": \"Gyorsfűző műa.\",","                    \"2\": \"35\",","                    \"3\": \"34.666666666666664\"","                },","                {","                    \"0\": \"06010367T\",","                    \"1\": \"Számolókorong\",","                    \"2\": \"35\",","                    \"3\": \"35\"","                },","                {","                    \"0\": \"07080063T\",","                    \"1\": \"Ceruza szorzótáblás\",","                    \"2\": \"35\",","                    \"3\": \"35.333333333333336\"","                },","                {","                    \"0\": \"07050463T\",","                    \"1\": \"Ceruzafogó\",","                    \"2\": \"36\",","                    \"3\": \"35.666666666666664\"","                },","                {","                    \"0\": \"07040216T\",","                    \"1\": \"Ironbél B 0,5\",","                    \"2\": \"36\",","                    \"3\": \"36\"","                },","                {","                    \"0\": \"06040327T\",","                    \"1\": \"Radír Koh-i-nor 40\",","                    \"2\": \"36\",","                    \"3\": \"36\"","                },","                {","                    \"0\": \"06040323T\",","                    \"1\": \"Post-it 51×38 100 lapos\",","                    \"2\": \"36\",","                    \"3\": \"36\"","                },","                {","                    \"0\": \"07040060T\",","                    \"1\": \"Ceruza stabilo swano\",","                    \"2\": \"36\",","                    \"3\": \"36\"","                },","                {","                    \"0\": \"06010365T\",","                    \"1\": \"Számegyenes\",","                    \"2\": \"36\",","                    \"3\": \"36\"","                },","                {","                    \"0\": \"06010201T\",","                    \"1\": \"Hőmérő, műa.\",","                    \"2\": \"36\",","                    \"3\": \"36\"","                },","                {","                    \"0\": \"06010086T\",","                    \"1\": \"Ecset Nebulo 4-es\",","                    \"2\": \"36\",","                    \"3\": \"36\"","                },","                {","                    \"0\": \"04050255T\",","                    \"1\": \"Kulcstartó mesefigurás\",","                    \"2\": \"36\",","                    \"3\": \"36\"","                },","                {","                    \"0\": \"04030237T\",","                    \"1\": \"Képeslap kerek\",","                    \"2\": \"36\",","                    \"3\": \"36.666666666666664\"","                },","                {","                    \"0\": \"01080513T\",","                    \"1\": \"Selyemfényű karton A/4\",","                    \"2\": \"38\",","                    \"3\": \"37.666666666666664\"","                },","                {","                    \"0\": \"02030043T\",","                    \"1\": \"Boríték légp. kicsi\",","                    \"2\": \"39\",","                    \"3\": \"38.666666666666664\"","                },","                {","                    \"0\": \"07040051T\",","                    \"1\": \"Ceruza háromszög \",","                    \"2\": \"39\",","                    \"3\": \"39\"","                },","                {","                    \"0\": \"07040047T\",","                    \"1\": \"Ceruza 2H-4B\",","                    \"2\": \"39\",","                    \"3\": \"39\"","                },","                {","                    \"0\": \"07040133T\",","                    \"1\": \"G.toll betét görbe hegyű\",","                    \"2\": \"39\",","                    \"3\": \"39.333333333333336\"","                },","                {","                    \"0\": \"07080064T\",","                    \"1\": \"Ceruza zöld színű\",","                    \"2\": \"40\",","                    \"3\": \"39.666666666666664\"","                },","                {","                    \"0\": \"07040049T\",","                    \"1\": \"Ceruza Conté zöld\",","                    \"2\": \"40\",","                    \"3\": \"40\"","                },","                {","                    \"0\": \"07040056T\",","                    \"1\": \"Ceruza piros-kék vékony\",","                    \"2\": \"40\",","                    \"3\": \"40\"","                },","                {","                    \"0\": \"06040325T\",","                    \"1\": \"Radír gyümölcsös\",","                    \"2\": \"40\",","                    \"3\": \"40\"","                },","                {","                    \"0\": \"01100509T\",","                    \"1\": \"Márványos A/4\",","                    \"2\": \"40\",","                    \"3\": \"40\"","                },","                {","                    \"0\": \"02040507T\",","                    \"1\": \"Fólia tasakos A4 80 mik.\",","                    \"2\": \"40\",","                    \"3\": \"40\"","                },","                {","                    \"0\": \"03050459T\",","                    \"1\": \"Talpas tasak\",","                    \"2\": \"40\",","                    \"3\": \"40\"","                },","                {","                    \"0\": \"06010082T\",","                    \"1\": \"Ecset Centrum 10,11,12\",","                    \"2\": \"40\",","                    \"3\": \"40\"","                },","                {","                    \"0\": \"05050465T\",","                    \"1\": \"Tapétavágó kés\",","                    \"2\": \"40\",","                    \"3\": \"40.333333333333336\"","                },","                {","                    \"0\": \"07080153T\",","                    \"1\": \"Golyóstoll illatos ICO\",","                    \"2\": \"41\",","                    \"3\": \"41.333333333333336\"","                },","                {","                    \"0\": \"06010373T\",","                    \"1\": \"Színes papír I.II-IV.V-VIII-ig\",","                    \"2\": \"43\",","                    \"3\": \"42.666666666666664\"","                },","                {","                    \"0\": \"04030241T\",","                    \"1\": \"Képeslap virágos +boríték\",","                    \"2\": \"44\",","                    \"3\": \"43.666666666666664\"","                },","                {","                    \"0\": \"03080020T\",","                    \"1\": \"Ajándék csom. nagy  \",","                    \"2\": \"44\",","                    \"3\": \"44\"","                },","                {","                    \"0\": \"04030286T\",","                    \"1\": \"Műanyag állatok\",","                    \"2\": \"44\",","                    \"3\": \"44\"","                },","                {","                    \"0\": \"04050075T\",","                    \"1\": \"Díszdoboz tollnak 2 db-os keskeny\",","                    \"2\": \"44\",","                    \"3\": \"44\"","                },","                {","                    \"0\": \"03050077T\",","                    \"1\": \"Diszkötöző szalag arany\",","                    \"2\": \"44\",","                    \"3\": \"44\"","                },","                {","                    \"0\": \"02080450T\",","                    \"1\": \"Gémkapocs 28-as színes\",","                    \"2\": \"44\",","                    \"3\": \"44\"","                },","                {","                    \"0\": \"02040508T\",","                    \"1\": \"Fólia tasakos A4100 mik.\",","                    \"2\": \"44\",","                    \"3\": \"44\"","                },","                {","                    \"0\": \"02040506T\",","                    \"1\": \"Fólia tasakos A4 125 mik.\",","                    \"2\": \"44\",","                    \"3\": \"44\"","                },","                {","                    \"0\": \"02040405T\",","                    \"1\": \"Tűzőkapocs 10-es\",","                    \"2\": \"44\",","                    \"3\": \"44\"","                },","                {","                    \"0\": \"02040298T\",","                    \"1\": \"Notesz mintás\",","                    \"2\": \"44\",","                    \"3\": \"44\"","                },","                {","                    \"0\": \"02040209T\",","                    \"1\": \"Iratsín fehér\",","                    \"2\": \"44\",","                    \"3\": \"44\"","                },","                {","                    \"0\": \"07040134T\",","                    \"1\": \"G.toll betét illatos\",","                    \"2\": \"44\",","                    \"3\": \"44\"","                },","                {","                    \"0\": \"07080161T\",","                    \"1\": \"Golyóstoll kétszínű\",","                    \"2\": \"44\",","                    \"3\": \"44\"","                },","                {","                    \"0\": \"06040328T\",","                    \"1\": \"Radír Maped\",","                    \"2\": \"44\",","                    \"3\": \"44\"","                },","                {","                    \"0\": \"06040329T\",","                    \"1\": \"Radír stabilo\",","                    \"2\": \"44\",","                    \"3\": \"44\"","                },","                {","                    \"0\": \"07040061T\",","                    \"1\": \"Ceruza stabilo opera\",","                    \"2\": \"44\",","                    \"3\": \"44.333333333333336\"","                },","                {","                    \"0\": \"02080514T\",","                    \"1\": \"Spirál 1/4 \",","                    \"2\": \"45\",","                    \"3\": \"44.666666666666664\"","                },","                {","                    \"0\": \"06010374T\",","                    \"1\": \"Szorzótábla műanyag\",","                    \"2\": \"45\",","                    \"3\": \"45.333333333333336\"","                },","                {","                    \"0\": \"05050045T\",","                    \"1\": \"Celofán\",","                    \"2\": \"46\",","                    \"3\": \"45.666666666666664\"","                },","                {","                    \"0\": \"07040102T\",","                    \"1\": \"Filctoll supra fine\",","                    \"2\": \"46\",","                    \"3\": \"46.666666666666664\"","                },","                {","                    \"0\": \"07010137T\",","                    \"1\": \"G.toll betét PAX tip.\",","                    \"2\": \"48\",","                    \"3\": \"47.333333333333336\"","                },","                {","                    \"0\": \"06040386T\",","                    \"1\": \"Tempera szóló színes\",","                    \"2\": \"48\",","                    \"3\": \"48\"","                },","                {","                    \"0\": \"06010115T\",","                    \"1\": \"Füzet A/5, mintás\",","                    \"2\": \"48\",","                    \"3\": \"48\"","                },","                {","                    \"0\": \"04050224T\",","                    \"1\": \"Jelzőkréta\",","                    \"2\": \"48\",","                    \"3\": \"48\"","                },","                {","                    \"0\": \"04030239T\",","                    \"1\": \"Képeslap stancolt szív\",","                    \"2\": \"48\",","                    \"3\": \"48\"","                },","                {","                    \"0\": \"02040146T\",","                    \"1\": \"Gemkapocs ICO\",","                    \"2\": \"48\",","                    \"3\": \"48\"","                },","                {","                    \"0\": \"01020299T\",","                    \"1\": \"Oklevél A/4 egyszínű\",","                    \"2\": \"48\",","                    \"3\": \"48.333333333333336\"","                },","                {","                    \"0\": \"04110274T\",","                    \"1\": \"Matrica autóra H\",","                    \"2\": \"49\",","                    \"3\": \"48.666666666666664\"","                },","                {","                    \"0\": \"04110275T\",","                    \"1\": \"Matrica motoros kicsi\",","                    \"2\": \"49\",","                    \"3\": \"49\"","                },","                {","                    \"0\": \"06040331T\",","                    \"1\": \"Radír Tikky 40 \",","                    \"2\": \"49\",","                    \"3\": \"49.333333333333336\"","                },","                {","                    \"0\": \"06040330T\",","                    \"1\": \"Radír Tikky 30 \",","                    \"2\": \"50\",","                    \"3\": \"50\"","                },","                {","                    \"0\": \"07080150T\",","                    \"1\": \"Golyóstoll\",","                    \"2\": \"51\",","                    \"3\": \"50.666666666666664\"","                },","                {","                    \"0\": \"04110232T\",","                    \"1\": \"Képeslap humoros kaparós\",","                    \"2\": \"51\",","                    \"3\": \"51\"","                },","                {","                    \"0\": \"06040088T\",","                    \"1\": \"Egészségügyi könyv\",","                    \"2\": \"51\",","                    \"3\": \"51\"","                },","                {","                    \"0\": \"02080109T\",","                    \"1\": \"Floppy lemez\",","                    \"2\": \"51\",","                    \"3\": \"51.666666666666664\"","                },","                {","                    \"0\": \"07030103T\",","                    \"1\": \"Filctoll TINTEN PEN\",","                    \"2\": \"53\",","                    \"3\": \"52.333333333333336\"","                },","                {","                    \"0\": \"07040052T\",","                    \"1\": \"Ceruza 2H-3B Koh-i-nor\",","                    \"2\": \"53\",","                    \"3\": \"53.666666666666664\"","                },","                {","                    \"0\": \"07040054T\",","                    \"1\": \"Ceruza kártyás\",","                    \"2\": \"55\",","                    \"3\": \"54.333333333333336\"","                },","                {","                    \"0\": \"07040048T\",","                    \"1\": \"Ceruza arany, ezüst\",","                    \"2\": \"55\",","                    \"3\": \"55\"","                },","                {","                    \"0\": \"07040132T\",","                    \"1\": \"G.toll betét csavaros\",","                    \"2\": \"55\",","                    \"3\": \"55\"","                },","                {","                    \"0\": \"07040128T\",","                    \"1\": \"G. toll betét mini fém\",","                    \"2\": \"55\",","                    \"3\": \"55\"","                },","                {","                    \"0\": \"02080433T\",","                    \"1\": \"Ragasztószalag 19 mm-es\",","                    \"2\": \"55\",","                    \"3\": \"55\"","                },","                {","                    \"0\": \"01020300T\",","                    \"1\": \"Oklevél A/4 színes\",","                    \"2\": \"55\",","                    \"3\": \"55\"","                },","                {","                    \"0\": \"04110230T\",","                    \"1\": \"Képeslap humoros \",","                    \"2\": \"55\",","                    \"3\": \"55\"","                },","                {","                    \"0\": \"04110273T\",","                    \"1\": \"Matrica állatos\",","                    \"2\": \"55\",","                    \"3\": \"55.333333333333336\"","                },","                {","                    \"0\": \"04110282T\",","                    \"1\": \"Matrica WD kicsi\",","                    \"2\": \"56\",","                    \"3\": \"55.666666666666664\"","                },","                {","                    \"0\": \"04030262T\",","                    \"1\": \"Levélpapír sima\",","                    \"2\": \"56\",","                    \"3\": \"56\"","                },","                {","                    \"0\": \"03080019T\",","                    \"1\": \"Ajándék csom. Krepp\",","                    \"2\": \"56\",","                    \"3\": \"56\"","                },","                {","                    \"0\": \"02040296T\",","                    \"1\": \"Notesz A/6 College\",","                    \"2\": \"56\",","                    \"3\": \"56.666666666666664\"","                },","                {","                    \"0\": \"07040059T\",","                    \"1\": \"Ceruza smaragd\",","                    \"2\": \"58\",","                    \"3\": \"57.333333333333336\"","                },","                {","                    \"0\": \"06080411T\",","                    \"1\": \"Vonalzó 15 cm-es ESSELTE\",","                    \"2\": \"58\",","                    \"3\": \"58\"","                },","                {","                    \"0\": \"06040384T\",","                    \"1\": \"Technika cs. I-II-III-IV\",","                    \"2\": \"58\",","                    \"3\": \"58.333333333333336\"","                },","                {","                    \"0\": \"07040055T\",","                    \"1\": \"Ceruza piros-kék\",","                    \"2\": \"59\",","                    \"3\": \"58.666666666666664\"","                },","                {","                    \"0\": \"07040217T\",","                    \"1\": \"Ironbél H 0,5\",","                    \"2\": \"59\",","                    \"3\": \"59\"","                },","                {","                    \"0\": \"07080313T\",","                    \"1\": \"Pixiron Centrum\",","                    \"2\": \"59\",","                    \"3\": \"59\"","                },","                {","                    \"0\": \"07080317T\",","                    \"1\": \"Pixiron mini \",","                    \"2\": \"59\",","                    \"3\": \"59\"","                },","                {","                    \"0\": \"01010304T\",","                    \"1\": \"Öntapadós hologramos papír A/4\",","                    \"2\": \"59\",","                    \"3\": \"59\"","                },","                {","                    \"0\": \"01030092T\",","                    \"1\": \"Esküvői meghívó\",","                    \"2\": \"59\",","                    \"3\": \"59\"","                },","                {","                    \"0\": \"02040214T\",","                    \"1\": \"Iromány fedél feles\",","                    \"2\": \"59\",","                    \"3\": \"59\"","                },","                {","                    \"0\": \"04030238T\",","                    \"1\": \"Képeslap stancolt\",","                    \"2\": \"59\",","                    \"3\": \"59.333333333333336\"","                },","                {","                    \"0\": \"06010084T\",","                    \"1\": \"Ecset Deák 2-es\",","                    \"2\": \"60\",","                    \"3\": \"60\"","                },","                {","                    \"0\": \"06010368T\",","                    \"1\": \"Számolópálca\",","                    \"2\": \"61\",","                    \"3\": \"60.666666666666664\"","                },","                {","                    \"0\": \"04050073T\",","                    \"1\": \"Díszdoboz kar.\",","                    \"2\": \"61\",","                    \"3\": \"61.666666666666664\"","                },","                {","                    \"0\": \"05040349T\",","                    \"1\": \"Rajzszeg\",","                    \"2\": \"63\",","                    \"3\": \"62.333333333333336\"","                },","                {","                    \"0\": \"02040148T\",","                    \"1\": \"Genotherm lefűzhető A4 10db-os\",","                    \"2\": \"63\",","                    \"3\": \"63\"","                },","                {","                    \"0\": \"03010344T\",","                    \"1\": \"Ragasztószalag nagy 12 mm\",","                    \"2\": \"63\",","                    \"3\": \"63\"","                },","                {","                    \"0\": \"07080159T\",","                    \"1\": \"Golyóstoll Pax tip.\",","                    \"2\": \"63\",","                    \"3\": \"63\"","                },","                {","                    \"0\": \"06080429T\",","                    \"1\": \"Meghívó ballagási\",","                    \"2\": \"63\",","                    \"3\": \"63.333333333333336\"","                },","                {","                    \"0\": \"03080013T\",","                    \"1\": \"Ajándék csom. 50x70 húsvéti\",","                    \"2\": \"64\",","                    \"3\": \"64\"","                },","                {","                    \"0\": \"06010085T\",","                    \"1\": \"Ecset Lizzy 10-es\",","                    \"2\": \"65\",","                    \"3\": \"64.66666666666667\"","                },","                {","                    \"0\": \"04050220T\",","                    \"1\": \"Játék autó\",","                    \"2\": \"65\",","                    \"3\": \"65.33333333333333\"","                },","                {","                    \"0\": \"04050074T\",","                    \"1\": \"Díszdoboz tollnak 2 db-os\",","                    \"2\": \"66\",","                    \"3\": \"65.66666666666667\"","                },","                {","                    \"0\": \"04050187T\",","                    \"1\": \"Hajgumi macis\",","                    \"2\": \"66\",","                    \"3\": \"66\"","                },","                {","                    \"0\": \"02080436T\",","                    \"1\": \"Irattartó müa. boríték A/4\",","                    \"2\": \"66\",","                    \"3\": \"66\"","                },","                {","                    \"0\": \"07080419T\",","                    \"1\": \"Zselés toll MICRO\",","                    \"2\": \"66\",","                    \"3\": \"66.66666666666667\"","                },","                {","                    \"0\": \"06010111T\",","                    \"1\": \"Füzet  A/4 \",","                    \"2\": \"68\",","                    \"3\": \"68\"","                },","                {","                    \"0\": \"06080192T\",","                    \"1\": \"Hegyző fém 1 lyukú\",","                    \"2\": \"70\",","                    \"3\": \"70.33333333333333\"","                },","                {","                    \"0\": \"06050249T\",","                    \"1\": \"Krepp papír\",","                    \"2\": \"73\",","                    \"3\": \"72\"","                },","                {","                    \"0\": \"05050046T\",","                    \"1\": \"Celofán 50 db-os\",","                    \"2\": \"73\",","                    \"3\": \"73\"","                },","                {","                    \"0\": \"04110258T\",","                    \"1\": \"Lampion\",","                    \"2\": \"73\",","                    \"3\": \"73\"","                },","                {","                    \"0\": \"04050223T\",","                    \"1\": \"Játékautó mini\",","                    \"2\": \"73\",","                    \"3\": \"73\"","                },","                {","                    \"0\": \"04030235T\",","                    \"1\": \"Képeslap karácsonyi borítékos\",","                    \"2\": \"73\",","                    \"3\": \"73\"","                },","                {","                    \"0\": \"01100070T\",","                    \"1\": \"Dekorációs karton\",","                    \"2\": \"73\",","                    \"3\": \"73.33333333333333\"","                },","                {","                    \"0\": \"04030264T\",","                    \"1\": \"Levélpapír szett \",","                    \"2\": \"74\",","                    \"3\": \"73.66666666666667\"","                },","                {","                    \"0\": \"06080332T\",","                    \"1\": \"Radírtoll betét ER100\",","                    \"2\": \"74\",","                    \"3\": \"74\"","                },","                {","                    \"0\": \"06080430T\",","                    \"1\": \"Öntapadős betűk\",","                    \"2\": \"74\",","                    \"3\": \"74\"","                },","                {","                    \"0\": \"07010244T\",","                    \"1\": \"Kerámiatoll\",","                    \"2\": \"74\",","                    \"3\": \"74\"","                },","                {","                    \"0\": \"07040215T\",","                    \"1\": \"Ironbél  2B ICO\",","                    \"2\": \"74\",","                    \"3\": \"74.66666666666667\"","                },","                {","                    \"0\": \"07030104T\",","                    \"1\": \"Filctoll vastag ARTIP\",","                    \"2\": \"76\",","                    \"3\": \"76\"","                },","                {","                    \"0\": \"07010143T\",","                    \"1\": \"G.toll betét Zebra H-0,7\",","                    \"2\": \"78\",","                    \"3\": \"77.33333333333333\"","                },","                {","                    \"0\": \"06040380T\",","                    \"1\": \"Szövegkiemelő\",","                    \"2\": \"78\",","                    \"3\": \"78\"","                },","                {","                    \"0\": \"07040219T\",","                    \"1\": \"Ironbél HI-POLIMER HB 0,7\",","                    \"2\": \"78\",","                    \"3\": \"78\"","                },","                {","                    \"0\": \"06010112T\",","                    \"1\": \"Füzet  A4 mintás\",","                    \"2\": \"78\",","                    \"3\": \"78\"","                },","                {","                    \"0\": \"02040292T\",","                    \"1\": \"Naptárhát nagy\",","                    \"2\": \"78\",","                    \"3\": \"78.33333333333333\"","                },","                {","                    \"0\": \"06040087T\",","                    \"1\": \"Ecset Nebuló 10-es\",","                    \"2\": \"79\",","                    \"3\": \"79\"","                },","                {","                    \"0\": \"07040130T\",","                    \"1\": \"G. toll betét S7S\",","                    \"2\": \"80\",","                    \"3\": \"79.66666666666667\"","                },","                {","                    \"0\": \"07040391T\",","                    \"1\": \"Toll Centropen roller\",","                    \"2\": \"80\",","                    \"3\": \"80.33333333333333\"","                },","                {","                    \"0\": \"07080466T\",","                    \"1\": \"Golyóstoll Stabiló 308\",","                    \"2\": \"81\",","                    \"3\": \"80.66666666666667\"","                },","                {","                    \"0\": \"06080336T\",","                    \"1\": \"Ragasztó 8 g Pritt\",","                    \"2\": \"81\",","                    \"3\": \"81\"","                },","                {","                    \"0\": \"04110231T\",","                    \"1\": \"Képeslap humoros borítékos\",","                    \"2\": \"81\",","                    \"3\": \"81\"","                },","                {","                    \"0\": \"04040387T\",","                    \"1\": \"Tenisz labda\",","                    \"2\": \"81\",","                    \"3\": \"81\"","                },","                {","                    \"0\": \"02040197T\",","                    \"1\": \"Hibajavító lap \",","                    \"2\": \"81\",","                    \"3\": \"81\"","                },","                {","                    \"0\": \"02040206T\",","                    \"1\": \"Írásvetítő fólia\",","                    \"2\": \"81\",","                    \"3\": \"81\"","                },","                {","                    \"0\": \"03050080T\",","                    \"1\": \"Diszkötöző széles szalag\",","                    \"2\": \"81\",","                    \"3\": \"81\"","                },","                {","                    \"0\": \"03080014T\",","                    \"1\": \"Ajándék csom. 70x50 metál\",","                    \"2\": \"81\",","                    \"3\": \"81\"","                },","                {","                    \"0\": \"02040308T\",","                    \"1\": \"Pénztárgépsz. 2 pl. nem öníró\",","                    \"2\": \"81\",","                    \"3\": \"82.33333333333333\"","                },","                {","                    \"0\": \"07040131T\",","                    \"1\": \"G. toll betét UNI lachnok Fine SA-7C\",","                    \"2\": \"85\",","                    \"3\": \"85\"","                },","                {","                    \"0\": \"06080339T\",","                    \"1\": \"Ragasztó kores\",","                    \"2\": \"89\",","                    \"3\": \"87.66666666666667\"","                },","                {","                    \"0\": \"07010144T\",","                    \"1\": \"G.toll betét Zebra K-0,7\",","                    \"2\": \"89\",","                    \"3\": \"89\"","                },","                {","                    \"0\": \"06040357T\",","                    \"1\": \"Sp.Füzet A/5 70-es\",","                    \"2\": \"89\",","                    \"3\": \"89\"","                },","                {","                    \"0\": \"06040378T\",","                    \"1\": \"Szövegkiemelő vékony\",","                    \"2\": \"89\",","                    \"3\": \"89\"","                },","                {","                    \"0\": \"06040324T\",","                    \"1\": \"Post-it 75×75 100 lapos\",","                    \"2\": \"89\",","                    \"3\": \"89\"","                },","                {","                    \"0\": \"02040295T\",","                    \"1\": \"Notesz A/5 sima spirál\",","                    \"2\": \"89\",","                    \"3\": \"89\"","                },","                {","                    \"0\": \"02080456T\",","                    \"1\": \"Genoterm HERLITZ 10-es\",","                    \"2\": \"89\",","                    \"3\": \"89\"","                },","                {","                    \"0\": \"02040290T\",","                    \"1\": \"Naptár 24-es\",","                    \"2\": \"89\",","                    \"3\": \"89\"","                },","                {","                    \"0\": \"02040210T\",","                    \"1\": \"Iratsín kék\",","                    \"2\": \"89\",","                    \"3\": \"89\"","                },","                {","                    \"0\": \"01100071T\",","                    \"1\": \"Dekorációs karton arany, ezüst\",","                    \"2\": \"89\",","                    \"3\": \"89\"","                },","                {","                    \"0\": \"04050022T\",","                    \"1\": \"Álarc\",","                    \"2\": \"89\",","                    \"3\": \"89\"","                },","                {","                    \"0\": \"04030263T\",","                    \"1\": \"Levélpapír szett\",","                    \"2\": \"89\",","                    \"3\": \"89\"","                },","                {","                    \"0\": \"04110233T\",","                    \"1\": \"Képeslap humoros\",","                    \"2\": \"89\",","                    \"3\": \"89\"","                },","                {","                    \"0\": \"05010370T\",","                    \"1\": \"Szilvia csomagoló\",","                    \"2\": \"89\",","                    \"3\": \"89\"","                },","                {","                    \"0\": \"05050346T\",","                    \"1\": \"Rágógumi Orbit\",","                    \"2\": \"89\",","                    \"3\": \"89.66666666666667\"","                },","                {","                    \"0\": \"07010139T\",","                    \"1\": \"G.toll betét S7L \",","                    \"2\": \"91\",","                    \"3\": \"91\"","                },","                {","                    \"0\": \"06040379T\",","                    \"1\": \"Szövegkiemelő \",","                    \"2\": \"93\",","                    \"3\": \"92.33333333333333\"","                },","                {","                    \"0\": \"07080157T\",","                    \"1\": \"Golyóstoll Montex Hytone\",","                    \"2\": \"93\",","                    \"3\": \"93\"","                },","                {","                    \"0\": \"04110277T\",","                    \"1\": \"Matrica Stickers szíves\",","                    \"2\": \"93\",","                    \"3\": \"93\"","                },","                {","                    \"0\": \"02040309T\",","                    \"1\": \"Pénztárgépszalag 2pl SC 57.5/60\",","                    \"2\": \"93\",","                    \"3\": \"93.33333333333333\"","                },","                {","                    \"0\": \"07080315T\",","                    \"1\": \"Pixiron Handy műanyag\",","                    \"2\": \"94\",","                    \"3\": \"93.66666666666667\"","                },","                {","                    \"0\": \"07040169T\",","                    \"1\": \"Golyóstoll Zodiák\",","                    \"2\": \"94\",","                    \"3\": \"94.33333333333333\"","                },","                {","                    \"0\": \"07080418T\",","                    \"1\": \"Zselés toll \",","                    \"2\": \"95\",","                    \"3\": \"94.66666666666667\"","                },","                {","                    \"0\": \"06040183T\",","                    \"1\": \"Gyűrűskönyv bet. A/5\",","                    \"2\": \"95\",","                    \"3\": \"95.33333333333333\"","                },","                {","                    \"0\": \"06040385T\",","                    \"1\": \"Tempera szóló ezüst\",","                    \"2\": \"96\",","                    \"3\": \"96.66666666666667\"","                },","                {","                    \"0\": \"07010371T\",","                    \"1\": \"Színes ceruza 6-os\",","                    \"2\": \"99\",","                    \"3\": \"98.66666666666667\"","                },","                {","                    \"0\": \"06080338T\",","                    \"1\": \"Ragasztó kenőfejes Nebuló\",","                    \"2\": \"101\",","                    \"3\": \"100.33333333333333\"","                },","                {","                    \"0\": \"07080162T\",","                    \"1\": \"Golyóstoll Stabilo piros\",","                    \"2\": \"101\",","                    \"3\": \"101.66666666666667\"","                },","                {","                    \"0\": \"07030106T\",","                    \"1\": \"Filctoll, alkoholosOHP F-M-C\",","                    \"2\": \"103\",","                    \"3\": \"102.33333333333333\"","                },","                {","                    \"0\": \"06040381T\",","                    \"1\": \"Szövegkiemelő Videotip\",","                    \"2\": \"103\",","                    \"3\": \"103\"","                },","                {","                    \"0\": \"06040352T\",","                    \"1\": \"Rovatolt papír 20 íves\",","                    \"2\": \"103\",","                    \"3\": \"103\"","                },","                {","                    \"0\": \"02040294T\",","                    \"1\": \"Notesz A/5 sima\",","                    \"2\": \"103\",","                    \"3\": \"103\"","                },","                {","                    \"0\": \"02040297T\",","                    \"1\": \"Notesz sima spirál College\",","                    \"2\": \"103\",","                    \"3\": \"103\"","                },","                {","                    \"0\": \"02080449T\",","                    \"1\": \"Térképtű színes\",","                    \"2\": \"103\",","                    \"3\": \"103\"","                },","                {","                    \"0\": \"02080451T\",","                    \"1\": \"Gémkapocs 50-es\",","                    \"2\": \"103\",","                    \"3\": \"103\"","                },","                {","                    \"0\": \"03080008T\",","                    \"1\": \"Ajándék cs. tasak kicsi\",","                    \"2\": \"103\",","                    \"3\": \"103\"","                },","                {","                    \"0\": \"02020245T\",","                    \"1\": \"Kiadási pénztárbizonylat 2×25\",","                    \"2\": \"103\",","                    \"3\": \"103\"","                },","                {","                    \"0\": \"05040310T\",","                    \"1\": \"Pill.ragasztó\",","                    \"2\": \"103\",","                    \"3\": \"103\"","                },","                {","                    \"0\": \"04030265T\",","                    \"1\": \"Levélpapír szett natur, mintás\",","                    \"2\": \"103\",","                    \"3\": \"103\"","                },","                {","                    \"0\": \"04050253T\",","                    \"1\": \"Kulcstartó figurás\",","                    \"2\": \"103\",","                    \"3\": \"104\"","                },","                {","                    \"0\": \"03080031T\",","                    \"1\": \"Ajándék cs. húsvéti\",","                    \"2\": \"106\",","                    \"3\": \"105\"","                },","                {","                    \"0\": \"05040348T\",","                    \"1\": \"Rajzszeg színes\",","                    \"2\": \"106\",","                    \"3\": \"106\"","                },","                {","                    \"0\": \"02010028T\",","                    \"1\": \"Árazószalag \",","                    \"2\": \"106\",","                    \"3\": \"106\"","                },","                {","                    \"0\": \"02080226T\",","                    \"1\": \"Kapocskiszedő\",","                    \"2\": \"106\",","                    \"3\": \"106\"","                },","                {","                    \"0\": \"07040057T\",","                    \"1\": \"Ceruza Progresso\",","                    \"2\": \"106\",","                    \"3\": \"107\"","                },","                {","                    \"0\": \"04110276T\",","                    \"1\": \"Matrica Stickers nagy állatos\",","                    \"2\": \"109\",","                    \"3\": \"108.33333333333333\"","                },","                {","                    \"0\": \"04050171T\",","                    \"1\": \"Gumilabda közepes\",","                    \"2\": \"110\",","                    \"3\": \"109.66666666666667\"","                },","                {","                    \"0\": \"03080016T\",","                    \"1\": \"házt.csom.  5 ív\",","                    \"2\": \"110\",","                    \"3\": \"110\"","                },","                {","                    \"0\": \"02040149T\",","                    \"1\": \"Genotherm A4 10db-os\",","                    \"2\": \"110\",","                    \"3\": \"110\"","                },","                {","                    \"0\": \"06080335T\",","                    \"1\": \"Ragasztó 9 g Pax\",","                    \"2\": \"110\",","                    \"3\": \"110\"","                },","                {","                    \"0\": \"07080468T\",","                    \"1\": \"Golyóstoll háromfunkciós\",","                    \"2\": \"110\",","                    \"3\": \"111.33333333333333\"","                },","                {","                    \"0\": \"07030105T\",","                    \"1\": \"Filctoll, alkoholos Centropen\",","                    \"2\": \"114\",","                    \"3\": \"112.66666666666667\"","                },","                {","                    \"0\": \"03080439T\",","                    \"1\": \"Italtartó doboz\",","                    \"2\": \"114\",","                    \"3\": \"114.33333333333333\"","                },","                {","                    \"0\": \"04050250T\",","                    \"1\": \"Kulcstartó autós\",","                    \"2\": \"115\",","                    \"3\": \"114.66666666666667\"","                },","                {","                    \"0\": \"02020029T\",","                    \"1\": \"Átírótömb A/6\",","                    \"2\": \"115\",","                    \"3\": \"116\"","                },","                {","                    \"0\": \"04030242T\",","                    \"1\": \"Képeslap WD +boríték\",","                    \"2\": \"118\",","                    \"3\": \"117\"","                },","                {","                    \"0\": \"05010026T\",","                    \"1\": \"Alufólia 10 m-es\",","                    \"2\": \"118\",","                    \"3\": \"118\"","                },","                {","                    \"0\": \"05110360T\",","                    \"1\": \"Szalvéta egyszínű\",","                    \"2\": \"118\",","                    \"3\": \"118.33333333333333\"","                },","                {","                    \"0\": \"06080333T\",","                    \"1\": \"Radírtoll betét vastag\",","                    \"2\": \"119\",","                    \"3\": \"119.33333333333333\"","                },","                {","                    \"0\": \"06080441T\",","                    \"1\": \"Gyurmakés\",","                    \"2\": \"121\",","                    \"3\": \"120.33333333333333\"","                },","                {","                    \"0\": \"03080018T\",","                    \"1\": \"Ajándék csom. gyűrt 50x70 \",","                    \"2\": \"121\",","                    \"3\": \"121.66666666666667\"","                },","                {","                    \"0\": \"07010136T\",","                    \"1\": \"G.toll betét PAX\",","                    \"2\": \"123\",","                    \"3\": \"122.66666666666667\"","                },","                {","                    \"0\": \"04050252T\",","                    \"1\": \"Kulcstartó Csőrikés\",","                    \"2\": \"124\",","                    \"3\": \"124\"","                },","                {","                    \"0\": \"03080012T\",","                    \"1\": \"Ajándék csom. 200x70\",","                    \"2\": \"125\",","                    \"3\": \"124.66666666666667\"","                },","                {","                    \"0\": \"06040399T\",","                    \"1\": \"Tombola tömb\",","                    \"2\": \"125\",","                    \"3\": \"125\"","                },","                {","                    \"0\": \"07080312T\",","                    \"1\": \"Pixiron 0,7 Handy\",","                    \"2\": \"125\",","                    \"3\": \"126.33333333333333\"","                },","                {","                    \"0\": \"04050256T\",","                    \"1\": \"Kulcstartó nagyítós\",","                    \"2\": \"129\",","                    \"3\": \"127.66666666666667\"","                },","                {","                    \"0\": \"04050267T\",","                    \"1\": \"Logikai készlet\",","                    \"2\": \"129\",","                    \"3\": \"129\"","                },","                {","                    \"0\": \"05010369T\",","                    \"1\": \"Szemetes zsák 60 literes\",","                    \"2\": \"129\",","                    \"3\": \"129.66666666666666\"","                },","                {","                    \"0\": \"04050225T\",","                    \"1\": \"Kártya mini Magyar\",","                    \"2\": \"131\",","                    \"3\": \"131\"","                },","                {","                    \"0\": \"04050221T\",","                    \"1\": \"Játékautó Blisteres\",","                    \"2\": \"133\",","                    \"3\": \"132.33333333333334\"","                },","                {","                    \"0\": \"05110363T\",","                    \"1\": \"Szalvéta dekor\",","                    \"2\": \"133\",","                    \"3\": \"133\"","                },","                {","                    \"0\": \"02080081T\",","                    \"1\": \"Dvd\",","                    \"2\": \"133\",","                    \"3\": \"133\"","                },","                {","                    \"0\": \"02020032T\",","                    \"1\": \"Beírókönyv A5 \",","                    \"2\": \"133\",","                    \"3\": \"133\"","                },","                {","                    \"0\": \"02040198T\",","                    \"1\": \"Hibajavító roller 5 mm\",","                    \"2\": \"133\",","                    \"3\": \"133\"","                },","                {","                    \"0\": \"02040025T\",","                    \"1\": \"Álló irattartó karton\",","                    \"2\": \"133\",","                    \"3\": \"133\"","                },","                {","                    \"0\": \"07080314T\",","                    \"1\": \"Pixiron Handy fém\",","                    \"2\": \"133\",","                    \"3\": \"133\"","                },","                {","                    \"0\": \"06050301T\",","                    \"1\": \"Olló gyerek \",","                    \"2\": \"133\",","                    \"3\": \"133\"","                },","                {","                    \"0\": \"06080334T\",","                    \"1\": \"Ragasztó szalag KORES \",","                    \"2\": \"133\",","                    \"3\": \"135.33333333333334\"","                },","                {","                    \"0\": \"07040101T\",","                    \"1\": \"Filctoll permanent vastag\",","                    \"2\": \"140\",","                    \"3\": \"137.66666666666666\"","                },","                {","                    \"0\": \"07050464T\",","                    \"1\": \"Szövegkiemelő Staedtler\",","                    \"2\": \"140\",","                    \"3\": \"140\"","                },","                {","                    \"0\": \"04030261T\",","                    \"1\": \"Levélpapír állatos\",","                    \"2\": \"140\",","                    \"3\": \"141.33333333333334\"","                },","                {","                    \"0\": \"04050023T\",","                    \"1\": \"Álarc fejdísz\",","                    \"2\": \"144\",","                    \"3\": \"142.66666666666666\"","                },","                {","                    \"0\": \"04050024T\",","                    \"1\": \"Álarc szemüveg\",","                    \"2\": \"144\",","                    \"3\": \"144\"","                },","                {","                    \"0\": \"05080340T\",","                    \"1\": \"Ragasztó, Technokol 35g kék\",","                    \"2\": \"144\",","                    \"3\": \"144\"","                },","                {","                    \"0\": \"05080341T\",","                    \"1\": \"Ragasztó, Technokol 35g piros\",","                    \"2\": \"144\",","                    \"3\": \"144\"","                },","                {","                    \"0\": \"02020037T\",","                    \"1\": \"Bevételi pénztárbizonylat 3×25\",","                    \"2\": \"144\",","                    \"3\": \"144\"","                },","                {","                    \"0\": \"06040356T\",","                    \"1\": \"Sp.Füzet A/4  70es\",","                    \"2\": \"144\",","                    \"3\": \"144.66666666666666\"","                },","                {","                    \"0\": \"07080062T\",","                    \"1\": \"Ceruza szén\",","                    \"2\": \"146\",","                    \"3\": \"146\"","                },","                {","                    \"0\": \"06040174T\",","                    \"1\": \"Gumis mappa \",","                    \"2\": \"148\",","                    \"3\": \"147.33333333333334\"","                },","                {","                    \"0\": \"03080011T\",","                    \"1\": \"Ajándék cs. tasak közepes\",","                    \"2\": \"148\",","                    \"3\": \"148\"","                },","                {","                    \"0\": \"03080009T\",","                    \"1\": \"Ajándék csom. 100x70 metál\",","                    \"2\": \"148\",","                    \"3\": \"148\"","                },","                {","                    \"0\": \"03080017T\",","                    \"1\": \"iskolai csomagoló papír\",","                    \"2\": \"148\",","                    \"3\": \"148\"","                },","                {","                    \"0\": \"03050458T\",","                    \"1\": \"Ajándék cs. 2×100×70\",","                    \"2\": \"148\",","                    \"3\": \"148\"","                },","                {","                    \"0\": \"04110280T\",","                    \"1\": \"Matrica tetoválós kicsi\",","                    \"2\": \"148\",","                    \"3\": \"148\"","                },","                {","                    \"0\": \"04050251T\",","                    \"1\": \"Kulcstartó billiárd golyós\",","                    \"2\": \"148\",","                    \"3\": \"150.33333333333334\"","                },","                {","                    \"0\": \"04050254T\",","                    \"1\": \"Kulcstartó intarziás állatos\",","                    \"2\": \"155\",","                    \"3\": \"152.66666666666666\"","                },","                {","                    \"0\": \"04110283T\",","                    \"1\": \"Meghívó állatos\",","                    \"2\": \"155\",","                    \"3\": \"155\"","                },","                {","                    \"0\": \"06040355T\",","                    \"1\": \"Sp.Füzet A/4 70-as\",","                    \"2\": \"155\",","                    \"3\": \"157\"","                },","                {","                    \"0\": \"06040246T\",","                    \"1\": \"Körző\",","                    \"2\": \"161\",","                    \"3\": \"159\"","                },","                {","                    \"0\": \"06050303T\",","                    \"1\": \"Olló, iskolai\",","                    \"2\": \"161\",","                    \"3\": \"161\"","                },","                {","                    \"0\": \"07010372T\",","                    \"1\": \"Színes ceruza 12 szín\",","                    \"2\": \"161\",","                    \"3\": \"161\"","                },","                {","                    \"0\": \"06080259T\",","                    \"1\": \"Leckefüzet\",","                    \"2\": \"161\",","                    \"3\": \"161\"","                },","                {","                    \"0\": \"06080440T\",","                    \"1\": \"Gyurma 12 szinű\",","                    \"2\": \"161\",","                    \"3\": \"161\"","                },","                {","                    \"0\": \"06080426T\",","                    \"1\": \"Szótárfüzet Lizzy\",","                    \"2\": \"161\",","                    \"3\": \"161\"","                },","                {","                    \"0\": \"06080427T\",","                    \"1\": \"Ablakkréta\",","                    \"2\": \"161\",","                    \"3\": \"161\"","                },","                {","                    \"0\": \"07080420T\",","                    \"1\": \"Zselés toll Muhnwa\",","                    \"2\": \"161\",","                    \"3\": \"161\"","                },","                {","                    \"0\": \"04110278T\",","                    \"1\": \"Matrica Test ékszer tattoo\",","                    \"2\": \"161\",","                    \"3\": \"161\"","                },","                {","                    \"0\": \"05110364T\",","                    \"1\": \"Szalvéta kicsi virágos\",","                    \"2\": \"161\",","                    \"3\": \"161\"","                },","                {","                    \"0\": \"04050321T\",","                    \"1\": \"Plüss kicsi\",","                    \"2\": \"161\",","                    \"3\": \"161\"","                },","                {","                    \"0\": \"01080093T\",","                    \"1\": \"Fax papír 15 m\",","                    \"2\": \"161\",","                    \"3\": \"162.33333333333334\"","                },","                {","                    \"0\": \"04050222T\",","                    \"1\": \"Játékautó elemes\",","                    \"2\": \"165\",","                    \"3\": \"164\"","                },","                {","                    \"0\": \"03010345T\",","                    \"1\": \"Ragasztószalag széles barna\",","                    \"2\": \"166\",","                    \"3\": \"166.33333333333334\"","                },","                {","                    \"0\": \"04110279T\",","                    \"1\": \"Matrica tetoválás\",","                    \"2\": \"168\",","                    \"3\": \"167.66666666666666\"","                },","                {","                    \"0\": \"04110284T\",","                    \"1\": \"Meghívó borítékos\",","                    \"2\": \"169\",","                    \"3\": \"168.66666666666666\"","                },","                {","                    \"0\": \"04050204T\",","                    \"1\": \"Hűtőmágnes WD\",","                    \"2\": \"169\",","                    \"3\": \"169\"","                },","                {","                    \"0\": \"04030266T\",","                    \"1\": \"Levélpapír szett virágos\",","                    \"2\": \"169\",","                    \"3\": \"169\"","                },","                {","                    \"0\": \"03080015T\",","                    \"1\": \"Ajándék csom. gyűrt\",","                    \"2\": \"169\",","                    \"3\": \"170.33333333333334\"","                },","                {","                    \"0\": \"04050320T\",","                    \"1\": \"Plüss  QX állatok\",","                    \"2\": \"173\",","                    \"3\": \"172.33333333333334\"","                },","                {","                    \"0\": \"04110281T\",","                    \"1\": \"Matrica világítós \",","                    \"2\": \"175\",","                    \"3\": \"174.33333333333334\"","                },","                {","                    \"0\": \"05110361T\",","                    \"1\": \"Szalvéta Goma húsvéti\",","                    \"2\": \"175\",","                    \"3\": \"175.33333333333334\"","                },","                {","                    \"0\": \"05110359T\",","                    \"1\": \"Szalvéta \",","                    \"2\": \"176\",","                    \"3\": \"175.66666666666666\"","                },","                {","                    \"0\": \"06080410T\",","                    \"1\": \"Vízfesték 12db-os kínai\",","                    \"2\": \"176\",","                    \"3\": \"176\"","                },","                {","                    \"0\": \"06050302T\",","                    \"1\": \"Olló Tagit 18 cm-es\",","                    \"2\": \"176\",","                    \"3\": \"177.33333333333334\"","                },","                {","                    \"0\": \"06040179T\",","                    \"1\": \"Gyurma színes 200 g-os\",","                    \"2\": \"180\",","                    \"3\": \"178.66666666666666\"","                },","                {","                    \"0\": \"06080409T\",","                    \"1\": \"Vízfesték 12 színű kerek\",","                    \"2\": \"180\",","                    \"3\": \"180\"","                },","                {","                    \"0\": \"06080193T\",","                    \"1\": \"Hegyző fém 2 lyukú\",","                    \"2\": \"180\",","                    \"3\": \"180\"","                },","                {","                    \"0\": \"06080428T\",","                    \"1\": \"Ecsetkészlet\",","                    \"2\": \"180\",","                    \"3\": \"181\"","                },","                {","                    \"0\": \"04110362T\",","                    \"1\": \"Szalvéta gyűjtőknek\",","                    \"2\": \"183\",","                    \"3\": \"182.33333333333334\"","                },","                {","                    \"0\": \"04110228T\",","                    \"1\": \"Képeslap \\\"Nászajándék\\\"\",","                    \"2\": \"184\",","                    \"3\": \"183.66666666666666\"","                },","                {","                    \"0\": \"02080435T\",","                    \"1\": \"Mappa bemutató\",","                    \"2\": \"184\",","                    \"3\": \"184\"","                },","                {","                    \"0\": \"06040182T\",","                    \"1\": \"Gyűrűskönyv bet. A/4\",","                    \"2\": \"184\",","                    \"3\": \"184.33333333333334\"","                },","                {","                    \"0\": \"03080003T\",","                    \"1\": \"Ajándék cs. tasak italos\",","                    \"2\": \"185\",","                    \"3\": \"184.66666666666666\"","                },","                {","                    \"0\": \"02040195T\",","                    \"1\": \"Hibajavító ecsetes Aqua\",","                    \"2\": \"185\",","                    \"3\": \"185\"","                },","                {","                    \"0\": \"03080437T\",","                    \"1\": \"Ajándék csomagoló tasak\",","                    \"2\": \"185\",","                    \"3\": \"186\"","                },","                {","                    \"0\": \"07080470T\",","                    \"1\": \"Golyóstoll háromszög\",","                    \"2\": \"188\",","                    \"3\": \"187.33333333333334\"","                },","                {","                    \"0\": \"07040168T\",","                    \"1\": \"Golyóstoll Zebra new hard\",","                    \"2\": \"189\",","                    \"3\": \"189\"","                },","                {","                    \"0\": \"08070482T\",","                    \"1\": \"Fizika munkafüzet 14 év.\",","                    \"2\": \"190\",","                    \"3\": \"190\"","                },","                {","                    \"0\": \"06040175T\",","                    \"1\": \"Gumis mappa Köbüki\",","                    \"2\": \"191\",","                    \"3\": \"192\"","                },","                {","                    \"0\": \"06080121T\",","                    \"1\": \"Füzetborító öntapadó tekercses\",","                    \"2\": \"195\",","                    \"3\": \"193.66666666666666\"","                },","                {","                    \"0\": \"04030243T\",","                    \"1\": \"Képkirakó Dirib-darab\",","                    \"2\": \"195\",","                    \"3\": \"195\"","                },","                {","                    \"0\": \"06040172T\",","                    \"1\": \"Gumis mappa csomagolt\",","                    \"2\": \"195\",","                    \"3\": \"196\"","                },","                {","                    \"0\": \"08070481T\",","                    \"1\": \"Fizika munkafüzet 13 év.\",","                    \"2\": \"198\",","                    \"3\": \"198.66666666666666\"","                },","                {","                    \"0\": \"06080126T\",","                    \"1\": \"Füzettartó A/5  \",","                    \"2\": \"203\",","                    \"3\": \"201.33333333333334\"","                },","                {","                    \"0\": \"06040351T\",","                    \"1\": \"Regiszteres füzet A5 Hightech\",","                    \"2\": \"203\",","                    \"3\": \"204\"","                },","                {","                    \"0\": \"06040354T\",","                    \"1\": \"Sp.Füzet A/4  perforált, lyuk.\",","                    \"2\": \"206\",","                    \"3\": \"205\"","                },","                {","                    \"0\": \"03080007T\",","                    \"1\": \"Ajándék cs. tasak mintás nagy\",","                    \"2\": \"206\",","                    \"3\": \"206\"","                },","                {","                    \"0\": \"03080010T\",","                    \"1\": \"Ajándék csom. 150x70\",","                    \"2\": \"206\",","                    \"3\": \"207.33333333333334\"","                },","                {","                    \"0\": \"02080434T\",","                    \"1\": \"Mappa müa A/4\",","                    \"2\": \"210\",","                    \"3\": \"208.66666666666666\"","                },","                {","                    \"0\": \"06080408T\",","                    \"1\": \"Vízfesték 12 db-os \",","                    \"2\": \"210\",","                    \"3\": \"210.33333333333334\"","                },","                {","                    \"0\": \"06040173T\",","                    \"1\": \"Gumis mappa fóliázott állatos\",","                    \"2\": \"211\",","                    \"3\": \"211.66666666666666\"","                },","                {","                    \"0\": \"05010027T\",","                    \"1\": \"Alufólia 20 m-es\",","                    \"2\": \"214\",","                    \"3\": \"213\"","                },","                {","                    \"0\": \"03080438T\",","                    \"1\": \"Ajándék csomagoló tasak lézeres\",","                    \"2\": \"214\",","                    \"3\": \"214\"","                },","                {","                    \"0\": \"02080431T\",","                    \"1\": \"Álló irattartó\",","                    \"2\": \"214\",","                    \"3\": \"214\"","                },","                {","                    \"0\": \"08070491T\",","                    \"1\": \"Szám.tech. kicsiknek\",","                    \"2\": \"214\",","                    \"3\": \"215.33333333333334\"","                },","                {","                    \"0\": \"07040165T\",","                    \"1\": \"Golyóstoll UNI laknock\",","                    \"2\": \"218\",","                    \"3\": \"216.66666666666666\"","                },","                {","                    \"0\": \"06040184T\",","                    \"1\": \"Gyűrűskönyv betét A/5\",","                    \"2\": \"218\",","                    \"3\": \"218.66666666666666\"","                },","                {","                    \"0\": \"03080030T\",","                    \"1\": \"Ajándék cs. húsvéti 200x70\",","                    \"2\": \"220\",","                    \"3\": \"222\"","                },","                {","                    \"0\": \"06040180T\",","                    \"1\": \"Gyurma színes natúr\",","                    \"2\": \"228\",","                    \"3\": \"225.33333333333334\"","                },","                {","                    \"0\": \"06080423T\",","                    \"1\": \"Beíró A/5 kockás\",","                    \"2\": \"228\",","                    \"3\": \"228\"","                },","                {","                    \"0\": \"07010142T\",","                    \"1\": \"G.toll betét Zebra F-0.7\",","                    \"2\": \"228\",","                    \"3\": \"228\"","                },","                {","                    \"0\": \"07080421T\",","                    \"1\": \"Zseléstoll Lizzy Card\",","                    \"2\": \"228\",","                    \"3\": \"228.66666666666666\"","                },","                {","                    \"0\": \"07080163T\",","                    \"1\": \"Golyóstoll UNI átlátszó\",","                    \"2\": \"230\",","                    \"3\": \"229.66666666666666\"","                },","                {","                    \"0\": \"07080164T\",","                    \"1\": \"Golyóstoll UNI gumis\",","                    \"2\": \"231\",","                    \"3\": \"232\"","                },","                {","                    \"0\": \"07080318T\",","                    \"1\": \"Pixiron Penac\",","                    \"2\": \"235\",","                    \"3\": \"235\"","                },","                {","                    \"0\": \"07080160T\",","                    \"1\": \"Golyóstoll penac\",","                    \"2\": \"239\",","                    \"3\": \"238\"","                },","                {","                    \"0\": \"G029-FE307\",","                    \"1\": \"fiú zokni\",","                    \"2\": \"240\",","                    \"3\": \"239.66666666666666\"","                },","                {","                    \"0\": \"L029-FE307\",","                    \"1\": \"lány zokni\",","                    \"2\": \"240\",","                    \"3\": \"241\"","                },","                {","                    \"0\": \"06040248T\",","                    \"1\": \"Körző maped\",","                    \"2\": \"243\",","                    \"3\": \"242\"","                },","                {","                    \"0\": \"02040211T\",","                    \"1\": \"Iratrendező ESSELTE\",","                    \"2\": \"243\",","                    \"3\": \"245\"","                },","                {","                    \"0\": \"06080407T\",","                    \"1\": \"Vízfesték  12 színű nagy\",","                    \"2\": \"249\",","                    \"3\": \"249.33333333333334\"","                },","                {","                    \"0\": \"06040350T\",","                    \"1\": \"Regiszteres füzet A4\",","                    \"2\": \"256\",","                    \"3\": \"254.66666666666666\"","                },","                {","                    \"0\": \"02080432T\",","                    \"1\": \"Tokos iratrendező\",","                    \"2\": \"259\",","                    \"3\": \"259.6666666666667\"","                },","                {","                    \"0\": \"04080271T\",","                    \"1\": \"Mappa PVC villámzáras\",","                    \"2\": \"264\",","                    \"3\": \"265.3333333333333\"","                },","                {","                    \"0\": \"02040196T\",","                    \"1\": \"Hibajavító készlet Blanco\",","                    \"2\": \"273\",","                    \"3\": \"270\"","                },","                {","                    \"0\": \"07080467T\",","                    \"1\": \"Golyóstoll kétfunkciós ICO\",","                    \"2\": \"273\",","                    \"3\": \"274\"","                },","                {","                    \"0\": \"07080311T\",","                    \"1\": \"Pixiron  UNI\",","                    \"2\": \"276\",","                    \"3\": \"275\"","                },","                {","                    \"0\": \"07030107T\",","                    \"1\": \"Filctoll, textil Edding 4500\",","                    \"2\": \"276\",","                    \"3\": \"276.6666666666667\"","                },","                {","                    \"0\": \"07040098T\",","                    \"1\": \"Filctoll document pen\",","                    \"2\": \"278\",","                    \"3\": \"277.3333333333333\"","                },","                {","                    \"0\": \"02040200T\",","                    \"1\": \"Hibajavító Kores mini pen\",","                    \"2\": \"278\",","                    \"3\": \"280.6666666666667\"","                },","                {","                    \"0\": \"02040199T\",","                    \"1\": \"Hibajavító roller Pax\",","                    \"2\": \"286\",","                    \"3\": \"283.3333333333333\"","                },","                {","                    \"0\": \"02040402T\",","                    \"1\": \"Tűzőgép Boxer \",","                    \"2\": \"286\",","                    \"3\": \"287.3333333333333\"","                },","                {","                    \"0\": \"03080005T\",","                    \"1\": \"Ajándék cs. tasak virágos nagy\",","                    \"2\": \"290\",","                    \"3\": \"289\"","                },","                {","                    \"0\": \"08070485T\",","                    \"1\": \"Jól felkészültem-e - Fizika\",","                    \"2\": \"291\",","                    \"3\": \"291.3333333333333\"","                },","                {","                    \"0\": \"08070476T\",","                    \"1\": \"Anyanyelvi gyakorló 2\",","                    \"2\": \"293\",","                    \"3\": \"292.3333333333333\"","                },","                {","                    \"0\": \"06080337T\",","                    \"1\": \"Ragasztó Gyurma\",","                    \"2\": \"293\",","                    \"3\": \"293.3333333333333\"","                },","                {","                    \"0\": \"07080471T\",","                    \"1\": \"Golyóstoll levélbontós\",","                    \"2\": \"294\",","                    \"3\": \"294.6666666666667\"","                },","                {","                    \"0\": \"02060034T\",","                    \"1\": \"Bélyegzőfesték \",","                    \"2\": \"297\",","                    \"3\": \"296.6666666666667\"","                },","                {","                    \"0\": \"07080319T\",","                    \"1\": \"Pixiron Pentel színes\",","                    \"2\": \"299\",","                    \"3\": \"301.3333333333333\"","                },","                {","                    \"0\": \"08070480T\",","                    \"1\": \"Fizika 13 éveseknek\",","                    \"2\": \"308\",","                    \"3\": \"305.6666666666667\"","                },","                {","                    \"0\": \"02040293T\",","                    \"1\": \"Névjegytartó kicsi\",","                    \"2\": \"310\",","                    \"3\": \"310.6666666666667\"","                },","                {","                    \"0\": \"04050322T\",","                    \"1\": \"Plüss sárkány\",","                    \"2\": \"314\",","                    \"3\": \"313.3333333333333\"","                },","                {","                    \"0\": \"04080442T\",","                    \"1\": \"Emlékkönyv\",","                    \"2\": \"316\",","                    \"3\": \"318\"","                },","                {","                    \"0\": \"08070483T\",","                    \"1\": \"Fizikai feladatok és tévedések\",","                    \"2\": \"324\",","                    \"3\": \"321.3333333333333\"","                },","                {","                    \"0\": \"06080422T\",","                    \"1\": \"Füzettartó A/4\",","                    \"2\": \"324\",","                    \"3\": \"324\"","                },","                {","                    \"0\": \"06040394T\",","                    \"1\": \"Tolltartó zipzáras\",","                    \"2\": \"324\",","                    \"3\": \"325.3333333333333\"","                },","                {","                    \"0\": \"02020033T\",","                    \"1\": \"Beírókönyv A4\",","                    \"2\": \"328\",","                    \"3\": \"330.3333333333333\"","                },","                {","                    \"0\": \"02040401T\",","                    \"1\": \"Tűzőgép Boxer 10\",","                    \"2\": \"339\",","                    \"3\": \"336.3333333333333\"","                },","                {","                    \"0\": \"01010001T\",","                    \"1\": \"félfamentes rajzlap A4 (10 lap)\",","                    \"2\": \"342\",","                    \"3\": \"342\"","                },","                {","                    \"0\": \"08070484T\",","                    \"1\": \"Fogalmazás lépésről lépésre\",","                    \"2\": \"345\",","                    \"3\": \"346.6666666666667\"","                },","                {","                    \"0\": \"08070477T\",","                    \"1\": \"Anyanyelvi gyakorló 3\",","                    \"2\": \"353\",","                    \"3\": \"351.3333333333333\"","                },","                {","                    \"0\": \"04050358T\",","                    \"1\": \"Strandlabda \",","                    \"2\": \"356\",","                    \"3\": \"356.3333333333333\"","                },","                {","                    \"0\": \"04080272T\",","                    \"1\": \"Mappa PVC villámzáras  képes\",","                    \"2\": \"360\",","                    \"3\": \"358.6666666666667\"","                },","                {","                    \"0\": \"07040389T\",","                    \"1\": \"Tintapatron 30 db-os kék\",","                    \"2\": \"360\",","                    \"3\": \"361.3333333333333\"","                },","                {","                    \"0\": \"07080469T\",","                    \"1\": \"Golyóstoll UNIBALL 07\",","                    \"2\": \"364\",","                    \"3\": \"371.3333333333333\"","                },","                {","                    \"0\": \"07080151T\",","                    \"1\": \"Golyóstoll + ceruza Twister 2in1\",","                    \"2\": \"390\",","                    \"3\": \"381.3333333333333\"","                },","                {","                    \"0\": \"G023-FE301\",","                    \"1\": \"fiú alsó\",","                    \"2\": \"390\",","                    \"3\": \"390\"","                },","                {","                    \"0\": \"L023-FE301\",","                    \"1\": \"lány alsó\",","                    \"2\": \"390\",","                    \"3\": \"390\"","                },","                {","                    \"0\": \"07040100T\",","                    \"1\": \"Filctoll Marvy alkoholos\",","                    \"2\": \"390\",","                    \"3\": \"393.6666666666667\"","                },","                {","                    \"0\": \"07080154T\",","                    \"1\": \"Golyóstoll INOXCROM\",","                    \"2\": \"401\",","                    \"3\": \"398\"","                },","                {","                    \"0\": \"08070486T\",","                    \"1\": \"Matematika gyakorló 2\",","                    \"2\": \"403\",","                    \"3\": \"402.3333333333333\"","                },","                {","                    \"0\": \"08070487T\",","                    \"1\": \"Matematika gyakorló 3\",","                    \"2\": \"403\",","                    \"3\": \"403\"","                },","                {","                    \"0\": \"08070488T\",","                    \"1\": \"Matematika gyakorló 4\",","                    \"2\": \"403\",","                    \"3\": \"403.6666666666667\"","                },","                {","                    \"0\": \"02040404T\",","                    \"1\": \"Tűzőgép EAGLE\",","                    \"2\": \"405\",","                    \"3\": \"406\"","                },","                {","                    \"0\": \"06040396T\",","                    \"1\": \"Tolltartó Garfield\",","                    \"2\": \"410\",","                    \"3\": \"408.6666666666667\"","                },","                {","                    \"0\": \"06040398T\",","                    \"1\": \"Tolltartó hengeres \",","                    \"2\": \"411\",","                    \"3\": \"410.6666666666667\"","                },","                {","                    \"0\": \"06080125T\",","                    \"1\": \"Füzettartó A/5 vastag\",","                    \"2\": \"411\",","                    \"3\": \"416\"","                },","                {","                    \"0\": \"06010343T\",","                    \"1\": \"Ragasztószalag 19 mm-es SCOTCH+ tépő\",","                    \"2\": \"426\",","                    \"3\": \"423.6666666666667\"","                },","                {","                    \"0\": \"07040099T\",","                    \"1\": \"Filctoll Edding 750\",","                    \"2\": \"434\",","                    \"3\": \"431.3333333333333\"","                },","                {","                    \"0\": \"07040257T\",","                    \"1\": \"Lakk filc Edding 750\",","                    \"2\": \"434\",","                    \"3\": \"435.3333333333333\"","                },","                {","                    \"0\": \"02080452T\",","                    \"1\": \"Tűzőgép mini\",","                    \"2\": \"438\",","                    \"3\": \"437.3333333333333\"","                },","                {","                    \"0\": \"08070475T\",","                    \"1\": \"A föld amelyen élünk - munkafüzet\",","                    \"2\": \"440\",","                    \"3\": \"439.3333333333333\"","                },","                {","                    \"0\": \"08070494T\",","                    \"1\": \"Érettségi felv. fel. Fizika\",","                    \"2\": \"440\",","                    \"3\": \"440\"","                },","                {","                    \"0\": \"08070495T\",","                    \"1\": \"Érettségi felv. fel. Biológia\",","                    \"2\": \"440\",","                    \"3\": \"443\"","                },","                {","                    \"0\": \"04080443T\",","                    \"1\": \"Emlékkönyv lakatos\",","                    \"2\": \"449\",","                    \"3\": \"448\"","                },","                {","                    \"0\": \"07040166T\",","                    \"1\": \"Golyóstoll Zebra 301\",","                    \"2\": \"455\",","                    \"3\": \"456\"","                },","                {","                    \"0\": \"02020444T\",","                    \"1\": \"Határidő napló A/6\",","                    \"2\": \"464\",","                    \"3\": \"462.3333333333333\"","                },","                {","                    \"0\": \"07080316T\",","                    \"1\": \"Pixiron KOH-I-NOOR\",","                    \"2\": \"468\",","                    \"3\": \"475\"","                },","                {","                    \"0\": \"07050462T\",","                    \"1\": \"Töltőtoll tinta \",","                    \"2\": \"493\",","                    \"3\": \"489.6666666666667\"","                },","                {","                    \"0\": \"06080124T\",","                    \"1\": \"Füzettartó A/4 keménytáblás\",","                    \"2\": \"508\",","                    \"3\": \"503\"","                },","                {","                    \"0\": \"06010366T\",","                    \"1\": \"Számológép Roxin\",","                    \"2\": \"508\",","                    \"3\": \"509\"","                },","                {","                    \"0\": \"06040400T\",","                    \"1\": \"Tornazsák\",","                    \"2\": \"511\",","                    \"3\": \"515\"","                },","                {","                    \"0\": \"04040090T\",","                    \"1\": \"Emlékkönyv\",","                    \"2\": \"526\",","                    \"3\": \"521\"","                },","                {","                    \"0\": \"02080453T\",","                    \"1\": \"Lyukasztó EAGLE\",","                    \"2\": \"526\",","                    \"3\": \"534.3333333333334\"","                },","                {","                    \"0\": \"06080123T\",","                    \"1\": \"Füzettartó A/4 keménytáblás\",","                    \"2\": \"551\",","                    \"3\": \"552.6666666666666\"","                },","                {","                    \"0\": \"06040185T\",","                    \"1\": \"Gyűrűskönyv\",","                    \"2\": \"581\",","                    \"3\": \"585.6666666666666\"","                },","                {","                    \"0\": \"02080455T\",","                    \"1\": \"Festékpatron BCI-3BK\",","                    \"2\": \"625\",","                    \"3\": \"613\"","                },","                {","                    \"0\": \"06040382T\",","                    \"1\": \"Táblafilc\",","                    \"2\": \"633\",","                    \"3\": \"636\"","                },","                {","                    \"0\": \"02060039T\",","                    \"1\": \"Bélyegző párna\",","                    \"2\": \"650\",","                    \"3\": \"646\"","                },","                {","                    \"0\": \"06040397T\",","                    \"1\": \"Tolltartó asztali\",","                    \"2\": \"655\",","                    \"3\": \"653.3333333333334\"","                },","                {","                    \"0\": \"07040167T\",","                    \"1\": \"Golyóstoll Zebra mini\",","                    \"2\": \"655\",","                    \"3\": \"661.3333333333334\"","                },","                {","                    \"0\": \"08070479T\",","                    \"1\": \"Fizika\",","                    \"2\": \"674\",","                    \"3\": \"671\"","                },","                {","                    \"0\": \"07040135T\",","                    \"1\": \"G.toll betét Parker \",","                    \"2\": \"684\",","                    \"3\": \"681.3333333333334\"","                },","                {","                    \"0\": \"01100505T\",","                    \"1\": \"Fehér másoló A/4\",","                    \"2\": \"686\",","                    \"3\": \"686.6666666666666\"","                },","                {","                    \"0\": \"N019-FE301\",","                    \"1\": \"női alsó\",","                    \"2\": \"690\",","                    \"3\": \"689\"","                },","                {","                    \"0\": \"08070490T\",","                    \"1\": \"Szövegszerkesztés\",","                    \"2\": \"691\",","                    \"3\": \"693.3333333333334\"","                },","                {","                    \"0\": \"06040186T\",","                    \"1\": \"Gyűrűskönyv színes\",","                    \"2\": \"699\",","                    \"3\": \"703.3333333333334\"","                },","                {","                    \"0\": \"08070493T\",","                    \"1\": \"Érettségi felv. fel. Matematika\",","                    \"2\": \"720\",","                    \"3\": \"715.6666666666666\"","                },","                {","                    \"0\": \"06040395T\",","                    \"1\": \"Tolltartó 2 zipzáros töltött\",","                    \"2\": \"728\",","                    \"3\": \"725.3333333333334\"","                },","                {","                    \"0\": \"06040392T\",","                    \"1\": \"Tolltartó 1 zipzáros\",","                    \"2\": \"728\",","                    \"3\": \"728\"","                },","                {","                    \"0\": \"01100095T\",","                    \"1\": \"Fénymásoló papír GetCopy\",","                    \"2\": \"728\",","                    \"3\": \"728\"","                },","                {","                    \"0\": \"01100096T\",","                    \"1\": \"Fénymásoló papír Qconnect\",","                    \"2\": \"728\",","                    \"3\": \"728\"","                },","                {","                    \"0\": \"04020445T\",","                    \"1\": \"Határidő napló 2010-s\",","                    \"2\": \"728\",","                    \"3\": \"730.3333333333334\"","                },","                {","                    \"0\": \"08070492T\",","                    \"1\": \"Informatika\",","                    \"2\": \"735\",","                    \"3\": \"742.6666666666666\"","                },","                {","                    \"0\": \"06040393T\",","                    \"1\": \"Tolltartó 2 részes NG.\",","                    \"2\": \"765\",","                    \"3\": \"755\"","                },","                {","                    \"0\": \"02080454T\",","                    \"1\": \"Lyukasztó BOXER\",","                    \"2\": \"765\",","                    \"3\": \"767.6666666666666\"","                },","                {","                    \"0\": \"07080158T\",","                    \"1\": \"Golyóstoll Parker tokban\",","                    \"2\": \"773\",","                    \"3\": \"772.6666666666666\"","                },","                {","                    \"0\": \"02060038T\",","                    \"1\": \"Bélyegző IDEAL 50\",","                    \"2\": \"780\",","                    \"3\": \"779.3333333333334\"","                },","                {","                    \"0\": \"08070478T\",","                    \"1\": \"Összefoglaló feladatgyüjtemény számtech.\",","                    \"2\": \"785\",","                    \"3\": \"786.3333333333334\"","                },","                {","                    \"0\": \"02040194T\",","                    \"1\": \"Hibajav.roll.Pritt 4,2mm\",","                    \"2\": \"794\",","                    \"3\": \"808\"","                },","                {","                    \"0\": \"01100094T\",","                    \"1\": \"Fénymásoló papír DataCopy\",","                    \"2\": \"845\",","                    \"3\": \"835.6666666666666\"","                },","                {","                    \"0\": \"08070489T\",","                    \"1\": \"RAMba zárt világ\",","                    \"2\": \"868\",","                    \"3\": \"862.6666666666666\"","                },","                {","                    \"0\": \"06080188T\",","                    \"1\": \"Hegyező gép\",","                    \"2\": \"875\",","                    \"3\": \"911\"","                },","                {","                    \"0\": \"G038-FE316\",","                    \"1\": \"fiú harisnya\",","                    \"2\": \"990\",","                    \"3\": \"951.6666666666666\"","                },","                {","                    \"0\": \"L033-FE311\",","                    \"1\": \"lány harisnya\",","                    \"2\": \"990\",","                    \"3\": \"999.6666666666666\"","                },","                {","                    \"0\": \"07080152T\",","                    \"1\": \"Golyóstoll 3 funkciós \",","                    \"2\": \"1019\",","                    \"3\": \"1032.6666666666667\"","                },","                {","                    \"0\": \"08070472T\",","                    \"1\": \"A föld amelyen élünk - Európa földrajza\",","                    \"2\": \"1089\",","                    \"3\": \"1065.6666666666667\"","                },","                {","                    \"0\": \"08070473T\",","                    \"1\": \"A föld amelyen élünk - Távoli földrészek\",","                    \"2\": \"1089\",","                    \"3\": \"1089\"","                },","                {","                    \"0\": \"08070474T\",","                    \"1\": \"A föld amelyen élünk - Hazánk földrajza\",","                    \"2\": \"1089\",","                    \"3\": \"1108.3333333333333\"","                },","                {","                    \"0\": \"02060448T\",","                    \"1\": \"Bélyegző RP 18-47\",","                    \"2\": \"1147\",","                    \"3\": \"1136.3333333333333\"","                },","                {","                    \"0\": \"06040446T\",","                    \"1\": \"Számológép tudományos\",","                    \"2\": \"1173\",","                    \"3\": \"1203.3333333333333\"","                },","                {","                    \"0\": \"G019-NA207\",","                    \"1\": \"gyermek pamut nadrág (fiú)\",","                    \"2\": \"1290\",","                    \"3\": \"1251\"","                },","                {","                    \"0\": \"L019-NA207\",","                    \"1\": \"gyermek pamut nadrág (lány)\",","                    \"2\": \"1290\",","                    \"3\": \"1310.3333333333333\"","                },","                {","                    \"0\": \"02040403T\",","                    \"1\": \"Tűzőgép SAX 239\",","                    \"2\": \"1351\",","                    \"3\": \"1339.3333333333333\"","                },","                {","                    \"0\": \"02060447T\",","                    \"1\": \"Bélyegző pocket\",","                    \"2\": \"1377\",","                    \"3\": \"1405.3333333333333\"","                },","                {","                    \"0\": \"01100504T\",","                    \"1\": \"Fehér másoló A/3\",","                    \"2\": \"1488\",","                    \"3\": \"1455\"","                },","                {","                    \"0\": \"01100496T\",","                    \"1\": \"Színes másoló a/4 80g\",","                    \"2\": \"1500\",","                    \"3\": \"1584.3333333333333\"","                },","                {","                    \"0\": \"04080270T\",","                    \"1\": \"Mappa bőr A5\",","                    \"2\": \"1765\",","                    \"3\": \"1751.6666666666667\"","                },","                {","                    \"0\": \"U001-KI501\",","                    \"1\": \"sál\",","                    \"2\": \"1990\",","                    \"3\": \"1951.6666666666667\"","                },","                {","                    \"0\": \"02040002T\",","                    \"1\": \"irodai tűzőgép\",","                    \"2\": \"2100\",","                    \"3\": \"2663.3333333333335\"","                },","                {","                    \"0\": \"L048-PO218\",","                    \"1\": \"gyermek póló (lány)\",","                    \"2\": \"3900\",","                    \"3\": \"3300\"","                },","                {","                    \"0\": \"G048-PO218\",","                    \"1\": \"gyermek póló (fiú)\",","                    \"2\": \"3900\",","                    \"3\": \"4125\"","                },","                {","                    \"0\": \"01080512T\",","                    \"1\": \"Öntapadó A/4\",","                    \"2\": \"4575\",","                    \"3\": \"4488.333333333333\"","                },","                {","                    \"0\": \"G013-NA201\",","                    \"1\": \"gyermek farmer nadrág (fiú)\",","                    \"2\": \"4990\",","                    \"3\": \"4851.666666666667\"","                },","                {","                    \"0\": \"L013-NA201\",","                    \"1\": \"gyermek farmer nadrág (lány)\",","                    \"2\": \"4990\",","                    \"3\": \"5490\"","                },","                {","                    \"0\": \"F021-IN215\",","                    \"1\": \"férfi ing\",","                    \"2\": \"6490\",","                    \"3\": \"6126.666666666667\"","                },","                {","                    \"0\": \"L064-CI401\",","                    \"1\": \"gyermek szandál (lány)\",","                    \"2\": \"6900\",","                    \"3\": \"6763.333333333333\"","                },","                {","                    \"0\": \"G064-CI401\",","                    \"1\": \"gyermek szandál (fiú)\",","                    \"2\": \"6900\",","                    \"3\": \"7230\"","                },","                {","                    \"0\": \"F007-NA201\",","                    \"1\": \"férfi farmer nadrág\",","                    \"2\": \"7890\",","                    \"3\": \"7563.333333333333\"","                },","                {","                    \"0\": \"G073-CI410\",","                    \"1\": \"gyermek cipő (fiú)\",","                    \"2\": \"7900\",","                    \"3\": \"7896.666666666667\"","                },","                {","                    \"0\": \"L073-CI410\",","                    \"1\": \"gyermek cipő (lány)\",","                    \"2\": \"7900\",","                    \"3\": \"7933.333333333333\"","                },","                {","                    \"0\": \"L082-CI419\",","                    \"1\": \"gyermek csizma (lány)\",","                    \"2\": \"8000\",","                    \"3\": \"7966.666666666667\"","                },","                {","                    \"0\": \"G082-CI419\",","                    \"1\": \"gyermek csizma (fiú)\",","                    \"2\": \"8000\",","                    \"3\": \"8096.666666666667\"","                },","                {","                    \"0\": \"N008-NA201\",","                    \"1\": \"női farmer nadrág\",","                    \"2\": \"8290\",","                    \"3\": \"8396.666666666666\"","                },","                {","                    \"0\": \"L001-KB101\",","                    \"1\": \"gyermek kabát (lány)\",","                    \"2\": \"8900\",","                    \"3\": \"8696.666666666666\"","                },","                {","                    \"0\": \"G001-KB101\",","                    \"1\": \"gyermek kabát (fiú)\",","                    \"2\": \"8900\",","                    \"3\": \"9900\"","                },","                {","                    \"0\": \"F013-NA207\",","                    \"1\": \"férfi szövet nadrág\",","                    \"2\": \"11900\",","                    \"3\": \"11683.333333333334\"","                },","                {","                    \"0\": \"02080511T\",","                    \"1\": \"Oki toner C\",","                    \"2\": \"14250\",","                    \"3\": \"14350\"","                },","                {","                    \"0\": \"G041-AL211\",","                    \"1\": \"fiú ünneplős ruha\",","                    \"2\": \"16900\",","                    \"3\": \"16016.666666666666\"","                },","                {","                    \"0\": \"L041-AL211\",","                    \"1\": \"lány ünneplős ruha\",","                    \"2\": \"16900\",","                    \"3\": \"18600\"","                },","                {","                    \"0\": \"F001-KB101\",","                    \"1\": \"férfi szövet kabát\",","                    \"2\": \"22000\",","                    \"3\": \"20966.666666666668\"","                },","                {","                    \"0\": \"N001-KB101\",","                    \"1\": \"női szövet kabát\",","                    \"2\": \"24000\",","                    \"3\": \"26000\"","                },","                {","                    \"0\": \"N029-AL212\",","                    \"1\": \"női koktélruha\",","                    \"2\": \"32000\",","                    \"3\": \"31666.666666666668\"","                },","                {","                    \"0\": \"N035-AL218\",","                    \"1\": \"kosztüm (rövid)\",","                    \"2\": \"39000\",","                    \"3\": \"39000\"","                },","                {","                    \"0\": \"N039-AL222\",","                    \"1\": \"kosztüm (hosszú)\",","                    \"2\": \"46000\",","                    \"3\": \"42500\"","                }","            ]","        },","        \"text/html\": [","            \"\u003ctable\u003e\",","            \"\u003ctr\u003e\u003cth\u003eTERMEKKOD\u003c/th\u003e\u003cth\u003eMEGNEVEZES\u003c/th\u003e\u003cth\u003eLISTAAR\u003c/th\u003e\u003cth\u003e(No column name)\u003c/th\u003e\u003c/tr\u003e\",","            \"\u003ctr\u003e\u003ctd\u003e07030108T\u003c/td\u003e\u003ctd\u003eFilctoll CD író\u003c/td\u003e\u003ctd\u003e0\u003c/td\u003e\u003ctd\u003e1.5\u003c/td\u003e\u003c/tr\u003e\",","            \"\u003ctr\u003e\u003ctd\u003e01090498T\u003c/td\u003e\u003ctd\u003eMűnyomó 300g 17,5*20\u003c/td\u003e\u003ctd\u003e3\u003c/td\u003e\u003ctd\u003e2\u003c/td\u003e\u003c/tr\u003e\",","            \"\u003ctr\u003e\u003ctd\u003e02030042T\u003c/td\u003e\u003ctd\u003eBoríték LC 6\u003c/td\u003e\u003ctd\u003e3\u003c/td\u003e\u003ctd\u003e3\u003c/td\u003e\u003c/tr\u003e\",","            \"\u003ctr\u003e\u003ctd\u003e04030288T\u003c/td\u003e\u003ctd\u003eMűanyag pohár 1 dl-es\u003c/td\u003e\u003ctd\u003e3\u003c/td\u003e\u003ctd\u003e3.3333333333333335\u003c/td\u003e\u003c/tr\u003e\",","            \"\u003ctr\u003e\u003ctd\u003e01090501T\u003c/td\u003e\u003ctd\u003eKreatív A/4 300g \u003c/td\u003e\u003ctd\u003e4\u003c/td\u003e\u003ctd\u003e3.6666666666666665\u003c/td\u003e\u003c/tr\u003e\",","            \"\u003ctr\u003e\u003ctd\u003e01090517T\u003c/td\u003e\u003ctd\u003eSzínes ofszet B/4\u003c/td\u003e\u003ctd\u003e4\u003c/td\u003e\u003ctd\u003e4.333333333333333\u003c/td\u003e\u003c/tr\u003e\",","            \"\u003ctr\u003e\u003ctd\u003e06040089T\u003c/td\u003e\u003ctd\u003eEllenőrzőborító\u003c/td\u003e\u003ctd\u003e5\u003c/td\u003e\u003ctd\u003e5\u003c/td\u003e\u003c/tr\u003e\",","            \"\u003ctr\u003e\u003ctd\u003e02030040T\u003c/td\u003e\u003ctd\u003eBoríték LA 4 francia\u003c/td\u003e\u003ctd\u003e6\u003c/td\u003e\u003ctd\u003e5.666666666666667\u003c/td\u003e\u003c/tr\u003e\",","            \"\u003ctr\u003e\u003ctd\u003e02030041T\u003c/td\u003e\u003ctd\u003eBoríték LC 5\u003c/td\u003e\u003ctd\u003e6\u003c/td\u003e\u003ctd\u003e6.666666666666667\u003c/td\u003e\u003c/tr\u003e\",","            \"\u003ctr\u003e\u003ctd\u003e02040147T\u003c/td\u003e\u003ctd\u003eGenotherm lefűzhető A/5\u003c/td\u003e\u003ctd\u003e8\u003c/td\u003e\u003ctd\u003e7.333333333333333\u003c/td\u003e\u003c/tr\u003e\",","            \"\u003ctr\u003e\u003ctd\u003e06010377T\u003c/td\u003e\u003ctd\u003eSzögmérő színes\u003c/td\u003e\u003ctd\u003e8\u003c/td\u003e\u003ctd\u003e8\u003c/td\u003e\u003c/tr\u003e\",","            \"\u003ctr\u003e\u003ctd\u003e06080425T\u003c/td\u003e\u003ctd\u003eMiliméterpapír\u003c/td\u003e\u003ctd\u003e8\u003c/td\u003e\u003ctd\u003e8\u003c/td\u003e\u003c/tr\u003e\",","            \"\u003ctr\u003e\u003ctd\u003e06040181T\u003c/td\u003e\u003ctd\u003eGyűjtőlap A/4\u003c/td\u003e\u003ctd\u003e8\u003c/td\u003e\u003ctd\u003e8\u003c/td\u003e\u003c/tr\u003e\",","            \"\u003ctr\u003e\u003ctd\u003e06040353T\u003c/td\u003e\u003ctd\u003eSorvezető\u003c/td\u003e\u003ctd\u003e8\u003c/td\u003e\u003ctd\u003e8\u003c/td\u003e\u003c/tr\u003e\",","            \"\u003ctr\u003e\u003ctd\u003e06080118T\u003c/td\u003e\u003ctd\u003eFüzetborító átlátszó A5\u003c/td\u003e\u003ctd\u003e8\u003c/td\u003e\u003ctd\u003e8.333333333333334\u003c/td\u003e\u003c/tr\u003e\",","            \"\u003ctr\u003e\u003ctd\u003e07040388T\u003c/td\u003e\u003ctd\u003eTintapatron /kék/\u003c/td\u003e\u003ctd\u003e9\u003c/td\u003e\u003ctd\u003e8.666666666666666\u003c/td\u003e\u003c/tr\u003e\",","            \"\u003ctr\u003e\u003ctd\u003e06010305T\u003c/td\u003e\u003ctd\u003ePapírcenti 100 cm-es\u003c/td\u003e\u003ctd\u003e9\u003c/td\u003e\u003ctd\u003e9\u003c/td\u003e\u003c/tr\u003e\",","            \"\u003ctr\u003e\u003ctd\u003e01100072T\u003c/td\u003e\u003ctd\u003eDipa A/4 keretezett\u003c/td\u003e\u003ctd\u003e9\u003c/td\u003e\u003ctd\u003e9.333333333333334\u003c/td\u003e\u003c/tr\u003e\",","            \"\u003ctr\u003e\u003ctd\u003e01100503T\u003c/td\u003e\u003ctd\u003eColor Copy A4 120 g\u003c/td\u003e\u003ctd\u003e10\u003c/td\u003e\u003ctd\u003e9.666666666666666\u003c/td\u003e\u003c/tr\u003e\",","            \"\u003ctr\u003e\u003ctd\u003e06080117T\u003c/td\u003e\u003ctd\u003eFüzetborító A/4 átlátszó\u003c/td\u003e\u003ctd\u003e10\u003c/td\u003e\u003ctd\u003e10.333333333333334\u003c/td\u003e\u003c/tr\u003e\",","            \"\u003ctr\u003e\u003ctd\u003e07040058T\u003c/td\u003e\u003ctd\u003eCeruza radíros kínai\u003c/td\u003e\u003ctd\u003e11\u003c/td\u003e\u003ctd\u003e10.666666666666666\u003c/td\u003e\u003c/tr\u003e\",","            \"\u003ctr\u003e\u003ctd\u003e07040390T\u003c/td\u003e\u003ctd\u003eTintapatron színes\u003c/td\u003e\u003ctd\u003e11\u003c/td\u003e\u003ctd\u003e11\u003c/td\u003e\u003c/tr\u003e\",","            \"\u003ctr\u003e\u003ctd\u003e07080065T\u003c/td\u003e\u003ctd\u003eCeruza kínai\u003c/td\u003e\u003ctd\u003e11\u003c/td\u003e\u003ctd\u003e11\u003c/td\u003e\u003c/tr\u003e\",","            \"\u003ctr\u003e\u003ctd\u003e01090515T\u003c/td\u003e\u003ctd\u003eSzínes A/3 160 gr IQ\u003c/td\u003e\u003ctd\u003e11\u003c/td\u003e\u003ctd\u003e11\u003c/td\u003e\u003c/tr\u003e\",","            \"\u003ctr\u003e\u003ctd\u003e06010376T\u003c/td\u003e\u003ctd\u003eSzögmérő papír\u003c/td\u003e\u003ctd\u003e11\u003c/td\u003e\u003ctd\u003e11\u003c/td\u003e\u003c/tr\u003e\",","            \"\u003ctr\u003e\u003ctd\u003e04030285T\u003c/td\u003e\u003ctd\u003eMikulás zacskó\u003c/td\u003e\u003ctd\u003e11\u003c/td\u003e\u003ctd\u003e11\u003c/td\u003e\u003c/tr\u003e\",","            \"\u003ctr\u003e\u003ctd\u003e04050269T\u003c/td\u003e\u003ctd\u003eLufi hullámos\u003c/td\u003e\u003ctd\u003e11\u003c/td\u003e\u003ctd\u003e11.333333333333334\u003c/td\u003e\u003c/tr\u003e\",","            \"\u003ctr\u003e\u003ctd\u003e06040206T\u003c/td\u003e\u003ctd\u003ekék indigó\u003c/td\u003e\u003ctd\u003e12\u003c/td\u003e\u003ctd\u003e12\u003c/td\u003e\u003c/tr\u003e\",","            \"\u003ctr\u003e\u003ctd\u003e01100510T\u003c/td\u003e\u003ctd\u003eKreatív A/4 120g \u003c/td\u003e\u003ctd\u003e13\u003c/td\u003e\u003ctd\u003e13\u003c/td\u003e\u003c/tr\u003e\",","            \"\u003ctr\u003e\u003ctd\u003e01090500T\u003c/td\u003e\u003ctd\u003eColor Copy A4 200 g\u003c/td\u003e\u003ctd\u003e14\u003c/td\u003e\u003ctd\u003e13.666666666666666\u003c/td\u003e\u003c/tr\u003e\",","            \"\u003ctr\u003e\u003ctd\u003e01100497T\u003c/td\u003e\u003ctd\u003eColor Copy 160 g-os \u003c/td\u003e\u003ctd\u003e14\u003c/td\u003e\u003ctd\u003e14\u003c/td\u003e\u003c/tr\u003e\",","            \"\u003ctr\u003e\u003ctd\u003e04030240T\u003c/td\u003e\u003ctd\u003eKépeslap virágos\u003c/td\u003e\u003ctd\u003e14\u003c/td\u003e\u003ctd\u003e14.333333333333334\u003c/td\u003e\u003c/tr\u003e\",","            \"\u003ctr\u003e\u003ctd\u003e04030236T\u003c/td\u003e\u003ctd\u003eKépeslap karácsonyi WD\u003c/td\u003e\u003ctd\u003e15\u003c/td\u003e\u003ctd\u003e14.666666666666666\u003c/td\u003e\u003c/tr\u003e\",","            \"\u003ctr\u003e\u003ctd\u003e04030289T\u003c/td\u003e\u003ctd\u003eMűanyag pohár 5 cl-es\u003c/td\u003e\u003ctd\u003e15\u003c/td\u003e\u003ctd\u003e15\u003c/td\u003e\u003c/tr\u003e\",","            \"\u003ctr\u003e\u003ctd\u003e04030260T\u003c/td\u003e\u003ctd\u003eLevélpapír A/4\u003c/td\u003e\u003ctd\u003e15\u003c/td\u003e\u003ctd\u003e15\u003c/td\u003e\u003c/tr\u003e\",","            \"\u003ctr\u003e\u003ctd\u003e04050268T\u003c/td\u003e\u003ctd\u003eLufi formázható\u003c/td\u003e\u003ctd\u003e15\u003c/td\u003e\u003ctd\u003e15\u003c/td\u003e\u003c/tr\u003e\",","            \"\u003ctr\u003e\u003ctd\u003e01090499T\u003c/td\u003e\u003ctd\u003eColor Copy A/4 250 g\u003c/td\u003e\u003ctd\u003e15\u003c/td\u003e\u003ctd\u003e15\u003c/td\u003e\u003c/tr\u003e\",","            \"\u003ctr\u003e\u003ctd\u003e01040307T\u003c/td\u003e\u003ctd\u003ePausz papír A/4\u003c/td\u003e\u003ctd\u003e15\u003c/td\u003e\u003ctd\u003e15\u003c/td\u003e\u003c/tr\u003e\",","            \"\u003ctr\u003e\u003ctd\u003e02040291T\u003c/td\u003e\u003ctd\u003eNaptárhát kicsi\u003c/td\u003e\u003ctd\u003e15\u003c/td\u003e\u003ctd\u003e15\u003c/td\u003e\u003c/tr\u003e\",","            \"\u003ctr\u003e\u003ctd\u003e02030044T\u003c/td\u003e\u003ctd\u003eBoríték mintás\u003c/td\u003e\u003ctd\u003e15\u003c/td\u003e\u003ctd\u003e15\u003c/td\u003e\u003c/tr\u003e\",","            \"\u003ctr\u003e\u003ctd\u003e02050460T\u003c/td\u003e\u003ctd\u003eBoríték C/4-es\u003c/td\u003e\u003ctd\u003e15\u003c/td\u003e\u003ctd\u003e15\u003c/td\u003e\u003c/tr\u003e\",","            \"\u003ctr\u003e\u003ctd\u003e03010342T\u003c/td\u003e\u003ctd\u003eRagasztószalag  TIXO\u003c/td\u003e\u003ctd\u003e15\u003c/td\u003e\u003ctd\u003e15\u003c/td\u003e\u003c/tr\u003e\",","            \"\u003ctr\u003e\u003ctd\u003e03050078T\u003c/td\u003e\u003ctd\u003eDíszkötöző szalag metál kicsi\u003c/td\u003e\u003ctd\u003e15\u003c/td\u003e\u003ctd\u003e15\u003c/td\u003e\u003c/tr\u003e\",","            \"\u003ctr\u003e\u003ctd\u003e03050079T\u003c/td\u003e\u003ctd\u003eDíszkötöző szalag vékony\u003c/td\u003e\u003ctd\u003e15\u003c/td\u003e\u003ctd\u003e15\u003c/td\u003e\u003c/tr\u003e\",","            \"\u003ctr\u003e\u003ctd\u003e06040205T\u003c/td\u003e\u003ctd\u003eIndigó Pelikán\u003c/td\u003e\u003ctd\u003e15\u003c/td\u003e\u003ctd\u003e15\u003c/td\u003e\u003c/tr\u003e\",","            \"\u003ctr\u003e\u003ctd\u003e07010141T\u003c/td\u003e\u003ctd\u003eG.toll betét X20\u003c/td\u003e\u003ctd\u003e15\u003c/td\u003e\u003ctd\u003e16\u003c/td\u003e\u003c/tr\u003e\",","            \"\u003ctr\u003e\u003ctd\u003e02050461T\u003c/td\u003e\u003ctd\u003eBoríték B/4-es\u003c/td\u003e\u003ctd\u003e18\u003c/td\u003e\u003ctd\u003e17\u003c/td\u003e\u003c/tr\u003e\",","            \"\u003ctr\u003e\u003ctd\u003e02040176T\u003c/td\u003e\u003ctd\u003eGyorsfűző dosszié fehér\u003c/td\u003e\u003ctd\u003e18\u003c/td\u003e\u003ctd\u003e18.333333333333332\u003c/td\u003e\u003c/tr\u003e\",","            \"\u003ctr\u003e\u003ctd\u003e02040207T\u003c/td\u003e\u003ctd\u003eIratgyűjtő ESSELTE ablakos\u003c/td\u003e\u003ctd\u003e19\u003c/td\u003e\u003ctd\u003e18.666666666666668\u003c/td\u003e\u003c/tr\u003e\",","            \"\u003ctr\u003e\u003ctd\u003e02040208T\u003c/td\u003e\u003ctd\u003eIratgyűjtő fehér\u003c/td\u003e\u003ctd\u003e19\u003c/td\u003e\u003ctd\u003e19\u003c/td\u003e\u003c/tr\u003e\",","            \"\u003ctr\u003e\u003ctd\u003e03080004T\u003c/td\u003e\u003ctd\u003eAjándék cs. tasak italos, fólia\u003c/td\u003e\u003ctd\u003e19\u003c/td\u003e\u003ctd\u003e19\u003c/td\u003e\u003c/tr\u003e\",","            \"\u003ctr\u003e\u003ctd\u003e05050170T\u003c/td\u003e\u003ctd\u003eGumigyűrű\u003c/td\u003e\u003ctd\u003e19\u003c/td\u003e\u003ctd\u003e19\u003c/td\u003e\u003c/tr\u003e\",","            \"\u003ctr\u003e\u003ctd\u003e06040326T\u003c/td\u003e\u003ctd\u003eRadír KOH-I-NOR 80\u003c/td\u003e\u003ctd\u003e19\u003c/td\u003e\u003ctd\u003e19\u003c/td\u003e\u003c/tr\u003e\",","            \"\u003ctr\u003e\u003ctd\u003e06080122T\u003c/td\u003e\u003ctd\u003eFüzetborító öntapadós nagy\u003c/td\u003e\u003ctd\u003e19\u003c/td\u003e\u003ctd\u003e19\u003c/td\u003e\u003c/tr\u003e\",","            \"\u003ctr\u003e\u003ctd\u003e06080119T\u003c/td\u003e\u003ctd\u003eFüzetborító mesefig.\u003c/td\u003e\u003ctd\u003e19\u003c/td\u003e\u003ctd\u003e19\u003c/td\u003e\u003c/tr\u003e\",","            \"\u003ctr\u003e\u003ctd\u003e06040383T\u003c/td\u003e\u003ctd\u003eTaffet papír\u003c/td\u003e\u003ctd\u003e19\u003c/td\u003e\u003ctd\u003e19.333333333333332\u003c/td\u003e\u003c/tr\u003e\",","            \"\u003ctr\u003e\u003ctd\u003e06080417T\u003c/td\u003e\u003ctd\u003eZászló papír\u003c/td\u003e\u003ctd\u003e20\u003c/td\u003e\u003ctd\u003e19.666666666666668\u003c/td\u003e\u003c/tr\u003e\",","            \"\u003ctr\u003e\u003ctd\u003e04110068T\u003c/td\u003e\u003ctd\u003eCímke egyszínű\u003c/td\u003e\u003ctd\u003e20\u003c/td\u003e\u003ctd\u003e20\u003c/td\u003e\u003c/tr\u003e\",","            \"\u003ctr\u003e\u003ctd\u003e05010306T\u003c/td\u003e\u003ctd\u003ePapízsebkendő,10db Szindy\u003c/td\u003e\u003ctd\u003e20\u003c/td\u003e\u003ctd\u003e21\u003c/td\u003e\u003c/tr\u003e\",","            \"\u003ctr\u003e\u003ctd\u003e06010202T\u003c/td\u003e\u003ctd\u003eHurkapálca 10 db-os\u003c/td\u003e\u003ctd\u003e23\u003c/td\u003e\u003ctd\u003e22\u003c/td\u003e\u003c/tr\u003e\",","            \"\u003ctr\u003e\u003ctd\u003e03080021T\u003c/td\u003e\u003ctd\u003eAjándék csom. vékony\u003c/td\u003e\u003ctd\u003e23\u003c/td\u003e\u003ctd\u003e23\u003c/td\u003e\u003c/tr\u003e\",","            \"\u003ctr\u003e\u003ctd\u003e04030287T\u003c/td\u003e\u003ctd\u003eMűanyag foszforeszkáló állat\u003c/td\u003e\u003ctd\u003e23\u003c/td\u003e\u003ctd\u003e23\u003c/td\u003e\u003c/tr\u003e\",","            \"\u003ctr\u003e\u003ctd\u003e06080190T\u003c/td\u003e\u003ctd\u003eHegyező műanyag egyes\u003c/td\u003e\u003ctd\u003e23\u003c/td\u003e\u003ctd\u003e23\u003c/td\u003e\u003c/tr\u003e\",","            \"\u003ctr\u003e\u003ctd\u003e07010140T\u003c/td\u003e\u003ctd\u003eG.toll betét Stabilo\u003c/td\u003e\u003ctd\u003e23\u003c/td\u003e\u003ctd\u003e23\u003c/td\u003e\u003c/tr\u003e\",","            \"\u003ctr\u003e\u003ctd\u003e07040053T\u003c/td\u003e\u003ctd\u003eCeruza HB radiros\u003c/td\u003e\u003ctd\u003e23\u003c/td\u003e\u003ctd\u003e23\u003c/td\u003e\u003c/tr\u003e\",","            \"\u003ctr\u003e\u003ctd\u003e06080120T\u003c/td\u003e\u003ctd\u003eFüzetborító öntapadó kicsi\u003c/td\u003e\u003ctd\u003e23\u003c/td\u003e\u003ctd\u003e23\u003c/td\u003e\u003c/tr\u003e\",","            \"\u003ctr\u003e\u003ctd\u003e07040218T\u003c/td\u003e\u003ctd\u003eIronbél HB 0,5\u003c/td\u003e\u003ctd\u003e23\u003c/td\u003e\u003ctd\u003e23\u003c/td\u003e\u003c/tr\u003e\",","            \"\u003ctr\u003e\u003ctd\u003e07080156T\u003c/td\u003e\u003ctd\u003eGolyóstoll kupakos piros\u003c/td\u003e\u003ctd\u003e23\u003c/td\u003e\u003ctd\u003e23.333333333333332\u003c/td\u003e\u003c/tr\u003e\",","            \"\u003ctr\u003e\u003ctd\u003e06080424T\u003c/td\u003e\u003ctd\u003eFüzetborító A/4 mintás\u003c/td\u003e\u003ctd\u003e24\u003c/td\u003e\u003ctd\u003e23.666666666666668\u003c/td\u003e\u003c/tr\u003e\",","            \"\u003ctr\u003e\u003ctd\u003e04050203T\u003c/td\u003e\u003ctd\u003eHűtőmágnes\u003c/td\u003e\u003ctd\u003e24\u003c/td\u003e\u003ctd\u003e24\u003c/td\u003e\u003c/tr\u003e\",","            \"\u003ctr\u003e\u003ctd\u003e04050035T\u003c/td\u003e\u003ctd\u003eBérlet tok\u003c/td\u003e\u003ctd\u003e24\u003c/td\u003e\u003ctd\u003e24\u003c/td\u003e\u003c/tr\u003e\",","            \"\u003ctr\u003e\u003ctd\u003e06010375T\u003c/td\u003e\u003ctd\u003eSzögmérő 180 fokos műa.\u003c/td\u003e\u003ctd\u003e24\u003c/td\u003e\u003ctd\u003e24.333333333333332\u003c/td\u003e\u003c/tr\u003e\",","            \"\u003ctr\u003e\u003ctd\u003e01040502T\u003c/td\u003e\u003ctd\u003eElőlap spirálhoz\u003c/td\u003e\u003ctd\u003e25\u003c/td\u003e\u003ctd\u003e24.666666666666668\u003c/td\u003e\u003c/tr\u003e\",","            \"\u003ctr\u003e\u003ctd\u003e01090516T\u003c/td\u003e\u003ctd\u003eSzínes karton A4\u003c/td\u003e\u003ctd\u003e25\u003c/td\u003e\u003ctd\u003e25.333333333333332\u003c/td\u003e\u003c/tr\u003e\",","            \"\u003ctr\u003e\u003ctd\u003e01030091T\u003c/td\u003e\u003ctd\u003eEmléklap A/5\u003c/td\u003e\u003ctd\u003e26\u003c/td\u003e\u003ctd\u003e25.666666666666668\u003c/td\u003e\u003c/tr\u003e\",","            \"\u003ctr\u003e\u003ctd\u003e03080006T\u003c/td\u003e\u003ctd\u003eAjándék cs. tasak mintás kicsi\u003c/td\u003e\u003ctd\u003e26\u003c/td\u003e\u003ctd\u003e26\u003c/td\u003e\u003c/tr\u003e\",","            \"\u003ctr\u003e\u003ctd\u003e03050457T\u003c/td\u003e\u003ctd\u003eAjándék cs. tasak kicsi\u003c/td\u003e\u003ctd\u003e26\u003c/td\u003e\u003ctd\u003e26\u003c/td\u003e\u003c/tr\u003e\",","            \"\u003ctr\u003e\u003ctd\u003e03050076T\u003c/td\u003e\u003ctd\u003eDíszkötöző szalag metál nagy\u003c/td\u003e\u003ctd\u003e26\u003c/td\u003e\u003ctd\u003e26\u003c/td\u003e\u003c/tr\u003e\",","            \"\u003ctr\u003e\u003ctd\u003e04110066T\u003c/td\u003e\u003ctd\u003eCímke 8 db-os\u003c/td\u003e\u003ctd\u003e26\u003c/td\u003e\u003ctd\u003e26\u003c/td\u003e\u003c/tr\u003e\",","            \"\u003ctr\u003e\u003ctd\u003e07040097T\u003c/td\u003e\u003ctd\u003eFilctoll \u003c/td\u003e\u003ctd\u003e26\u003c/td\u003e\u003ctd\u003e26.666666666666668\u003c/td\u003e\u003c/tr\u003e\",","            \"\u003ctr\u003e\u003ctd\u003e06040347T\u003c/td\u003e\u003ctd\u003eRajzlap A/4 10db ffam.\u003c/td\u003e\u003ctd\u003e28\u003c/td\u003e\u003ctd\u003e27.666666666666668\u003c/td\u003e\u003c/tr\u003e\",","            \"\u003ctr\u003e\u003ctd\u003e06040212T\u003c/td\u003e\u003ctd\u003eÍrólap 10-50 ffam.\u003c/td\u003e\u003ctd\u003e29\u003c/td\u003e\u003ctd\u003e29\u003c/td\u003e\u003c/tr\u003e\",","            \"\u003ctr\u003e\u003ctd\u003e06040247T\u003c/td\u003e\u003ctd\u003eKörzőhegy grafit\u003c/td\u003e\u003ctd\u003e30\u003c/td\u003e\u003ctd\u003e29.666666666666668\u003c/td\u003e\u003c/tr\u003e\",","            \"\u003ctr\u003e\u003ctd\u003e06080189T\u003c/td\u003e\u003ctd\u003eHegyező műanyag dupla\u003c/td\u003e\u003ctd\u003e30\u003c/td\u003e\u003ctd\u003e30\u003c/td\u003e\u003c/tr\u003e\",","            \"\u003ctr\u003e\u003ctd\u003e07040050T\u003c/td\u003e\u003ctd\u003eCeruza Cseh\u003c/td\u003e\u003ctd\u003e30\u003c/td\u003e\u003ctd\u003e30\u003c/td\u003e\u003c/tr\u003e\",","            \"\u003ctr\u003e\u003ctd\u003e06080191T\u003c/td\u003e\u003ctd\u003eHegyező tartályos egyes\u003c/td\u003e\u003ctd\u003e30\u003c/td\u003e\u003ctd\u003e30\u003c/td\u003e\u003c/tr\u003e\",","            \"\u003ctr\u003e\u003ctd\u003e06080412T\u003c/td\u003e\u003ctd\u003eVonalzó 16 cm-es LIZZY\u003c/td\u003e\u003ctd\u003e30\u003c/td\u003e\u003ctd\u003e30\u003c/td\u003e\u003c/tr\u003e\",","            \"\u003ctr\u003e\u003ctd\u003e06080413T\u003c/td\u003e\u003ctd\u003eVonalzó 30 cm\u003c/td\u003e\u003ctd\u003e30\u003c/td\u003e\u003ctd\u003e30\u003c/td\u003e\u003c/tr\u003e\",","            \"\u003ctr\u003e\u003ctd\u003e06080414T\u003c/td\u003e\u003ctd\u003eVonalzó 20 cm-es \u003c/td\u003e\u003ctd\u003e30\u003c/td\u003e\u003ctd\u003e30\u003c/td\u003e\u003c/tr\u003e\",","            \"\u003ctr\u003e\u003ctd\u003e06080415T\u003c/td\u003e\u003ctd\u003eVonalzó 45 fokos\u003c/td\u003e\u003ctd\u003e30\u003c/td\u003e\u003ctd\u003e30\u003c/td\u003e\u003c/tr\u003e\",","            \"\u003ctr\u003e\u003ctd\u003e07040127T\u003c/td\u003e\u003ctd\u003eG. toll betét mini\u003c/td\u003e\u003ctd\u003e30\u003c/td\u003e\u003ctd\u003e30\u003c/td\u003e\u003c/tr\u003e\",","            \"\u003ctr\u003e\u003ctd\u003e07040129T\u003c/td\u003e\u003ctd\u003eG. toll betét réz\u003c/td\u003e\u003ctd\u003e30\u003c/td\u003e\u003ctd\u003e30\u003c/td\u003e\u003c/tr\u003e\",","            \"\u003ctr\u003e\u003ctd\u003e04030234T\u003c/td\u003e\u003ctd\u003eKépeslap karácsonyi\u003c/td\u003e\u003ctd\u003e30\u003c/td\u003e\u003ctd\u003e30\u003c/td\u003e\u003c/tr\u003e\",","            \"\u003ctr\u003e\u003ctd\u003e06010114T\u003c/td\u003e\u003ctd\u003eFüzet A/5 hangjegy 36/16\u003c/td\u003e\u003ctd\u003e30\u003c/td\u003e\u003ctd\u003e30\u003c/td\u003e\u003c/tr\u003e\",","            \"\u003ctr\u003e\u003ctd\u003e02080069T\u003c/td\u003e\u003ctd\u003eCD tartó tok\u003c/td\u003e\u003ctd\u003e30\u003c/td\u003e\u003ctd\u003e30\u003c/td\u003e\u003c/tr\u003e\",","            \"\u003ctr\u003e\u003ctd\u003e01010110T\u003c/td\u003e\u003ctd\u003eFotópapír A/4 fényes\u003c/td\u003e\u003ctd\u003e30\u003c/td\u003e\u003ctd\u003e30\u003c/td\u003e\u003c/tr\u003e\",","            \"\u003ctr\u003e\u003ctd\u003e02040177T\u003c/td\u003e\u003ctd\u003eGyorsfűző műa.\u003c/td\u003e\u003ctd\u003e30\u003c/td\u003e\u003ctd\u003e30\u003c/td\u003e\u003c/tr\u003e\",","            \"\u003ctr\u003e\u003ctd\u003e02040145T\u003c/td\u003e\u003ctd\u003eGemkapocs 28 mm\u003c/td\u003e\u003ctd\u003e30\u003c/td\u003e\u003ctd\u003e30.333333333333332\u003c/td\u003e\u003c/tr\u003e\",","            \"\u003ctr\u003e\u003ctd\u003e04110067T\u003c/td\u003e\u003ctd\u003eCímke WD. állat\u003c/td\u003e\u003ctd\u003e31\u003c/td\u003e\u003ctd\u003e31.333333333333332\u003c/td\u003e\u003c/tr\u003e\",","            \"\u003ctr\u003e\u003ctd\u003e06010083T\u003c/td\u003e\u003ctd\u003eEcset Centrum 7,8,9\u003c/td\u003e\u003ctd\u003e33\u003c/td\u003e\u003ctd\u003e32.333333333333336\u003c/td\u003e\u003c/tr\u003e\",","            \"\u003ctr\u003e\u003ctd\u003e06010036T\u003c/td\u003e\u003ctd\u003eBetűtartó sin\u003c/td\u003e\u003ctd\u003e33\u003c/td\u003e\u003ctd\u003e33\u003c/td\u003e\u003c/tr\u003e\",","            \"\u003ctr\u003e\u003ctd\u003e04110227T\u003c/td\u003e\u003ctd\u003eKépeslap  borítékos\u003c/td\u003e\u003ctd\u003e33\u003c/td\u003e\u003ctd\u003e33\u003c/td\u003e\u003c/tr\u003e\",","            \"\u003ctr\u003e\u003ctd\u003e04110229T\u003c/td\u003e\u003ctd\u003eKépeslap \u0026quot;Részvét\u0026quot;\u003c/td\u003e\u003ctd\u003e33\u003c/td\u003e\u003ctd\u003e33\u003c/td\u003e\u003c/tr\u003e\",","            \"\u003ctr\u003e\u003ctd\u003e07080155T\u003c/td\u003e\u003ctd\u003eGolyóstoll\u003c/td\u003e\u003ctd\u003e33\u003c/td\u003e\u003ctd\u003e33\u003c/td\u003e\u003c/tr\u003e\",","            \"\u003ctr\u003e\u003ctd\u003e06080416T\u003c/td\u003e\u003ctd\u003eVonalzó 60 fokos\u003c/td\u003e\u003ctd\u003e33\u003c/td\u003e\u003ctd\u003e33\u003c/td\u003e\u003c/tr\u003e\",","            \"\u003ctr\u003e\u003ctd\u003e07010138T\u003c/td\u003e\u003ctd\u003eG.toll betét jumbo\u003c/td\u003e\u003ctd\u003e33\u003c/td\u003e\u003ctd\u003e33.333333333333336\u003c/td\u003e\u003c/tr\u003e\",","            \"\u003ctr\u003e\u003ctd\u003e06080116T\u003c/td\u003e\u003ctd\u003eFüzet A5 1-8 osz.-ig\u003c/td\u003e\u003ctd\u003e34\u003c/td\u003e\u003ctd\u003e33.666666666666664\u003c/td\u003e\u003c/tr\u003e\",","            \"\u003ctr\u003e\u003ctd\u003e06040213T\u003c/td\u003e\u003ctd\u003eÍrólap 20-50 \u003c/td\u003e\u003ctd\u003e34\u003c/td\u003e\u003ctd\u003e34\u003c/td\u003e\u003c/tr\u003e\",","            \"\u003ctr\u003e\u003ctd\u003e06010113T\u003c/td\u003e\u003ctd\u003eFüzet 31-32 szótár\u003c/td\u003e\u003ctd\u003e34\u003c/td\u003e\u003ctd\u003e34\u003c/td\u003e\u003c/tr\u003e\",","            \"\u003ctr\u003e\u003ctd\u003e02040406T\u003c/td\u003e\u003ctd\u003eTűzőkapocs 24/6\u003c/td\u003e\u003ctd\u003e34\u003c/td\u003e\u003ctd\u003e34.333333333333336\u003c/td\u003e\u003c/tr\u003e\",","            \"\u003ctr\u003e\u003ctd\u003e02040178T\u003c/td\u003e\u003ctd\u003eGyorsfűző műa.\u003c/td\u003e\u003ctd\u003e35\u003c/td\u003e\u003ctd\u003e34.666666666666664\u003c/td\u003e\u003c/tr\u003e\",","            \"\u003ctr\u003e\u003ctd\u003e06010367T\u003c/td\u003e\u003ctd\u003eSzámolókorong\u003c/td\u003e\u003ctd\u003e35\u003c/td\u003e\u003ctd\u003e35\u003c/td\u003e\u003c/tr\u003e\",","            \"\u003ctr\u003e\u003ctd\u003e07080063T\u003c/td\u003e\u003ctd\u003eCeruza szorzótáblás\u003c/td\u003e\u003ctd\u003e35\u003c/td\u003e\u003ctd\u003e35.333333333333336\u003c/td\u003e\u003c/tr\u003e\",","            \"\u003ctr\u003e\u003ctd\u003e07050463T\u003c/td\u003e\u003ctd\u003eCeruzafogó\u003c/td\u003e\u003ctd\u003e36\u003c/td\u003e\u003ctd\u003e35.666666666666664\u003c/td\u003e\u003c/tr\u003e\",","            \"\u003ctr\u003e\u003ctd\u003e07040216T\u003c/td\u003e\u003ctd\u003eIronbél B 0,5\u003c/td\u003e\u003ctd\u003e36\u003c/td\u003e\u003ctd\u003e36\u003c/td\u003e\u003c/tr\u003e\",","            \"\u003ctr\u003e\u003ctd\u003e06040327T\u003c/td\u003e\u003ctd\u003eRadír Koh-i-nor 40\u003c/td\u003e\u003ctd\u003e36\u003c/td\u003e\u003ctd\u003e36\u003c/td\u003e\u003c/tr\u003e\",","            \"\u003ctr\u003e\u003ctd\u003e06040323T\u003c/td\u003e\u003ctd\u003ePost-it 51×38 100 lapos\u003c/td\u003e\u003ctd\u003e36\u003c/td\u003e\u003ctd\u003e36\u003c/td\u003e\u003c/tr\u003e\",","            \"\u003ctr\u003e\u003ctd\u003e07040060T\u003c/td\u003e\u003ctd\u003eCeruza stabilo swano\u003c/td\u003e\u003ctd\u003e36\u003c/td\u003e\u003ctd\u003e36\u003c/td\u003e\u003c/tr\u003e\",","            \"\u003ctr\u003e\u003ctd\u003e06010365T\u003c/td\u003e\u003ctd\u003eSzámegyenes\u003c/td\u003e\u003ctd\u003e36\u003c/td\u003e\u003ctd\u003e36\u003c/td\u003e\u003c/tr\u003e\",","            \"\u003ctr\u003e\u003ctd\u003e06010201T\u003c/td\u003e\u003ctd\u003eHőmérő, műa.\u003c/td\u003e\u003ctd\u003e36\u003c/td\u003e\u003ctd\u003e36\u003c/td\u003e\u003c/tr\u003e\",","            \"\u003ctr\u003e\u003ctd\u003e06010086T\u003c/td\u003e\u003ctd\u003eEcset Nebulo 4-es\u003c/td\u003e\u003ctd\u003e36\u003c/td\u003e\u003ctd\u003e36\u003c/td\u003e\u003c/tr\u003e\",","            \"\u003ctr\u003e\u003ctd\u003e04050255T\u003c/td\u003e\u003ctd\u003eKulcstartó mesefigurás\u003c/td\u003e\u003ctd\u003e36\u003c/td\u003e\u003ctd\u003e36\u003c/td\u003e\u003c/tr\u003e\",","            \"\u003ctr\u003e\u003ctd\u003e04030237T\u003c/td\u003e\u003ctd\u003eKépeslap kerek\u003c/td\u003e\u003ctd\u003e36\u003c/td\u003e\u003ctd\u003e36.666666666666664\u003c/td\u003e\u003c/tr\u003e\",","            \"\u003ctr\u003e\u003ctd\u003e01080513T\u003c/td\u003e\u003ctd\u003eSelyemfényű karton A/4\u003c/td\u003e\u003ctd\u003e38\u003c/td\u003e\u003ctd\u003e37.666666666666664\u003c/td\u003e\u003c/tr\u003e\",","            \"\u003ctr\u003e\u003ctd\u003e02030043T\u003c/td\u003e\u003ctd\u003eBoríték légp. kicsi\u003c/td\u003e\u003ctd\u003e39\u003c/td\u003e\u003ctd\u003e38.666666666666664\u003c/td\u003e\u003c/tr\u003e\",","            \"\u003ctr\u003e\u003ctd\u003e07040051T\u003c/td\u003e\u003ctd\u003eCeruza háromszög \u003c/td\u003e\u003ctd\u003e39\u003c/td\u003e\u003ctd\u003e39\u003c/td\u003e\u003c/tr\u003e\",","            \"\u003ctr\u003e\u003ctd\u003e07040047T\u003c/td\u003e\u003ctd\u003eCeruza 2H-4B\u003c/td\u003e\u003ctd\u003e39\u003c/td\u003e\u003ctd\u003e39\u003c/td\u003e\u003c/tr\u003e\",","            \"\u003ctr\u003e\u003ctd\u003e07040133T\u003c/td\u003e\u003ctd\u003eG.toll betét görbe hegyű\u003c/td\u003e\u003ctd\u003e39\u003c/td\u003e\u003ctd\u003e39.333333333333336\u003c/td\u003e\u003c/tr\u003e\",","            \"\u003ctr\u003e\u003ctd\u003e07080064T\u003c/td\u003e\u003ctd\u003eCeruza zöld színű\u003c/td\u003e\u003ctd\u003e40\u003c/td\u003e\u003ctd\u003e39.666666666666664\u003c/td\u003e\u003c/tr\u003e\",","            \"\u003ctr\u003e\u003ctd\u003e07040049T\u003c/td\u003e\u003ctd\u003eCeruza Conté zöld\u003c/td\u003e\u003ctd\u003e40\u003c/td\u003e\u003ctd\u003e40\u003c/td\u003e\u003c/tr\u003e\",","            \"\u003ctr\u003e\u003ctd\u003e07040056T\u003c/td\u003e\u003ctd\u003eCeruza piros-kék vékony\u003c/td\u003e\u003ctd\u003e40\u003c/td\u003e\u003ctd\u003e40\u003c/td\u003e\u003c/tr\u003e\",","            \"\u003ctr\u003e\u003ctd\u003e06040325T\u003c/td\u003e\u003ctd\u003eRadír gyümölcsös\u003c/td\u003e\u003ctd\u003e40\u003c/td\u003e\u003ctd\u003e40\u003c/td\u003e\u003c/tr\u003e\",","            \"\u003ctr\u003e\u003ctd\u003e01100509T\u003c/td\u003e\u003ctd\u003eMárványos A/4\u003c/td\u003e\u003ctd\u003e40\u003c/td\u003e\u003ctd\u003e40\u003c/td\u003e\u003c/tr\u003e\",","            \"\u003ctr\u003e\u003ctd\u003e02040507T\u003c/td\u003e\u003ctd\u003eFólia tasakos A4 80 mik.\u003c/td\u003e\u003ctd\u003e40\u003c/td\u003e\u003ctd\u003e40\u003c/td\u003e\u003c/tr\u003e\",","            \"\u003ctr\u003e\u003ctd\u003e03050459T\u003c/td\u003e\u003ctd\u003eTalpas tasak\u003c/td\u003e\u003ctd\u003e40\u003c/td\u003e\u003ctd\u003e40\u003c/td\u003e\u003c/tr\u003e\",","            \"\u003ctr\u003e\u003ctd\u003e06010082T\u003c/td\u003e\u003ctd\u003eEcset Centrum 10,11,12\u003c/td\u003e\u003ctd\u003e40\u003c/td\u003e\u003ctd\u003e40\u003c/td\u003e\u003c/tr\u003e\",","            \"\u003ctr\u003e\u003ctd\u003e05050465T\u003c/td\u003e\u003ctd\u003eTapétavágó kés\u003c/td\u003e\u003ctd\u003e40\u003c/td\u003e\u003ctd\u003e40.333333333333336\u003c/td\u003e\u003c/tr\u003e\",","            \"\u003ctr\u003e\u003ctd\u003e07080153T\u003c/td\u003e\u003ctd\u003eGolyóstoll illatos ICO\u003c/td\u003e\u003ctd\u003e41\u003c/td\u003e\u003ctd\u003e41.333333333333336\u003c/td\u003e\u003c/tr\u003e\",","            \"\u003ctr\u003e\u003ctd\u003e06010373T\u003c/td\u003e\u003ctd\u003eSzínes papír I.II-IV.V-VIII-ig\u003c/td\u003e\u003ctd\u003e43\u003c/td\u003e\u003ctd\u003e42.666666666666664\u003c/td\u003e\u003c/tr\u003e\",","            \"\u003ctr\u003e\u003ctd\u003e04030241T\u003c/td\u003e\u003ctd\u003eKépeslap virágos +boríték\u003c/td\u003e\u003ctd\u003e44\u003c/td\u003e\u003ctd\u003e43.666666666666664\u003c/td\u003e\u003c/tr\u003e\",","            \"\u003ctr\u003e\u003ctd\u003e03080020T\u003c/td\u003e\u003ctd\u003eAjándék csom. nagy  \u003c/td\u003e\u003ctd\u003e44\u003c/td\u003e\u003ctd\u003e44\u003c/td\u003e\u003c/tr\u003e\",","            \"\u003ctr\u003e\u003ctd\u003e04030286T\u003c/td\u003e\u003ctd\u003eMűanyag állatok\u003c/td\u003e\u003ctd\u003e44\u003c/td\u003e\u003ctd\u003e44\u003c/td\u003e\u003c/tr\u003e\",","            \"\u003ctr\u003e\u003ctd\u003e04050075T\u003c/td\u003e\u003ctd\u003eDíszdoboz tollnak 2 db-os keskeny\u003c/td\u003e\u003ctd\u003e44\u003c/td\u003e\u003ctd\u003e44\u003c/td\u003e\u003c/tr\u003e\",","            \"\u003ctr\u003e\u003ctd\u003e03050077T\u003c/td\u003e\u003ctd\u003eDiszkötöző szalag arany\u003c/td\u003e\u003ctd\u003e44\u003c/td\u003e\u003ctd\u003e44\u003c/td\u003e\u003c/tr\u003e\",","            \"\u003ctr\u003e\u003ctd\u003e02080450T\u003c/td\u003e\u003ctd\u003eGémkapocs 28-as színes\u003c/td\u003e\u003ctd\u003e44\u003c/td\u003e\u003ctd\u003e44\u003c/td\u003e\u003c/tr\u003e\",","            \"\u003ctr\u003e\u003ctd\u003e02040508T\u003c/td\u003e\u003ctd\u003eFólia tasakos A4100 mik.\u003c/td\u003e\u003ctd\u003e44\u003c/td\u003e\u003ctd\u003e44\u003c/td\u003e\u003c/tr\u003e\",","            \"\u003ctr\u003e\u003ctd\u003e02040506T\u003c/td\u003e\u003ctd\u003eFólia tasakos A4 125 mik.\u003c/td\u003e\u003ctd\u003e44\u003c/td\u003e\u003ctd\u003e44\u003c/td\u003e\u003c/tr\u003e\",","            \"\u003ctr\u003e\u003ctd\u003e02040405T\u003c/td\u003e\u003ctd\u003eTűzőkapocs 10-es\u003c/td\u003e\u003ctd\u003e44\u003c/td\u003e\u003ctd\u003e44\u003c/td\u003e\u003c/tr\u003e\",","            \"\u003ctr\u003e\u003ctd\u003e02040298T\u003c/td\u003e\u003ctd\u003eNotesz mintás\u003c/td\u003e\u003ctd\u003e44\u003c/td\u003e\u003ctd\u003e44\u003c/td\u003e\u003c/tr\u003e\",","            \"\u003ctr\u003e\u003ctd\u003e02040209T\u003c/td\u003e\u003ctd\u003eIratsín fehér\u003c/td\u003e\u003ctd\u003e44\u003c/td\u003e\u003ctd\u003e44\u003c/td\u003e\u003c/tr\u003e\",","            \"\u003ctr\u003e\u003ctd\u003e07040134T\u003c/td\u003e\u003ctd\u003eG.toll betét illatos\u003c/td\u003e\u003ctd\u003e44\u003c/td\u003e\u003ctd\u003e44\u003c/td\u003e\u003c/tr\u003e\",","            \"\u003ctr\u003e\u003ctd\u003e07080161T\u003c/td\u003e\u003ctd\u003eGolyóstoll kétszínű\u003c/td\u003e\u003ctd\u003e44\u003c/td\u003e\u003ctd\u003e44\u003c/td\u003e\u003c/tr\u003e\",","            \"\u003ctr\u003e\u003ctd\u003e06040328T\u003c/td\u003e\u003ctd\u003eRadír Maped\u003c/td\u003e\u003ctd\u003e44\u003c/td\u003e\u003ctd\u003e44\u003c/td\u003e\u003c/tr\u003e\",","            \"\u003ctr\u003e\u003ctd\u003e06040329T\u003c/td\u003e\u003ctd\u003eRadír stabilo\u003c/td\u003e\u003ctd\u003e44\u003c/td\u003e\u003ctd\u003e44\u003c/td\u003e\u003c/tr\u003e\",","            \"\u003ctr\u003e\u003ctd\u003e07040061T\u003c/td\u003e\u003ctd\u003eCeruza stabilo opera\u003c/td\u003e\u003ctd\u003e44\u003c/td\u003e\u003ctd\u003e44.333333333333336\u003c/td\u003e\u003c/tr\u003e\",","            \"\u003ctr\u003e\u003ctd\u003e02080514T\u003c/td\u003e\u003ctd\u003eSpirál 1/4 \u003c/td\u003e\u003ctd\u003e45\u003c/td\u003e\u003ctd\u003e44.666666666666664\u003c/td\u003e\u003c/tr\u003e\",","            \"\u003ctr\u003e\u003ctd\u003e06010374T\u003c/td\u003e\u003ctd\u003eSzorzótábla műanyag\u003c/td\u003e\u003ctd\u003e45\u003c/td\u003e\u003ctd\u003e45.333333333333336\u003c/td\u003e\u003c/tr\u003e\",","            \"\u003ctr\u003e\u003ctd\u003e05050045T\u003c/td\u003e\u003ctd\u003eCelofán\u003c/td\u003e\u003ctd\u003e46\u003c/td\u003e\u003ctd\u003e45.666666666666664\u003c/td\u003e\u003c/tr\u003e\",","            \"\u003ctr\u003e\u003ctd\u003e07040102T\u003c/td\u003e\u003ctd\u003eFilctoll supra fine\u003c/td\u003e\u003ctd\u003e46\u003c/td\u003e\u003ctd\u003e46.666666666666664\u003c/td\u003e\u003c/tr\u003e\",","            \"\u003ctr\u003e\u003ctd\u003e07010137T\u003c/td\u003e\u003ctd\u003eG.toll betét PAX tip.\u003c/td\u003e\u003ctd\u003e48\u003c/td\u003e\u003ctd\u003e47.333333333333336\u003c/td\u003e\u003c/tr\u003e\",","            \"\u003ctr\u003e\u003ctd\u003e06040386T\u003c/td\u003e\u003ctd\u003eTempera szóló színes\u003c/td\u003e\u003ctd\u003e48\u003c/td\u003e\u003ctd\u003e48\u003c/td\u003e\u003c/tr\u003e\",","            \"\u003ctr\u003e\u003ctd\u003e06010115T\u003c/td\u003e\u003ctd\u003eFüzet A/5, mintás\u003c/td\u003e\u003ctd\u003e48\u003c/td\u003e\u003ctd\u003e48\u003c/td\u003e\u003c/tr\u003e\",","            \"\u003ctr\u003e\u003ctd\u003e04050224T\u003c/td\u003e\u003ctd\u003eJelzőkréta\u003c/td\u003e\u003ctd\u003e48\u003c/td\u003e\u003ctd\u003e48\u003c/td\u003e\u003c/tr\u003e\",","            \"\u003ctr\u003e\u003ctd\u003e04030239T\u003c/td\u003e\u003ctd\u003eKépeslap stancolt szív\u003c/td\u003e\u003ctd\u003e48\u003c/td\u003e\u003ctd\u003e48\u003c/td\u003e\u003c/tr\u003e\",","            \"\u003ctr\u003e\u003ctd\u003e02040146T\u003c/td\u003e\u003ctd\u003eGemkapocs ICO\u003c/td\u003e\u003ctd\u003e48\u003c/td\u003e\u003ctd\u003e48\u003c/td\u003e\u003c/tr\u003e\",","            \"\u003ctr\u003e\u003ctd\u003e01020299T\u003c/td\u003e\u003ctd\u003eOklevél A/4 egyszínű\u003c/td\u003e\u003ctd\u003e48\u003c/td\u003e\u003ctd\u003e48.333333333333336\u003c/td\u003e\u003c/tr\u003e\",","            \"\u003ctr\u003e\u003ctd\u003e04110274T\u003c/td\u003e\u003ctd\u003eMatrica autóra H\u003c/td\u003e\u003ctd\u003e49\u003c/td\u003e\u003ctd\u003e48.666666666666664\u003c/td\u003e\u003c/tr\u003e\",","            \"\u003ctr\u003e\u003ctd\u003e04110275T\u003c/td\u003e\u003ctd\u003eMatrica motoros kicsi\u003c/td\u003e\u003ctd\u003e49\u003c/td\u003e\u003ctd\u003e49\u003c/td\u003e\u003c/tr\u003e\",","            \"\u003ctr\u003e\u003ctd\u003e06040331T\u003c/td\u003e\u003ctd\u003eRadír Tikky 40 \u003c/td\u003e\u003ctd\u003e49\u003c/td\u003e\u003ctd\u003e49.333333333333336\u003c/td\u003e\u003c/tr\u003e\",","            \"\u003ctr\u003e\u003ctd\u003e06040330T\u003c/td\u003e\u003ctd\u003eRadír Tikky 30 \u003c/td\u003e\u003ctd\u003e50\u003c/td\u003e\u003ctd\u003e50\u003c/td\u003e\u003c/tr\u003e\",","            \"\u003ctr\u003e\u003ctd\u003e07080150T\u003c/td\u003e\u003ctd\u003eGolyóstoll\u003c/td\u003e\u003ctd\u003e51\u003c/td\u003e\u003ctd\u003e50.666666666666664\u003c/td\u003e\u003c/tr\u003e\",","            \"\u003ctr\u003e\u003ctd\u003e04110232T\u003c/td\u003e\u003ctd\u003eKépeslap humoros kaparós\u003c/td\u003e\u003ctd\u003e51\u003c/td\u003e\u003ctd\u003e51\u003c/td\u003e\u003c/tr\u003e\",","            \"\u003ctr\u003e\u003ctd\u003e06040088T\u003c/td\u003e\u003ctd\u003eEgészségügyi könyv\u003c/td\u003e\u003ctd\u003e51\u003c/td\u003e\u003ctd\u003e51\u003c/td\u003e\u003c/tr\u003e\",","            \"\u003ctr\u003e\u003ctd\u003e02080109T\u003c/td\u003e\u003ctd\u003eFloppy lemez\u003c/td\u003e\u003ctd\u003e51\u003c/td\u003e\u003ctd\u003e51.666666666666664\u003c/td\u003e\u003c/tr\u003e\",","            \"\u003ctr\u003e\u003ctd\u003e07030103T\u003c/td\u003e\u003ctd\u003eFilctoll TINTEN PEN\u003c/td\u003e\u003ctd\u003e53\u003c/td\u003e\u003ctd\u003e52.333333333333336\u003c/td\u003e\u003c/tr\u003e\",","            \"\u003ctr\u003e\u003ctd\u003e07040052T\u003c/td\u003e\u003ctd\u003eCeruza 2H-3B Koh-i-nor\u003c/td\u003e\u003ctd\u003e53\u003c/td\u003e\u003ctd\u003e53.666666666666664\u003c/td\u003e\u003c/tr\u003e\",","            \"\u003ctr\u003e\u003ctd\u003e07040054T\u003c/td\u003e\u003ctd\u003eCeruza kártyás\u003c/td\u003e\u003ctd\u003e55\u003c/td\u003e\u003ctd\u003e54.333333333333336\u003c/td\u003e\u003c/tr\u003e\",","            \"\u003ctr\u003e\u003ctd\u003e07040048T\u003c/td\u003e\u003ctd\u003eCeruza arany, ezüst\u003c/td\u003e\u003ctd\u003e55\u003c/td\u003e\u003ctd\u003e55\u003c/td\u003e\u003c/tr\u003e\",","            \"\u003ctr\u003e\u003ctd\u003e07040132T\u003c/td\u003e\u003ctd\u003eG.toll betét csavaros\u003c/td\u003e\u003ctd\u003e55\u003c/td\u003e\u003ctd\u003e55\u003c/td\u003e\u003c/tr\u003e\",","            \"\u003ctr\u003e\u003ctd\u003e07040128T\u003c/td\u003e\u003ctd\u003eG. toll betét mini fém\u003c/td\u003e\u003ctd\u003e55\u003c/td\u003e\u003ctd\u003e55\u003c/td\u003e\u003c/tr\u003e\",","            \"\u003ctr\u003e\u003ctd\u003e02080433T\u003c/td\u003e\u003ctd\u003eRagasztószalag 19 mm-es\u003c/td\u003e\u003ctd\u003e55\u003c/td\u003e\u003ctd\u003e55\u003c/td\u003e\u003c/tr\u003e\",","            \"\u003ctr\u003e\u003ctd\u003e01020300T\u003c/td\u003e\u003ctd\u003eOklevél A/4 színes\u003c/td\u003e\u003ctd\u003e55\u003c/td\u003e\u003ctd\u003e55\u003c/td\u003e\u003c/tr\u003e\",","            \"\u003ctr\u003e\u003ctd\u003e04110230T\u003c/td\u003e\u003ctd\u003eKépeslap humoros \u003c/td\u003e\u003ctd\u003e55\u003c/td\u003e\u003ctd\u003e55\u003c/td\u003e\u003c/tr\u003e\",","            \"\u003ctr\u003e\u003ctd\u003e04110273T\u003c/td\u003e\u003ctd\u003eMatrica állatos\u003c/td\u003e\u003ctd\u003e55\u003c/td\u003e\u003ctd\u003e55.333333333333336\u003c/td\u003e\u003c/tr\u003e\",","            \"\u003ctr\u003e\u003ctd\u003e04110282T\u003c/td\u003e\u003ctd\u003eMatrica WD kicsi\u003c/td\u003e\u003ctd\u003e56\u003c/td\u003e\u003ctd\u003e55.666666666666664\u003c/td\u003e\u003c/tr\u003e\",","            \"\u003ctr\u003e\u003ctd\u003e04030262T\u003c/td\u003e\u003ctd\u003eLevélpapír sima\u003c/td\u003e\u003ctd\u003e56\u003c/td\u003e\u003ctd\u003e56\u003c/td\u003e\u003c/tr\u003e\",","            \"\u003ctr\u003e\u003ctd\u003e03080019T\u003c/td\u003e\u003ctd\u003eAjándék csom. Krepp\u003c/td\u003e\u003ctd\u003e56\u003c/td\u003e\u003ctd\u003e56\u003c/td\u003e\u003c/tr\u003e\",","            \"\u003ctr\u003e\u003ctd\u003e02040296T\u003c/td\u003e\u003ctd\u003eNotesz A/6 College\u003c/td\u003e\u003ctd\u003e56\u003c/td\u003e\u003ctd\u003e56.666666666666664\u003c/td\u003e\u003c/tr\u003e\",","            \"\u003ctr\u003e\u003ctd\u003e07040059T\u003c/td\u003e\u003ctd\u003eCeruza smaragd\u003c/td\u003e\u003ctd\u003e58\u003c/td\u003e\u003ctd\u003e57.333333333333336\u003c/td\u003e\u003c/tr\u003e\",","            \"\u003ctr\u003e\u003ctd\u003e06080411T\u003c/td\u003e\u003ctd\u003eVonalzó 15 cm-es ESSELTE\u003c/td\u003e\u003ctd\u003e58\u003c/td\u003e\u003ctd\u003e58\u003c/td\u003e\u003c/tr\u003e\",","            \"\u003ctr\u003e\u003ctd\u003e06040384T\u003c/td\u003e\u003ctd\u003eTechnika cs. I-II-III-IV\u003c/td\u003e\u003ctd\u003e58\u003c/td\u003e\u003ctd\u003e58.333333333333336\u003c/td\u003e\u003c/tr\u003e\",","            \"\u003ctr\u003e\u003ctd\u003e07040055T\u003c/td\u003e\u003ctd\u003eCeruza piros-kék\u003c/td\u003e\u003ctd\u003e59\u003c/td\u003e\u003ctd\u003e58.666666666666664\u003c/td\u003e\u003c/tr\u003e\",","            \"\u003ctr\u003e\u003ctd\u003e07040217T\u003c/td\u003e\u003ctd\u003eIronbél H 0,5\u003c/td\u003e\u003ctd\u003e59\u003c/td\u003e\u003ctd\u003e59\u003c/td\u003e\u003c/tr\u003e\",","            \"\u003ctr\u003e\u003ctd\u003e07080313T\u003c/td\u003e\u003ctd\u003ePixiron Centrum\u003c/td\u003e\u003ctd\u003e59\u003c/td\u003e\u003ctd\u003e59\u003c/td\u003e\u003c/tr\u003e\",","            \"\u003ctr\u003e\u003ctd\u003e07080317T\u003c/td\u003e\u003ctd\u003ePixiron mini \u003c/td\u003e\u003ctd\u003e59\u003c/td\u003e\u003ctd\u003e59\u003c/td\u003e\u003c/tr\u003e\",","            \"\u003ctr\u003e\u003ctd\u003e01010304T\u003c/td\u003e\u003ctd\u003eÖntapadós hologramos papír A/4\u003c/td\u003e\u003ctd\u003e59\u003c/td\u003e\u003ctd\u003e59\u003c/td\u003e\u003c/tr\u003e\",","            \"\u003ctr\u003e\u003ctd\u003e01030092T\u003c/td\u003e\u003ctd\u003eEsküvői meghívó\u003c/td\u003e\u003ctd\u003e59\u003c/td\u003e\u003ctd\u003e59\u003c/td\u003e\u003c/tr\u003e\",","            \"\u003ctr\u003e\u003ctd\u003e02040214T\u003c/td\u003e\u003ctd\u003eIromány fedél feles\u003c/td\u003e\u003ctd\u003e59\u003c/td\u003e\u003ctd\u003e59\u003c/td\u003e\u003c/tr\u003e\",","            \"\u003ctr\u003e\u003ctd\u003e04030238T\u003c/td\u003e\u003ctd\u003eKépeslap stancolt\u003c/td\u003e\u003ctd\u003e59\u003c/td\u003e\u003ctd\u003e59.333333333333336\u003c/td\u003e\u003c/tr\u003e\",","            \"\u003ctr\u003e\u003ctd\u003e06010084T\u003c/td\u003e\u003ctd\u003eEcset Deák 2-es\u003c/td\u003e\u003ctd\u003e60\u003c/td\u003e\u003ctd\u003e60\u003c/td\u003e\u003c/tr\u003e\",","            \"\u003ctr\u003e\u003ctd\u003e06010368T\u003c/td\u003e\u003ctd\u003eSzámolópálca\u003c/td\u003e\u003ctd\u003e61\u003c/td\u003e\u003ctd\u003e60.666666666666664\u003c/td\u003e\u003c/tr\u003e\",","            \"\u003ctr\u003e\u003ctd\u003e04050073T\u003c/td\u003e\u003ctd\u003eDíszdoboz kar.\u003c/td\u003e\u003ctd\u003e61\u003c/td\u003e\u003ctd\u003e61.666666666666664\u003c/td\u003e\u003c/tr\u003e\",","            \"\u003ctr\u003e\u003ctd\u003e05040349T\u003c/td\u003e\u003ctd\u003eRajzszeg\u003c/td\u003e\u003ctd\u003e63\u003c/td\u003e\u003ctd\u003e62.333333333333336\u003c/td\u003e\u003c/tr\u003e\",","            \"\u003ctr\u003e\u003ctd\u003e02040148T\u003c/td\u003e\u003ctd\u003eGenotherm lefűzhető A4 10db-os\u003c/td\u003e\u003ctd\u003e63\u003c/td\u003e\u003ctd\u003e63\u003c/td\u003e\u003c/tr\u003e\",","            \"\u003ctr\u003e\u003ctd\u003e03010344T\u003c/td\u003e\u003ctd\u003eRagasztószalag nagy 12 mm\u003c/td\u003e\u003ctd\u003e63\u003c/td\u003e\u003ctd\u003e63\u003c/td\u003e\u003c/tr\u003e\",","            \"\u003ctr\u003e\u003ctd\u003e07080159T\u003c/td\u003e\u003ctd\u003eGolyóstoll Pax tip.\u003c/td\u003e\u003ctd\u003e63\u003c/td\u003e\u003ctd\u003e63\u003c/td\u003e\u003c/tr\u003e\",","            \"\u003ctr\u003e\u003ctd\u003e06080429T\u003c/td\u003e\u003ctd\u003eMeghívó ballagási\u003c/td\u003e\u003ctd\u003e63\u003c/td\u003e\u003ctd\u003e63.333333333333336\u003c/td\u003e\u003c/tr\u003e\",","            \"\u003ctr\u003e\u003ctd\u003e03080013T\u003c/td\u003e\u003ctd\u003eAjándék csom. 50x70 húsvéti\u003c/td\u003e\u003ctd\u003e64\u003c/td\u003e\u003ctd\u003e64\u003c/td\u003e\u003c/tr\u003e\",","            \"\u003ctr\u003e\u003ctd\u003e06010085T\u003c/td\u003e\u003ctd\u003eEcset Lizzy 10-es\u003c/td\u003e\u003ctd\u003e65\u003c/td\u003e\u003ctd\u003e64.66666666666667\u003c/td\u003e\u003c/tr\u003e\",","            \"\u003ctr\u003e\u003ctd\u003e04050220T\u003c/td\u003e\u003ctd\u003eJáték autó\u003c/td\u003e\u003ctd\u003e65\u003c/td\u003e\u003ctd\u003e65.33333333333333\u003c/td\u003e\u003c/tr\u003e\",","            \"\u003ctr\u003e\u003ctd\u003e04050074T\u003c/td\u003e\u003ctd\u003eDíszdoboz tollnak 2 db-os\u003c/td\u003e\u003ctd\u003e66\u003c/td\u003e\u003ctd\u003e65.66666666666667\u003c/td\u003e\u003c/tr\u003e\",","            \"\u003ctr\u003e\u003ctd\u003e04050187T\u003c/td\u003e\u003ctd\u003eHajgumi macis\u003c/td\u003e\u003ctd\u003e66\u003c/td\u003e\u003ctd\u003e66\u003c/td\u003e\u003c/tr\u003e\",","            \"\u003ctr\u003e\u003ctd\u003e02080436T\u003c/td\u003e\u003ctd\u003eIrattartó müa. boríték A/4\u003c/td\u003e\u003ctd\u003e66\u003c/td\u003e\u003ctd\u003e66\u003c/td\u003e\u003c/tr\u003e\",","            \"\u003ctr\u003e\u003ctd\u003e07080419T\u003c/td\u003e\u003ctd\u003eZselés toll MICRO\u003c/td\u003e\u003ctd\u003e66\u003c/td\u003e\u003ctd\u003e66.66666666666667\u003c/td\u003e\u003c/tr\u003e\",","            \"\u003ctr\u003e\u003ctd\u003e06010111T\u003c/td\u003e\u003ctd\u003eFüzet  A/4 \u003c/td\u003e\u003ctd\u003e68\u003c/td\u003e\u003ctd\u003e68\u003c/td\u003e\u003c/tr\u003e\",","            \"\u003ctr\u003e\u003ctd\u003e06080192T\u003c/td\u003e\u003ctd\u003eHegyző fém 1 lyukú\u003c/td\u003e\u003ctd\u003e70\u003c/td\u003e\u003ctd\u003e70.33333333333333\u003c/td\u003e\u003c/tr\u003e\",","            \"\u003ctr\u003e\u003ctd\u003e06050249T\u003c/td\u003e\u003ctd\u003eKrepp papír\u003c/td\u003e\u003ctd\u003e73\u003c/td\u003e\u003ctd\u003e72\u003c/td\u003e\u003c/tr\u003e\",","            \"\u003ctr\u003e\u003ctd\u003e05050046T\u003c/td\u003e\u003ctd\u003eCelofán 50 db-os\u003c/td\u003e\u003ctd\u003e73\u003c/td\u003e\u003ctd\u003e73\u003c/td\u003e\u003c/tr\u003e\",","            \"\u003ctr\u003e\u003ctd\u003e04110258T\u003c/td\u003e\u003ctd\u003eLampion\u003c/td\u003e\u003ctd\u003e73\u003c/td\u003e\u003ctd\u003e73\u003c/td\u003e\u003c/tr\u003e\",","            \"\u003ctr\u003e\u003ctd\u003e04050223T\u003c/td\u003e\u003ctd\u003eJátékautó mini\u003c/td\u003e\u003ctd\u003e73\u003c/td\u003e\u003ctd\u003e73\u003c/td\u003e\u003c/tr\u003e\",","            \"\u003ctr\u003e\u003ctd\u003e04030235T\u003c/td\u003e\u003ctd\u003eKépeslap karácsonyi borítékos\u003c/td\u003e\u003ctd\u003e73\u003c/td\u003e\u003ctd\u003e73\u003c/td\u003e\u003c/tr\u003e\",","            \"\u003ctr\u003e\u003ctd\u003e01100070T\u003c/td\u003e\u003ctd\u003eDekorációs karton\u003c/td\u003e\u003ctd\u003e73\u003c/td\u003e\u003ctd\u003e73.33333333333333\u003c/td\u003e\u003c/tr\u003e\",","            \"\u003ctr\u003e\u003ctd\u003e04030264T\u003c/td\u003e\u003ctd\u003eLevélpapír szett \u003c/td\u003e\u003ctd\u003e74\u003c/td\u003e\u003ctd\u003e73.66666666666667\u003c/td\u003e\u003c/tr\u003e\",","            \"\u003ctr\u003e\u003ctd\u003e06080332T\u003c/td\u003e\u003ctd\u003eRadírtoll betét ER100\u003c/td\u003e\u003ctd\u003e74\u003c/td\u003e\u003ctd\u003e74\u003c/td\u003e\u003c/tr\u003e\",","            \"\u003ctr\u003e\u003ctd\u003e06080430T\u003c/td\u003e\u003ctd\u003eÖntapadős betűk\u003c/td\u003e\u003ctd\u003e74\u003c/td\u003e\u003ctd\u003e74\u003c/td\u003e\u003c/tr\u003e\",","            \"\u003ctr\u003e\u003ctd\u003e07010244T\u003c/td\u003e\u003ctd\u003eKerámiatoll\u003c/td\u003e\u003ctd\u003e74\u003c/td\u003e\u003ctd\u003e74\u003c/td\u003e\u003c/tr\u003e\",","            \"\u003ctr\u003e\u003ctd\u003e07040215T\u003c/td\u003e\u003ctd\u003eIronbél  2B ICO\u003c/td\u003e\u003ctd\u003e74\u003c/td\u003e\u003ctd\u003e74.66666666666667\u003c/td\u003e\u003c/tr\u003e\",","            \"\u003ctr\u003e\u003ctd\u003e07030104T\u003c/td\u003e\u003ctd\u003eFilctoll vastag ARTIP\u003c/td\u003e\u003ctd\u003e76\u003c/td\u003e\u003ctd\u003e76\u003c/td\u003e\u003c/tr\u003e\",","            \"\u003ctr\u003e\u003ctd\u003e07010143T\u003c/td\u003e\u003ctd\u003eG.toll betét Zebra H-0,7\u003c/td\u003e\u003ctd\u003e78\u003c/td\u003e\u003ctd\u003e77.33333333333333\u003c/td\u003e\u003c/tr\u003e\",","            \"\u003ctr\u003e\u003ctd\u003e06040380T\u003c/td\u003e\u003ctd\u003eSzövegkiemelő\u003c/td\u003e\u003ctd\u003e78\u003c/td\u003e\u003ctd\u003e78\u003c/td\u003e\u003c/tr\u003e\",","            \"\u003ctr\u003e\u003ctd\u003e07040219T\u003c/td\u003e\u003ctd\u003eIronbél HI-POLIMER HB 0,7\u003c/td\u003e\u003ctd\u003e78\u003c/td\u003e\u003ctd\u003e78\u003c/td\u003e\u003c/tr\u003e\",","            \"\u003ctr\u003e\u003ctd\u003e06010112T\u003c/td\u003e\u003ctd\u003eFüzet  A4 mintás\u003c/td\u003e\u003ctd\u003e78\u003c/td\u003e\u003ctd\u003e78\u003c/td\u003e\u003c/tr\u003e\",","            \"\u003ctr\u003e\u003ctd\u003e02040292T\u003c/td\u003e\u003ctd\u003eNaptárhát nagy\u003c/td\u003e\u003ctd\u003e78\u003c/td\u003e\u003ctd\u003e78.33333333333333\u003c/td\u003e\u003c/tr\u003e\",","            \"\u003ctr\u003e\u003ctd\u003e06040087T\u003c/td\u003e\u003ctd\u003eEcset Nebuló 10-es\u003c/td\u003e\u003ctd\u003e79\u003c/td\u003e\u003ctd\u003e79\u003c/td\u003e\u003c/tr\u003e\",","            \"\u003ctr\u003e\u003ctd\u003e07040130T\u003c/td\u003e\u003ctd\u003eG. toll betét S7S\u003c/td\u003e\u003ctd\u003e80\u003c/td\u003e\u003ctd\u003e79.66666666666667\u003c/td\u003e\u003c/tr\u003e\",","            \"\u003ctr\u003e\u003ctd\u003e07040391T\u003c/td\u003e\u003ctd\u003eToll Centropen roller\u003c/td\u003e\u003ctd\u003e80\u003c/td\u003e\u003ctd\u003e80.33333333333333\u003c/td\u003e\u003c/tr\u003e\",","            \"\u003ctr\u003e\u003ctd\u003e07080466T\u003c/td\u003e\u003ctd\u003eGolyóstoll Stabiló 308\u003c/td\u003e\u003ctd\u003e81\u003c/td\u003e\u003ctd\u003e80.66666666666667\u003c/td\u003e\u003c/tr\u003e\",","            \"\u003ctr\u003e\u003ctd\u003e06080336T\u003c/td\u003e\u003ctd\u003eRagasztó 8 g Pritt\u003c/td\u003e\u003ctd\u003e81\u003c/td\u003e\u003ctd\u003e81\u003c/td\u003e\u003c/tr\u003e\",","            \"\u003ctr\u003e\u003ctd\u003e04110231T\u003c/td\u003e\u003ctd\u003eKépeslap humoros borítékos\u003c/td\u003e\u003ctd\u003e81\u003c/td\u003e\u003ctd\u003e81\u003c/td\u003e\u003c/tr\u003e\",","            \"\u003ctr\u003e\u003ctd\u003e04040387T\u003c/td\u003e\u003ctd\u003eTenisz labda\u003c/td\u003e\u003ctd\u003e81\u003c/td\u003e\u003ctd\u003e81\u003c/td\u003e\u003c/tr\u003e\",","            \"\u003ctr\u003e\u003ctd\u003e02040197T\u003c/td\u003e\u003ctd\u003eHibajavító lap \u003c/td\u003e\u003ctd\u003e81\u003c/td\u003e\u003ctd\u003e81\u003c/td\u003e\u003c/tr\u003e\",","            \"\u003ctr\u003e\u003ctd\u003e02040206T\u003c/td\u003e\u003ctd\u003eÍrásvetítő fólia\u003c/td\u003e\u003ctd\u003e81\u003c/td\u003e\u003ctd\u003e81\u003c/td\u003e\u003c/tr\u003e\",","            \"\u003ctr\u003e\u003ctd\u003e03050080T\u003c/td\u003e\u003ctd\u003eDiszkötöző széles szalag\u003c/td\u003e\u003ctd\u003e81\u003c/td\u003e\u003ctd\u003e81\u003c/td\u003e\u003c/tr\u003e\",","            \"\u003ctr\u003e\u003ctd\u003e03080014T\u003c/td\u003e\u003ctd\u003eAjándék csom. 70x50 metál\u003c/td\u003e\u003ctd\u003e81\u003c/td\u003e\u003ctd\u003e81\u003c/td\u003e\u003c/tr\u003e\",","            \"\u003ctr\u003e\u003ctd\u003e02040308T\u003c/td\u003e\u003ctd\u003ePénztárgépsz. 2 pl. nem öníró\u003c/td\u003e\u003ctd\u003e81\u003c/td\u003e\u003ctd\u003e82.33333333333333\u003c/td\u003e\u003c/tr\u003e\",","            \"\u003ctr\u003e\u003ctd\u003e07040131T\u003c/td\u003e\u003ctd\u003eG. toll betét UNI lachnok Fine SA-7C\u003c/td\u003e\u003ctd\u003e85\u003c/td\u003e\u003ctd\u003e85\u003c/td\u003e\u003c/tr\u003e\",","            \"\u003ctr\u003e\u003ctd\u003e06080339T\u003c/td\u003e\u003ctd\u003eRagasztó kores\u003c/td\u003e\u003ctd\u003e89\u003c/td\u003e\u003ctd\u003e87.66666666666667\u003c/td\u003e\u003c/tr\u003e\",","            \"\u003ctr\u003e\u003ctd\u003e07010144T\u003c/td\u003e\u003ctd\u003eG.toll betét Zebra K-0,7\u003c/td\u003e\u003ctd\u003e89\u003c/td\u003e\u003ctd\u003e89\u003c/td\u003e\u003c/tr\u003e\",","            \"\u003ctr\u003e\u003ctd\u003e06040357T\u003c/td\u003e\u003ctd\u003eSp.Füzet A/5 70-es\u003c/td\u003e\u003ctd\u003e89\u003c/td\u003e\u003ctd\u003e89\u003c/td\u003e\u003c/tr\u003e\",","            \"\u003ctr\u003e\u003ctd\u003e06040378T\u003c/td\u003e\u003ctd\u003eSzövegkiemelő vékony\u003c/td\u003e\u003ctd\u003e89\u003c/td\u003e\u003ctd\u003e89\u003c/td\u003e\u003c/tr\u003e\",","            \"\u003ctr\u003e\u003ctd\u003e06040324T\u003c/td\u003e\u003ctd\u003ePost-it 75×75 100 lapos\u003c/td\u003e\u003ctd\u003e89\u003c/td\u003e\u003ctd\u003e89\u003c/td\u003e\u003c/tr\u003e\",","            \"\u003ctr\u003e\u003ctd\u003e02040295T\u003c/td\u003e\u003ctd\u003eNotesz A/5 sima spirál\u003c/td\u003e\u003ctd\u003e89\u003c/td\u003e\u003ctd\u003e89\u003c/td\u003e\u003c/tr\u003e\",","            \"\u003ctr\u003e\u003ctd\u003e02080456T\u003c/td\u003e\u003ctd\u003eGenoterm HERLITZ 10-es\u003c/td\u003e\u003ctd\u003e89\u003c/td\u003e\u003ctd\u003e89\u003c/td\u003e\u003c/tr\u003e\",","            \"\u003ctr\u003e\u003ctd\u003e02040290T\u003c/td\u003e\u003ctd\u003eNaptár 24-es\u003c/td\u003e\u003ctd\u003e89\u003c/td\u003e\u003ctd\u003e89\u003c/td\u003e\u003c/tr\u003e\",","            \"\u003ctr\u003e\u003ctd\u003e02040210T\u003c/td\u003e\u003ctd\u003eIratsín kék\u003c/td\u003e\u003ctd\u003e89\u003c/td\u003e\u003ctd\u003e89\u003c/td\u003e\u003c/tr\u003e\",","            \"\u003ctr\u003e\u003ctd\u003e01100071T\u003c/td\u003e\u003ctd\u003eDekorációs karton arany, ezüst\u003c/td\u003e\u003ctd\u003e89\u003c/td\u003e\u003ctd\u003e89\u003c/td\u003e\u003c/tr\u003e\",","            \"\u003ctr\u003e\u003ctd\u003e04050022T\u003c/td\u003e\u003ctd\u003eÁlarc\u003c/td\u003e\u003ctd\u003e89\u003c/td\u003e\u003ctd\u003e89\u003c/td\u003e\u003c/tr\u003e\",","            \"\u003ctr\u003e\u003ctd\u003e04030263T\u003c/td\u003e\u003ctd\u003eLevélpapír szett\u003c/td\u003e\u003ctd\u003e89\u003c/td\u003e\u003ctd\u003e89\u003c/td\u003e\u003c/tr\u003e\",","            \"\u003ctr\u003e\u003ctd\u003e04110233T\u003c/td\u003e\u003ctd\u003eKépeslap humoros\u003c/td\u003e\u003ctd\u003e89\u003c/td\u003e\u003ctd\u003e89\u003c/td\u003e\u003c/tr\u003e\",","            \"\u003ctr\u003e\u003ctd\u003e05010370T\u003c/td\u003e\u003ctd\u003eSzilvia csomagoló\u003c/td\u003e\u003ctd\u003e89\u003c/td\u003e\u003ctd\u003e89\u003c/td\u003e\u003c/tr\u003e\",","            \"\u003ctr\u003e\u003ctd\u003e05050346T\u003c/td\u003e\u003ctd\u003eRágógumi Orbit\u003c/td\u003e\u003ctd\u003e89\u003c/td\u003e\u003ctd\u003e89.66666666666667\u003c/td\u003e\u003c/tr\u003e\",","            \"\u003ctr\u003e\u003ctd\u003e07010139T\u003c/td\u003e\u003ctd\u003eG.toll betét S7L \u003c/td\u003e\u003ctd\u003e91\u003c/td\u003e\u003ctd\u003e91\u003c/td\u003e\u003c/tr\u003e\",","            \"\u003ctr\u003e\u003ctd\u003e06040379T\u003c/td\u003e\u003ctd\u003eSzövegkiemelő \u003c/td\u003e\u003ctd\u003e93\u003c/td\u003e\u003ctd\u003e92.33333333333333\u003c/td\u003e\u003c/tr\u003e\",","            \"\u003ctr\u003e\u003ctd\u003e07080157T\u003c/td\u003e\u003ctd\u003eGolyóstoll Montex Hytone\u003c/td\u003e\u003ctd\u003e93\u003c/td\u003e\u003ctd\u003e93\u003c/td\u003e\u003c/tr\u003e\",","            \"\u003ctr\u003e\u003ctd\u003e04110277T\u003c/td\u003e\u003ctd\u003eMatrica Stickers szíves\u003c/td\u003e\u003ctd\u003e93\u003c/td\u003e\u003ctd\u003e93\u003c/td\u003e\u003c/tr\u003e\",","            \"\u003ctr\u003e\u003ctd\u003e02040309T\u003c/td\u003e\u003ctd\u003ePénztárgépszalag 2pl SC 57.5/60\u003c/td\u003e\u003ctd\u003e93\u003c/td\u003e\u003ctd\u003e93.33333333333333\u003c/td\u003e\u003c/tr\u003e\",","            \"\u003ctr\u003e\u003ctd\u003e07080315T\u003c/td\u003e\u003ctd\u003ePixiron Handy műanyag\u003c/td\u003e\u003ctd\u003e94\u003c/td\u003e\u003ctd\u003e93.66666666666667\u003c/td\u003e\u003c/tr\u003e\",","            \"\u003ctr\u003e\u003ctd\u003e07040169T\u003c/td\u003e\u003ctd\u003eGolyóstoll Zodiák\u003c/td\u003e\u003ctd\u003e94\u003c/td\u003e\u003ctd\u003e94.33333333333333\u003c/td\u003e\u003c/tr\u003e\",","            \"\u003ctr\u003e\u003ctd\u003e07080418T\u003c/td\u003e\u003ctd\u003eZselés toll \u003c/td\u003e\u003ctd\u003e95\u003c/td\u003e\u003ctd\u003e94.66666666666667\u003c/td\u003e\u003c/tr\u003e\",","            \"\u003ctr\u003e\u003ctd\u003e06040183T\u003c/td\u003e\u003ctd\u003eGyűrűskönyv bet. A/5\u003c/td\u003e\u003ctd\u003e95\u003c/td\u003e\u003ctd\u003e95.33333333333333\u003c/td\u003e\u003c/tr\u003e\",","            \"\u003ctr\u003e\u003ctd\u003e06040385T\u003c/td\u003e\u003ctd\u003eTempera szóló ezüst\u003c/td\u003e\u003ctd\u003e96\u003c/td\u003e\u003ctd\u003e96.66666666666667\u003c/td\u003e\u003c/tr\u003e\",","            \"\u003ctr\u003e\u003ctd\u003e07010371T\u003c/td\u003e\u003ctd\u003eSzínes ceruza 6-os\u003c/td\u003e\u003ctd\u003e99\u003c/td\u003e\u003ctd\u003e98.66666666666667\u003c/td\u003e\u003c/tr\u003e\",","            \"\u003ctr\u003e\u003ctd\u003e06080338T\u003c/td\u003e\u003ctd\u003eRagasztó kenőfejes Nebuló\u003c/td\u003e\u003ctd\u003e101\u003c/td\u003e\u003ctd\u003e100.33333333333333\u003c/td\u003e\u003c/tr\u003e\",","            \"\u003ctr\u003e\u003ctd\u003e07080162T\u003c/td\u003e\u003ctd\u003eGolyóstoll Stabilo piros\u003c/td\u003e\u003ctd\u003e101\u003c/td\u003e\u003ctd\u003e101.66666666666667\u003c/td\u003e\u003c/tr\u003e\",","            \"\u003ctr\u003e\u003ctd\u003e07030106T\u003c/td\u003e\u003ctd\u003eFilctoll, alkoholosOHP F-M-C\u003c/td\u003e\u003ctd\u003e103\u003c/td\u003e\u003ctd\u003e102.33333333333333\u003c/td\u003e\u003c/tr\u003e\",","            \"\u003ctr\u003e\u003ctd\u003e06040381T\u003c/td\u003e\u003ctd\u003eSzövegkiemelő Videotip\u003c/td\u003e\u003ctd\u003e103\u003c/td\u003e\u003ctd\u003e103\u003c/td\u003e\u003c/tr\u003e\",","            \"\u003ctr\u003e\u003ctd\u003e06040352T\u003c/td\u003e\u003ctd\u003eRovatolt papír 20 íves\u003c/td\u003e\u003ctd\u003e103\u003c/td\u003e\u003ctd\u003e103\u003c/td\u003e\u003c/tr\u003e\",","            \"\u003ctr\u003e\u003ctd\u003e02040294T\u003c/td\u003e\u003ctd\u003eNotesz A/5 sima\u003c/td\u003e\u003ctd\u003e103\u003c/td\u003e\u003ctd\u003e103\u003c/td\u003e\u003c/tr\u003e\",","            \"\u003ctr\u003e\u003ctd\u003e02040297T\u003c/td\u003e\u003ctd\u003eNotesz sima spirál College\u003c/td\u003e\u003ctd\u003e103\u003c/td\u003e\u003ctd\u003e103\u003c/td\u003e\u003c/tr\u003e\",","            \"\u003ctr\u003e\u003ctd\u003e02080449T\u003c/td\u003e\u003ctd\u003eTérképtű színes\u003c/td\u003e\u003ctd\u003e103\u003c/td\u003e\u003ctd\u003e103\u003c/td\u003e\u003c/tr\u003e\",","            \"\u003ctr\u003e\u003ctd\u003e02080451T\u003c/td\u003e\u003ctd\u003eGémkapocs 50-es\u003c/td\u003e\u003ctd\u003e103\u003c/td\u003e\u003ctd\u003e103\u003c/td\u003e\u003c/tr\u003e\",","            \"\u003ctr\u003e\u003ctd\u003e03080008T\u003c/td\u003e\u003ctd\u003eAjándék cs. tasak kicsi\u003c/td\u003e\u003ctd\u003e103\u003c/td\u003e\u003ctd\u003e103\u003c/td\u003e\u003c/tr\u003e\",","            \"\u003ctr\u003e\u003ctd\u003e02020245T\u003c/td\u003e\u003ctd\u003eKiadási pénztárbizonylat 2×25\u003c/td\u003e\u003ctd\u003e103\u003c/td\u003e\u003ctd\u003e103\u003c/td\u003e\u003c/tr\u003e\",","            \"\u003ctr\u003e\u003ctd\u003e05040310T\u003c/td\u003e\u003ctd\u003ePill.ragasztó\u003c/td\u003e\u003ctd\u003e103\u003c/td\u003e\u003ctd\u003e103\u003c/td\u003e\u003c/tr\u003e\",","            \"\u003ctr\u003e\u003ctd\u003e04030265T\u003c/td\u003e\u003ctd\u003eLevélpapír szett natur, mintás\u003c/td\u003e\u003ctd\u003e103\u003c/td\u003e\u003ctd\u003e103\u003c/td\u003e\u003c/tr\u003e\",","            \"\u003ctr\u003e\u003ctd\u003e04050253T\u003c/td\u003e\u003ctd\u003eKulcstartó figurás\u003c/td\u003e\u003ctd\u003e103\u003c/td\u003e\u003ctd\u003e104\u003c/td\u003e\u003c/tr\u003e\",","            \"\u003ctr\u003e\u003ctd\u003e03080031T\u003c/td\u003e\u003ctd\u003eAjándék cs. húsvéti\u003c/td\u003e\u003ctd\u003e106\u003c/td\u003e\u003ctd\u003e105\u003c/td\u003e\u003c/tr\u003e\",","            \"\u003ctr\u003e\u003ctd\u003e05040348T\u003c/td\u003e\u003ctd\u003eRajzszeg színes\u003c/td\u003e\u003ctd\u003e106\u003c/td\u003e\u003ctd\u003e106\u003c/td\u003e\u003c/tr\u003e\",","            \"\u003ctr\u003e\u003ctd\u003e02010028T\u003c/td\u003e\u003ctd\u003eÁrazószalag \u003c/td\u003e\u003ctd\u003e106\u003c/td\u003e\u003ctd\u003e106\u003c/td\u003e\u003c/tr\u003e\",","            \"\u003ctr\u003e\u003ctd\u003e02080226T\u003c/td\u003e\u003ctd\u003eKapocskiszedő\u003c/td\u003e\u003ctd\u003e106\u003c/td\u003e\u003ctd\u003e106\u003c/td\u003e\u003c/tr\u003e\",","            \"\u003ctr\u003e\u003ctd\u003e07040057T\u003c/td\u003e\u003ctd\u003eCeruza Progresso\u003c/td\u003e\u003ctd\u003e106\u003c/td\u003e\u003ctd\u003e107\u003c/td\u003e\u003c/tr\u003e\",","            \"\u003ctr\u003e\u003ctd\u003e04110276T\u003c/td\u003e\u003ctd\u003eMatrica Stickers nagy állatos\u003c/td\u003e\u003ctd\u003e109\u003c/td\u003e\u003ctd\u003e108.33333333333333\u003c/td\u003e\u003c/tr\u003e\",","            \"\u003ctr\u003e\u003ctd\u003e04050171T\u003c/td\u003e\u003ctd\u003eGumilabda közepes\u003c/td\u003e\u003ctd\u003e110\u003c/td\u003e\u003ctd\u003e109.66666666666667\u003c/td\u003e\u003c/tr\u003e\",","            \"\u003ctr\u003e\u003ctd\u003e03080016T\u003c/td\u003e\u003ctd\u003eházt.csom.  5 ív\u003c/td\u003e\u003ctd\u003e110\u003c/td\u003e\u003ctd\u003e110\u003c/td\u003e\u003c/tr\u003e\",","            \"\u003ctr\u003e\u003ctd\u003e02040149T\u003c/td\u003e\u003ctd\u003eGenotherm A4 10db-os\u003c/td\u003e\u003ctd\u003e110\u003c/td\u003e\u003ctd\u003e110\u003c/td\u003e\u003c/tr\u003e\",","            \"\u003ctr\u003e\u003ctd\u003e06080335T\u003c/td\u003e\u003ctd\u003eRagasztó 9 g Pax\u003c/td\u003e\u003ctd\u003e110\u003c/td\u003e\u003ctd\u003e110\u003c/td\u003e\u003c/tr\u003e\",","            \"\u003ctr\u003e\u003ctd\u003e07080468T\u003c/td\u003e\u003ctd\u003eGolyóstoll háromfunkciós\u003c/td\u003e\u003ctd\u003e110\u003c/td\u003e\u003ctd\u003e111.33333333333333\u003c/td\u003e\u003c/tr\u003e\",","            \"\u003ctr\u003e\u003ctd\u003e07030105T\u003c/td\u003e\u003ctd\u003eFilctoll, alkoholos Centropen\u003c/td\u003e\u003ctd\u003e114\u003c/td\u003e\u003ctd\u003e112.66666666666667\u003c/td\u003e\u003c/tr\u003e\",","            \"\u003ctr\u003e\u003ctd\u003e03080439T\u003c/td\u003e\u003ctd\u003eItaltartó doboz\u003c/td\u003e\u003ctd\u003e114\u003c/td\u003e\u003ctd\u003e114.33333333333333\u003c/td\u003e\u003c/tr\u003e\",","            \"\u003ctr\u003e\u003ctd\u003e04050250T\u003c/td\u003e\u003ctd\u003eKulcstartó autós\u003c/td\u003e\u003ctd\u003e115\u003c/td\u003e\u003ctd\u003e114.66666666666667\u003c/td\u003e\u003c/tr\u003e\",","            \"\u003ctr\u003e\u003ctd\u003e02020029T\u003c/td\u003e\u003ctd\u003eÁtírótömb A/6\u003c/td\u003e\u003ctd\u003e115\u003c/td\u003e\u003ctd\u003e116\u003c/td\u003e\u003c/tr\u003e\",","            \"\u003ctr\u003e\u003ctd\u003e04030242T\u003c/td\u003e\u003ctd\u003eKépeslap WD +boríték\u003c/td\u003e\u003ctd\u003e118\u003c/td\u003e\u003ctd\u003e117\u003c/td\u003e\u003c/tr\u003e\",","            \"\u003ctr\u003e\u003ctd\u003e05010026T\u003c/td\u003e\u003ctd\u003eAlufólia 10 m-es\u003c/td\u003e\u003ctd\u003e118\u003c/td\u003e\u003ctd\u003e118\u003c/td\u003e\u003c/tr\u003e\",","            \"\u003ctr\u003e\u003ctd\u003e05110360T\u003c/td\u003e\u003ctd\u003eSzalvéta egyszínű\u003c/td\u003e\u003ctd\u003e118\u003c/td\u003e\u003ctd\u003e118.33333333333333\u003c/td\u003e\u003c/tr\u003e\",","            \"\u003ctr\u003e\u003ctd\u003e06080333T\u003c/td\u003e\u003ctd\u003eRadírtoll betét vastag\u003c/td\u003e\u003ctd\u003e119\u003c/td\u003e\u003ctd\u003e119.33333333333333\u003c/td\u003e\u003c/tr\u003e\",","            \"\u003ctr\u003e\u003ctd\u003e06080441T\u003c/td\u003e\u003ctd\u003eGyurmakés\u003c/td\u003e\u003ctd\u003e121\u003c/td\u003e\u003ctd\u003e120.33333333333333\u003c/td\u003e\u003c/tr\u003e\",","            \"\u003ctr\u003e\u003ctd\u003e03080018T\u003c/td\u003e\u003ctd\u003eAjándék csom. gyűrt 50x70 \u003c/td\u003e\u003ctd\u003e121\u003c/td\u003e\u003ctd\u003e121.66666666666667\u003c/td\u003e\u003c/tr\u003e\",","            \"\u003ctr\u003e\u003ctd\u003e07010136T\u003c/td\u003e\u003ctd\u003eG.toll betét PAX\u003c/td\u003e\u003ctd\u003e123\u003c/td\u003e\u003ctd\u003e122.66666666666667\u003c/td\u003e\u003c/tr\u003e\",","            \"\u003ctr\u003e\u003ctd\u003e04050252T\u003c/td\u003e\u003ctd\u003eKulcstartó Csőrikés\u003c/td\u003e\u003ctd\u003e124\u003c/td\u003e\u003ctd\u003e124\u003c/td\u003e\u003c/tr\u003e\",","            \"\u003ctr\u003e\u003ctd\u003e03080012T\u003c/td\u003e\u003ctd\u003eAjándék csom. 200x70\u003c/td\u003e\u003ctd\u003e125\u003c/td\u003e\u003ctd\u003e124.66666666666667\u003c/td\u003e\u003c/tr\u003e\",","            \"\u003ctr\u003e\u003ctd\u003e06040399T\u003c/td\u003e\u003ctd\u003eTombola tömb\u003c/td\u003e\u003ctd\u003e125\u003c/td\u003e\u003ctd\u003e125\u003c/td\u003e\u003c/tr\u003e\",","            \"\u003ctr\u003e\u003ctd\u003e07080312T\u003c/td\u003e\u003ctd\u003ePixiron 0,7 Handy\u003c/td\u003e\u003ctd\u003e125\u003c/td\u003e\u003ctd\u003e126.33333333333333\u003c/td\u003e\u003c/tr\u003e\",","            \"\u003ctr\u003e\u003ctd\u003e04050256T\u003c/td\u003e\u003ctd\u003eKulcstartó nagyítós\u003c/td\u003e\u003ctd\u003e129\u003c/td\u003e\u003ctd\u003e127.66666666666667\u003c/td\u003e\u003c/tr\u003e\",","            \"\u003ctr\u003e\u003ctd\u003e04050267T\u003c/td\u003e\u003ctd\u003eLogikai készlet\u003c/td\u003e\u003ctd\u003e129\u003c/td\u003e\u003ctd\u003e129\u003c/td\u003e\u003c/tr\u003e\",","            \"\u003ctr\u003e\u003ctd\u003e05010369T\u003c/td\u003e\u003ctd\u003eSzemetes zsák 60 literes\u003c/td\u003e\u003ctd\u003e129\u003c/td\u003e\u003ctd\u003e129.66666666666666\u003c/td\u003e\u003c/tr\u003e\",","            \"\u003ctr\u003e\u003ctd\u003e04050225T\u003c/td\u003e\u003ctd\u003eKártya mini Magyar\u003c/td\u003e\u003ctd\u003e131\u003c/td\u003e\u003ctd\u003e131\u003c/td\u003e\u003c/tr\u003e\",","            \"\u003ctr\u003e\u003ctd\u003e04050221T\u003c/td\u003e\u003ctd\u003eJátékautó Blisteres\u003c/td\u003e\u003ctd\u003e133\u003c/td\u003e\u003ctd\u003e132.33333333333334\u003c/td\u003e\u003c/tr\u003e\",","            \"\u003ctr\u003e\u003ctd\u003e05110363T\u003c/td\u003e\u003ctd\u003eSzalvéta dekor\u003c/td\u003e\u003ctd\u003e133\u003c/td\u003e\u003ctd\u003e133\u003c/td\u003e\u003c/tr\u003e\",","            \"\u003ctr\u003e\u003ctd\u003e02080081T\u003c/td\u003e\u003ctd\u003eDvd\u003c/td\u003e\u003ctd\u003e133\u003c/td\u003e\u003ctd\u003e133\u003c/td\u003e\u003c/tr\u003e\",","            \"\u003ctr\u003e\u003ctd\u003e02020032T\u003c/td\u003e\u003ctd\u003eBeírókönyv A5 \u003c/td\u003e\u003ctd\u003e133\u003c/td\u003e\u003ctd\u003e133\u003c/td\u003e\u003c/tr\u003e\",","            \"\u003ctr\u003e\u003ctd\u003e02040198T\u003c/td\u003e\u003ctd\u003eHibajavító roller 5 mm\u003c/td\u003e\u003ctd\u003e133\u003c/td\u003e\u003ctd\u003e133\u003c/td\u003e\u003c/tr\u003e\",","            \"\u003ctr\u003e\u003ctd\u003e02040025T\u003c/td\u003e\u003ctd\u003eÁlló irattartó karton\u003c/td\u003e\u003ctd\u003e133\u003c/td\u003e\u003ctd\u003e133\u003c/td\u003e\u003c/tr\u003e\",","            \"\u003ctr\u003e\u003ctd\u003e07080314T\u003c/td\u003e\u003ctd\u003ePixiron Handy fém\u003c/td\u003e\u003ctd\u003e133\u003c/td\u003e\u003ctd\u003e133\u003c/td\u003e\u003c/tr\u003e\",","            \"\u003ctr\u003e\u003ctd\u003e06050301T\u003c/td\u003e\u003ctd\u003eOlló gyerek \u003c/td\u003e\u003ctd\u003e133\u003c/td\u003e\u003ctd\u003e133\u003c/td\u003e\u003c/tr\u003e\",","            \"\u003ctr\u003e\u003ctd\u003e06080334T\u003c/td\u003e\u003ctd\u003eRagasztó szalag KORES \u003c/td\u003e\u003ctd\u003e133\u003c/td\u003e\u003ctd\u003e135.33333333333334\u003c/td\u003e\u003c/tr\u003e\",","            \"\u003ctr\u003e\u003ctd\u003e07040101T\u003c/td\u003e\u003ctd\u003eFilctoll permanent vastag\u003c/td\u003e\u003ctd\u003e140\u003c/td\u003e\u003ctd\u003e137.66666666666666\u003c/td\u003e\u003c/tr\u003e\",","            \"\u003ctr\u003e\u003ctd\u003e07050464T\u003c/td\u003e\u003ctd\u003eSzövegkiemelő Staedtler\u003c/td\u003e\u003ctd\u003e140\u003c/td\u003e\u003ctd\u003e140\u003c/td\u003e\u003c/tr\u003e\",","            \"\u003ctr\u003e\u003ctd\u003e04030261T\u003c/td\u003e\u003ctd\u003eLevélpapír állatos\u003c/td\u003e\u003ctd\u003e140\u003c/td\u003e\u003ctd\u003e141.33333333333334\u003c/td\u003e\u003c/tr\u003e\",","            \"\u003ctr\u003e\u003ctd\u003e04050023T\u003c/td\u003e\u003ctd\u003eÁlarc fejdísz\u003c/td\u003e\u003ctd\u003e144\u003c/td\u003e\u003ctd\u003e142.66666666666666\u003c/td\u003e\u003c/tr\u003e\",","            \"\u003ctr\u003e\u003ctd\u003e04050024T\u003c/td\u003e\u003ctd\u003eÁlarc szemüveg\u003c/td\u003e\u003ctd\u003e144\u003c/td\u003e\u003ctd\u003e144\u003c/td\u003e\u003c/tr\u003e\",","            \"\u003ctr\u003e\u003ctd\u003e05080340T\u003c/td\u003e\u003ctd\u003eRagasztó, Technokol 35g kék\u003c/td\u003e\u003ctd\u003e144\u003c/td\u003e\u003ctd\u003e144\u003c/td\u003e\u003c/tr\u003e\",","            \"\u003ctr\u003e\u003ctd\u003e05080341T\u003c/td\u003e\u003ctd\u003eRagasztó, Technokol 35g piros\u003c/td\u003e\u003ctd\u003e144\u003c/td\u003e\u003ctd\u003e144\u003c/td\u003e\u003c/tr\u003e\",","            \"\u003ctr\u003e\u003ctd\u003e02020037T\u003c/td\u003e\u003ctd\u003eBevételi pénztárbizonylat 3×25\u003c/td\u003e\u003ctd\u003e144\u003c/td\u003e\u003ctd\u003e144\u003c/td\u003e\u003c/tr\u003e\",","            \"\u003ctr\u003e\u003ctd\u003e06040356T\u003c/td\u003e\u003ctd\u003eSp.Füzet A/4  70es\u003c/td\u003e\u003ctd\u003e144\u003c/td\u003e\u003ctd\u003e144.66666666666666\u003c/td\u003e\u003c/tr\u003e\",","            \"\u003ctr\u003e\u003ctd\u003e07080062T\u003c/td\u003e\u003ctd\u003eCeruza szén\u003c/td\u003e\u003ctd\u003e146\u003c/td\u003e\u003ctd\u003e146\u003c/td\u003e\u003c/tr\u003e\",","            \"\u003ctr\u003e\u003ctd\u003e06040174T\u003c/td\u003e\u003ctd\u003eGumis mappa \u003c/td\u003e\u003ctd\u003e148\u003c/td\u003e\u003ctd\u003e147.33333333333334\u003c/td\u003e\u003c/tr\u003e\",","            \"\u003ctr\u003e\u003ctd\u003e03080011T\u003c/td\u003e\u003ctd\u003eAjándék cs. tasak közepes\u003c/td\u003e\u003ctd\u003e148\u003c/td\u003e\u003ctd\u003e148\u003c/td\u003e\u003c/tr\u003e\",","            \"\u003ctr\u003e\u003ctd\u003e03080009T\u003c/td\u003e\u003ctd\u003eAjándék csom. 100x70 metál\u003c/td\u003e\u003ctd\u003e148\u003c/td\u003e\u003ctd\u003e148\u003c/td\u003e\u003c/tr\u003e\",","            \"\u003ctr\u003e\u003ctd\u003e03080017T\u003c/td\u003e\u003ctd\u003eiskolai csomagoló papír\u003c/td\u003e\u003ctd\u003e148\u003c/td\u003e\u003ctd\u003e148\u003c/td\u003e\u003c/tr\u003e\",","            \"\u003ctr\u003e\u003ctd\u003e03050458T\u003c/td\u003e\u003ctd\u003eAjándék cs. 2×100×70\u003c/td\u003e\u003ctd\u003e148\u003c/td\u003e\u003ctd\u003e148\u003c/td\u003e\u003c/tr\u003e\",","            \"\u003ctr\u003e\u003ctd\u003e04110280T\u003c/td\u003e\u003ctd\u003eMatrica tetoválós kicsi\u003c/td\u003e\u003ctd\u003e148\u003c/td\u003e\u003ctd\u003e148\u003c/td\u003e\u003c/tr\u003e\",","            \"\u003ctr\u003e\u003ctd\u003e04050251T\u003c/td\u003e\u003ctd\u003eKulcstartó billiárd golyós\u003c/td\u003e\u003ctd\u003e148\u003c/td\u003e\u003ctd\u003e150.33333333333334\u003c/td\u003e\u003c/tr\u003e\",","            \"\u003ctr\u003e\u003ctd\u003e04050254T\u003c/td\u003e\u003ctd\u003eKulcstartó intarziás állatos\u003c/td\u003e\u003ctd\u003e155\u003c/td\u003e\u003ctd\u003e152.66666666666666\u003c/td\u003e\u003c/tr\u003e\",","            \"\u003ctr\u003e\u003ctd\u003e04110283T\u003c/td\u003e\u003ctd\u003eMeghívó állatos\u003c/td\u003e\u003ctd\u003e155\u003c/td\u003e\u003ctd\u003e155\u003c/td\u003e\u003c/tr\u003e\",","            \"\u003ctr\u003e\u003ctd\u003e06040355T\u003c/td\u003e\u003ctd\u003eSp.Füzet A/4 70-as\u003c/td\u003e\u003ctd\u003e155\u003c/td\u003e\u003ctd\u003e157\u003c/td\u003e\u003c/tr\u003e\",","            \"\u003ctr\u003e\u003ctd\u003e06040246T\u003c/td\u003e\u003ctd\u003eKörző\u003c/td\u003e\u003ctd\u003e161\u003c/td\u003e\u003ctd\u003e159\u003c/td\u003e\u003c/tr\u003e\",","            \"\u003ctr\u003e\u003ctd\u003e06050303T\u003c/td\u003e\u003ctd\u003eOlló, iskolai\u003c/td\u003e\u003ctd\u003e161\u003c/td\u003e\u003ctd\u003e161\u003c/td\u003e\u003c/tr\u003e\",","            \"\u003ctr\u003e\u003ctd\u003e07010372T\u003c/td\u003e\u003ctd\u003eSzínes ceruza 12 szín\u003c/td\u003e\u003ctd\u003e161\u003c/td\u003e\u003ctd\u003e161\u003c/td\u003e\u003c/tr\u003e\",","            \"\u003ctr\u003e\u003ctd\u003e06080259T\u003c/td\u003e\u003ctd\u003eLeckefüzet\u003c/td\u003e\u003ctd\u003e161\u003c/td\u003e\u003ctd\u003e161\u003c/td\u003e\u003c/tr\u003e\",","            \"\u003ctr\u003e\u003ctd\u003e06080440T\u003c/td\u003e\u003ctd\u003eGyurma 12 szinű\u003c/td\u003e\u003ctd\u003e161\u003c/td\u003e\u003ctd\u003e161\u003c/td\u003e\u003c/tr\u003e\",","            \"\u003ctr\u003e\u003ctd\u003e06080426T\u003c/td\u003e\u003ctd\u003eSzótárfüzet Lizzy\u003c/td\u003e\u003ctd\u003e161\u003c/td\u003e\u003ctd\u003e161\u003c/td\u003e\u003c/tr\u003e\",","            \"\u003ctr\u003e\u003ctd\u003e06080427T\u003c/td\u003e\u003ctd\u003eAblakkréta\u003c/td\u003e\u003ctd\u003e161\u003c/td\u003e\u003ctd\u003e161\u003c/td\u003e\u003c/tr\u003e\",","            \"\u003ctr\u003e\u003ctd\u003e07080420T\u003c/td\u003e\u003ctd\u003eZselés toll Muhnwa\u003c/td\u003e\u003ctd\u003e161\u003c/td\u003e\u003ctd\u003e161\u003c/td\u003e\u003c/tr\u003e\",","            \"\u003ctr\u003e\u003ctd\u003e04110278T\u003c/td\u003e\u003ctd\u003eMatrica Test ékszer tattoo\u003c/td\u003e\u003ctd\u003e161\u003c/td\u003e\u003ctd\u003e161\u003c/td\u003e\u003c/tr\u003e\",","            \"\u003ctr\u003e\u003ctd\u003e05110364T\u003c/td\u003e\u003ctd\u003eSzalvéta kicsi virágos\u003c/td\u003e\u003ctd\u003e161\u003c/td\u003e\u003ctd\u003e161\u003c/td\u003e\u003c/tr\u003e\",","            \"\u003ctr\u003e\u003ctd\u003e04050321T\u003c/td\u003e\u003ctd\u003ePlüss kicsi\u003c/td\u003e\u003ctd\u003e161\u003c/td\u003e\u003ctd\u003e161\u003c/td\u003e\u003c/tr\u003e\",","            \"\u003ctr\u003e\u003ctd\u003e01080093T\u003c/td\u003e\u003ctd\u003eFax papír 15 m\u003c/td\u003e\u003ctd\u003e161\u003c/td\u003e\u003ctd\u003e162.33333333333334\u003c/td\u003e\u003c/tr\u003e\",","            \"\u003ctr\u003e\u003ctd\u003e04050222T\u003c/td\u003e\u003ctd\u003eJátékautó elemes\u003c/td\u003e\u003ctd\u003e165\u003c/td\u003e\u003ctd\u003e164\u003c/td\u003e\u003c/tr\u003e\",","            \"\u003ctr\u003e\u003ctd\u003e03010345T\u003c/td\u003e\u003ctd\u003eRagasztószalag széles barna\u003c/td\u003e\u003ctd\u003e166\u003c/td\u003e\u003ctd\u003e166.33333333333334\u003c/td\u003e\u003c/tr\u003e\",","            \"\u003ctr\u003e\u003ctd\u003e04110279T\u003c/td\u003e\u003ctd\u003eMatrica tetoválás\u003c/td\u003e\u003ctd\u003e168\u003c/td\u003e\u003ctd\u003e167.66666666666666\u003c/td\u003e\u003c/tr\u003e\",","            \"\u003ctr\u003e\u003ctd\u003e04110284T\u003c/td\u003e\u003ctd\u003eMeghívó borítékos\u003c/td\u003e\u003ctd\u003e169\u003c/td\u003e\u003ctd\u003e168.66666666666666\u003c/td\u003e\u003c/tr\u003e\",","            \"\u003ctr\u003e\u003ctd\u003e04050204T\u003c/td\u003e\u003ctd\u003eHűtőmágnes WD\u003c/td\u003e\u003ctd\u003e169\u003c/td\u003e\u003ctd\u003e169\u003c/td\u003e\u003c/tr\u003e\",","            \"\u003ctr\u003e\u003ctd\u003e04030266T\u003c/td\u003e\u003ctd\u003eLevélpapír szett virágos\u003c/td\u003e\u003ctd\u003e169\u003c/td\u003e\u003ctd\u003e169\u003c/td\u003e\u003c/tr\u003e\",","            \"\u003ctr\u003e\u003ctd\u003e03080015T\u003c/td\u003e\u003ctd\u003eAjándék csom. gyűrt\u003c/td\u003e\u003ctd\u003e169\u003c/td\u003e\u003ctd\u003e170.33333333333334\u003c/td\u003e\u003c/tr\u003e\",","            \"\u003ctr\u003e\u003ctd\u003e04050320T\u003c/td\u003e\u003ctd\u003ePlüss  QX állatok\u003c/td\u003e\u003ctd\u003e173\u003c/td\u003e\u003ctd\u003e172.33333333333334\u003c/td\u003e\u003c/tr\u003e\",","            \"\u003ctr\u003e\u003ctd\u003e04110281T\u003c/td\u003e\u003ctd\u003eMatrica világítós \u003c/td\u003e\u003ctd\u003e175\u003c/td\u003e\u003ctd\u003e174.33333333333334\u003c/td\u003e\u003c/tr\u003e\",","            \"\u003ctr\u003e\u003ctd\u003e05110361T\u003c/td\u003e\u003ctd\u003eSzalvéta Goma húsvéti\u003c/td\u003e\u003ctd\u003e175\u003c/td\u003e\u003ctd\u003e175.33333333333334\u003c/td\u003e\u003c/tr\u003e\",","            \"\u003ctr\u003e\u003ctd\u003e05110359T\u003c/td\u003e\u003ctd\u003eSzalvéta \u003c/td\u003e\u003ctd\u003e176\u003c/td\u003e\u003ctd\u003e175.66666666666666\u003c/td\u003e\u003c/tr\u003e\",","            \"\u003ctr\u003e\u003ctd\u003e06080410T\u003c/td\u003e\u003ctd\u003eVízfesték 12db-os kínai\u003c/td\u003e\u003ctd\u003e176\u003c/td\u003e\u003ctd\u003e176\u003c/td\u003e\u003c/tr\u003e\",","            \"\u003ctr\u003e\u003ctd\u003e06050302T\u003c/td\u003e\u003ctd\u003eOlló Tagit 18 cm-es\u003c/td\u003e\u003ctd\u003e176\u003c/td\u003e\u003ctd\u003e177.33333333333334\u003c/td\u003e\u003c/tr\u003e\",","            \"\u003ctr\u003e\u003ctd\u003e06040179T\u003c/td\u003e\u003ctd\u003eGyurma színes 200 g-os\u003c/td\u003e\u003ctd\u003e180\u003c/td\u003e\u003ctd\u003e178.66666666666666\u003c/td\u003e\u003c/tr\u003e\",","            \"\u003ctr\u003e\u003ctd\u003e06080409T\u003c/td\u003e\u003ctd\u003eVízfesték 12 színű kerek\u003c/td\u003e\u003ctd\u003e180\u003c/td\u003e\u003ctd\u003e180\u003c/td\u003e\u003c/tr\u003e\",","            \"\u003ctr\u003e\u003ctd\u003e06080193T\u003c/td\u003e\u003ctd\u003eHegyző fém 2 lyukú\u003c/td\u003e\u003ctd\u003e180\u003c/td\u003e\u003ctd\u003e180\u003c/td\u003e\u003c/tr\u003e\",","            \"\u003ctr\u003e\u003ctd\u003e06080428T\u003c/td\u003e\u003ctd\u003eEcsetkészlet\u003c/td\u003e\u003ctd\u003e180\u003c/td\u003e\u003ctd\u003e181\u003c/td\u003e\u003c/tr\u003e\",","            \"\u003ctr\u003e\u003ctd\u003e04110362T\u003c/td\u003e\u003ctd\u003eSzalvéta gyűjtőknek\u003c/td\u003e\u003ctd\u003e183\u003c/td\u003e\u003ctd\u003e182.33333333333334\u003c/td\u003e\u003c/tr\u003e\",","            \"\u003ctr\u003e\u003ctd\u003e04110228T\u003c/td\u003e\u003ctd\u003eKépeslap \u0026quot;Nászajándék\u0026quot;\u003c/td\u003e\u003ctd\u003e184\u003c/td\u003e\u003ctd\u003e183.66666666666666\u003c/td\u003e\u003c/tr\u003e\",","            \"\u003ctr\u003e\u003ctd\u003e02080435T\u003c/td\u003e\u003ctd\u003eMappa bemutató\u003c/td\u003e\u003ctd\u003e184\u003c/td\u003e\u003ctd\u003e184\u003c/td\u003e\u003c/tr\u003e\",","            \"\u003ctr\u003e\u003ctd\u003e06040182T\u003c/td\u003e\u003ctd\u003eGyűrűskönyv bet. A/4\u003c/td\u003e\u003ctd\u003e184\u003c/td\u003e\u003ctd\u003e184.33333333333334\u003c/td\u003e\u003c/tr\u003e\",","            \"\u003ctr\u003e\u003ctd\u003e03080003T\u003c/td\u003e\u003ctd\u003eAjándék cs. tasak italos\u003c/td\u003e\u003ctd\u003e185\u003c/td\u003e\u003ctd\u003e184.66666666666666\u003c/td\u003e\u003c/tr\u003e\",","            \"\u003ctr\u003e\u003ctd\u003e02040195T\u003c/td\u003e\u003ctd\u003eHibajavító ecsetes Aqua\u003c/td\u003e\u003ctd\u003e185\u003c/td\u003e\u003ctd\u003e185\u003c/td\u003e\u003c/tr\u003e\",","            \"\u003ctr\u003e\u003ctd\u003e03080437T\u003c/td\u003e\u003ctd\u003eAjándék csomagoló tasak\u003c/td\u003e\u003ctd\u003e185\u003c/td\u003e\u003ctd\u003e186\u003c/td\u003e\u003c/tr\u003e\",","            \"\u003ctr\u003e\u003ctd\u003e07080470T\u003c/td\u003e\u003ctd\u003eGolyóstoll háromszög\u003c/td\u003e\u003ctd\u003e188\u003c/td\u003e\u003ctd\u003e187.33333333333334\u003c/td\u003e\u003c/tr\u003e\",","            \"\u003ctr\u003e\u003ctd\u003e07040168T\u003c/td\u003e\u003ctd\u003eGolyóstoll Zebra new hard\u003c/td\u003e\u003ctd\u003e189\u003c/td\u003e\u003ctd\u003e189\u003c/td\u003e\u003c/tr\u003e\",","            \"\u003ctr\u003e\u003ctd\u003e08070482T\u003c/td\u003e\u003ctd\u003eFizika munkafüzet 14 év.\u003c/td\u003e\u003ctd\u003e190\u003c/td\u003e\u003ctd\u003e190\u003c/td\u003e\u003c/tr\u003e\",","            \"\u003ctr\u003e\u003ctd\u003e06040175T\u003c/td\u003e\u003ctd\u003eGumis mappa Köbüki\u003c/td\u003e\u003ctd\u003e191\u003c/td\u003e\u003ctd\u003e192\u003c/td\u003e\u003c/tr\u003e\",","            \"\u003ctr\u003e\u003ctd\u003e06080121T\u003c/td\u003e\u003ctd\u003eFüzetborító öntapadó tekercses\u003c/td\u003e\u003ctd\u003e195\u003c/td\u003e\u003ctd\u003e193.66666666666666\u003c/td\u003e\u003c/tr\u003e\",","            \"\u003ctr\u003e\u003ctd\u003e04030243T\u003c/td\u003e\u003ctd\u003eKépkirakó Dirib-darab\u003c/td\u003e\u003ctd\u003e195\u003c/td\u003e\u003ctd\u003e195\u003c/td\u003e\u003c/tr\u003e\",","            \"\u003ctr\u003e\u003ctd\u003e06040172T\u003c/td\u003e\u003ctd\u003eGumis mappa csomagolt\u003c/td\u003e\u003ctd\u003e195\u003c/td\u003e\u003ctd\u003e196\u003c/td\u003e\u003c/tr\u003e\",","            \"\u003ctr\u003e\u003ctd\u003e08070481T\u003c/td\u003e\u003ctd\u003eFizika munkafüzet 13 év.\u003c/td\u003e\u003ctd\u003e198\u003c/td\u003e\u003ctd\u003e198.66666666666666\u003c/td\u003e\u003c/tr\u003e\",","            \"\u003ctr\u003e\u003ctd\u003e06080126T\u003c/td\u003e\u003ctd\u003eFüzettartó A/5  \u003c/td\u003e\u003ctd\u003e203\u003c/td\u003e\u003ctd\u003e201.33333333333334\u003c/td\u003e\u003c/tr\u003e\",","            \"\u003ctr\u003e\u003ctd\u003e06040351T\u003c/td\u003e\u003ctd\u003eRegiszteres füzet A5 Hightech\u003c/td\u003e\u003ctd\u003e203\u003c/td\u003e\u003ctd\u003e204\u003c/td\u003e\u003c/tr\u003e\",","            \"\u003ctr\u003e\u003ctd\u003e06040354T\u003c/td\u003e\u003ctd\u003eSp.Füzet A/4  perforált, lyuk.\u003c/td\u003e\u003ctd\u003e206\u003c/td\u003e\u003ctd\u003e205\u003c/td\u003e\u003c/tr\u003e\",","            \"\u003ctr\u003e\u003ctd\u003e03080007T\u003c/td\u003e\u003ctd\u003eAjándék cs. tasak mintás nagy\u003c/td\u003e\u003ctd\u003e206\u003c/td\u003e\u003ctd\u003e206\u003c/td\u003e\u003c/tr\u003e\",","            \"\u003ctr\u003e\u003ctd\u003e03080010T\u003c/td\u003e\u003ctd\u003eAjándék csom. 150x70\u003c/td\u003e\u003ctd\u003e206\u003c/td\u003e\u003ctd\u003e207.33333333333334\u003c/td\u003e\u003c/tr\u003e\",","            \"\u003ctr\u003e\u003ctd\u003e02080434T\u003c/td\u003e\u003ctd\u003eMappa müa A/4\u003c/td\u003e\u003ctd\u003e210\u003c/td\u003e\u003ctd\u003e208.66666666666666\u003c/td\u003e\u003c/tr\u003e\",","            \"\u003ctr\u003e\u003ctd\u003e06080408T\u003c/td\u003e\u003ctd\u003eVízfesték 12 db-os \u003c/td\u003e\u003ctd\u003e210\u003c/td\u003e\u003ctd\u003e210.33333333333334\u003c/td\u003e\u003c/tr\u003e\",","            \"\u003ctr\u003e\u003ctd\u003e06040173T\u003c/td\u003e\u003ctd\u003eGumis mappa fóliázott állatos\u003c/td\u003e\u003ctd\u003e211\u003c/td\u003e\u003ctd\u003e211.66666666666666\u003c/td\u003e\u003c/tr\u003e\",","            \"\u003ctr\u003e\u003ctd\u003e05010027T\u003c/td\u003e\u003ctd\u003eAlufólia 20 m-es\u003c/td\u003e\u003ctd\u003e214\u003c/td\u003e\u003ctd\u003e213\u003c/td\u003e\u003c/tr\u003e\",","            \"\u003ctr\u003e\u003ctd\u003e03080438T\u003c/td\u003e\u003ctd\u003eAjándék csomagoló tasak lézeres\u003c/td\u003e\u003ctd\u003e214\u003c/td\u003e\u003ctd\u003e214\u003c/td\u003e\u003c/tr\u003e\",","            \"\u003ctr\u003e\u003ctd\u003e02080431T\u003c/td\u003e\u003ctd\u003eÁlló irattartó\u003c/td\u003e\u003ctd\u003e214\u003c/td\u003e\u003ctd\u003e214\u003c/td\u003e\u003c/tr\u003e\",","            \"\u003ctr\u003e\u003ctd\u003e08070491T\u003c/td\u003e\u003ctd\u003eSzám.tech. kicsiknek\u003c/td\u003e\u003ctd\u003e214\u003c/td\u003e\u003ctd\u003e215.33333333333334\u003c/td\u003e\u003c/tr\u003e\",","            \"\u003ctr\u003e\u003ctd\u003e07040165T\u003c/td\u003e\u003ctd\u003eGolyóstoll UNI laknock\u003c/td\u003e\u003ctd\u003e218\u003c/td\u003e\u003ctd\u003e216.66666666666666\u003c/td\u003e\u003c/tr\u003e\",","            \"\u003ctr\u003e\u003ctd\u003e06040184T\u003c/td\u003e\u003ctd\u003eGyűrűskönyv betét A/5\u003c/td\u003e\u003ctd\u003e218\u003c/td\u003e\u003ctd\u003e218.66666666666666\u003c/td\u003e\u003c/tr\u003e\",","            \"\u003ctr\u003e\u003ctd\u003e03080030T\u003c/td\u003e\u003ctd\u003eAjándék cs. húsvéti 200x70\u003c/td\u003e\u003ctd\u003e220\u003c/td\u003e\u003ctd\u003e222\u003c/td\u003e\u003c/tr\u003e\",","            \"\u003ctr\u003e\u003ctd\u003e06040180T\u003c/td\u003e\u003ctd\u003eGyurma színes natúr\u003c/td\u003e\u003ctd\u003e228\u003c/td\u003e\u003ctd\u003e225.33333333333334\u003c/td\u003e\u003c/tr\u003e\",","            \"\u003ctr\u003e\u003ctd\u003e06080423T\u003c/td\u003e\u003ctd\u003eBeíró A/5 kockás\u003c/td\u003e\u003ctd\u003e228\u003c/td\u003e\u003ctd\u003e228\u003c/td\u003e\u003c/tr\u003e\",","            \"\u003ctr\u003e\u003ctd\u003e07010142T\u003c/td\u003e\u003ctd\u003eG.toll betét Zebra F-0.7\u003c/td\u003e\u003ctd\u003e228\u003c/td\u003e\u003ctd\u003e228\u003c/td\u003e\u003c/tr\u003e\",","            \"\u003ctr\u003e\u003ctd\u003e07080421T\u003c/td\u003e\u003ctd\u003eZseléstoll Lizzy Card\u003c/td\u003e\u003ctd\u003e228\u003c/td\u003e\u003ctd\u003e228.66666666666666\u003c/td\u003e\u003c/tr\u003e\",","            \"\u003ctr\u003e\u003ctd\u003e07080163T\u003c/td\u003e\u003ctd\u003eGolyóstoll UNI átlátszó\u003c/td\u003e\u003ctd\u003e230\u003c/td\u003e\u003ctd\u003e229.66666666666666\u003c/td\u003e\u003c/tr\u003e\",","            \"\u003ctr\u003e\u003ctd\u003e07080164T\u003c/td\u003e\u003ctd\u003eGolyóstoll UNI gumis\u003c/td\u003e\u003ctd\u003e231\u003c/td\u003e\u003ctd\u003e232\u003c/td\u003e\u003c/tr\u003e\",","            \"\u003ctr\u003e\u003ctd\u003e07080318T\u003c/td\u003e\u003ctd\u003ePixiron Penac\u003c/td\u003e\u003ctd\u003e235\u003c/td\u003e\u003ctd\u003e235\u003c/td\u003e\u003c/tr\u003e\",","            \"\u003ctr\u003e\u003ctd\u003e07080160T\u003c/td\u003e\u003ctd\u003eGolyóstoll penac\u003c/td\u003e\u003ctd\u003e239\u003c/td\u003e\u003ctd\u003e238\u003c/td\u003e\u003c/tr\u003e\",","            \"\u003ctr\u003e\u003ctd\u003eG029-FE307\u003c/td\u003e\u003ctd\u003efiú zokni\u003c/td\u003e\u003ctd\u003e240\u003c/td\u003e\u003ctd\u003e239.66666666666666\u003c/td\u003e\u003c/tr\u003e\",","            \"\u003ctr\u003e\u003ctd\u003eL029-FE307\u003c/td\u003e\u003ctd\u003elány zokni\u003c/td\u003e\u003ctd\u003e240\u003c/td\u003e\u003ctd\u003e241\u003c/td\u003e\u003c/tr\u003e\",","            \"\u003ctr\u003e\u003ctd\u003e06040248T\u003c/td\u003e\u003ctd\u003eKörző maped\u003c/td\u003e\u003ctd\u003e243\u003c/td\u003e\u003ctd\u003e242\u003c/td\u003e\u003c/tr\u003e\",","            \"\u003ctr\u003e\u003ctd\u003e02040211T\u003c/td\u003e\u003ctd\u003eIratrendező ESSELTE\u003c/td\u003e\u003ctd\u003e243\u003c/td\u003e\u003ctd\u003e245\u003c/td\u003e\u003c/tr\u003e\",","            \"\u003ctr\u003e\u003ctd\u003e06080407T\u003c/td\u003e\u003ctd\u003eVízfesték  12 színű nagy\u003c/td\u003e\u003ctd\u003e249\u003c/td\u003e\u003ctd\u003e249.33333333333334\u003c/td\u003e\u003c/tr\u003e\",","            \"\u003ctr\u003e\u003ctd\u003e06040350T\u003c/td\u003e\u003ctd\u003eRegiszteres füzet A4\u003c/td\u003e\u003ctd\u003e256\u003c/td\u003e\u003ctd\u003e254.66666666666666\u003c/td\u003e\u003c/tr\u003e\",","            \"\u003ctr\u003e\u003ctd\u003e02080432T\u003c/td\u003e\u003ctd\u003eTokos iratrendező\u003c/td\u003e\u003ctd\u003e259\u003c/td\u003e\u003ctd\u003e259.6666666666667\u003c/td\u003e\u003c/tr\u003e\",","            \"\u003ctr\u003e\u003ctd\u003e04080271T\u003c/td\u003e\u003ctd\u003eMappa PVC villámzáras\u003c/td\u003e\u003ctd\u003e264\u003c/td\u003e\u003ctd\u003e265.3333333333333\u003c/td\u003e\u003c/tr\u003e\",","            \"\u003ctr\u003e\u003ctd\u003e02040196T\u003c/td\u003e\u003ctd\u003eHibajavító készlet Blanco\u003c/td\u003e\u003ctd\u003e273\u003c/td\u003e\u003ctd\u003e270\u003c/td\u003e\u003c/tr\u003e\",","            \"\u003ctr\u003e\u003ctd\u003e07080467T\u003c/td\u003e\u003ctd\u003eGolyóstoll kétfunkciós ICO\u003c/td\u003e\u003ctd\u003e273\u003c/td\u003e\u003ctd\u003e274\u003c/td\u003e\u003c/tr\u003e\",","            \"\u003ctr\u003e\u003ctd\u003e07080311T\u003c/td\u003e\u003ctd\u003ePixiron  UNI\u003c/td\u003e\u003ctd\u003e276\u003c/td\u003e\u003ctd\u003e275\u003c/td\u003e\u003c/tr\u003e\",","            \"\u003ctr\u003e\u003ctd\u003e07030107T\u003c/td\u003e\u003ctd\u003eFilctoll, textil Edding 4500\u003c/td\u003e\u003ctd\u003e276\u003c/td\u003e\u003ctd\u003e276.6666666666667\u003c/td\u003e\u003c/tr\u003e\",","            \"\u003ctr\u003e\u003ctd\u003e07040098T\u003c/td\u003e\u003ctd\u003eFilctoll document pen\u003c/td\u003e\u003ctd\u003e278\u003c/td\u003e\u003ctd\u003e277.3333333333333\u003c/td\u003e\u003c/tr\u003e\",","            \"\u003ctr\u003e\u003ctd\u003e02040200T\u003c/td\u003e\u003ctd\u003eHibajavító Kores mini pen\u003c/td\u003e\u003ctd\u003e278\u003c/td\u003e\u003ctd\u003e280.6666666666667\u003c/td\u003e\u003c/tr\u003e\",","            \"\u003ctr\u003e\u003ctd\u003e02040199T\u003c/td\u003e\u003ctd\u003eHibajavító roller Pax\u003c/td\u003e\u003ctd\u003e286\u003c/td\u003e\u003ctd\u003e283.3333333333333\u003c/td\u003e\u003c/tr\u003e\",","            \"\u003ctr\u003e\u003ctd\u003e02040402T\u003c/td\u003e\u003ctd\u003eTűzőgép Boxer \u003c/td\u003e\u003ctd\u003e286\u003c/td\u003e\u003ctd\u003e287.3333333333333\u003c/td\u003e\u003c/tr\u003e\",","            \"\u003ctr\u003e\u003ctd\u003e03080005T\u003c/td\u003e\u003ctd\u003eAjándék cs. tasak virágos nagy\u003c/td\u003e\u003ctd\u003e290\u003c/td\u003e\u003ctd\u003e289\u003c/td\u003e\u003c/tr\u003e\",","            \"\u003ctr\u003e\u003ctd\u003e08070485T\u003c/td\u003e\u003ctd\u003eJól felkészültem-e - Fizika\u003c/td\u003e\u003ctd\u003e291\u003c/td\u003e\u003ctd\u003e291.3333333333333\u003c/td\u003e\u003c/tr\u003e\",","            \"\u003ctr\u003e\u003ctd\u003e08070476T\u003c/td\u003e\u003ctd\u003eAnyanyelvi gyakorló 2\u003c/td\u003e\u003ctd\u003e293\u003c/td\u003e\u003ctd\u003e292.3333333333333\u003c/td\u003e\u003c/tr\u003e\",","            \"\u003ctr\u003e\u003ctd\u003e06080337T\u003c/td\u003e\u003ctd\u003eRagasztó Gyurma\u003c/td\u003e\u003ctd\u003e293\u003c/td\u003e\u003ctd\u003e293.3333333333333\u003c/td\u003e\u003c/tr\u003e\",","            \"\u003ctr\u003e\u003ctd\u003e07080471T\u003c/td\u003e\u003ctd\u003eGolyóstoll levélbontós\u003c/td\u003e\u003ctd\u003e294\u003c/td\u003e\u003ctd\u003e294.6666666666667\u003c/td\u003e\u003c/tr\u003e\",","            \"\u003ctr\u003e\u003ctd\u003e02060034T\u003c/td\u003e\u003ctd\u003eBélyegzőfesték \u003c/td\u003e\u003ctd\u003e297\u003c/td\u003e\u003ctd\u003e296.6666666666667\u003c/td\u003e\u003c/tr\u003e\",","            \"\u003ctr\u003e\u003ctd\u003e07080319T\u003c/td\u003e\u003ctd\u003ePixiron Pentel színes\u003c/td\u003e\u003ctd\u003e299\u003c/td\u003e\u003ctd\u003e301.3333333333333\u003c/td\u003e\u003c/tr\u003e\",","            \"\u003ctr\u003e\u003ctd\u003e08070480T\u003c/td\u003e\u003ctd\u003eFizika 13 éveseknek\u003c/td\u003e\u003ctd\u003e308\u003c/td\u003e\u003ctd\u003e305.6666666666667\u003c/td\u003e\u003c/tr\u003e\",","            \"\u003ctr\u003e\u003ctd\u003e02040293T\u003c/td\u003e\u003ctd\u003eNévjegytartó kicsi\u003c/td\u003e\u003ctd\u003e310\u003c/td\u003e\u003ctd\u003e310.6666666666667\u003c/td\u003e\u003c/tr\u003e\",","            \"\u003ctr\u003e\u003ctd\u003e04050322T\u003c/td\u003e\u003ctd\u003ePlüss sárkány\u003c/td\u003e\u003ctd\u003e314\u003c/td\u003e\u003ctd\u003e313.3333333333333\u003c/td\u003e\u003c/tr\u003e\",","            \"\u003ctr\u003e\u003ctd\u003e04080442T\u003c/td\u003e\u003ctd\u003eEmlékkönyv\u003c/td\u003e\u003ctd\u003e316\u003c/td\u003e\u003ctd\u003e318\u003c/td\u003e\u003c/tr\u003e\",","            \"\u003ctr\u003e\u003ctd\u003e08070483T\u003c/td\u003e\u003ctd\u003eFizikai feladatok és tévedések\u003c/td\u003e\u003ctd\u003e324\u003c/td\u003e\u003ctd\u003e321.3333333333333\u003c/td\u003e\u003c/tr\u003e\",","            \"\u003ctr\u003e\u003ctd\u003e06080422T\u003c/td\u003e\u003ctd\u003eFüzettartó A/4\u003c/td\u003e\u003ctd\u003e324\u003c/td\u003e\u003ctd\u003e324\u003c/td\u003e\u003c/tr\u003e\",","            \"\u003ctr\u003e\u003ctd\u003e06040394T\u003c/td\u003e\u003ctd\u003eTolltartó zipzáras\u003c/td\u003e\u003ctd\u003e324\u003c/td\u003e\u003ctd\u003e325.3333333333333\u003c/td\u003e\u003c/tr\u003e\",","            \"\u003ctr\u003e\u003ctd\u003e02020033T\u003c/td\u003e\u003ctd\u003eBeírókönyv A4\u003c/td\u003e\u003ctd\u003e328\u003c/td\u003e\u003ctd\u003e330.3333333333333\u003c/td\u003e\u003c/tr\u003e\",","            \"\u003ctr\u003e\u003ctd\u003e02040401T\u003c/td\u003e\u003ctd\u003eTűzőgép Boxer 10\u003c/td\u003e\u003ctd\u003e339\u003c/td\u003e\u003ctd\u003e336.3333333333333\u003c/td\u003e\u003c/tr\u003e\",","            \"\u003ctr\u003e\u003ctd\u003e01010001T\u003c/td\u003e\u003ctd\u003efélfamentes rajzlap A4 (10 lap)\u003c/td\u003e\u003ctd\u003e342\u003c/td\u003e\u003ctd\u003e342\u003c/td\u003e\u003c/tr\u003e\",","            \"\u003ctr\u003e\u003ctd\u003e08070484T\u003c/td\u003e\u003ctd\u003eFogalmazás lépésről lépésre\u003c/td\u003e\u003ctd\u003e345\u003c/td\u003e\u003ctd\u003e346.6666666666667\u003c/td\u003e\u003c/tr\u003e\",","            \"\u003ctr\u003e\u003ctd\u003e08070477T\u003c/td\u003e\u003ctd\u003eAnyanyelvi gyakorló 3\u003c/td\u003e\u003ctd\u003e353\u003c/td\u003e\u003ctd\u003e351.3333333333333\u003c/td\u003e\u003c/tr\u003e\",","            \"\u003ctr\u003e\u003ctd\u003e04050358T\u003c/td\u003e\u003ctd\u003eStrandlabda \u003c/td\u003e\u003ctd\u003e356\u003c/td\u003e\u003ctd\u003e356.3333333333333\u003c/td\u003e\u003c/tr\u003e\",","            \"\u003ctr\u003e\u003ctd\u003e04080272T\u003c/td\u003e\u003ctd\u003eMappa PVC villámzáras  képes\u003c/td\u003e\u003ctd\u003e360\u003c/td\u003e\u003ctd\u003e358.6666666666667\u003c/td\u003e\u003c/tr\u003e\",","            \"\u003ctr\u003e\u003ctd\u003e07040389T\u003c/td\u003e\u003ctd\u003eTintapatron 30 db-os kék\u003c/td\u003e\u003ctd\u003e360\u003c/td\u003e\u003ctd\u003e361.3333333333333\u003c/td\u003e\u003c/tr\u003e\",","            \"\u003ctr\u003e\u003ctd\u003e07080469T\u003c/td\u003e\u003ctd\u003eGolyóstoll UNIBALL 07\u003c/td\u003e\u003ctd\u003e364\u003c/td\u003e\u003ctd\u003e371.3333333333333\u003c/td\u003e\u003c/tr\u003e\",","            \"\u003ctr\u003e\u003ctd\u003e07080151T\u003c/td\u003e\u003ctd\u003eGolyóstoll + ceruza Twister 2in1\u003c/td\u003e\u003ctd\u003e390\u003c/td\u003e\u003ctd\u003e381.3333333333333\u003c/td\u003e\u003c/tr\u003e\",","            \"\u003ctr\u003e\u003ctd\u003eG023-FE301\u003c/td\u003e\u003ctd\u003efiú alsó\u003c/td\u003e\u003ctd\u003e390\u003c/td\u003e\u003ctd\u003e390\u003c/td\u003e\u003c/tr\u003e\",","            \"\u003ctr\u003e\u003ctd\u003eL023-FE301\u003c/td\u003e\u003ctd\u003elány alsó\u003c/td\u003e\u003ctd\u003e390\u003c/td\u003e\u003ctd\u003e390\u003c/td\u003e\u003c/tr\u003e\",","            \"\u003ctr\u003e\u003ctd\u003e07040100T\u003c/td\u003e\u003ctd\u003eFilctoll Marvy alkoholos\u003c/td\u003e\u003ctd\u003e390\u003c/td\u003e\u003ctd\u003e393.6666666666667\u003c/td\u003e\u003c/tr\u003e\",","            \"\u003ctr\u003e\u003ctd\u003e07080154T\u003c/td\u003e\u003ctd\u003eGolyóstoll INOXCROM\u003c/td\u003e\u003ctd\u003e401\u003c/td\u003e\u003ctd\u003e398\u003c/td\u003e\u003c/tr\u003e\",","            \"\u003ctr\u003e\u003ctd\u003e08070486T\u003c/td\u003e\u003ctd\u003eMatematika gyakorló 2\u003c/td\u003e\u003ctd\u003e403\u003c/td\u003e\u003ctd\u003e402.3333333333333\u003c/td\u003e\u003c/tr\u003e\",","            \"\u003ctr\u003e\u003ctd\u003e08070487T\u003c/td\u003e\u003ctd\u003eMatematika gyakorló 3\u003c/td\u003e\u003ctd\u003e403\u003c/td\u003e\u003ctd\u003e403\u003c/td\u003e\u003c/tr\u003e\",","            \"\u003ctr\u003e\u003ctd\u003e08070488T\u003c/td\u003e\u003ctd\u003eMatematika gyakorló 4\u003c/td\u003e\u003ctd\u003e403\u003c/td\u003e\u003ctd\u003e403.6666666666667\u003c/td\u003e\u003c/tr\u003e\",","            \"\u003ctr\u003e\u003ctd\u003e02040404T\u003c/td\u003e\u003ctd\u003eTűzőgép EAGLE\u003c/td\u003e\u003ctd\u003e405\u003c/td\u003e\u003ctd\u003e406\u003c/td\u003e\u003c/tr\u003e\",","            \"\u003ctr\u003e\u003ctd\u003e06040396T\u003c/td\u003e\u003ctd\u003eTolltartó Garfield\u003c/td\u003e\u003ctd\u003e410\u003c/td\u003e\u003ctd\u003e408.6666666666667\u003c/td\u003e\u003c/tr\u003e\",","            \"\u003ctr\u003e\u003ctd\u003e06040398T\u003c/td\u003e\u003ctd\u003eTolltartó hengeres \u003c/td\u003e\u003ctd\u003e411\u003c/td\u003e\u003ctd\u003e410.6666666666667\u003c/td\u003e\u003c/tr\u003e\",","            \"\u003ctr\u003e\u003ctd\u003e06080125T\u003c/td\u003e\u003ctd\u003eFüzettartó A/5 vastag\u003c/td\u003e\u003ctd\u003e411\u003c/td\u003e\u003ctd\u003e416\u003c/td\u003e\u003c/tr\u003e\",","            \"\u003ctr\u003e\u003ctd\u003e06010343T\u003c/td\u003e\u003ctd\u003eRagasztószalag 19 mm-es SCOTCH+ tépő\u003c/td\u003e\u003ctd\u003e426\u003c/td\u003e\u003ctd\u003e423.6666666666667\u003c/td\u003e\u003c/tr\u003e\",","            \"\u003ctr\u003e\u003ctd\u003e07040099T\u003c/td\u003e\u003ctd\u003eFilctoll Edding 750\u003c/td\u003e\u003ctd\u003e434\u003c/td\u003e\u003ctd\u003e431.3333333333333\u003c/td\u003e\u003c/tr\u003e\",","            \"\u003ctr\u003e\u003ctd\u003e07040257T\u003c/td\u003e\u003ctd\u003eLakk filc Edding 750\u003c/td\u003e\u003ctd\u003e434\u003c/td\u003e\u003ctd\u003e435.3333333333333\u003c/td\u003e\u003c/tr\u003e\",","            \"\u003ctr\u003e\u003ctd\u003e02080452T\u003c/td\u003e\u003ctd\u003eTűzőgép mini\u003c/td\u003e\u003ctd\u003e438\u003c/td\u003e\u003ctd\u003e437.3333333333333\u003c/td\u003e\u003c/tr\u003e\",","            \"\u003ctr\u003e\u003ctd\u003e08070475T\u003c/td\u003e\u003ctd\u003eA föld amelyen élünk - munkafüzet\u003c/td\u003e\u003ctd\u003e440\u003c/td\u003e\u003ctd\u003e439.3333333333333\u003c/td\u003e\u003c/tr\u003e\",","            \"\u003ctr\u003e\u003ctd\u003e08070494T\u003c/td\u003e\u003ctd\u003eÉrettségi felv. fel. Fizika\u003c/td\u003e\u003ctd\u003e440\u003c/td\u003e\u003ctd\u003e440\u003c/td\u003e\u003c/tr\u003e\",","            \"\u003ctr\u003e\u003ctd\u003e08070495T\u003c/td\u003e\u003ctd\u003eÉrettségi felv. fel. Biológia\u003c/td\u003e\u003ctd\u003e440\u003c/td\u003e\u003ctd\u003e443\u003c/td\u003e\u003c/tr\u003e\",","            \"\u003ctr\u003e\u003ctd\u003e04080443T\u003c/td\u003e\u003ctd\u003eEmlékkönyv lakatos\u003c/td\u003e\u003ctd\u003e449\u003c/td\u003e\u003ctd\u003e448\u003c/td\u003e\u003c/tr\u003e\",","            \"\u003ctr\u003e\u003ctd\u003e07040166T\u003c/td\u003e\u003ctd\u003eGolyóstoll Zebra 301\u003c/td\u003e\u003ctd\u003e455\u003c/td\u003e\u003ctd\u003e456\u003c/td\u003e\u003c/tr\u003e\",","            \"\u003ctr\u003e\u003ctd\u003e02020444T\u003c/td\u003e\u003ctd\u003eHatáridő napló A/6\u003c/td\u003e\u003ctd\u003e464\u003c/td\u003e\u003ctd\u003e462.3333333333333\u003c/td\u003e\u003c/tr\u003e\",","            \"\u003ctr\u003e\u003ctd\u003e07080316T\u003c/td\u003e\u003ctd\u003ePixiron KOH-I-NOOR\u003c/td\u003e\u003ctd\u003e468\u003c/td\u003e\u003ctd\u003e475\u003c/td\u003e\u003c/tr\u003e\",","            \"\u003ctr\u003e\u003ctd\u003e07050462T\u003c/td\u003e\u003ctd\u003eTöltőtoll tinta \u003c/td\u003e\u003ctd\u003e493\u003c/td\u003e\u003ctd\u003e489.6666666666667\u003c/td\u003e\u003c/tr\u003e\",","            \"\u003ctr\u003e\u003ctd\u003e06080124T\u003c/td\u003e\u003ctd\u003eFüzettartó A/4 keménytáblás\u003c/td\u003e\u003ctd\u003e508\u003c/td\u003e\u003ctd\u003e503\u003c/td\u003e\u003c/tr\u003e\",","            \"\u003ctr\u003e\u003ctd\u003e06010366T\u003c/td\u003e\u003ctd\u003eSzámológép Roxin\u003c/td\u003e\u003ctd\u003e508\u003c/td\u003e\u003ctd\u003e509\u003c/td\u003e\u003c/tr\u003e\",","            \"\u003ctr\u003e\u003ctd\u003e06040400T\u003c/td\u003e\u003ctd\u003eTornazsák\u003c/td\u003e\u003ctd\u003e511\u003c/td\u003e\u003ctd\u003e515\u003c/td\u003e\u003c/tr\u003e\",","            \"\u003ctr\u003e\u003ctd\u003e04040090T\u003c/td\u003e\u003ctd\u003eEmlékkönyv\u003c/td\u003e\u003ctd\u003e526\u003c/td\u003e\u003ctd\u003e521\u003c/td\u003e\u003c/tr\u003e\",","            \"\u003ctr\u003e\u003ctd\u003e02080453T\u003c/td\u003e\u003ctd\u003eLyukasztó EAGLE\u003c/td\u003e\u003ctd\u003e526\u003c/td\u003e\u003ctd\u003e534.3333333333334\u003c/td\u003e\u003c/tr\u003e\",","            \"\u003ctr\u003e\u003ctd\u003e06080123T\u003c/td\u003e\u003ctd\u003eFüzettartó A/4 keménytáblás\u003c/td\u003e\u003ctd\u003e551\u003c/td\u003e\u003ctd\u003e552.6666666666666\u003c/td\u003e\u003c/tr\u003e\",","            \"\u003ctr\u003e\u003ctd\u003e06040185T\u003c/td\u003e\u003ctd\u003eGyűrűskönyv\u003c/td\u003e\u003ctd\u003e581\u003c/td\u003e\u003ctd\u003e585.6666666666666\u003c/td\u003e\u003c/tr\u003e\",","            \"\u003ctr\u003e\u003ctd\u003e02080455T\u003c/td\u003e\u003ctd\u003eFestékpatron BCI-3BK\u003c/td\u003e\u003ctd\u003e625\u003c/td\u003e\u003ctd\u003e613\u003c/td\u003e\u003c/tr\u003e\",","            \"\u003ctr\u003e\u003ctd\u003e06040382T\u003c/td\u003e\u003ctd\u003eTáblafilc\u003c/td\u003e\u003ctd\u003e633\u003c/td\u003e\u003ctd\u003e636\u003c/td\u003e\u003c/tr\u003e\",","            \"\u003ctr\u003e\u003ctd\u003e02060039T\u003c/td\u003e\u003ctd\u003eBélyegző párna\u003c/td\u003e\u003ctd\u003e650\u003c/td\u003e\u003ctd\u003e646\u003c/td\u003e\u003c/tr\u003e\",","            \"\u003ctr\u003e\u003ctd\u003e06040397T\u003c/td\u003e\u003ctd\u003eTolltartó asztali\u003c/td\u003e\u003ctd\u003e655\u003c/td\u003e\u003ctd\u003e653.3333333333334\u003c/td\u003e\u003c/tr\u003e\",","            \"\u003ctr\u003e\u003ctd\u003e07040167T\u003c/td\u003e\u003ctd\u003eGolyóstoll Zebra mini\u003c/td\u003e\u003ctd\u003e655\u003c/td\u003e\u003ctd\u003e661.3333333333334\u003c/td\u003e\u003c/tr\u003e\",","            \"\u003ctr\u003e\u003ctd\u003e08070479T\u003c/td\u003e\u003ctd\u003eFizika\u003c/td\u003e\u003ctd\u003e674\u003c/td\u003e\u003ctd\u003e671\u003c/td\u003e\u003c/tr\u003e\",","            \"\u003ctr\u003e\u003ctd\u003e07040135T\u003c/td\u003e\u003ctd\u003eG.toll betét Parker \u003c/td\u003e\u003ctd\u003e684\u003c/td\u003e\u003ctd\u003e681.3333333333334\u003c/td\u003e\u003c/tr\u003e\",","            \"\u003ctr\u003e\u003ctd\u003e01100505T\u003c/td\u003e\u003ctd\u003eFehér másoló A/4\u003c/td\u003e\u003ctd\u003e686\u003c/td\u003e\u003ctd\u003e686.6666666666666\u003c/td\u003e\u003c/tr\u003e\",","            \"\u003ctr\u003e\u003ctd\u003eN019-FE301\u003c/td\u003e\u003ctd\u003enői alsó\u003c/td\u003e\u003ctd\u003e690\u003c/td\u003e\u003ctd\u003e689\u003c/td\u003e\u003c/tr\u003e\",","            \"\u003ctr\u003e\u003ctd\u003e08070490T\u003c/td\u003e\u003ctd\u003eSzövegszerkesztés\u003c/td\u003e\u003ctd\u003e691\u003c/td\u003e\u003ctd\u003e693.3333333333334\u003c/td\u003e\u003c/tr\u003e\",","            \"\u003ctr\u003e\u003ctd\u003e06040186T\u003c/td\u003e\u003ctd\u003eGyűrűskönyv színes\u003c/td\u003e\u003ctd\u003e699\u003c/td\u003e\u003ctd\u003e703.3333333333334\u003c/td\u003e\u003c/tr\u003e\",","            \"\u003ctr\u003e\u003ctd\u003e08070493T\u003c/td\u003e\u003ctd\u003eÉrettségi felv. fel. Matematika\u003c/td\u003e\u003ctd\u003e720\u003c/td\u003e\u003ctd\u003e715.6666666666666\u003c/td\u003e\u003c/tr\u003e\",","            \"\u003ctr\u003e\u003ctd\u003e06040395T\u003c/td\u003e\u003ctd\u003eTolltartó 2 zipzáros töltött\u003c/td\u003e\u003ctd\u003e728\u003c/td\u003e\u003ctd\u003e725.3333333333334\u003c/td\u003e\u003c/tr\u003e\",","            \"\u003ctr\u003e\u003ctd\u003e06040392T\u003c/td\u003e\u003ctd\u003eTolltartó 1 zipzáros\u003c/td\u003e\u003ctd\u003e728\u003c/td\u003e\u003ctd\u003e728\u003c/td\u003e\u003c/tr\u003e\",","            \"\u003ctr\u003e\u003ctd\u003e01100095T\u003c/td\u003e\u003ctd\u003eFénymásoló papír GetCopy\u003c/td\u003e\u003ctd\u003e728\u003c/td\u003e\u003ctd\u003e728\u003c/td\u003e\u003c/tr\u003e\",","            \"\u003ctr\u003e\u003ctd\u003e01100096T\u003c/td\u003e\u003ctd\u003eFénymásoló papír Qconnect\u003c/td\u003e\u003ctd\u003e728\u003c/td\u003e\u003ctd\u003e728\u003c/td\u003e\u003c/tr\u003e\",","            \"\u003ctr\u003e\u003ctd\u003e04020445T\u003c/td\u003e\u003ctd\u003eHatáridő napló 2010-s\u003c/td\u003e\u003ctd\u003e728\u003c/td\u003e\u003ctd\u003e730.3333333333334\u003c/td\u003e\u003c/tr\u003e\",","            \"\u003ctr\u003e\u003ctd\u003e08070492T\u003c/td\u003e\u003ctd\u003eInformatika\u003c/td\u003e\u003ctd\u003e735\u003c/td\u003e\u003ctd\u003e742.6666666666666\u003c/td\u003e\u003c/tr\u003e\",","            \"\u003ctr\u003e\u003ctd\u003e06040393T\u003c/td\u003e\u003ctd\u003eTolltartó 2 részes NG.\u003c/td\u003e\u003ctd\u003e765\u003c/td\u003e\u003ctd\u003e755\u003c/td\u003e\u003c/tr\u003e\",","            \"\u003ctr\u003e\u003ctd\u003e02080454T\u003c/td\u003e\u003ctd\u003eLyukasztó BOXER\u003c/td\u003e\u003ctd\u003e765\u003c/td\u003e\u003ctd\u003e767.6666666666666\u003c/td\u003e\u003c/tr\u003e\",","            \"\u003ctr\u003e\u003ctd\u003e07080158T\u003c/td\u003e\u003ctd\u003eGolyóstoll Parker tokban\u003c/td\u003e\u003ctd\u003e773\u003c/td\u003e\u003ctd\u003e772.6666666666666\u003c/td\u003e\u003c/tr\u003e\",","            \"\u003ctr\u003e\u003ctd\u003e02060038T\u003c/td\u003e\u003ctd\u003eBélyegző IDEAL 50\u003c/td\u003e\u003ctd\u003e780\u003c/td\u003e\u003ctd\u003e779.3333333333334\u003c/td\u003e\u003c/tr\u003e\",","            \"\u003ctr\u003e\u003ctd\u003e08070478T\u003c/td\u003e\u003ctd\u003eÖsszefoglaló feladatgyüjtemény számtech.\u003c/td\u003e\u003ctd\u003e785\u003c/td\u003e\u003ctd\u003e786.3333333333334\u003c/td\u003e\u003c/tr\u003e\",","            \"\u003ctr\u003e\u003ctd\u003e02040194T\u003c/td\u003e\u003ctd\u003eHibajav.roll.Pritt 4,2mm\u003c/td\u003e\u003ctd\u003e794\u003c/td\u003e\u003ctd\u003e808\u003c/td\u003e\u003c/tr\u003e\",","            \"\u003ctr\u003e\u003ctd\u003e01100094T\u003c/td\u003e\u003ctd\u003eFénymásoló papír DataCopy\u003c/td\u003e\u003ctd\u003e845\u003c/td\u003e\u003ctd\u003e835.6666666666666\u003c/td\u003e\u003c/tr\u003e\",","            \"\u003ctr\u003e\u003ctd\u003e08070489T\u003c/td\u003e\u003ctd\u003eRAMba zárt világ\u003c/td\u003e\u003ctd\u003e868\u003c/td\u003e\u003ctd\u003e862.6666666666666\u003c/td\u003e\u003c/tr\u003e\",","            \"\u003ctr\u003e\u003ctd\u003e06080188T\u003c/td\u003e\u003ctd\u003eHegyező gép\u003c/td\u003e\u003ctd\u003e875\u003c/td\u003e\u003ctd\u003e911\u003c/td\u003e\u003c/tr\u003e\",","            \"\u003ctr\u003e\u003ctd\u003eG038-FE316\u003c/td\u003e\u003ctd\u003efiú harisnya\u003c/td\u003e\u003ctd\u003e990\u003c/td\u003e\u003ctd\u003e951.6666666666666\u003c/td\u003e\u003c/tr\u003e\",","            \"\u003ctr\u003e\u003ctd\u003eL033-FE311\u003c/td\u003e\u003ctd\u003elány harisnya\u003c/td\u003e\u003ctd\u003e990\u003c/td\u003e\u003ctd\u003e999.6666666666666\u003c/td\u003e\u003c/tr\u003e\",","            \"\u003ctr\u003e\u003ctd\u003e07080152T\u003c/td\u003e\u003ctd\u003eGolyóstoll 3 funkciós \u003c/td\u003e\u003ctd\u003e1019\u003c/td\u003e\u003ctd\u003e1032.6666666666667\u003c/td\u003e\u003c/tr\u003e\",","            \"\u003ctr\u003e\u003ctd\u003e08070472T\u003c/td\u003e\u003ctd\u003eA föld amelyen élünk - Európa földrajza\u003c/td\u003e\u003ctd\u003e1089\u003c/td\u003e\u003ctd\u003e1065.6666666666667\u003c/td\u003e\u003c/tr\u003e\",","            \"\u003ctr\u003e\u003ctd\u003e08070473T\u003c/td\u003e\u003ctd\u003eA föld amelyen élünk - Távoli földrészek\u003c/td\u003e\u003ctd\u003e1089\u003c/td\u003e\u003ctd\u003e1089\u003c/td\u003e\u003c/tr\u003e\",","            \"\u003ctr\u003e\u003ctd\u003e08070474T\u003c/td\u003e\u003ctd\u003eA föld amelyen élünk - Hazánk földrajza\u003c/td\u003e\u003ctd\u003e1089\u003c/td\u003e\u003ctd\u003e1108.3333333333333\u003c/td\u003e\u003c/tr\u003e\",","            \"\u003ctr\u003e\u003ctd\u003e02060448T\u003c/td\u003e\u003ctd\u003eBélyegző RP 18-47\u003c/td\u003e\u003ctd\u003e1147\u003c/td\u003e\u003ctd\u003e1136.3333333333333\u003c/td\u003e\u003c/tr\u003e\",","            \"\u003ctr\u003e\u003ctd\u003e06040446T\u003c/td\u003e\u003ctd\u003eSzámológép tudományos\u003c/td\u003e\u003ctd\u003e1173\u003c/td\u003e\u003ctd\u003e1203.3333333333333\u003c/td\u003e\u003c/tr\u003e\",","            \"\u003ctr\u003e\u003ctd\u003eG019-NA207\u003c/td\u003e\u003ctd\u003egyermek pamut nadrág (fiú)\u003c/td\u003e\u003ctd\u003e1290\u003c/td\u003e\u003ctd\u003e1251\u003c/td\u003e\u003c/tr\u003e\",","            \"\u003ctr\u003e\u003ctd\u003eL019-NA207\u003c/td\u003e\u003ctd\u003egyermek pamut nadrág (lány)\u003c/td\u003e\u003ctd\u003e1290\u003c/td\u003e\u003ctd\u003e1310.3333333333333\u003c/td\u003e\u003c/tr\u003e\",","            \"\u003ctr\u003e\u003ctd\u003e02040403T\u003c/td\u003e\u003ctd\u003eTűzőgép SAX 239\u003c/td\u003e\u003ctd\u003e1351\u003c/td\u003e\u003ctd\u003e1339.3333333333333\u003c/td\u003e\u003c/tr\u003e\",","            \"\u003ctr\u003e\u003ctd\u003e02060447T\u003c/td\u003e\u003ctd\u003eBélyegző pocket\u003c/td\u003e\u003ctd\u003e1377\u003c/td\u003e\u003ctd\u003e1405.3333333333333\u003c/td\u003e\u003c/tr\u003e\",","            \"\u003ctr\u003e\u003ctd\u003e01100504T\u003c/td\u003e\u003ctd\u003eFehér másoló A/3\u003c/td\u003e\u003ctd\u003e1488\u003c/td\u003e\u003ctd\u003e1455\u003c/td\u003e\u003c/tr\u003e\",","            \"\u003ctr\u003e\u003ctd\u003e01100496T\u003c/td\u003e\u003ctd\u003eSzínes másoló a/4 80g\u003c/td\u003e\u003ctd\u003e1500\u003c/td\u003e\u003ctd\u003e1584.3333333333333\u003c/td\u003e\u003c/tr\u003e\",","            \"\u003ctr\u003e\u003ctd\u003e04080270T\u003c/td\u003e\u003ctd\u003eMappa bőr A5\u003c/td\u003e\u003ctd\u003e1765\u003c/td\u003e\u003ctd\u003e1751.6666666666667\u003c/td\u003e\u003c/tr\u003e\",","            \"\u003ctr\u003e\u003ctd\u003eU001-KI501\u003c/td\u003e\u003ctd\u003esál\u003c/td\u003e\u003ctd\u003e1990\u003c/td\u003e\u003ctd\u003e1951.6666666666667\u003c/td\u003e\u003c/tr\u003e\",","            \"\u003ctr\u003e\u003ctd\u003e02040002T\u003c/td\u003e\u003ctd\u003eirodai tűzőgép\u003c/td\u003e\u003ctd\u003e2100\u003c/td\u003e\u003ctd\u003e2663.3333333333335\u003c/td\u003e\u003c/tr\u003e\",","            \"\u003ctr\u003e\u003ctd\u003eL048-PO218\u003c/td\u003e\u003ctd\u003egyermek póló (lány)\u003c/td\u003e\u003ctd\u003e3900\u003c/td\u003e\u003ctd\u003e3300\u003c/td\u003e\u003c/tr\u003e\",","            \"\u003ctr\u003e\u003ctd\u003eG048-PO218\u003c/td\u003e\u003ctd\u003egyermek póló (fiú)\u003c/td\u003e\u003ctd\u003e3900\u003c/td\u003e\u003ctd\u003e4125\u003c/td\u003e\u003c/tr\u003e\",","            \"\u003ctr\u003e\u003ctd\u003e01080512T\u003c/td\u003e\u003ctd\u003eÖntapadó A/4\u003c/td\u003e\u003ctd\u003e4575\u003c/td\u003e\u003ctd\u003e4488.333333333333\u003c/td\u003e\u003c/tr\u003e\",","            \"\u003ctr\u003e\u003ctd\u003eG013-NA201\u003c/td\u003e\u003ctd\u003egyermek farmer nadrág (fiú)\u003c/td\u003e\u003ctd\u003e4990\u003c/td\u003e\u003ctd\u003e4851.666666666667\u003c/td\u003e\u003c/tr\u003e\",","            \"\u003ctr\u003e\u003ctd\u003eL013-NA201\u003c/td\u003e\u003ctd\u003egyermek farmer nadrág (lány)\u003c/td\u003e\u003ctd\u003e4990\u003c/td\u003e\u003ctd\u003e5490\u003c/td\u003e\u003c/tr\u003e\",","            \"\u003ctr\u003e\u003ctd\u003eF021-IN215\u003c/td\u003e\u003ctd\u003eférfi ing\u003c/td\u003e\u003ctd\u003e6490\u003c/td\u003e\u003ctd\u003e6126.666666666667\u003c/td\u003e\u003c/tr\u003e\",","            \"\u003ctr\u003e\u003ctd\u003eL064-CI401\u003c/td\u003e\u003ctd\u003egyermek szandál (lány)\u003c/td\u003e\u003ctd\u003e6900\u003c/td\u003e\u003ctd\u003e6763.333333333333\u003c/td\u003e\u003c/tr\u003e\",","            \"\u003ctr\u003e\u003ctd\u003eG064-CI401\u003c/td\u003e\u003ctd\u003egyermek szandál (fiú)\u003c/td\u003e\u003ctd\u003e6900\u003c/td\u003e\u003ctd\u003e7230\u003c/td\u003e\u003c/tr\u003e\",","            \"\u003ctr\u003e\u003ctd\u003eF007-NA201\u003c/td\u003e\u003ctd\u003eférfi farmer nadrág\u003c/td\u003e\u003ctd\u003e7890\u003c/td\u003e\u003ctd\u003e7563.333333333333\u003c/td\u003e\u003c/tr\u003e\",","            \"\u003ctr\u003e\u003ctd\u003eG073-CI410\u003c/td\u003e\u003ctd\u003egyermek cipő (fiú)\u003c/td\u003e\u003ctd\u003e7900\u003c/td\u003e\u003ctd\u003e7896.666666666667\u003c/td\u003e\u003c/tr\u003e\",","            \"\u003ctr\u003e\u003ctd\u003eL073-CI410\u003c/td\u003e\u003ctd\u003egyermek cipő (lány)\u003c/td\u003e\u003ctd\u003e7900\u003c/td\u003e\u003ctd\u003e7933.333333333333\u003c/td\u003e\u003c/tr\u003e\",","            \"\u003ctr\u003e\u003ctd\u003eL082-CI419\u003c/td\u003e\u003ctd\u003egyermek csizma (lány)\u003c/td\u003e\u003ctd\u003e8000\u003c/td\u003e\u003ctd\u003e7966.666666666667\u003c/td\u003e\u003c/tr\u003e\",","            \"\u003ctr\u003e\u003ctd\u003eG082-CI419\u003c/td\u003e\u003ctd\u003egyermek csizma (fiú)\u003c/td\u003e\u003ctd\u003e8000\u003c/td\u003e\u003ctd\u003e8096.666666666667\u003c/td\u003e\u003c/tr\u003e\",","            \"\u003ctr\u003e\u003ctd\u003eN008-NA201\u003c/td\u003e\u003ctd\u003enői farmer nadrág\u003c/td\u003e\u003ctd\u003e8290\u003c/td\u003e\u003ctd\u003e8396.666666666666\u003c/td\u003e\u003c/tr\u003e\",","            \"\u003ctr\u003e\u003ctd\u003eL001-KB101\u003c/td\u003e\u003ctd\u003egyermek kabát (lány)\u003c/td\u003e\u003ctd\u003e8900\u003c/td\u003e\u003ctd\u003e8696.666666666666\u003c/td\u003e\u003c/tr\u003e\",","            \"\u003ctr\u003e\u003ctd\u003eG001-KB101\u003c/td\u003e\u003ctd\u003egyermek kabát (fiú)\u003c/td\u003e\u003ctd\u003e8900\u003c/td\u003e\u003ctd\u003e9900\u003c/td\u003e\u003c/tr\u003e\",","            \"\u003ctr\u003e\u003ctd\u003eF013-NA207\u003c/td\u003e\u003ctd\u003eférfi szövet nadrág\u003c/td\u003e\u003ctd\u003e11900\u003c/td\u003e\u003ctd\u003e11683.333333333334\u003c/td\u003e\u003c/tr\u003e\",","            \"\u003ctr\u003e\u003ctd\u003e02080511T\u003c/td\u003e\u003ctd\u003eOki toner C\u003c/td\u003e\u003ctd\u003e14250\u003c/td\u003e\u003ctd\u003e14350\u003c/td\u003e\u003c/tr\u003e\",","            \"\u003ctr\u003e\u003ctd\u003eG041-AL211\u003c/td\u003e\u003ctd\u003efiú ünneplős ruha\u003c/td\u003e\u003ctd\u003e16900\u003c/td\u003e\u003ctd\u003e16016.666666666666\u003c/td\u003e\u003c/tr\u003e\",","            \"\u003ctr\u003e\u003ctd\u003eL041-AL211\u003c/td\u003e\u003ctd\u003elány ünneplős ruha\u003c/td\u003e\u003ctd\u003e16900\u003c/td\u003e\u003ctd\u003e18600\u003c/td\u003e\u003c/tr\u003e\",","            \"\u003ctr\u003e\u003ctd\u003eF001-KB101\u003c/td\u003e\u003ctd\u003eférfi szövet kabát\u003c/td\u003e\u003ctd\u003e22000\u003c/td\u003e\u003ctd\u003e20966.666666666668\u003c/td\u003e\u003c/tr\u003e\",","            \"\u003ctr\u003e\u003ctd\u003eN001-KB101\u003c/td\u003e\u003ctd\u003enői szövet kabát\u003c/td\u003e\u003ctd\u003e24000\u003c/td\u003e\u003ctd\u003e26000\u003c/td\u003e\u003c/tr\u003e\",","            \"\u003ctr\u003e\u003ctd\u003eN029-AL212\u003c/td\u003e\u003ctd\u003enői koktélruha\u003c/td\u003e\u003ctd\u003e32000\u003c/td\u003e\u003ctd\u003e31666.666666666668\u003c/td\u003e\u003c/tr\u003e\",","            \"\u003ctr\u003e\u003ctd\u003eN035-AL218\u003c/td\u003e\u003ctd\u003ekosztüm (rövid)\u003c/td\u003e\u003ctd\u003e39000\u003c/td\u003e\u003ctd\u003e39000\u003c/td\u003e\u003c/tr\u003e\",","            \"\u003ctr\u003e\u003ctd\u003eN039-AL222\u003c/td\u003e\u003ctd\u003ekosztüm (hosszú)\u003c/td\u003e\u003ctd\u003e46000\u003c/td\u003e\u003ctd\u003e42500\u003c/td\u003e\u003c/tr\u003e\",","            \"\u003c/table\u003e\"","        ]","    }","}","],","            \"execution_count\": 5","        },","        {","            \"cell_type\": \"markdown\",","            \"source\": [","                \"13\\\\. Készítsünk listát, amely a rendelések sorszámát és a rendelés értékét tartalmazza.  \\n\",","                \"A listát egészítsük ki egy új oszloppal, amely minden rendelés esetén addigi rendelések értékének összegét tartalmazza  \\n\",","                \"(az aktuálisat is beleértve)!  \\n\",","                \"A listát rendezzük sorszám szerint növekvő sorrendbe. A lista ne tartalmazzon duplikált sorokat!  \\n\",","                \"Nevezzük el az oszlopokat értelemszerűen!\"","            ],","            \"metadata\": {","                \"azdata_cell_guid\": \"526e07ad-8234-46b8-bdba-af5474604839\"","            },","            \"attachments\": {}","        },","        {","            \"cell_type\": \"code\",","            \"source\": [","                \"\"","            ],","            \"metadata\": {","                \"azdata_cell_guid\": \"596c853d-7ae5-4280-95e2-973c81aaea16\"","            },","            \"outputs\": [],","            \"execution_count\": null","        },","        {","            \"cell_type\": \"markdown\",","            \"source\": [","                \"14\\\\. Készítsünk listát a termékek kódjáról, nevéről, kategória azonosítójáról, raktár azonosítójáról és listaáráról, valamint  \\n\",","                \"a termék adott szempontok szerinti rangsorokban elfogalt helyezéseiről.  \\n\",","                \"(Szempontonként külön oszlopban, a helyezéseknél növekvő sorrendet feltételezve).  \\n\",","                \"A szempontok a következők legyenek: listaár, kategória szerinti listaár, és raktárkód szerinti listaár.  \\n\",","                \"Az oszlopokat nevezzük el értelemszerűen.  \\n\",","                \"A helyezések egyenlőség esetén \\\"sűrűn\\\" kövessék egymást.  \\n\",","                \"A lista legyen rendezett kategória azonosító, azon belül listaár szerint!\"","            ],","            \"metadata\": {","                \"azdata_cell_guid\": \"d153dce8-e47b-41b2-8fd9-e13a6313771d\"","            },","            \"attachments\": {}","        },","        {","            \"cell_type\": \"code\",","            \"source\": [","                \"\"","            ],","            \"metadata\": {","                \"azdata_cell_guid\": \"7c673b39-c0bd-49a2-a737-8bec0628e2d8\"","            },","            \"outputs\": [],","            \"execution_count\": null","        },","        {","            \"cell_type\": \"markdown\",","            \"source\": [","                \"15\\\\. Készítsünk listát a rendelési tételekről, amely minden sor esetén göngyölítve tartalmazza az ügyfél adott rendelési tételig  \\n\",","                \"meglévő rendelési tételeinek összértékét!  \\n\",","                \"Az új oszlop neve legyen Eddigi rendelési tételek összértéke!  \\n\",","                \"Az ügyfél neve is jelenjen meg!\"","            ],","            \"metadata\": {","                \"azdata_cell_guid\": \"5ddc59be-70cf-4c6d-a8be-21b2df1f4e31\"","            },","            \"attachments\": {}","        },","        {","            \"cell_type\": \"code\",","            \"source\": [","                \"\"","            ],","            \"metadata\": {","                \"azdata_cell_guid\": \"f1fe1994-34cd-444b-b078-1313521bbcc1\"","            },","            \"outputs\": [],","            \"execution_count\": null","        }","    ]","}"],"stylingDirectives":null,"csv":null,"csvError":null,"dependabotInfo":{"showConfigurationBanner":null,"configFilePath":null,"networkDependabotPath":"/Marcib/Adatb-zis/network/updates","dismissConfigurationNoticePath":"/settings/dismiss-notice/dependabot_configuration_notice","configurationNoticeDismissed":false},"displayName":"korsz_adatbgyak02.ipynb","displayUrl":"https://notebooks.githubusercontent.com/view/ipynb?browser=chrome\u0026bypass_fastly=true\u0026color_mode=auto\u0026commit=2aa395a161a94fa33259e05fb2791f1b7dbca558\u0026device=unknown_device\u0026docs_host=https%3A%2F%2Fdocs.github.com\u0026enc_url=68747470733a2f2f7261772e67697468756275736572636f6e74656e742e636f6d2f4d61726369622f41646174622d7a69732f326161333935613136316139346661333332353965303566623237393166316237646263613535382f6b6f72737a5f61646174626779616b30322e6970796e62\u0026logged_in=true\u0026nwo=Marcib%2FAdatb-zis\u0026path=korsz_adatbgyak02.ipynb\u0026platform=windows\u0026repository_id=759767167\u0026repository_type=Repository\u0026version=121","headerInfo":{"blobSize":"176 KB","deleteTooltip":"Delete this file","editTooltip":"Edit this file","deleteInfo":{"deleteTooltip":"Delete this file"},"editInfo":{"editTooltip":"Edit this file"},"ghDesktopPath":"https://desktop.github.com","isGitLfs":false,"gitLfsPath":null,"onBranch":true,"shortPath":"50414a5","siteNavLoginPath":"/login?return_to=https%3A%2F%2Fgithub.com%2FMarcib%2FAdatb-zis%2Fblob%2Fmaster%2Fkorsz_adatbgyak02.ipynb","isCSV":false,"isRichtext":false,"toc":null,"lineInfo":{"truncatedLoc":"4315","truncatedSloc":"4315"},"mode":"file"},"image":false,"isCodeownersFile":null,"isPlain":false,"isValidLegacyIssueTemplate":false,"issueTemplateHelpUrl":"https://docs.github.com/articles/about-issue-and-pull-request-templates","issueTemplate":null,"discussionTemplate":null,"language":"Jupyter Notebook","languageID":185,"large":false,"loggedIn":true,"planSupportInfo":{"repoIsFork":null,"repoOwnedByCurrentUser":null,"requestFullPath":"/Marcib/Adatb-zis/blob/master/korsz_adatbgyak02.ipynb","showFreeOrgGatedFeatureMessage":null,"showPlanSupportBanner":null,"upgradeDataAttributes":null,"upgradePath":null},"publishBannersInfo":{"dismissActionNoticePath":"/settings/dismiss-notice/publish_action_from_dockerfile","releasePath":"/Marcib/Adatb-zis/releases/new?marketplace=true","showPublishActionBanner":false},"rawBlobUrl":"https://github.com/Marcib/Adatb-zis/raw/master/korsz_adatbgyak02.ipynb","renderImageOrRaw":false,"richText":null,"renderedFileInfo":{"identityUUID":"58d7f119-3d68-4130-97dc-60b33405fdd5","renderFileType":"ipynb","size":180481},"shortPath":null,"symbolsEnabled":true,"tabSize":8,"topBannersInfo":{"overridingGlobalFundingFile":false,"globalPreferredFundingPath":null,"repoOwner":"Marcib","repoName":"Adatb-zis","showInvalidCitationWarning":false,"citationHelpUrl":"https://docs.github.com/github/creating-cloning-and-archiving-repositories/creating-a-repository-on-github/about-citation-files","actionsOnboardingTip":null},"truncated":false,"viewable":true,"workflowRedirectUrl":null,"symbols":{"timed_out":false,"not_analyzed":true,"symbols":[]}},"copilotInfo":{"documentationUrl":"https://docs.github.com/copilot/overview-of-github-copilot/about-github-copilot-for-individuals","notices":{"codeViewPopover":{"dismissed":false,"dismissPath":"/settings/dismiss-notice/code_view_copilot_popover"}},"userAccess":{"hasSubscriptionEnded":false,"orgHasCFBAccess":false,"userHasCFIAccess":false,"userHasOrgs":false,"userIsOrgAdmin":false,"userIsOrgMember":false,"business":null,"featureRequestInfo":null}},"copilotAccessAllowed":false,"csrf_tokens":{"/Marcib/Adatb-zis/branches":{"post":"FMhTnq_0pguLvjmxEY8PAPx9IFIDy2VhjfDxqS7HC9qoyIsqpUbYbAGjKgrDQke3hYXjZS6Ghob4qLPfkVqAtg"},"/repos/preferences":{"post":"9qWVY9k4PFPI1ajizHM3T1cyu3-kI6xXyM9cwQ1aY6AThqllHOe42YEBeguAicFKvRDFk5HLKFQK55y7RsPLfw"}}},"title":"Adatb-zis/korsz_adatbgyak02.ipynb at master · Marcib/Adatb-zis","appPayload":{"helpUrl":"https://docs.github.com","findFileWorkerPath":"/assets-cdn/worker/find-file-worker-32bb159cc57c.js","findInFileWorkerPath":"/assets-cdn/worker/find-in-file-worker-c6704d501c10.js","githubDevUrl":"https://github.dev/","enabled_features":{"code_nav_ui_events":false,"copilot_conversational_ux":false,"copilot_conversational_ux_embedding_update":false,"copilot_popover_file_editor_header":true,"copilot_smell_icebreaker_ux":true,"copilot_workspace":false,"codeview_firefox_inert":true}}}</script>
  <div data-target="react-app.reactRoot"><style data-styled="true" data-styled-version="5.3.6">.fNPcqd{font-weight:600;font-size:32px;margin:0;font-size:14px;}/*!sc*/
.imcwCi{font-weight:600;font-size:32px;margin:0;font-size:16px;margin-left:8px;}/*!sc*/
.cgQnMS{font-weight:600;font-size:32px;margin:0;}/*!sc*/
.diwsLq{font-weight:600;font-size:32px;margin:0;font-weight:600;display:inline-block;max-width:100%;font-size:16px;}/*!sc*/
.jAEDJk{font-weight:600;font-size:32px;margin:0;font-weight:600;display:inline-block;max-width:100%;font-size:14px;}/*!sc*/
data-styled.g1[id="Heading__StyledHeading-sc-1c1dgg0-0"]{content:"fNPcqd,imcwCi,cgQnMS,diwsLq,jAEDJk,"}/*!sc*/
.fSWWem{padding:0;}/*!sc*/
.kPPmzM{max-width:100%;margin-left:auto;margin-right:auto;display:-webkit-box;display:-webkit-flex;display:-ms-flexbox;display:flex;-webkit-flex-wrap:wrap;-ms-flex-wrap:wrap;flex-wrap:wrap;}/*!sc*/
.cIAPDV{display:-webkit-box;display:-webkit-flex;display:-ms-flexbox;display:flex;-webkit-flex:1 1 100%;-ms-flex:1 1 100%;flex:1 1 100%;-webkit-flex-wrap:wrap;-ms-flex-wrap:wrap;flex-wrap:wrap;max-width:100%;}/*!sc*/
.gvCnwW{width:100%;}/*!sc*/
@media screen and (min-width:544px){.gvCnwW{width:100%;}}/*!sc*/
@media screen and (min-width:768px){.gvCnwW{width:auto;}}/*!sc*/
.xEgty{display:-webkit-box;display:-webkit-flex;display:-ms-flexbox;display:flex;-webkit-order:1;-ms-flex-order:1;order:1;width:100%;margin-left:0;margin-right:0;-webkit-flex-direction:column;-ms-flex-direction:column;flex-direction:column;margin-bottom:0;min-width:0;}/*!sc*/
@media screen and (min-width:544px){.xEgty{-webkit-flex-direction:column;-ms-flex-direction:column;flex-direction:column;}}/*!sc*/
@media screen and (min-width:768px){.xEgty{width:auto;margin-top:0 !important;margin-bottom:0 !important;position:-webkit-sticky;position:sticky;top:0px;max-height:var(--sticky-pane-height);-webkit-flex-direction:row;-ms-flex-direction:row;flex-direction:row;margin-right:0;}}/*!sc*/
@media screen and (min-width:769px){.xEgty{height:100vh;max-height:100vh !important;}}/*!sc*/
@media print,screen and (max-width:1011px) and (min-width:768px){.xEgty{display:none;}}/*!sc*/
.eUyHuk{margin-left:0;margin-right:0;display:none;margin-top:0;}/*!sc*/
@media screen and (min-width:768px){.eUyHuk{margin-left:0 !important;margin-right:0 !important;}}/*!sc*/
.gNdDUH{--pane-min-width:256px;--pane-max-width-diff:511px;--pane-max-width:calc(100vw - var(--pane-max-width-diff));width:100%;padding:0;}/*!sc*/
@media screen and (min-width:544px){}/*!sc*/
@media screen and (min-width:768px){.gNdDUH{width:clamp(var(--pane-min-width),var(--pane-width),var(--pane-max-width));overflow:auto;}}/*!sc*/
@media screen and (min-width:1280px){.gNdDUH{--pane-max-width-diff:959px;}}/*!sc*/
.jywUSN{max-height:100%;height:100%;display:-webkit-box;display:-webkit-flex;display:-ms-flexbox;display:flex;-webkit-flex-direction:column;-ms-flex-direction:column;flex-direction:column;}/*!sc*/
@media screen and (max-width:768px){.jywUSN{display:none;}}/*!sc*/
@media screen and (min-width:768px){.jywUSN{max-height:100vh;height:100vh;}}/*!sc*/
.hBSSUC{display:-webkit-box;display:-webkit-flex;display:-ms-flexbox;display:flex;-webkit-flex-direction:column;-ms-flex-direction:column;flex-direction:column;-webkit-align-items:center;-webkit-box-align:center;-ms-flex-align:center;align-items:center;padding-left:16px;padding-right:16px;padding-bottom:8px;padding-top:16px;}/*!sc*/
.iPurHz{display:-webkit-box;display:-webkit-flex;display:-ms-flexbox;display:flex;width:100%;margin-bottom:16px;-webkit-align-items:center;-webkit-box-align:center;-ms-flex-align:center;align-items:center;}/*!sc*/
.kkrdEu{-webkit-box-pack:center;-webkit-justify-content:center;-ms-flex-pack:center;justify-content:center;}/*!sc*/
.trpoQ{display:-webkit-box;display:-webkit-flex;display:-ms-flexbox;display:flex;pointer-events:none;}/*!sc*/
.hVHHYa{margin-left:24px;margin-right:24px;display:-webkit-box;display:-webkit-flex;display:-ms-flexbox;display:flex;width:100%;}/*!sc*/
.idZfsJ{-webkit-box-flex:1;-webkit-flex-grow:1;-ms-flex-positive:1;flex-grow:1;}/*!sc*/
.bKgizp{display:-webkit-box;display:-webkit-flex;display:-ms-flexbox;display:flex;width:100%;}/*!sc*/
.iPGYsi{margin-right:4px;color:var(--fgColor-muted,var(--color-fg-muted,#656d76));}/*!sc*/
.caeYDk{font-size:14px;min-width:0;overflow:hidden;text-overflow:ellipsis;white-space:nowrap;}/*!sc*/
.jahcnb{margin-left:8px;white-space:nowrap;}/*!sc*/
.jahcnb:hover button:not(:hover){border-left-color:var(--button-default-borderColor-hover,var(--color-btn-hover-border));}/*!sc*/
.ccToMy{margin-left:16px;margin-right:16px;margin-bottom:12px;}/*!sc*/
@media screen and (max-width:768px){.ccToMy{display:none;}}/*!sc*/
.cNvKlH{margin-right:-6px;}/*!sc*/
.cLfAnm{-webkit-box-flex:1;-webkit-flex-grow:1;-ms-flex-positive:1;flex-grow:1;max-height:100% !important;overflow-y:auto;-webkit-scrollbar-gutter:stable;-moz-scrollbar-gutter:stable;-ms-scrollbar-gutter:stable;scrollbar-gutter:stable;}/*!sc*/
@media screen and (max-width:768px){.cLfAnm{display:none;}}/*!sc*/
.erWCJP{padding-left:16px;padding-right:16px;padding-bottom:8px;}/*!sc*/
.hAeDYA{height:100%;position:relative;display:none;margin-left:0;}/*!sc*/
.UHyNo{position:absolute;inset:0 -2px;cursor:col-resize;background-color:transparent;-webkit-transition-delay:0.1s;transition-delay:0.1s;}/*!sc*/
.UHyNo:hover{background-color:var(--borderColor-neutral-muted,var(--color-neutral-muted,rgba(175,184,193,0.2)));}/*!sc*/
.emFMJu{display:-webkit-box;display:-webkit-flex;display:-ms-flexbox;display:flex;-webkit-flex-direction:column;-ms-flex-direction:column;flex-direction:column;-webkit-order:2;-ms-flex-order:2;order:2;-webkit-flex-basis:0;-ms-flex-preferred-size:0;flex-basis:0;-webkit-box-flex:1;-webkit-flex-grow:1;-ms-flex-positive:1;flex-grow:1;-webkit-flex-shrink:1;-ms-flex-negative:1;flex-shrink:1;min-width:1px;margin-right:auto;}/*!sc*/
@media print{.emFMJu{display:-webkit-box !important;display:-webkit-flex !important;display:-ms-flexbox !important;display:flex !important;}}/*!sc*/
.hlUAHL{width:100%;max-width:100%;margin-left:auto;margin-right:auto;-webkit-box-flex:1;-webkit-flex-grow:1;-ms-flex-positive:1;flex-grow:1;padding:0;}/*!sc*/
.iStsmI{margin-left:auto;margin-right:auto;-webkit-flex-direction:column;-ms-flex-direction:column;flex-direction:column;padding-bottom:40px;max-width:100%;margin-top:0;}/*!sc*/
.eIgvIk{display:inherit;}/*!sc*/
.eVFfWF{width:100%;}/*!sc*/
.kgXdnT{padding:16px;padding-bottom:0;}/*!sc*/
.kzTa-dF{display:-webkit-box;display:-webkit-flex;display:-ms-flexbox;display:flex;-webkit-flex-direction:column;-ms-flex-direction:column;flex-direction:column;-webkit-box-pack:justify;-webkit-justify-content:space-between;-ms-flex-pack:justify;justify-content:space-between;gap:16px;width:100%;}/*!sc*/
.bbXCl{display:-webkit-box;display:-webkit-flex;display:-ms-flexbox;display:flex;-webkit-flex-direction:row;-ms-flex-direction:row;flex-direction:row;-webkit-align-items:start;-webkit-box-align:start;-ms-flex-align:start;align-items:start;-webkit-box-pack:justify;-webkit-justify-content:space-between;-ms-flex-pack:justify;justify-content:space-between;}/*!sc*/
.hGGMNu{display:-webkit-box;display:-webkit-flex;display:-ms-flexbox;display:flex;-webkit-flex-direction:row;-ms-flex-direction:row;flex-direction:row;-webkit-align-items:start;-webkit-box-align:start;-ms-flex-align:start;align-items:start;-webkit-box-pack:justify;-webkit-justify-content:space-between;-ms-flex-pack:justify;justify-content:space-between;justify-self:flex-end;}/*!sc*/
.eHRrYV{margin-left:8px;margin-right:8px;}/*!sc*/
.dKmYfk{font-size:14px;min-width:0;max-width:125px;overflow:hidden;text-overflow:ellipsis;white-space:nowrap;}/*!sc*/
.hSNzKh{justify-self:end;max-width:100%;}/*!sc*/
.eTvGbF{display:-webkit-box;display:-webkit-flex;display:-ms-flexbox;display:flex;-webkit-flex-direction:row;-ms-flex-direction:row;flex-direction:row;font-size:16px;min-width:0;-webkit-flex-shrink:1;-ms-flex-negative:1;flex-shrink:1;-webkit-flex-wrap:wrap;-ms-flex-wrap:wrap;flex-wrap:wrap;max-width:100%;-webkit-align-items:center;-webkit-box-align:center;-ms-flex-align:center;align-items:center;}/*!sc*/
.kzRgrI{max-width:100%;}/*!sc*/
.cmAPIB{max-width:100%;list-style:none;display:inline-block;}/*!sc*/
.jwXCBK{display:inline-block;max-width:100%;}/*!sc*/
.bDwCYs{padding:16px;padding-bottom:0;padding-left:16px;padding-right:16px;}/*!sc*/
.fywjmm{display:-webkit-box;display:-webkit-flex;display:-ms-flexbox;display:flex;gap:8px;-webkit-flex-direction:column;-ms-flex-direction:column;flex-direction:column;width:100%;}/*!sc*/
.dyczTK{display:-webkit-box;display:-webkit-flex;display:-ms-flexbox;display:flex;-webkit-align-items:start;-webkit-box-align:start;-ms-flex-align:start;align-items:start;-webkit-box-pack:justify;-webkit-justify-content:space-between;-ms-flex-pack:justify;justify-content:space-between;gap:8px;}/*!sc*/
.kszRgZ{-webkit-align-self:center;-ms-flex-item-align:center;align-self:center;display:-webkit-box;display:-webkit-flex;display:-ms-flexbox;display:flex;padding-right:8px;min-width:0;}/*!sc*/
.gtBUEp{min-height:32px;display:-webkit-box;display:-webkit-flex;display:-ms-flexbox;display:flex;-webkit-align-items:start;-webkit-box-align:start;-ms-flex-align:start;align-items:start;}/*!sc*/
.hVZtwF{margin-left:16px;margin-right:16px;}/*!sc*/
.cMYnca{display:-webkit-box;display:-webkit-flex;display:-ms-flexbox;display:flex;-webkit-flex-direction:column;-ms-flex-direction:column;flex-direction:column;}/*!sc*/
.jQCQnS{display:-webkit-box;display:-webkit-flex;display:-ms-flexbox;display:flex;-webkit-flex-direction:column;-ms-flex-direction:column;flex-direction:column;border:1px solid;border-color:var(--borderColor-default,var(--color-border-default,#d0d7de));border-radius:6px;margin-bottom:16px;}/*!sc*/
.eYedVD{display:-webkit-box;display:-webkit-flex;display:-ms-flexbox;display:flex;-webkit-flex-direction:row;-ms-flex-direction:row;flex-direction:row;-webkit-box-pack:justify;-webkit-justify-content:space-between;-ms-flex-pack:justify;justify-content:space-between;-webkit-align-items:center;-webkit-box-align:center;-ms-flex-align:center;align-items:center;gap:8px;min-width:273px;padding-right:8px;padding-left:16px;padding-top:8px;padding-bottom:8px;}/*!sc*/
.jGfYmh{display:-webkit-box;display:-webkit-flex;display:-ms-flexbox;display:flex;gap:8px;}/*!sc*/
.lhFvfi{display:-webkit-box;display:-webkit-flex;display:-ms-flexbox;display:flex;-webkit-align-items:center;-webkit-box-align:center;-ms-flex-align:center;align-items:center;}/*!sc*/
.bqgLjk{display:inherit;}/*!sc*/
@media screen and (min-width:544px){.bqgLjk{display:none;}}/*!sc*/
@media screen and (min-width:768px){.bqgLjk{display:none;}}/*!sc*/
.iJmJly{display:-webkit-box;display:-webkit-flex;display:-ms-flexbox;display:flex;-webkit-flex-direction:row;-ms-flex-direction:row;flex-direction:row;}/*!sc*/
.jACbi{width:100%;height:-webkit-fit-content;height:-moz-fit-content;height:fit-content;min-width:0;margin-right:0;}/*!sc*/
.gIJuDf{height:40px;padding-left:4px;padding-bottom:16px;}/*!sc*/
.fleZSW{-webkit-align-items:center;-webkit-box-align:center;-ms-flex-align:center;align-items:center;}/*!sc*/
.BnySK{font-size:12px;-webkit-flex:auto;-ms-flex:auto;flex:auto;padding-right:16px;color:var(--fgColor-muted,var(--color-fg-muted,#656d76));min-width:0;}/*!sc*/
.VHzRk{top:0px;z-index:4;background:var(--bgColor-default,var(--color-canvas-default));position:-webkit-sticky;position:sticky;}/*!sc*/
.ePiodO{display:-webkit-box;display:-webkit-flex;display:-ms-flexbox;display:flex;-webkit-flex-direction:column;-ms-flex-direction:column;flex-direction:column;width:100%;position:absolute;}/*!sc*/
.kQJlnf{display:none;min-width:0;padding-top:8px;padding-bottom:8px;}/*!sc*/
.gJICKO{margin-right:8px;margin-left:16px;text-overflow:ellipsis;overflow:hidden;display:-webkit-box;display:-webkit-flex;display:-ms-flexbox;display:flex;-webkit-flex-direction:row;-ms-flex-direction:row;flex-direction:row;-webkit-align-items:center;-webkit-box-align:center;-ms-flex-align:center;align-items:center;-webkit-box-pack:justify;-webkit-justify-content:space-between;-ms-flex-pack:justify;justify-content:space-between;width:100%;}/*!sc*/
.iZJewz{display:-webkit-box;display:-webkit-flex;display:-ms-flexbox;display:flex;-webkit-flex-direction:row;-ms-flex-direction:row;flex-direction:row;font-size:14px;min-width:0;-webkit-flex-shrink:1;-ms-flex-negative:1;flex-shrink:1;-webkit-flex-wrap:wrap;-ms-flex-wrap:wrap;flex-wrap:wrap;max-width:100%;-webkit-align-items:center;-webkit-box-align:center;-ms-flex-align:center;align-items:center;}/*!sc*/
.jfjHXm{padding-left:8px;padding-top:8px;padding-bottom:8px;display:-webkit-box;display:-webkit-flex;display:-ms-flexbox;display:flex;-webkit-flex:1;-ms-flex:1;flex:1;-webkit-align-items:center;-webkit-box-align:center;-ms-flex-align:center;align-items:center;-webkit-box-pack:justify;-webkit-justify-content:space-between;-ms-flex-pack:justify;justify-content:space-between;background-color:var(--bgColor-muted,var(--color-canvas-subtle,#f6f8fa));border:1px solid var(--borderColor-default,var(--color-border-default));border-radius:6px 6px 0px 0px;}/*!sc*/
.bfkNRF{display:-webkit-box;display:-webkit-flex;display:-ms-flexbox;display:flex;-webkit-align-items:center;-webkit-box-align:center;-ms-flex-align:center;align-items:center;gap:8px;min-width:0;}/*!sc*/
.fXBLEV{display:block;position:relative;-webkit-box-flex:1;-webkit-flex-grow:1;-ms-flex-positive:1;flex-grow:1;margin-top:-1px;margin-bottom:-1px;--separator-color:transparent;}/*!sc*/
.fXBLEV:not(:last-child){margin-right:1px;}/*!sc*/
.fXBLEV:not(:last-child):after{background-color:var(--separator-color);content:"";position:absolute;right:-2px;top:8px;bottom:8px;width:1px;}/*!sc*/
.fXBLEV:focus-within:has(:focus-visible){--separator-color:transparent;}/*!sc*/
.fXBLEV:first-child{margin-left:-1px;}/*!sc*/
.fXBLEV:last-child{margin-right:-1px;}/*!sc*/
.gMPsNT{display:block;position:relative;-webkit-box-flex:1;-webkit-flex-grow:1;-ms-flex-positive:1;flex-grow:1;margin-top:-1px;margin-bottom:-1px;--separator-color:var(--borderColor-default,var(--color-border-default,#d0d7de));}/*!sc*/
.gMPsNT:not(:last-child){margin-right:1px;}/*!sc*/
.gMPsNT:not(:last-child):after{background-color:var(--separator-color);content:"";position:absolute;right:-2px;top:8px;bottom:8px;width:1px;}/*!sc*/
.gMPsNT:focus-within:has(:focus-visible){--separator-color:transparent;}/*!sc*/
.gMPsNT:first-child{margin-left:-1px;}/*!sc*/
.gMPsNT:last-child{margin-right:-1px;}/*!sc*/
.iBylDf{display:-webkit-box;display:-webkit-flex;display:-ms-flexbox;display:flex;-webkit-align-items:center;-webkit-box-align:center;-ms-flex-align:center;align-items:center;gap:8px;margin-right:8px;}/*!sc*/
.kSGBPx{gap:8px;}/*!sc*/
.ytOJl{border:1px solid;border-top:none;border-color:var(--borderColor-default,var(--color-border-default,#d0d7de));border-radius:0px 0px 6px 6px;min-width:273px;}/*!sc*/
.eJsjkT{background-color:var(--bgColor-default,var(--color-canvas-default));border:0px;border-width:0;border-radius:0px 0px 6px 6px;padding:0;min-width:0;margin-top:46px;overflow:auto;}/*!sc*/
.aZrVR{position:fixed;top:0;right:0;height:100%;width:15px;-webkit-transition:-webkit-transform 0.3s;-webkit-transition:transform 0.3s;transition:transform 0.3s;z-index:1;}/*!sc*/
.aZrVR:hover{-webkit-transform:scaleX(1.5);-ms-transform:scaleX(1.5);transform:scaleX(1.5);}/*!sc*/
.bAzdCq{display:-webkit-box;display:-webkit-flex;display:-ms-flexbox;display:flex;-webkit-flex-direction:column;-ms-flex-direction:column;flex-direction:column;-webkit-align-items:center;-webkit-box-align:center;-ms-flex-align:center;align-items:center;padding-top:16px;padding-bottom:16px;}/*!sc*/
data-styled.g2[id="Box-sc-g0xbh4-0"]{content:"fSWWem,kPPmzM,cIAPDV,gvCnwW,xEgty,eUyHuk,gNdDUH,jywUSN,hBSSUC,iPurHz,kkrdEu,trpoQ,hVHHYa,idZfsJ,bKgizp,iPGYsi,caeYDk,jahcnb,ccToMy,cNvKlH,cLfAnm,erWCJP,hAeDYA,UHyNo,emFMJu,hlUAHL,iStsmI,eIgvIk,eVFfWF,kgXdnT,kzTa-dF,bbXCl,hGGMNu,eHRrYV,dKmYfk,hSNzKh,eTvGbF,kzRgrI,cmAPIB,jwXCBK,bDwCYs,fywjmm,dyczTK,kszRgZ,gtBUEp,hVZtwF,cMYnca,jQCQnS,eYedVD,jGfYmh,lhFvfi,bqgLjk,iJmJly,jACbi,gIJuDf,fleZSW,BnySK,VHzRk,ePiodO,kQJlnf,gJICKO,iZJewz,jfjHXm,bfkNRF,fXBLEV,gMPsNT,iBylDf,kSGBPx,ytOJl,eJsjkT,aZrVR,bAzdCq,"}/*!sc*/
body[data-page-layout-dragging="true"]{cursor:col-resize;}/*!sc*/
body[data-page-layout-dragging="true"] *{-webkit-user-select:none;-moz-user-select:none;-ms-user-select:none;user-select:none;}/*!sc*/
data-styled.g3[id="sc-global-gbKrvU1"]{content:"sc-global-gbKrvU1,"}/*!sc*/
.bOMzPg{min-width:0;}/*!sc*/
.fIsVJr{padding-left:4px;padding-right:4px;font-weight:400;color:var(--fgColor-muted,var(--color-fg-muted,#656d76));font-size:16px;}/*!sc*/
.dALsKK{color:var(--fgColor-default,var(--color-fg-default,#1F2328));}/*!sc*/
.cYjMDB{padding-left:4px;padding-right:4px;font-weight:400;color:var(--fgColor-muted,var(--color-fg-muted,#656d76));font-size:14px;}/*!sc*/
data-styled.g6[id="Text-sc-17v1xeu-0"]{content:"bOMzPg,fIsVJr,dALsKK,gPDEWA,cYjMDB,"}/*!sc*/
.ipyMWB{color:var(--fgColor-accent,var(--color-accent-fg,#0969da));-webkit-text-decoration:none;text-decoration:none;font-weight:600;}/*!sc*/
[data-a11y-link-underlines='true'] .Link__StyledLink-sc-14289xe-0[data-inline='true']{-webkit-text-decoration:underline;text-decoration:underline;}/*!sc*/
.ipyMWB:hover{-webkit-text-decoration:underline;text-decoration:underline;}/*!sc*/
.ipyMWB:is(button){display:inline-block;padding:0;font-size:inherit;white-space:nowrap;cursor:pointer;-webkit-user-select:none;-moz-user-select:none;-ms-user-select:none;user-select:none;background-color:transparent;border:0;-webkit-appearance:none;-moz-appearance:none;appearance:none;}/*!sc*/
.dheQRw{color:var(--fgColor-accent,var(--color-accent-fg,#0969da));-webkit-text-decoration:none;text-decoration:none;}/*!sc*/
[data-a11y-link-underlines='true'] .Link__StyledLink-sc-14289xe-0[data-inline='true']{-webkit-text-decoration:underline;text-decoration:underline;}/*!sc*/
.dheQRw:hover{-webkit-text-decoration:underline;text-decoration:underline;}/*!sc*/
.dheQRw:is(button){display:inline-block;padding:0;font-size:inherit;white-space:nowrap;cursor:pointer;-webkit-user-select:none;-moz-user-select:none;-ms-user-select:none;user-select:none;background-color:transparent;border:0;-webkit-appearance:none;-moz-appearance:none;appearance:none;}/*!sc*/
data-styled.g8[id="Link__StyledLink-sc-14289xe-0"]{content:"ipyMWB,dheQRw,"}/*!sc*/
.blmaBs{border-radius:6px;border:1px solid;border-color:transparent;font-family:inherit;font-weight:500;font-size:14px;cursor:pointer;-webkit-appearance:none;-moz-appearance:none;appearance:none;-webkit-user-select:none;-moz-user-select:none;-ms-user-select:none;user-select:none;-webkit-text-decoration:none;text-decoration:none;text-align:center;display:-webkit-box;display:-webkit-flex;display:-ms-flexbox;display:flex;-webkit-align-items:center;-webkit-box-align:center;-ms-flex-align:center;align-items:center;-webkit-box-pack:justify;-webkit-justify-content:space-between;-ms-flex-pack:justify;justify-content:space-between;height:32px;padding:0 12px;gap:8px;min-width:-webkit-max-content;min-width:-moz-max-content;min-width:max-content;-webkit-transition:80ms cubic-bezier(0.65,0,0.35,1);transition:80ms cubic-bezier(0.65,0,0.35,1);-webkit-transition-property:color,fill,background-color,border-color;transition-property:color,fill,background-color,border-color;color:var(--button-default-fgColor-rest,var(--color-btn-text,#24292f));background-color:transparent;box-shadow:none;}/*!sc*/
.blmaBs:focus:not(:disabled){box-shadow:none;outline:2px solid var(--fgColor-accent,var(--color-accent-fg,#0969da));outline-offset:-2px;}/*!sc*/
.blmaBs:focus:not(:disabled):not(:focus-visible){outline:solid 1px transparent;}/*!sc*/
.blmaBs:focus-visible:not(:disabled){box-shadow:none;outline:2px solid var(--fgColor-accent,var(--color-accent-fg,#0969da));outline-offset:-2px;}/*!sc*/
.blmaBs[href]{display:-webkit-inline-box;display:-webkit-inline-flex;display:-ms-inline-flexbox;display:inline-flex;}/*!sc*/
.blmaBs[href]:hover{-webkit-text-decoration:none;text-decoration:none;}/*!sc*/
.blmaBs:hover{-webkit-transition-duration:80ms;transition-duration:80ms;}/*!sc*/
.blmaBs:active{-webkit-transition:none;transition:none;}/*!sc*/
.blmaBs[data-inactive]{cursor:auto;}/*!sc*/
.blmaBs:disabled{cursor:not-allowed;box-shadow:none;color:var(--fgColor-disabled,var(--color-primer-fg-disabled,#8c959f));}/*!sc*/
.blmaBs:disabled [data-component=ButtonCounter],.blmaBs:disabled [data-component="leadingVisual"],.blmaBs:disabled [data-component="trailingAction"]{color:inherit;}/*!sc*/
@media (forced-colors:active){.blmaBs:focus{outline:solid 1px transparent;}}/*!sc*/
.blmaBs [data-component=ButtonCounter]{font-size:12px;}/*!sc*/
.blmaBs[data-component=IconButton]{display:inline-grid;padding:unset;place-content:center;width:32px;min-width:unset;}/*!sc*/
.blmaBs[data-size="small"]{padding:0 8px;height:28px;gap:4px;font-size:12px;}/*!sc*/
.blmaBs[data-size="small"] [data-component="text"]{line-height:calc(20 / 12);}/*!sc*/
.blmaBs[data-size="small"] [data-component=ButtonCounter]{font-size:12px;}/*!sc*/
.blmaBs[data-size="small"] [data-component="buttonContent"] > :not(:last-child){margin-right:4px;}/*!sc*/
.blmaBs[data-size="small"][data-component=IconButton]{width:28px;padding:unset;}/*!sc*/
.blmaBs[data-size="large"]{padding:0 16px;height:40px;gap:8px;}/*!sc*/
.blmaBs[data-size="large"] [data-component="buttonContent"] > :not(:last-child){margin-right:8px;}/*!sc*/
.blmaBs[data-size="large"][data-component=IconButton]{width:40px;padding:unset;}/*!sc*/
.blmaBs[data-block="block"]{width:100%;}/*!sc*/
.blmaBs[data-inactive]:not([disabled]){background-color:var(--button-inactive-bgColor,var(--button-inactive-bgColor-rest,var(--color-btn-inactive-bg,#eaeef2)));border-color:var(--button-inactive-bgColor,var(--button-inactive-bgColor-rest,var(--color-btn-inactive-bg,#eaeef2)));color:var(--button-inactive-fgColor,var(--button-inactive-fgColor-rest,var(--color-btn-inactive-text,#57606a)));}/*!sc*/
.blmaBs[data-inactive]:not([disabled]):focus-visible{box-shadow:none;}/*!sc*/
.blmaBs [data-component="leadingVisual"]{grid-area:leadingVisual;color:var(--fgColor-muted,var(--color-fg-muted,#656d76));}/*!sc*/
.blmaBs [data-component="text"]{grid-area:text;line-height:calc(20/14);white-space:nowrap;}/*!sc*/
.blmaBs [data-component="trailingVisual"]{grid-area:trailingVisual;}/*!sc*/
.blmaBs [data-component="trailingAction"]{margin-right:-4px;color:var(--fgColor-muted,var(--color-fg-muted,#656d76));}/*!sc*/
.blmaBs [data-component="buttonContent"]{-webkit-flex:1 0 auto;-ms-flex:1 0 auto;flex:1 0 auto;display:grid;grid-template-areas:"leadingVisual text trailingVisual";grid-template-columns:min-content minmax(0,auto) min-content;-webkit-align-items:center;-webkit-box-align:center;-ms-flex-align:center;align-items:center;-webkit-align-content:center;-ms-flex-line-pack:center;align-content:center;}/*!sc*/
.blmaBs [data-component="buttonContent"] > :not(:last-child){margin-right:8px;}/*!sc*/
.blmaBs:hover:not([disabled]){background-color:var(--control-transparent-bgColor-hover,var(--color-action-list-item-default-hover-bg,rgba(208,215,222,0.32)));}/*!sc*/
.blmaBs:active:not([disabled]){background-color:var(--control-transparent-bgColor-active,var(--color-action-list-item-default-active-bg,rgba(208,215,222,0.48)));}/*!sc*/
.blmaBs[aria-expanded=true]{background-color:var(--control-transparent-bgColor-selected,var(--color-action-list-item-default-selected-bg,rgba(208,215,222,0.24)));}/*!sc*/
.blmaBs[data-component="IconButton"][data-no-visuals]{color:var(--fgColor-muted,var(--color-fg-muted,#656d76));}/*!sc*/
.blmaBs[data-no-visuals]{color:var(--fgColor-accent,var(--color-accent-fg,#0969da));}/*!sc*/
.blmaBs:has([data-component="ButtonCounter"]){color:var(--button-default-fgColor-rest,var(--color-btn-text,#24292f));}/*!sc*/
.blmaBs:disabled[data-no-visuals]{color:var(--fgColor-disabled,var(--color-primer-fg-disabled,#8c959f));}/*!sc*/
.blmaBs:disabled[data-no-visuals] [data-component=ButtonCounter]{color:inherit;}/*!sc*/
.blmaBs{color:var(--fgColor-muted,var(--color-fg-muted,#656d76));padding-left:8px;padding-right:8px;display:none;}/*!sc*/
@media screen and (max-width:768px){.blmaBs{display:block;}}/*!sc*/
.hkJzmn{border-radius:6px;border:1px solid;border-color:transparent;font-family:inherit;font-weight:500;font-size:14px;cursor:pointer;-webkit-appearance:none;-moz-appearance:none;appearance:none;-webkit-user-select:none;-moz-user-select:none;-ms-user-select:none;user-select:none;-webkit-text-decoration:none;text-decoration:none;text-align:center;display:-webkit-box;display:-webkit-flex;display:-ms-flexbox;display:flex;-webkit-align-items:center;-webkit-box-align:center;-ms-flex-align:center;align-items:center;-webkit-box-pack:justify;-webkit-justify-content:space-between;-ms-flex-pack:justify;justify-content:space-between;height:32px;padding:0 12px;gap:8px;min-width:-webkit-max-content;min-width:-moz-max-content;min-width:max-content;-webkit-transition:80ms cubic-bezier(0.65,0,0.35,1);transition:80ms cubic-bezier(0.65,0,0.35,1);-webkit-transition-property:color,fill,background-color,border-color;transition-property:color,fill,background-color,border-color;color:var(--button-default-fgColor-rest,var(--color-btn-text,#24292f));background-color:transparent;box-shadow:none;}/*!sc*/
.hkJzmn:focus:not(:disabled){box-shadow:none;outline:2px solid var(--fgColor-accent,var(--color-accent-fg,#0969da));outline-offset:-2px;}/*!sc*/
.hkJzmn:focus:not(:disabled):not(:focus-visible){outline:solid 1px transparent;}/*!sc*/
.hkJzmn:focus-visible:not(:disabled){box-shadow:none;outline:2px solid var(--fgColor-accent,var(--color-accent-fg,#0969da));outline-offset:-2px;}/*!sc*/
.hkJzmn[href]{display:-webkit-inline-box;display:-webkit-inline-flex;display:-ms-inline-flexbox;display:inline-flex;}/*!sc*/
.hkJzmn[href]:hover{-webkit-text-decoration:none;text-decoration:none;}/*!sc*/
.hkJzmn:hover{-webkit-transition-duration:80ms;transition-duration:80ms;}/*!sc*/
.hkJzmn:active{-webkit-transition:none;transition:none;}/*!sc*/
.hkJzmn[data-inactive]{cursor:auto;}/*!sc*/
.hkJzmn:disabled{cursor:not-allowed;box-shadow:none;color:var(--fgColor-disabled,var(--color-primer-fg-disabled,#8c959f));}/*!sc*/
.hkJzmn:disabled [data-component=ButtonCounter],.hkJzmn:disabled [data-component="leadingVisual"],.hkJzmn:disabled [data-component="trailingAction"]{color:inherit;}/*!sc*/
@media (forced-colors:active){.hkJzmn:focus{outline:solid 1px transparent;}}/*!sc*/
.hkJzmn [data-component=ButtonCounter]{font-size:12px;}/*!sc*/
.hkJzmn[data-component=IconButton]{display:inline-grid;padding:unset;place-content:center;width:32px;min-width:unset;}/*!sc*/
.hkJzmn[data-size="small"]{padding:0 8px;height:28px;gap:4px;font-size:12px;}/*!sc*/
.hkJzmn[data-size="small"] [data-component="text"]{line-height:calc(20 / 12);}/*!sc*/
.hkJzmn[data-size="small"] [data-component=ButtonCounter]{font-size:12px;}/*!sc*/
.hkJzmn[data-size="small"] [data-component="buttonContent"] > :not(:last-child){margin-right:4px;}/*!sc*/
.hkJzmn[data-size="small"][data-component=IconButton]{width:28px;padding:unset;}/*!sc*/
.hkJzmn[data-size="large"]{padding:0 16px;height:40px;gap:8px;}/*!sc*/
.hkJzmn[data-size="large"] [data-component="buttonContent"] > :not(:last-child){margin-right:8px;}/*!sc*/
.hkJzmn[data-size="large"][data-component=IconButton]{width:40px;padding:unset;}/*!sc*/
.hkJzmn[data-block="block"]{width:100%;}/*!sc*/
.hkJzmn[data-inactive]:not([disabled]){background-color:var(--button-inactive-bgColor,var(--button-inactive-bgColor-rest,var(--color-btn-inactive-bg,#eaeef2)));border-color:var(--button-inactive-bgColor,var(--button-inactive-bgColor-rest,var(--color-btn-inactive-bg,#eaeef2)));color:var(--button-inactive-fgColor,var(--button-inactive-fgColor-rest,var(--color-btn-inactive-text,#57606a)));}/*!sc*/
.hkJzmn[data-inactive]:not([disabled]):focus-visible{box-shadow:none;}/*!sc*/
.hkJzmn [data-component="leadingVisual"]{grid-area:leadingVisual;color:var(--fgColor-muted,var(--color-fg-muted,#656d76));}/*!sc*/
.hkJzmn [data-component="text"]{grid-area:text;line-height:calc(20/14);white-space:nowrap;}/*!sc*/
.hkJzmn [data-component="trailingVisual"]{grid-area:trailingVisual;}/*!sc*/
.hkJzmn [data-component="trailingAction"]{margin-right:-4px;color:var(--fgColor-muted,var(--color-fg-muted,#656d76));}/*!sc*/
.hkJzmn [data-component="buttonContent"]{-webkit-flex:1 0 auto;-ms-flex:1 0 auto;flex:1 0 auto;display:grid;grid-template-areas:"leadingVisual text trailingVisual";grid-template-columns:min-content minmax(0,auto) min-content;-webkit-align-items:center;-webkit-box-align:center;-ms-flex-align:center;align-items:center;-webkit-align-content:center;-ms-flex-line-pack:center;align-content:center;}/*!sc*/
.hkJzmn [data-component="buttonContent"] > :not(:last-child){margin-right:8px;}/*!sc*/
.hkJzmn:hover:not([disabled]){background-color:var(--control-transparent-bgColor-hover,var(--color-action-list-item-default-hover-bg,rgba(208,215,222,0.32)));}/*!sc*/
.hkJzmn:active:not([disabled]){background-color:var(--control-transparent-bgColor-active,var(--color-action-list-item-default-active-bg,rgba(208,215,222,0.48)));}/*!sc*/
.hkJzmn[aria-expanded=true]{background-color:var(--control-transparent-bgColor-selected,var(--color-action-list-item-default-selected-bg,rgba(208,215,222,0.24)));}/*!sc*/
.hkJzmn[data-component="IconButton"][data-no-visuals]{color:var(--fgColor-muted,var(--color-fg-muted,#656d76));}/*!sc*/
.hkJzmn[data-no-visuals]{color:var(--fgColor-muted,var(--color-fg-muted,#656d76));height:32px;position:relative;}/*!sc*/
@media screen and (max-width:768px){.hkJzmn[data-no-visuals]{display:none;}}/*!sc*/
.hkJzmn:has([data-component="ButtonCounter"]){color:var(--button-default-fgColor-rest,var(--color-btn-text,#24292f));}/*!sc*/
.hkJzmn:disabled[data-no-visuals]{color:var(--fgColor-disabled,var(--color-primer-fg-disabled,#8c959f));}/*!sc*/
.hkJzmn:disabled[data-no-visuals] [data-component=ButtonCounter]{color:inherit;}/*!sc*/
.eBOWAw{border-radius:6px;border:1px solid;border-color:var(--button-default-borderColor-rest,var(--button-default-borderColor-rest,var(--color-btn-border,rgba(31,35,40,0.15))));font-family:inherit;font-weight:500;font-size:14px;cursor:pointer;-webkit-appearance:none;-moz-appearance:none;appearance:none;-webkit-user-select:none;-moz-user-select:none;-ms-user-select:none;user-select:none;-webkit-text-decoration:none;text-decoration:none;text-align:center;display:-webkit-box;display:-webkit-flex;display:-ms-flexbox;display:flex;-webkit-align-items:center;-webkit-box-align:center;-ms-flex-align:center;align-items:center;-webkit-box-pack:justify;-webkit-justify-content:space-between;-ms-flex-pack:justify;justify-content:space-between;height:32px;padding:0 12px;gap:8px;min-width:-webkit-max-content;min-width:-moz-max-content;min-width:max-content;-webkit-transition:80ms cubic-bezier(0.65,0,0.35,1);transition:80ms cubic-bezier(0.65,0,0.35,1);-webkit-transition-property:color,fill,background-color,border-color;transition-property:color,fill,background-color,border-color;color:var(--button-default-fgColor-rest,var(--color-btn-text,#24292f));background-color:var(--button-default-bgColor-rest,var(--color-btn-bg,#f6f8fa));box-shadow:var(--button-default-shadow-resting,var(--color-btn-shadow,0 1px 0 rgba(31,35,40,0.04))),var(--button-default-shadow-inset,var(--color-btn-inset-shadow,inset 0 1px 0 rgba(255,255,255,0.25)));}/*!sc*/
.eBOWAw:focus:not(:disabled){box-shadow:none;outline:2px solid var(--fgColor-accent,var(--color-accent-fg,#0969da));outline-offset:-2px;}/*!sc*/
.eBOWAw:focus:not(:disabled):not(:focus-visible){outline:solid 1px transparent;}/*!sc*/
.eBOWAw:focus-visible:not(:disabled){box-shadow:none;outline:2px solid var(--fgColor-accent,var(--color-accent-fg,#0969da));outline-offset:-2px;}/*!sc*/
.eBOWAw[href]{display:-webkit-inline-box;display:-webkit-inline-flex;display:-ms-inline-flexbox;display:inline-flex;}/*!sc*/
.eBOWAw[href]:hover{-webkit-text-decoration:none;text-decoration:none;}/*!sc*/
.eBOWAw:hover{-webkit-transition-duration:80ms;transition-duration:80ms;}/*!sc*/
.eBOWAw:active{-webkit-transition:none;transition:none;}/*!sc*/
.eBOWAw[data-inactive]{cursor:auto;}/*!sc*/
.eBOWAw:disabled{cursor:not-allowed;box-shadow:none;color:var(--fgColor-disabled,var(--color-primer-fg-disabled,#8c959f));}/*!sc*/
.eBOWAw:disabled [data-component=ButtonCounter]{color:inherit;}/*!sc*/
@media (forced-colors:active){.eBOWAw:focus{outline:solid 1px transparent;}}/*!sc*/
.eBOWAw [data-component=ButtonCounter]{font-size:12px;}/*!sc*/
.eBOWAw[data-component=IconButton]{display:inline-grid;padding:unset;place-content:center;width:32px;min-width:unset;}/*!sc*/
.eBOWAw[data-size="small"]{padding:0 8px;height:28px;gap:4px;font-size:12px;}/*!sc*/
.eBOWAw[data-size="small"] [data-component="text"]{line-height:calc(20 / 12);}/*!sc*/
.eBOWAw[data-size="small"] [data-component=ButtonCounter]{font-size:12px;}/*!sc*/
.eBOWAw[data-size="small"] [data-component="buttonContent"] > :not(:last-child){margin-right:4px;}/*!sc*/
.eBOWAw[data-size="small"][data-component=IconButton]{width:28px;padding:unset;}/*!sc*/
.eBOWAw[data-size="large"]{padding:0 16px;height:40px;gap:8px;}/*!sc*/
.eBOWAw[data-size="large"] [data-component="buttonContent"] > :not(:last-child){margin-right:8px;}/*!sc*/
.eBOWAw[data-size="large"][data-component=IconButton]{width:40px;padding:unset;}/*!sc*/
.eBOWAw[data-block="block"]{width:100%;}/*!sc*/
.eBOWAw[data-inactive]:not([disabled]){background-color:var(--button-inactive-bgColor,var(--button-inactive-bgColor-rest,var(--color-btn-inactive-bg,#eaeef2)));border-color:var(--button-inactive-bgColor,var(--button-inactive-bgColor-rest,var(--color-btn-inactive-bg,#eaeef2)));color:var(--button-inactive-fgColor,var(--button-inactive-fgColor-rest,var(--color-btn-inactive-text,#57606a)));}/*!sc*/
.eBOWAw[data-inactive]:not([disabled]):focus-visible{box-shadow:none;}/*!sc*/
.eBOWAw [data-component="leadingVisual"]{grid-area:leadingVisual;}/*!sc*/
.eBOWAw [data-component="text"]{grid-area:text;line-height:calc(20/14);white-space:nowrap;}/*!sc*/
.eBOWAw [data-component="trailingVisual"]{grid-area:trailingVisual;}/*!sc*/
.eBOWAw [data-component="trailingAction"]{margin-right:-4px;}/*!sc*/
.eBOWAw [data-component="buttonContent"]{-webkit-flex:1 0 auto;-ms-flex:1 0 auto;flex:1 0 auto;display:grid;grid-template-areas:"leadingVisual text trailingVisual";grid-template-columns:min-content minmax(0,auto) min-content;-webkit-align-items:center;-webkit-box-align:center;-ms-flex-align:center;align-items:center;-webkit-align-content:center;-ms-flex-line-pack:center;align-content:center;}/*!sc*/
.eBOWAw [data-component="buttonContent"] > :not(:last-child){margin-right:8px;}/*!sc*/
.eBOWAw:hover:not([disabled]):not([data-inactive]){background-color:var(--button-default-bgColor-hover,var(--color-btn-hover-bg,#f3f4f6));border-color:var(--button-default-borderColor-hover,var(--button-default-borderColor-hover,var(--color-btn-hover-border,rgba(31,35,40,0.15))));}/*!sc*/
.eBOWAw:active:not([disabled]):not([data-inactive]){background-color:var(--button-default-bgColor-active,var(--color-btn-active-bg,hsla(220,14%,93%,1)));border-color:var(--button-default-borderColor-active,var(--button-default-borderColor-active,var(--color-btn-active-border,rgba(31,35,40,0.15))));}/*!sc*/
.eBOWAw[aria-expanded=true]{background-color:var(--button-default-bgColor-active,var(--color-btn-active-bg,hsla(220,14%,93%,1)));border-color:var(--button-default-borderColor-active,var(--button-default-borderColor-active,var(--color-btn-active-border,rgba(31,35,40,0.15))));}/*!sc*/
.eBOWAw [data-component="leadingVisual"],.eBOWAw [data-component="trailingVisual"],.eBOWAw [data-component="trailingAction"]{color:var(--button-color,var(--fgColor-muted,var(--color-fg-muted,#656d76)));}/*!sc*/
.eBOWAw{display:-webkit-box;display:-webkit-flex;display:-ms-flexbox;display:flex;min-width:0;}/*!sc*/
.eBOWAw svg{color:var(--fgColor-muted,var(--color-fg-muted,#656d76));}/*!sc*/
.eBOWAw > span{width:inherit;}/*!sc*/
.dHiXw{border-radius:6px;border:1px solid;border-color:var(--button-default-borderColor-rest,var(--button-default-borderColor-rest,var(--color-btn-border,rgba(31,35,40,0.15))));font-family:inherit;font-weight:500;font-size:14px;cursor:pointer;-webkit-appearance:none;-moz-appearance:none;appearance:none;-webkit-user-select:none;-moz-user-select:none;-ms-user-select:none;user-select:none;-webkit-text-decoration:none;text-decoration:none;text-align:center;display:-webkit-box;display:-webkit-flex;display:-ms-flexbox;display:flex;-webkit-align-items:center;-webkit-box-align:center;-ms-flex-align:center;align-items:center;-webkit-box-pack:justify;-webkit-justify-content:space-between;-ms-flex-pack:justify;justify-content:space-between;height:32px;padding:0 12px;gap:8px;min-width:-webkit-max-content;min-width:-moz-max-content;min-width:max-content;-webkit-transition:80ms cubic-bezier(0.65,0,0.35,1);transition:80ms cubic-bezier(0.65,0,0.35,1);-webkit-transition-property:color,fill,background-color,border-color;transition-property:color,fill,background-color,border-color;color:var(--button-default-fgColor-rest,var(--color-btn-text,#24292f));background-color:var(--button-default-bgColor-rest,var(--color-btn-bg,#f6f8fa));box-shadow:var(--button-default-shadow-resting,var(--color-btn-shadow,0 1px 0 rgba(31,35,40,0.04))),var(--button-default-shadow-inset,var(--color-btn-inset-shadow,inset 0 1px 0 rgba(255,255,255,0.25)));}/*!sc*/
.dHiXw:focus:not(:disabled){box-shadow:none;outline:2px solid var(--fgColor-accent,var(--color-accent-fg,#0969da));outline-offset:-2px;}/*!sc*/
.dHiXw:focus:not(:disabled):not(:focus-visible){outline:solid 1px transparent;}/*!sc*/
.dHiXw:focus-visible:not(:disabled){box-shadow:none;outline:2px solid var(--fgColor-accent,var(--color-accent-fg,#0969da));outline-offset:-2px;}/*!sc*/
.dHiXw[href]{display:-webkit-inline-box;display:-webkit-inline-flex;display:-ms-inline-flexbox;display:inline-flex;}/*!sc*/
.dHiXw[href]:hover{-webkit-text-decoration:none;text-decoration:none;}/*!sc*/
.dHiXw:hover{-webkit-transition-duration:80ms;transition-duration:80ms;}/*!sc*/
.dHiXw:active{-webkit-transition:none;transition:none;}/*!sc*/
.dHiXw[data-inactive]{cursor:auto;}/*!sc*/
.dHiXw:disabled{cursor:not-allowed;box-shadow:none;color:var(--fgColor-disabled,var(--color-primer-fg-disabled,#8c959f));}/*!sc*/
.dHiXw:disabled [data-component=ButtonCounter]{color:inherit;}/*!sc*/
@media (forced-colors:active){.dHiXw:focus{outline:solid 1px transparent;}}/*!sc*/
.dHiXw [data-component=ButtonCounter]{font-size:12px;}/*!sc*/
.dHiXw[data-component=IconButton]{display:inline-grid;padding:unset;place-content:center;width:32px;min-width:unset;}/*!sc*/
.dHiXw[data-size="small"]{padding:0 8px;height:28px;gap:4px;font-size:12px;}/*!sc*/
.dHiXw[data-size="small"] [data-component="text"]{line-height:calc(20 / 12);}/*!sc*/
.dHiXw[data-size="small"] [data-component=ButtonCounter]{font-size:12px;}/*!sc*/
.dHiXw[data-size="small"] [data-component="buttonContent"] > :not(:last-child){margin-right:4px;}/*!sc*/
.dHiXw[data-size="small"][data-component=IconButton]{width:28px;padding:unset;}/*!sc*/
.dHiXw[data-size="large"]{padding:0 16px;height:40px;gap:8px;}/*!sc*/
.dHiXw[data-size="large"] [data-component="buttonContent"] > :not(:last-child){margin-right:8px;}/*!sc*/
.dHiXw[data-size="large"][data-component=IconButton]{width:40px;padding:unset;}/*!sc*/
.dHiXw[data-block="block"]{width:100%;}/*!sc*/
.dHiXw[data-inactive]:not([disabled]){background-color:var(--button-inactive-bgColor,var(--button-inactive-bgColor-rest,var(--color-btn-inactive-bg,#eaeef2)));border-color:var(--button-inactive-bgColor,var(--button-inactive-bgColor-rest,var(--color-btn-inactive-bg,#eaeef2)));color:var(--button-inactive-fgColor,var(--button-inactive-fgColor-rest,var(--color-btn-inactive-text,#57606a)));}/*!sc*/
.dHiXw[data-inactive]:not([disabled]):focus-visible{box-shadow:none;}/*!sc*/
.dHiXw [data-component="leadingVisual"]{grid-area:leadingVisual;}/*!sc*/
.dHiXw [data-component="text"]{grid-area:text;line-height:calc(20/14);white-space:nowrap;}/*!sc*/
.dHiXw [data-component="trailingVisual"]{grid-area:trailingVisual;}/*!sc*/
.dHiXw [data-component="trailingAction"]{margin-right:-4px;}/*!sc*/
.dHiXw [data-component="buttonContent"]{-webkit-flex:1 0 auto;-ms-flex:1 0 auto;flex:1 0 auto;display:grid;grid-template-areas:"leadingVisual text trailingVisual";grid-template-columns:min-content minmax(0,auto) min-content;-webkit-align-items:center;-webkit-box-align:center;-ms-flex-align:center;align-items:center;-webkit-align-content:center;-ms-flex-line-pack:center;align-content:center;}/*!sc*/
.dHiXw [data-component="buttonContent"] > :not(:last-child){margin-right:8px;}/*!sc*/
.dHiXw:hover:not([disabled]):not([data-inactive]){background-color:var(--button-default-bgColor-hover,var(--color-btn-hover-bg,#f3f4f6));border-color:var(--button-default-borderColor-hover,var(--button-default-borderColor-hover,var(--color-btn-hover-border,rgba(31,35,40,0.15))));}/*!sc*/
.dHiXw:active:not([disabled]):not([data-inactive]){background-color:var(--button-default-bgColor-active,var(--color-btn-active-bg,hsla(220,14%,93%,1)));border-color:var(--button-default-borderColor-active,var(--button-default-borderColor-active,var(--color-btn-active-border,rgba(31,35,40,0.15))));}/*!sc*/
.dHiXw[aria-expanded=true]{background-color:var(--button-default-bgColor-active,var(--color-btn-active-bg,hsla(220,14%,93%,1)));border-color:var(--button-default-borderColor-active,var(--button-default-borderColor-active,var(--color-btn-active-border,rgba(31,35,40,0.15))));}/*!sc*/
.dHiXw [data-component="leadingVisual"],.dHiXw [data-component="trailingVisual"],.dHiXw [data-component="trailingAction"]{color:var(--button-color,var(--fgColor-muted,var(--color-fg-muted,#656d76)));}/*!sc*/
.dHiXw[data-no-visuals]{color:var(--fgColor-muted,var(--color-fg-subtle,#6e7781));border-top-right-radius:0;border-bottom-right-radius:0;border-right:0;}/*!sc*/
.UfKBS{border-radius:6px;border:1px solid;border-color:var(--button-default-borderColor-rest,var(--button-default-borderColor-rest,var(--color-btn-border,rgba(31,35,40,0.15))));font-family:inherit;font-weight:500;font-size:14px;cursor:pointer;-webkit-appearance:none;-moz-appearance:none;appearance:none;-webkit-user-select:none;-moz-user-select:none;-ms-user-select:none;user-select:none;-webkit-text-decoration:none;text-decoration:none;text-align:center;display:-webkit-box;display:-webkit-flex;display:-ms-flexbox;display:flex;-webkit-align-items:center;-webkit-box-align:center;-ms-flex-align:center;align-items:center;-webkit-box-pack:justify;-webkit-justify-content:space-between;-ms-flex-pack:justify;justify-content:space-between;height:32px;padding:0 12px;gap:8px;min-width:-webkit-max-content;min-width:-moz-max-content;min-width:max-content;-webkit-transition:80ms cubic-bezier(0.65,0,0.35,1);transition:80ms cubic-bezier(0.65,0,0.35,1);-webkit-transition-property:color,fill,background-color,border-color;transition-property:color,fill,background-color,border-color;color:var(--button-default-fgColor-rest,var(--color-btn-text,#24292f));background-color:var(--button-default-bgColor-rest,var(--color-btn-bg,#f6f8fa));box-shadow:var(--button-default-shadow-resting,var(--color-btn-shadow,0 1px 0 rgba(31,35,40,0.04))),var(--button-default-shadow-inset,var(--color-btn-inset-shadow,inset 0 1px 0 rgba(255,255,255,0.25)));}/*!sc*/
.UfKBS:focus:not(:disabled){box-shadow:none;outline:2px solid var(--fgColor-accent,var(--color-accent-fg,#0969da));outline-offset:-2px;}/*!sc*/
.UfKBS:focus:not(:disabled):not(:focus-visible){outline:solid 1px transparent;}/*!sc*/
.UfKBS:focus-visible:not(:disabled){box-shadow:none;outline:2px solid var(--fgColor-accent,var(--color-accent-fg,#0969da));outline-offset:-2px;}/*!sc*/
.UfKBS[href]{display:-webkit-inline-box;display:-webkit-inline-flex;display:-ms-inline-flexbox;display:inline-flex;}/*!sc*/
.UfKBS[href]:hover{-webkit-text-decoration:none;text-decoration:none;}/*!sc*/
.UfKBS:hover{-webkit-transition-duration:80ms;transition-duration:80ms;}/*!sc*/
.UfKBS:active{-webkit-transition:none;transition:none;}/*!sc*/
.UfKBS[data-inactive]{cursor:auto;}/*!sc*/
.UfKBS:disabled{cursor:not-allowed;box-shadow:none;color:var(--fgColor-disabled,var(--color-primer-fg-disabled,#8c959f));}/*!sc*/
.UfKBS:disabled [data-component=ButtonCounter]{color:inherit;}/*!sc*/
@media (forced-colors:active){.UfKBS:focus{outline:solid 1px transparent;}}/*!sc*/
.UfKBS [data-component=ButtonCounter]{font-size:12px;}/*!sc*/
.UfKBS[data-component=IconButton]{display:inline-grid;padding:unset;place-content:center;width:32px;min-width:unset;}/*!sc*/
.UfKBS[data-size="small"]{padding:0 8px;height:28px;gap:4px;font-size:12px;}/*!sc*/
.UfKBS[data-size="small"] [data-component="text"]{line-height:calc(20 / 12);}/*!sc*/
.UfKBS[data-size="small"] [data-component=ButtonCounter]{font-size:12px;}/*!sc*/
.UfKBS[data-size="small"] [data-component="buttonContent"] > :not(:last-child){margin-right:4px;}/*!sc*/
.UfKBS[data-size="small"][data-component=IconButton]{width:28px;padding:unset;}/*!sc*/
.UfKBS[data-size="large"]{padding:0 16px;height:40px;gap:8px;}/*!sc*/
.UfKBS[data-size="large"] [data-component="buttonContent"] > :not(:last-child){margin-right:8px;}/*!sc*/
.UfKBS[data-size="large"][data-component=IconButton]{width:40px;padding:unset;}/*!sc*/
.UfKBS[data-block="block"]{width:100%;}/*!sc*/
.UfKBS[data-inactive]:not([disabled]){background-color:var(--button-inactive-bgColor,var(--button-inactive-bgColor-rest,var(--color-btn-inactive-bg,#eaeef2)));border-color:var(--button-inactive-bgColor,var(--button-inactive-bgColor-rest,var(--color-btn-inactive-bg,#eaeef2)));color:var(--button-inactive-fgColor,var(--button-inactive-fgColor-rest,var(--color-btn-inactive-text,#57606a)));}/*!sc*/
.UfKBS[data-inactive]:not([disabled]):focus-visible{box-shadow:none;}/*!sc*/
.UfKBS [data-component="leadingVisual"]{grid-area:leadingVisual;}/*!sc*/
.UfKBS [data-component="text"]{grid-area:text;line-height:calc(20/14);white-space:nowrap;}/*!sc*/
.UfKBS [data-component="trailingVisual"]{grid-area:trailingVisual;}/*!sc*/
.UfKBS [data-component="trailingAction"]{margin-right:-4px;}/*!sc*/
.UfKBS [data-component="buttonContent"]{-webkit-flex:1 0 auto;-ms-flex:1 0 auto;flex:1 0 auto;display:grid;grid-template-areas:"leadingVisual text trailingVisual";grid-template-columns:min-content minmax(0,auto) min-content;-webkit-align-items:center;-webkit-box-align:center;-ms-flex-align:center;align-items:center;-webkit-align-content:center;-ms-flex-line-pack:center;align-content:center;}/*!sc*/
.UfKBS [data-component="buttonContent"] > :not(:last-child){margin-right:8px;}/*!sc*/
.UfKBS:hover:not([disabled]):not([data-inactive]){background-color:var(--button-default-bgColor-hover,var(--color-btn-hover-bg,#f3f4f6));border-color:var(--button-default-borderColor-hover,var(--button-default-borderColor-hover,var(--color-btn-hover-border,rgba(31,35,40,0.15))));}/*!sc*/
.UfKBS:active:not([disabled]):not([data-inactive]){background-color:var(--button-default-bgColor-active,var(--color-btn-active-bg,hsla(220,14%,93%,1)));border-color:var(--button-default-borderColor-active,var(--button-default-borderColor-active,var(--color-btn-active-border,rgba(31,35,40,0.15))));}/*!sc*/
.UfKBS[aria-expanded=true]{background-color:var(--button-default-bgColor-active,var(--color-btn-active-bg,hsla(220,14%,93%,1)));border-color:var(--button-default-borderColor-active,var(--button-default-borderColor-active,var(--color-btn-active-border,rgba(31,35,40,0.15))));}/*!sc*/
.UfKBS [data-component="leadingVisual"],.UfKBS [data-component="trailingVisual"],.UfKBS [data-component="trailingAction"]{color:var(--button-color,var(--fgColor-muted,var(--color-fg-muted,#656d76)));}/*!sc*/
.UfKBS[data-no-visuals]{color:var(--fgColor-muted,var(--color-fg-subtle,#6e7781));font-size:14px;font-weight:400;-webkit-flex-shrink:0;-ms-flex-negative:0;flex-shrink:0;border-top-left-radius:0;border-bottom-left-radius:0;}/*!sc*/
.iSXJzk{border-radius:6px;border:1px solid;border-color:var(--button-default-borderColor-rest,var(--button-default-borderColor-rest,var(--color-btn-border,rgba(31,35,40,0.15))));font-family:inherit;font-weight:500;font-size:14px;cursor:pointer;-webkit-appearance:none;-moz-appearance:none;appearance:none;-webkit-user-select:none;-moz-user-select:none;-ms-user-select:none;user-select:none;-webkit-text-decoration:none;text-decoration:none;text-align:center;display:-webkit-box;display:-webkit-flex;display:-ms-flexbox;display:flex;-webkit-align-items:center;-webkit-box-align:center;-ms-flex-align:center;align-items:center;-webkit-box-pack:justify;-webkit-justify-content:space-between;-ms-flex-pack:justify;justify-content:space-between;height:32px;padding:0 12px;gap:8px;min-width:-webkit-max-content;min-width:-moz-max-content;min-width:max-content;-webkit-transition:80ms cubic-bezier(0.65,0,0.35,1);transition:80ms cubic-bezier(0.65,0,0.35,1);-webkit-transition-property:color,fill,background-color,border-color;transition-property:color,fill,background-color,border-color;color:var(--button-default-fgColor-rest,var(--color-btn-text,#24292f));background-color:var(--button-default-bgColor-rest,var(--color-btn-bg,#f6f8fa));box-shadow:var(--button-default-shadow-resting,var(--color-btn-shadow,0 1px 0 rgba(31,35,40,0.04))),var(--button-default-shadow-inset,var(--color-btn-inset-shadow,inset 0 1px 0 rgba(255,255,255,0.25)));}/*!sc*/
.iSXJzk:focus:not(:disabled){box-shadow:none;outline:2px solid var(--fgColor-accent,var(--color-accent-fg,#0969da));outline-offset:-2px;}/*!sc*/
.iSXJzk:focus:not(:disabled):not(:focus-visible){outline:solid 1px transparent;}/*!sc*/
.iSXJzk:focus-visible:not(:disabled){box-shadow:none;outline:2px solid var(--fgColor-accent,var(--color-accent-fg,#0969da));outline-offset:-2px;}/*!sc*/
.iSXJzk[href]{display:-webkit-inline-box;display:-webkit-inline-flex;display:-ms-inline-flexbox;display:inline-flex;}/*!sc*/
.iSXJzk[href]:hover{-webkit-text-decoration:none;text-decoration:none;}/*!sc*/
.iSXJzk:hover{-webkit-transition-duration:80ms;transition-duration:80ms;}/*!sc*/
.iSXJzk:active{-webkit-transition:none;transition:none;}/*!sc*/
.iSXJzk[data-inactive]{cursor:auto;}/*!sc*/
.iSXJzk:disabled{cursor:not-allowed;box-shadow:none;color:var(--fgColor-disabled,var(--color-primer-fg-disabled,#8c959f));}/*!sc*/
.iSXJzk:disabled [data-component=ButtonCounter]{color:inherit;}/*!sc*/
@media (forced-colors:active){.iSXJzk:focus{outline:solid 1px transparent;}}/*!sc*/
.iSXJzk [data-component=ButtonCounter]{font-size:12px;}/*!sc*/
.iSXJzk[data-component=IconButton]{display:inline-grid;padding:unset;place-content:center;width:32px;min-width:unset;}/*!sc*/
.iSXJzk[data-size="small"]{padding:0 8px;height:28px;gap:4px;font-size:12px;}/*!sc*/
.iSXJzk[data-size="small"] [data-component="text"]{line-height:calc(20 / 12);}/*!sc*/
.iSXJzk[data-size="small"] [data-component=ButtonCounter]{font-size:12px;}/*!sc*/
.iSXJzk[data-size="small"] [data-component="buttonContent"] > :not(:last-child){margin-right:4px;}/*!sc*/
.iSXJzk[data-size="small"][data-component=IconButton]{width:28px;padding:unset;}/*!sc*/
.iSXJzk[data-size="large"]{padding:0 16px;height:40px;gap:8px;}/*!sc*/
.iSXJzk[data-size="large"] [data-component="buttonContent"] > :not(:last-child){margin-right:8px;}/*!sc*/
.iSXJzk[data-size="large"][data-component=IconButton]{width:40px;padding:unset;}/*!sc*/
.iSXJzk[data-block="block"]{width:100%;}/*!sc*/
.iSXJzk[data-inactive]:not([disabled]){background-color:var(--button-inactive-bgColor,var(--button-inactive-bgColor-rest,var(--color-btn-inactive-bg,#eaeef2)));border-color:var(--button-inactive-bgColor,var(--button-inactive-bgColor-rest,var(--color-btn-inactive-bg,#eaeef2)));color:var(--button-inactive-fgColor,var(--button-inactive-fgColor-rest,var(--color-btn-inactive-text,#57606a)));}/*!sc*/
.iSXJzk[data-inactive]:not([disabled]):focus-visible{box-shadow:none;}/*!sc*/
.iSXJzk [data-component="leadingVisual"]{grid-area:leadingVisual;}/*!sc*/
.iSXJzk [data-component="text"]{grid-area:text;line-height:calc(20/14);white-space:nowrap;}/*!sc*/
.iSXJzk [data-component="trailingVisual"]{grid-area:trailingVisual;}/*!sc*/
.iSXJzk [data-component="trailingAction"]{margin-right:-4px;}/*!sc*/
.iSXJzk [data-component="buttonContent"]{-webkit-flex:1 0 auto;-ms-flex:1 0 auto;flex:1 0 auto;display:grid;grid-template-areas:"leadingVisual text trailingVisual";grid-template-columns:min-content minmax(0,auto) min-content;-webkit-align-items:center;-webkit-box-align:center;-ms-flex-align:center;align-items:center;-webkit-align-content:center;-ms-flex-line-pack:center;align-content:center;}/*!sc*/
.iSXJzk [data-component="buttonContent"] > :not(:last-child){margin-right:8px;}/*!sc*/
.iSXJzk:hover:not([disabled]):not([data-inactive]){background-color:var(--button-default-bgColor-hover,var(--color-btn-hover-bg,#f3f4f6));border-color:var(--button-default-borderColor-hover,var(--button-default-borderColor-hover,var(--color-btn-hover-border,rgba(31,35,40,0.15))));}/*!sc*/
.iSXJzk:active:not([disabled]):not([data-inactive]){background-color:var(--button-default-bgColor-active,var(--color-btn-active-bg,hsla(220,14%,93%,1)));border-color:var(--button-default-borderColor-active,var(--button-default-borderColor-active,var(--color-btn-active-border,rgba(31,35,40,0.15))));}/*!sc*/
.iSXJzk[aria-expanded=true]{background-color:var(--button-default-bgColor-active,var(--color-btn-active-bg,hsla(220,14%,93%,1)));border-color:var(--button-default-borderColor-active,var(--button-default-borderColor-active,var(--color-btn-active-border,rgba(31,35,40,0.15))));}/*!sc*/
.iSXJzk [data-component="leadingVisual"],.iSXJzk [data-component="trailingVisual"],.iSXJzk [data-component="trailingAction"]{color:var(--button-color,var(--fgColor-muted,var(--color-fg-muted,#656d76)));}/*!sc*/
.iSXJzk{display:-webkit-box;display:-webkit-flex;display:-ms-flexbox;display:flex;}/*!sc*/
.iSXJzk svg{color:var(--fgColor-muted,var(--color-fg-muted,#656d76));}/*!sc*/
.iSXJzk > span{width:inherit;}/*!sc*/
.hZiIV{border-radius:6px;border:1px solid;border-color:var(--button-default-borderColor-rest,var(--button-default-borderColor-rest,var(--color-btn-border,rgba(31,35,40,0.15))));font-family:inherit;font-weight:500;font-size:14px;cursor:pointer;-webkit-appearance:none;-moz-appearance:none;appearance:none;-webkit-user-select:none;-moz-user-select:none;-ms-user-select:none;user-select:none;-webkit-text-decoration:none;text-decoration:none;text-align:center;display:-webkit-box;display:-webkit-flex;display:-ms-flexbox;display:flex;-webkit-align-items:center;-webkit-box-align:center;-ms-flex-align:center;align-items:center;-webkit-box-pack:justify;-webkit-justify-content:space-between;-ms-flex-pack:justify;justify-content:space-between;height:32px;padding:0 12px;gap:8px;min-width:-webkit-max-content;min-width:-moz-max-content;min-width:max-content;-webkit-transition:80ms cubic-bezier(0.65,0,0.35,1);transition:80ms cubic-bezier(0.65,0,0.35,1);-webkit-transition-property:color,fill,background-color,border-color;transition-property:color,fill,background-color,border-color;color:var(--button-default-fgColor-rest,var(--color-btn-text,#24292f));background-color:var(--button-default-bgColor-rest,var(--color-btn-bg,#f6f8fa));box-shadow:var(--button-default-shadow-resting,var(--color-btn-shadow,0 1px 0 rgba(31,35,40,0.04))),var(--button-default-shadow-inset,var(--color-btn-inset-shadow,inset 0 1px 0 rgba(255,255,255,0.25)));}/*!sc*/
.hZiIV:focus:not(:disabled){box-shadow:none;outline:2px solid var(--fgColor-accent,var(--color-accent-fg,#0969da));outline-offset:-2px;}/*!sc*/
.hZiIV:focus:not(:disabled):not(:focus-visible){outline:solid 1px transparent;}/*!sc*/
.hZiIV:focus-visible:not(:disabled){box-shadow:none;outline:2px solid var(--fgColor-accent,var(--color-accent-fg,#0969da));outline-offset:-2px;}/*!sc*/
.hZiIV[href]{display:-webkit-inline-box;display:-webkit-inline-flex;display:-ms-inline-flexbox;display:inline-flex;}/*!sc*/
.hZiIV[href]:hover{-webkit-text-decoration:none;text-decoration:none;}/*!sc*/
.hZiIV:hover{-webkit-transition-duration:80ms;transition-duration:80ms;}/*!sc*/
.hZiIV:active{-webkit-transition:none;transition:none;}/*!sc*/
.hZiIV[data-inactive]{cursor:auto;}/*!sc*/
.hZiIV:disabled{cursor:not-allowed;box-shadow:none;color:var(--fgColor-disabled,var(--color-primer-fg-disabled,#8c959f));}/*!sc*/
.hZiIV:disabled [data-component=ButtonCounter]{color:inherit;}/*!sc*/
@media (forced-colors:active){.hZiIV:focus{outline:solid 1px transparent;}}/*!sc*/
.hZiIV [data-component=ButtonCounter]{font-size:12px;}/*!sc*/
.hZiIV[data-component=IconButton]{display:inline-grid;padding:unset;place-content:center;width:32px;min-width:unset;}/*!sc*/
.hZiIV[data-size="small"]{padding:0 8px;height:28px;gap:4px;font-size:12px;}/*!sc*/
.hZiIV[data-size="small"] [data-component="text"]{line-height:calc(20 / 12);}/*!sc*/
.hZiIV[data-size="small"] [data-component=ButtonCounter]{font-size:12px;}/*!sc*/
.hZiIV[data-size="small"] [data-component="buttonContent"] > :not(:last-child){margin-right:4px;}/*!sc*/
.hZiIV[data-size="small"][data-component=IconButton]{width:28px;padding:unset;}/*!sc*/
.hZiIV[data-size="large"]{padding:0 16px;height:40px;gap:8px;}/*!sc*/
.hZiIV[data-size="large"] [data-component="buttonContent"] > :not(:last-child){margin-right:8px;}/*!sc*/
.hZiIV[data-size="large"][data-component=IconButton]{width:40px;padding:unset;}/*!sc*/
.hZiIV[data-block="block"]{width:100%;}/*!sc*/
.hZiIV[data-inactive]:not([disabled]){background-color:var(--button-inactive-bgColor,var(--button-inactive-bgColor-rest,var(--color-btn-inactive-bg,#eaeef2)));border-color:var(--button-inactive-bgColor,var(--button-inactive-bgColor-rest,var(--color-btn-inactive-bg,#eaeef2)));color:var(--button-inactive-fgColor,var(--button-inactive-fgColor-rest,var(--color-btn-inactive-text,#57606a)));}/*!sc*/
.hZiIV[data-inactive]:not([disabled]):focus-visible{box-shadow:none;}/*!sc*/
.hZiIV [data-component="leadingVisual"]{grid-area:leadingVisual;}/*!sc*/
.hZiIV [data-component="text"]{grid-area:text;line-height:calc(20/14);white-space:nowrap;}/*!sc*/
.hZiIV [data-component="trailingVisual"]{grid-area:trailingVisual;}/*!sc*/
.hZiIV [data-component="trailingAction"]{margin-right:-4px;}/*!sc*/
.hZiIV [data-component="buttonContent"]{-webkit-flex:1 0 auto;-ms-flex:1 0 auto;flex:1 0 auto;display:grid;grid-template-areas:"leadingVisual text trailingVisual";grid-template-columns:min-content minmax(0,auto) min-content;-webkit-align-items:center;-webkit-box-align:center;-ms-flex-align:center;align-items:center;-webkit-align-content:center;-ms-flex-line-pack:center;align-content:center;}/*!sc*/
.hZiIV [data-component="buttonContent"] > :not(:last-child){margin-right:8px;}/*!sc*/
.hZiIV:hover:not([disabled]):not([data-inactive]){background-color:var(--button-default-bgColor-hover,var(--color-btn-hover-bg,#f3f4f6));border-color:var(--button-default-borderColor-hover,var(--button-default-borderColor-hover,var(--color-btn-hover-border,rgba(31,35,40,0.15))));}/*!sc*/
.hZiIV:active:not([disabled]):not([data-inactive]){background-color:var(--button-default-bgColor-active,var(--color-btn-active-bg,hsla(220,14%,93%,1)));border-color:var(--button-default-borderColor-active,var(--button-default-borderColor-active,var(--color-btn-active-border,rgba(31,35,40,0.15))));}/*!sc*/
.hZiIV[aria-expanded=true]{background-color:var(--button-default-bgColor-active,var(--color-btn-active-bg,hsla(220,14%,93%,1)));border-color:var(--button-default-borderColor-active,var(--button-default-borderColor-active,var(--color-btn-active-border,rgba(31,35,40,0.15))));}/*!sc*/
.hZiIV [data-component="leadingVisual"],.hZiIV [data-component="trailingVisual"],.hZiIV [data-component="trailingAction"]{color:var(--button-color,var(--fgColor-muted,var(--color-fg-muted,#656d76)));}/*!sc*/
.hZiIV[data-no-visuals]{border-top-left-radius:0;border-bottom-left-radius:0;display:none;}/*!sc*/
.jAAONu{border-radius:6px;border:1px solid;border-color:var(--button-default-borderColor-rest,var(--button-default-borderColor-rest,var(--color-btn-border,rgba(31,35,40,0.15))));font-family:inherit;font-weight:500;font-size:14px;cursor:pointer;-webkit-appearance:none;-moz-appearance:none;appearance:none;-webkit-user-select:none;-moz-user-select:none;-ms-user-select:none;user-select:none;-webkit-text-decoration:none;text-decoration:none;text-align:center;display:-webkit-box;display:-webkit-flex;display:-ms-flexbox;display:flex;-webkit-align-items:center;-webkit-box-align:center;-ms-flex-align:center;align-items:center;-webkit-box-pack:justify;-webkit-justify-content:space-between;-ms-flex-pack:justify;justify-content:space-between;height:32px;padding:0 12px;gap:8px;min-width:-webkit-max-content;min-width:-moz-max-content;min-width:max-content;-webkit-transition:80ms cubic-bezier(0.65,0,0.35,1);transition:80ms cubic-bezier(0.65,0,0.35,1);-webkit-transition-property:color,fill,background-color,border-color;transition-property:color,fill,background-color,border-color;color:var(--button-default-fgColor-rest,var(--color-btn-text,#24292f));background-color:var(--button-default-bgColor-rest,var(--color-btn-bg,#f6f8fa));box-shadow:var(--button-default-shadow-resting,var(--color-btn-shadow,0 1px 0 rgba(31,35,40,0.04))),var(--button-default-shadow-inset,var(--color-btn-inset-shadow,inset 0 1px 0 rgba(255,255,255,0.25)));}/*!sc*/
.jAAONu:focus:not(:disabled){box-shadow:none;outline:2px solid var(--fgColor-accent,var(--color-accent-fg,#0969da));outline-offset:-2px;}/*!sc*/
.jAAONu:focus:not(:disabled):not(:focus-visible){outline:solid 1px transparent;}/*!sc*/
.jAAONu:focus-visible:not(:disabled){box-shadow:none;outline:2px solid var(--fgColor-accent,var(--color-accent-fg,#0969da));outline-offset:-2px;}/*!sc*/
.jAAONu[href]{display:-webkit-inline-box;display:-webkit-inline-flex;display:-ms-inline-flexbox;display:inline-flex;}/*!sc*/
.jAAONu[href]:hover{-webkit-text-decoration:none;text-decoration:none;}/*!sc*/
.jAAONu:hover{-webkit-transition-duration:80ms;transition-duration:80ms;}/*!sc*/
.jAAONu:active{-webkit-transition:none;transition:none;}/*!sc*/
.jAAONu[data-inactive]{cursor:auto;}/*!sc*/
.jAAONu:disabled{cursor:not-allowed;box-shadow:none;color:var(--fgColor-disabled,var(--color-primer-fg-disabled,#8c959f));}/*!sc*/
.jAAONu:disabled [data-component=ButtonCounter]{color:inherit;}/*!sc*/
@media (forced-colors:active){.jAAONu:focus{outline:solid 1px transparent;}}/*!sc*/
.jAAONu [data-component=ButtonCounter]{font-size:12px;}/*!sc*/
.jAAONu[data-component=IconButton]{display:inline-grid;padding:unset;place-content:center;width:32px;min-width:unset;}/*!sc*/
.jAAONu[data-size="small"]{padding:0 8px;height:28px;gap:4px;font-size:12px;}/*!sc*/
.jAAONu[data-size="small"] [data-component="text"]{line-height:calc(20 / 12);}/*!sc*/
.jAAONu[data-size="small"] [data-component=ButtonCounter]{font-size:12px;}/*!sc*/
.jAAONu[data-size="small"] [data-component="buttonContent"] > :not(:last-child){margin-right:4px;}/*!sc*/
.jAAONu[data-size="small"][data-component=IconButton]{width:28px;padding:unset;}/*!sc*/
.jAAONu[data-size="large"]{padding:0 16px;height:40px;gap:8px;}/*!sc*/
.jAAONu[data-size="large"] [data-component="buttonContent"] > :not(:last-child){margin-right:8px;}/*!sc*/
.jAAONu[data-size="large"][data-component=IconButton]{width:40px;padding:unset;}/*!sc*/
.jAAONu[data-block="block"]{width:100%;}/*!sc*/
.jAAONu[data-inactive]:not([disabled]){background-color:var(--button-inactive-bgColor,var(--button-inactive-bgColor-rest,var(--color-btn-inactive-bg,#eaeef2)));border-color:var(--button-inactive-bgColor,var(--button-inactive-bgColor-rest,var(--color-btn-inactive-bg,#eaeef2)));color:var(--button-inactive-fgColor,var(--button-inactive-fgColor-rest,var(--color-btn-inactive-text,#57606a)));}/*!sc*/
.jAAONu[data-inactive]:not([disabled]):focus-visible{box-shadow:none;}/*!sc*/
.jAAONu [data-component="leadingVisual"]{grid-area:leadingVisual;}/*!sc*/
.jAAONu [data-component="text"]{grid-area:text;line-height:calc(20/14);white-space:nowrap;}/*!sc*/
.jAAONu [data-component="trailingVisual"]{grid-area:trailingVisual;}/*!sc*/
.jAAONu [data-component="trailingAction"]{margin-right:-4px;}/*!sc*/
.jAAONu [data-component="buttonContent"]{-webkit-flex:1 0 auto;-ms-flex:1 0 auto;flex:1 0 auto;display:grid;grid-template-areas:"leadingVisual text trailingVisual";grid-template-columns:min-content minmax(0,auto) min-content;-webkit-align-items:center;-webkit-box-align:center;-ms-flex-align:center;align-items:center;-webkit-align-content:center;-ms-flex-line-pack:center;align-content:center;}/*!sc*/
.jAAONu [data-component="buttonContent"] > :not(:last-child){margin-right:8px;}/*!sc*/
.jAAONu:hover:not([disabled]):not([data-inactive]){background-color:var(--button-default-bgColor-hover,var(--color-btn-hover-bg,#f3f4f6));border-color:var(--button-default-borderColor-hover,var(--button-default-borderColor-hover,var(--color-btn-hover-border,rgba(31,35,40,0.15))));}/*!sc*/
.jAAONu:active:not([disabled]):not([data-inactive]){background-color:var(--button-default-bgColor-active,var(--color-btn-active-bg,hsla(220,14%,93%,1)));border-color:var(--button-default-borderColor-active,var(--button-default-borderColor-active,var(--color-btn-active-border,rgba(31,35,40,0.15))));}/*!sc*/
.jAAONu[aria-expanded=true]{background-color:var(--button-default-bgColor-active,var(--color-btn-active-bg,hsla(220,14%,93%,1)));border-color:var(--button-default-borderColor-active,var(--button-default-borderColor-active,var(--color-btn-active-border,rgba(31,35,40,0.15))));}/*!sc*/
.jAAONu [data-component="leadingVisual"],.jAAONu [data-component="trailingVisual"],.jAAONu [data-component="trailingAction"]{color:var(--button-color,var(--fgColor-muted,var(--color-fg-muted,#656d76)));}/*!sc*/
.jAAONu[data-no-visuals]{color:var(--fgColor-muted,var(--color-fg-muted,#656d76));}/*!sc*/
.ivbpoP{border-radius:6px;border:1px solid;border-color:transparent;font-family:inherit;font-weight:500;font-size:14px;cursor:pointer;-webkit-appearance:none;-moz-appearance:none;appearance:none;-webkit-user-select:none;-moz-user-select:none;-ms-user-select:none;user-select:none;-webkit-text-decoration:none;text-decoration:none;text-align:center;display:-webkit-box;display:-webkit-flex;display:-ms-flexbox;display:flex;-webkit-align-items:center;-webkit-box-align:center;-ms-flex-align:center;align-items:center;-webkit-box-pack:justify;-webkit-justify-content:space-between;-ms-flex-pack:justify;justify-content:space-between;height:32px;padding:0 12px;gap:8px;min-width:-webkit-max-content;min-width:-moz-max-content;min-width:max-content;-webkit-transition:80ms cubic-bezier(0.65,0,0.35,1);transition:80ms cubic-bezier(0.65,0,0.35,1);-webkit-transition-property:color,fill,background-color,border-color;transition-property:color,fill,background-color,border-color;color:var(--button-default-fgColor-rest,var(--color-btn-text,#24292f));background-color:transparent;box-shadow:none;}/*!sc*/
.ivbpoP:focus:not(:disabled){box-shadow:none;outline:2px solid var(--fgColor-accent,var(--color-accent-fg,#0969da));outline-offset:-2px;}/*!sc*/
.ivbpoP:focus:not(:disabled):not(:focus-visible){outline:solid 1px transparent;}/*!sc*/
.ivbpoP:focus-visible:not(:disabled){box-shadow:none;outline:2px solid var(--fgColor-accent,var(--color-accent-fg,#0969da));outline-offset:-2px;}/*!sc*/
.ivbpoP[href]{display:-webkit-inline-box;display:-webkit-inline-flex;display:-ms-inline-flexbox;display:inline-flex;}/*!sc*/
.ivbpoP[href]:hover{-webkit-text-decoration:none;text-decoration:none;}/*!sc*/
.ivbpoP:hover{-webkit-transition-duration:80ms;transition-duration:80ms;}/*!sc*/
.ivbpoP:active{-webkit-transition:none;transition:none;}/*!sc*/
.ivbpoP[data-inactive]{cursor:auto;}/*!sc*/
.ivbpoP:disabled{cursor:not-allowed;box-shadow:none;color:var(--fgColor-disabled,var(--color-primer-fg-disabled,#8c959f));}/*!sc*/
.ivbpoP:disabled [data-component=ButtonCounter],.ivbpoP:disabled [data-component="leadingVisual"],.ivbpoP:disabled [data-component="trailingAction"]{color:inherit;}/*!sc*/
@media (forced-colors:active){.ivbpoP:focus{outline:solid 1px transparent;}}/*!sc*/
.ivbpoP [data-component=ButtonCounter]{font-size:12px;}/*!sc*/
.ivbpoP[data-component=IconButton]{display:inline-grid;padding:unset;place-content:center;width:32px;min-width:unset;}/*!sc*/
.ivbpoP[data-size="small"]{padding:0 8px;height:28px;gap:4px;font-size:12px;}/*!sc*/
.ivbpoP[data-size="small"] [data-component="text"]{line-height:calc(20 / 12);}/*!sc*/
.ivbpoP[data-size="small"] [data-component=ButtonCounter]{font-size:12px;}/*!sc*/
.ivbpoP[data-size="small"] [data-component="buttonContent"] > :not(:last-child){margin-right:4px;}/*!sc*/
.ivbpoP[data-size="small"][data-component=IconButton]{width:28px;padding:unset;}/*!sc*/
.ivbpoP[data-size="large"]{padding:0 16px;height:40px;gap:8px;}/*!sc*/
.ivbpoP[data-size="large"] [data-component="buttonContent"] > :not(:last-child){margin-right:8px;}/*!sc*/
.ivbpoP[data-size="large"][data-component=IconButton]{width:40px;padding:unset;}/*!sc*/
.ivbpoP[data-block="block"]{width:100%;}/*!sc*/
.ivbpoP[data-inactive]:not([disabled]){background-color:var(--button-inactive-bgColor,var(--button-inactive-bgColor-rest,var(--color-btn-inactive-bg,#eaeef2)));border-color:var(--button-inactive-bgColor,var(--button-inactive-bgColor-rest,var(--color-btn-inactive-bg,#eaeef2)));color:var(--button-inactive-fgColor,var(--button-inactive-fgColor-rest,var(--color-btn-inactive-text,#57606a)));}/*!sc*/
.ivbpoP[data-inactive]:not([disabled]):focus-visible{box-shadow:none;}/*!sc*/
.ivbpoP [data-component="leadingVisual"]{grid-area:leadingVisual;color:var(--fgColor-muted,var(--color-fg-muted,#656d76));}/*!sc*/
.ivbpoP [data-component="text"]{grid-area:text;line-height:calc(20/14);white-space:nowrap;}/*!sc*/
.ivbpoP [data-component="trailingVisual"]{grid-area:trailingVisual;}/*!sc*/
.ivbpoP [data-component="trailingAction"]{margin-right:-4px;color:var(--fgColor-muted,var(--color-fg-muted,#656d76));}/*!sc*/
.ivbpoP [data-component="buttonContent"]{-webkit-flex:1 0 auto;-ms-flex:1 0 auto;flex:1 0 auto;display:grid;grid-template-areas:"leadingVisual text trailingVisual";grid-template-columns:min-content minmax(0,auto) min-content;-webkit-align-items:center;-webkit-box-align:center;-ms-flex-align:center;align-items:center;-webkit-align-content:center;-ms-flex-line-pack:center;align-content:center;}/*!sc*/
.ivbpoP [data-component="buttonContent"] > :not(:last-child){margin-right:8px;}/*!sc*/
.ivbpoP:hover:not([disabled]){background-color:var(--control-transparent-bgColor-hover,var(--color-action-list-item-default-hover-bg,rgba(208,215,222,0.32)));}/*!sc*/
.ivbpoP:active:not([disabled]){background-color:var(--control-transparent-bgColor-active,var(--color-action-list-item-default-active-bg,rgba(208,215,222,0.48)));}/*!sc*/
.ivbpoP[aria-expanded=true]{background-color:var(--control-transparent-bgColor-selected,var(--color-action-list-item-default-selected-bg,rgba(208,215,222,0.24)));}/*!sc*/
.ivbpoP[data-component="IconButton"][data-no-visuals]{color:var(--fgColor-muted,var(--color-fg-muted,#656d76));}/*!sc*/
.ivbpoP[data-no-visuals]{color:var(--fgColor-accent,var(--color-accent-fg,#0969da));}/*!sc*/
.ivbpoP:has([data-component="ButtonCounter"]){color:var(--button-default-fgColor-rest,var(--color-btn-text,#24292f));}/*!sc*/
.ivbpoP:disabled[data-no-visuals]{color:var(--fgColor-disabled,var(--color-primer-fg-disabled,#8c959f));}/*!sc*/
.ivbpoP:disabled[data-no-visuals] [data-component=ButtonCounter]{color:inherit;}/*!sc*/
.ivbpoP[data-size="small"][data-no-visuals]{margin-left:8px;}/*!sc*/
.fAkXQN{border-radius:6px;border:1px solid;border-color:transparent;font-family:inherit;font-weight:500;font-size:14px;cursor:pointer;-webkit-appearance:none;-moz-appearance:none;appearance:none;-webkit-user-select:none;-moz-user-select:none;-ms-user-select:none;user-select:none;-webkit-text-decoration:none;text-decoration:none;text-align:center;display:-webkit-box;display:-webkit-flex;display:-ms-flexbox;display:flex;-webkit-align-items:center;-webkit-box-align:center;-ms-flex-align:center;align-items:center;-webkit-box-pack:justify;-webkit-justify-content:space-between;-ms-flex-pack:justify;justify-content:space-between;height:32px;padding:0 12px;gap:8px;min-width:-webkit-max-content;min-width:-moz-max-content;min-width:max-content;-webkit-transition:80ms cubic-bezier(0.65,0,0.35,1);transition:80ms cubic-bezier(0.65,0,0.35,1);-webkit-transition-property:color,fill,background-color,border-color;transition-property:color,fill,background-color,border-color;color:var(--fgColor-default,var(--color-fg-default,#1F2328));background-color:transparent;box-shadow:none;}/*!sc*/
.fAkXQN:focus:not(:disabled){box-shadow:none;outline:2px solid var(--fgColor-accent,var(--color-accent-fg,#0969da));outline-offset:-2px;}/*!sc*/
.fAkXQN:focus:not(:disabled):not(:focus-visible){outline:solid 1px transparent;}/*!sc*/
.fAkXQN:focus-visible:not(:disabled){box-shadow:none;outline:2px solid var(--fgColor-accent,var(--color-accent-fg,#0969da));outline-offset:-2px;}/*!sc*/
.fAkXQN[href]{display:-webkit-inline-box;display:-webkit-inline-flex;display:-ms-inline-flexbox;display:inline-flex;}/*!sc*/
.fAkXQN[href]:hover{-webkit-text-decoration:none;text-decoration:none;}/*!sc*/
.fAkXQN:hover{-webkit-transition-duration:80ms;transition-duration:80ms;}/*!sc*/
.fAkXQN:active{-webkit-transition:none;transition:none;}/*!sc*/
.fAkXQN[data-inactive]{cursor:auto;}/*!sc*/
.fAkXQN:disabled{cursor:not-allowed;box-shadow:none;color:var(--fgColor-disabled,var(--color-primer-fg-disabled,#8c959f));}/*!sc*/
.fAkXQN:disabled [data-component=ButtonCounter],.fAkXQN:disabled [data-component="leadingVisual"],.fAkXQN:disabled [data-component="trailingAction"]{color:inherit;}/*!sc*/
@media (forced-colors:active){.fAkXQN:focus{outline:solid 1px transparent;}}/*!sc*/
.fAkXQN [data-component=ButtonCounter]{font-size:12px;}/*!sc*/
.fAkXQN[data-component=IconButton]{display:inline-grid;padding:unset;place-content:center;width:32px;min-width:unset;}/*!sc*/
.fAkXQN[data-size="small"]{padding:0 8px;height:28px;gap:4px;font-size:12px;}/*!sc*/
.fAkXQN[data-size="small"] [data-component="text"]{line-height:calc(20 / 12);}/*!sc*/
.fAkXQN[data-size="small"] [data-component=ButtonCounter]{font-size:12px;}/*!sc*/
.fAkXQN[data-size="small"] [data-component="buttonContent"] > :not(:last-child){margin-right:4px;}/*!sc*/
.fAkXQN[data-size="small"][data-component=IconButton]{width:28px;padding:unset;}/*!sc*/
.fAkXQN[data-size="large"]{padding:0 16px;height:40px;gap:8px;}/*!sc*/
.fAkXQN[data-size="large"] [data-component="buttonContent"] > :not(:last-child){margin-right:8px;}/*!sc*/
.fAkXQN[data-size="large"][data-component=IconButton]{width:40px;padding:unset;}/*!sc*/
.fAkXQN[data-block="block"]{width:100%;}/*!sc*/
.fAkXQN[data-inactive]:not([disabled]){background-color:var(--button-inactive-bgColor,var(--button-inactive-bgColor-rest,var(--color-btn-inactive-bg,#eaeef2)));border-color:var(--button-inactive-bgColor,var(--button-inactive-bgColor-rest,var(--color-btn-inactive-bg,#eaeef2)));color:var(--button-inactive-fgColor,var(--button-inactive-fgColor-rest,var(--color-btn-inactive-text,#57606a)));}/*!sc*/
.fAkXQN[data-inactive]:not([disabled]):focus-visible{box-shadow:none;}/*!sc*/
.fAkXQN [data-component="leadingVisual"]{grid-area:leadingVisual;color:var(--fgColor-muted,var(--color-fg-muted,#656d76));}/*!sc*/
.fAkXQN [data-component="text"]{grid-area:text;line-height:calc(20/14);white-space:nowrap;}/*!sc*/
.fAkXQN [data-component="trailingVisual"]{grid-area:trailingVisual;}/*!sc*/
.fAkXQN [data-component="trailingAction"]{margin-right:-4px;color:var(--fgColor-muted,var(--color-fg-muted,#656d76));}/*!sc*/
.fAkXQN [data-component="buttonContent"]{-webkit-flex:1 0 auto;-ms-flex:1 0 auto;flex:1 0 auto;display:grid;grid-template-areas:"leadingVisual text trailingVisual";grid-template-columns:min-content minmax(0,auto) min-content;-webkit-align-items:center;-webkit-box-align:center;-ms-flex-align:center;align-items:center;-webkit-align-content:center;-ms-flex-line-pack:center;align-content:center;}/*!sc*/
.fAkXQN [data-component="buttonContent"] > :not(:last-child){margin-right:8px;}/*!sc*/
.fAkXQN:hover:not([disabled]){background-color:var(--control-transparent-bgColor-hover,var(--color-action-list-item-default-hover-bg,rgba(208,215,222,0.32)));-webkit-text-decoration:none;text-decoration:none;}/*!sc*/
.fAkXQN:active:not([disabled]){background-color:var(--control-transparent-bgColor-active,var(--color-action-list-item-default-active-bg,rgba(208,215,222,0.48)));-webkit-text-decoration:none;text-decoration:none;}/*!sc*/
.fAkXQN[aria-expanded=true]{background-color:var(--control-transparent-bgColor-selected,var(--color-action-list-item-default-selected-bg,rgba(208,215,222,0.24)));}/*!sc*/
.fAkXQN[data-component="IconButton"][data-no-visuals]{color:var(--fgColor-muted,var(--color-fg-muted,#656d76));}/*!sc*/
.fAkXQN[data-no-visuals]{color:var(--fgColor-accent,var(--color-accent-fg,#0969da));}/*!sc*/
.fAkXQN:has([data-component="ButtonCounter"]){color:var(--button-default-fgColor-rest,var(--color-btn-text,#24292f));}/*!sc*/
.fAkXQN:disabled[data-no-visuals]{color:var(--fgColor-disabled,var(--color-primer-fg-disabled,#8c959f));}/*!sc*/
.fAkXQN:disabled[data-no-visuals] [data-component=ButtonCounter]{color:inherit;}/*!sc*/
.fAkXQN:focus:not([disabled]){-webkit-text-decoration:none;text-decoration:none;}/*!sc*/
.frAFhH{border-radius:6px;border:1px solid;border-color:transparent;font-family:inherit;font-weight:500;font-size:14px;cursor:pointer;-webkit-appearance:none;-moz-appearance:none;appearance:none;-webkit-user-select:none;-moz-user-select:none;-ms-user-select:none;user-select:none;-webkit-text-decoration:none;text-decoration:none;text-align:center;display:-webkit-box;display:-webkit-flex;display:-ms-flexbox;display:flex;-webkit-align-items:center;-webkit-box-align:center;-ms-flex-align:center;align-items:center;-webkit-box-pack:justify;-webkit-justify-content:space-between;-ms-flex-pack:justify;justify-content:space-between;height:32px;padding:0 12px;gap:8px;min-width:-webkit-max-content;min-width:-moz-max-content;min-width:max-content;-webkit-transition:80ms cubic-bezier(0.65,0,0.35,1);transition:80ms cubic-bezier(0.65,0,0.35,1);-webkit-transition-property:color,fill,background-color,border-color;transition-property:color,fill,background-color,border-color;color:var(--button-default-fgColor-rest,var(--color-btn-text,#24292f));background-color:transparent;box-shadow:none;}/*!sc*/
.frAFhH:focus:not(:disabled){box-shadow:none;outline:2px solid var(--fgColor-accent,var(--color-accent-fg,#0969da));outline-offset:-2px;}/*!sc*/
.frAFhH:focus:not(:disabled):not(:focus-visible){outline:solid 1px transparent;}/*!sc*/
.frAFhH:focus-visible:not(:disabled){box-shadow:none;outline:2px solid var(--fgColor-accent,var(--color-accent-fg,#0969da));outline-offset:-2px;}/*!sc*/
.frAFhH[href]{display:-webkit-inline-box;display:-webkit-inline-flex;display:-ms-inline-flexbox;display:inline-flex;}/*!sc*/
.frAFhH[href]:hover{-webkit-text-decoration:none;text-decoration:none;}/*!sc*/
.frAFhH:hover{-webkit-transition-duration:80ms;transition-duration:80ms;}/*!sc*/
.frAFhH:active{-webkit-transition:none;transition:none;}/*!sc*/
.frAFhH[data-inactive]{cursor:auto;}/*!sc*/
.frAFhH:disabled{cursor:not-allowed;box-shadow:none;color:var(--fgColor-disabled,var(--color-primer-fg-disabled,#8c959f));}/*!sc*/
.frAFhH:disabled [data-component=ButtonCounter],.frAFhH:disabled [data-component="leadingVisual"],.frAFhH:disabled [data-component="trailingAction"]{color:inherit;}/*!sc*/
@media (forced-colors:active){.frAFhH:focus{outline:solid 1px transparent;}}/*!sc*/
.frAFhH [data-component=ButtonCounter]{font-size:12px;}/*!sc*/
.frAFhH[data-component=IconButton]{display:inline-grid;padding:unset;place-content:center;width:32px;min-width:unset;}/*!sc*/
.frAFhH[data-size="small"]{padding:0 8px;height:28px;gap:4px;font-size:12px;color:var(--fgColor-default,var(--color-fg-default,#1F2328));display:none;}/*!sc*/
.frAFhH[data-size="small"] [data-component="text"]{line-height:calc(20 / 12);}/*!sc*/
.frAFhH[data-size="small"] [data-component=ButtonCounter]{font-size:12px;}/*!sc*/
.frAFhH[data-size="small"] [data-component="buttonContent"] > :not(:last-child){margin-right:4px;}/*!sc*/
.frAFhH[data-size="small"][data-component=IconButton]{width:28px;padding:unset;}/*!sc*/
@media screen and (min-width:544px){.frAFhH[data-size="small"]{display:none;}}/*!sc*/
@media screen and (min-width:768px){.frAFhH[data-size="small"]{display:none;}}/*!sc*/
@media screen and (min-width:1012px){.frAFhH[data-size="small"]{display:none;}}/*!sc*/
@media screen and (min-width:1280px){.frAFhH[data-size="small"]{display:block;}}/*!sc*/
.frAFhH[data-size="large"]{padding:0 16px;height:40px;gap:8px;}/*!sc*/
.frAFhH[data-size="large"] [data-component="buttonContent"] > :not(:last-child){margin-right:8px;}/*!sc*/
.frAFhH[data-size="large"][data-component=IconButton]{width:40px;padding:unset;}/*!sc*/
.frAFhH[data-block="block"]{width:100%;}/*!sc*/
.frAFhH[data-inactive]:not([disabled]){background-color:var(--button-inactive-bgColor,var(--button-inactive-bgColor-rest,var(--color-btn-inactive-bg,#eaeef2)));border-color:var(--button-inactive-bgColor,var(--button-inactive-bgColor-rest,var(--color-btn-inactive-bg,#eaeef2)));color:var(--button-inactive-fgColor,var(--button-inactive-fgColor-rest,var(--color-btn-inactive-text,#57606a)));}/*!sc*/
.frAFhH[data-inactive]:not([disabled]):focus-visible{box-shadow:none;}/*!sc*/
.frAFhH [data-component="leadingVisual"]{grid-area:leadingVisual;color:var(--fgColor-muted,var(--color-fg-muted,#656d76));}/*!sc*/
.frAFhH [data-component="text"]{grid-area:text;line-height:calc(20/14);white-space:nowrap;}/*!sc*/
.frAFhH [data-component="trailingVisual"]{grid-area:trailingVisual;}/*!sc*/
.frAFhH [data-component="trailingAction"]{margin-right:-4px;color:var(--fgColor-muted,var(--color-fg-muted,#656d76));}/*!sc*/
.frAFhH [data-component="buttonContent"]{-webkit-flex:1 0 auto;-ms-flex:1 0 auto;flex:1 0 auto;display:grid;grid-template-areas:"leadingVisual text trailingVisual";grid-template-columns:min-content minmax(0,auto) min-content;-webkit-align-items:center;-webkit-box-align:center;-ms-flex-align:center;align-items:center;-webkit-align-content:center;-ms-flex-line-pack:center;align-content:center;}/*!sc*/
.frAFhH [data-component="buttonContent"] > :not(:last-child){margin-right:8px;}/*!sc*/
.frAFhH:hover:not([disabled]){background-color:var(--control-transparent-bgColor-hover,var(--color-action-list-item-default-hover-bg,rgba(208,215,222,0.32)));}/*!sc*/
.frAFhH:active:not([disabled]){background-color:var(--control-transparent-bgColor-active,var(--color-action-list-item-default-active-bg,rgba(208,215,222,0.48)));}/*!sc*/
.frAFhH[aria-expanded=true]{background-color:var(--control-transparent-bgColor-selected,var(--color-action-list-item-default-selected-bg,rgba(208,215,222,0.24)));}/*!sc*/
.frAFhH[data-component="IconButton"][data-no-visuals]{color:var(--fgColor-muted,var(--color-fg-muted,#656d76));}/*!sc*/
.frAFhH[data-no-visuals]{color:var(--fgColor-accent,var(--color-accent-fg,#0969da));}/*!sc*/
.frAFhH:has([data-component="ButtonCounter"]){color:var(--button-default-fgColor-rest,var(--color-btn-text,#24292f));}/*!sc*/
.frAFhH:disabled[data-no-visuals]{color:var(--fgColor-disabled,var(--color-primer-fg-disabled,#8c959f));}/*!sc*/
.frAFhH:disabled[data-no-visuals] [data-component=ButtonCounter]{color:inherit;}/*!sc*/
.gfKkfV{border-radius:6px;border:1px solid;border-color:transparent;font-family:inherit;font-weight:500;font-size:14px;cursor:pointer;-webkit-appearance:none;-moz-appearance:none;appearance:none;-webkit-user-select:none;-moz-user-select:none;-ms-user-select:none;user-select:none;-webkit-text-decoration:none;text-decoration:none;text-align:center;display:-webkit-box;display:-webkit-flex;display:-ms-flexbox;display:flex;-webkit-align-items:center;-webkit-box-align:center;-ms-flex-align:center;align-items:center;-webkit-box-pack:justify;-webkit-justify-content:space-between;-ms-flex-pack:justify;justify-content:space-between;height:32px;padding:0 12px;gap:8px;min-width:-webkit-max-content;min-width:-moz-max-content;min-width:max-content;-webkit-transition:80ms cubic-bezier(0.65,0,0.35,1);transition:80ms cubic-bezier(0.65,0,0.35,1);-webkit-transition-property:color,fill,background-color,border-color;transition-property:color,fill,background-color,border-color;color:var(--button-default-fgColor-rest,var(--color-btn-text,#24292f));background-color:transparent;box-shadow:none;}/*!sc*/
.gfKkfV:focus:not(:disabled){box-shadow:none;outline:2px solid var(--fgColor-accent,var(--color-accent-fg,#0969da));outline-offset:-2px;}/*!sc*/
.gfKkfV:focus:not(:disabled):not(:focus-visible){outline:solid 1px transparent;}/*!sc*/
.gfKkfV:focus-visible:not(:disabled){box-shadow:none;outline:2px solid var(--fgColor-accent,var(--color-accent-fg,#0969da));outline-offset:-2px;}/*!sc*/
.gfKkfV[href]{display:-webkit-inline-box;display:-webkit-inline-flex;display:-ms-inline-flexbox;display:inline-flex;}/*!sc*/
.gfKkfV[href]:hover{-webkit-text-decoration:none;text-decoration:none;}/*!sc*/
.gfKkfV:hover{-webkit-transition-duration:80ms;transition-duration:80ms;}/*!sc*/
.gfKkfV:active{-webkit-transition:none;transition:none;}/*!sc*/
.gfKkfV[data-inactive]{cursor:auto;}/*!sc*/
.gfKkfV:disabled{cursor:not-allowed;box-shadow:none;color:var(--fgColor-disabled,var(--color-primer-fg-disabled,#8c959f));}/*!sc*/
.gfKkfV:disabled [data-component=ButtonCounter],.gfKkfV:disabled [data-component="leadingVisual"],.gfKkfV:disabled [data-component="trailingAction"]{color:inherit;}/*!sc*/
@media (forced-colors:active){.gfKkfV:focus{outline:solid 1px transparent;}}/*!sc*/
.gfKkfV [data-component=ButtonCounter]{font-size:12px;}/*!sc*/
.gfKkfV[data-component=IconButton]{display:inline-grid;padding:unset;place-content:center;width:32px;min-width:unset;}/*!sc*/
.gfKkfV[data-size="small"]{padding:0 8px;height:28px;gap:4px;font-size:12px;color:var(--fgColor-default,var(--color-fg-default,#1F2328));margin-left:8px;}/*!sc*/
.gfKkfV[data-size="small"] [data-component="text"]{line-height:calc(20 / 12);}/*!sc*/
.gfKkfV[data-size="small"] [data-component=ButtonCounter]{font-size:12px;}/*!sc*/
.gfKkfV[data-size="small"] [data-component="buttonContent"] > :not(:last-child){margin-right:4px;}/*!sc*/
.gfKkfV[data-size="small"][data-component=IconButton]{width:28px;padding:unset;}/*!sc*/
.gfKkfV[data-size="large"]{padding:0 16px;height:40px;gap:8px;}/*!sc*/
.gfKkfV[data-size="large"] [data-component="buttonContent"] > :not(:last-child){margin-right:8px;}/*!sc*/
.gfKkfV[data-size="large"][data-component=IconButton]{width:40px;padding:unset;}/*!sc*/
.gfKkfV[data-block="block"]{width:100%;}/*!sc*/
.gfKkfV[data-inactive]:not([disabled]){background-color:var(--button-inactive-bgColor,var(--button-inactive-bgColor-rest,var(--color-btn-inactive-bg,#eaeef2)));border-color:var(--button-inactive-bgColor,var(--button-inactive-bgColor-rest,var(--color-btn-inactive-bg,#eaeef2)));color:var(--button-inactive-fgColor,var(--button-inactive-fgColor-rest,var(--color-btn-inactive-text,#57606a)));}/*!sc*/
.gfKkfV[data-inactive]:not([disabled]):focus-visible{box-shadow:none;}/*!sc*/
.gfKkfV [data-component="leadingVisual"]{grid-area:leadingVisual;color:var(--fgColor-muted,var(--color-fg-muted,#656d76));}/*!sc*/
.gfKkfV [data-component="text"]{grid-area:text;line-height:calc(20/14);white-space:nowrap;}/*!sc*/
.gfKkfV [data-component="trailingVisual"]{grid-area:trailingVisual;}/*!sc*/
.gfKkfV [data-component="trailingAction"]{margin-right:-4px;color:var(--fgColor-muted,var(--color-fg-muted,#656d76));}/*!sc*/
.gfKkfV [data-component="buttonContent"]{-webkit-flex:1 0 auto;-ms-flex:1 0 auto;flex:1 0 auto;display:grid;grid-template-areas:"leadingVisual text trailingVisual";grid-template-columns:min-content minmax(0,auto) min-content;-webkit-align-items:center;-webkit-box-align:center;-ms-flex-align:center;align-items:center;-webkit-align-content:center;-ms-flex-line-pack:center;align-content:center;}/*!sc*/
.gfKkfV [data-component="buttonContent"] > :not(:last-child){margin-right:8px;}/*!sc*/
.gfKkfV:hover:not([disabled]){background-color:var(--control-transparent-bgColor-hover,var(--color-action-list-item-default-hover-bg,rgba(208,215,222,0.32)));}/*!sc*/
.gfKkfV:active:not([disabled]){background-color:var(--control-transparent-bgColor-active,var(--color-action-list-item-default-active-bg,rgba(208,215,222,0.48)));}/*!sc*/
.gfKkfV[aria-expanded=true]{background-color:var(--control-transparent-bgColor-selected,var(--color-action-list-item-default-selected-bg,rgba(208,215,222,0.24)));}/*!sc*/
.gfKkfV[data-component="IconButton"][data-no-visuals]{color:var(--fgColor-muted,var(--color-fg-muted,#656d76));}/*!sc*/
.gfKkfV[data-no-visuals]{color:var(--fgColor-accent,var(--color-accent-fg,#0969da));}/*!sc*/
.gfKkfV:has([data-component="ButtonCounter"]){color:var(--button-default-fgColor-rest,var(--color-btn-text,#24292f));}/*!sc*/
.gfKkfV:disabled[data-no-visuals]{color:var(--fgColor-disabled,var(--color-primer-fg-disabled,#8c959f));}/*!sc*/
.gfKkfV:disabled[data-no-visuals] [data-component=ButtonCounter]{color:inherit;}/*!sc*/
.bkOoYh{border-radius:6px;border:1px solid;border-color:var(--button-default-borderColor-rest,var(--button-default-borderColor-rest,var(--color-btn-border,rgba(31,35,40,0.15))));font-family:inherit;font-weight:500;font-size:14px;cursor:pointer;-webkit-appearance:none;-moz-appearance:none;appearance:none;-webkit-user-select:none;-moz-user-select:none;-ms-user-select:none;user-select:none;-webkit-text-decoration:none;text-decoration:none;text-align:center;display:-webkit-box;display:-webkit-flex;display:-ms-flexbox;display:flex;-webkit-align-items:center;-webkit-box-align:center;-ms-flex-align:center;align-items:center;-webkit-box-pack:justify;-webkit-justify-content:space-between;-ms-flex-pack:justify;justify-content:space-between;height:32px;padding:0 12px;gap:8px;min-width:-webkit-max-content;min-width:-moz-max-content;min-width:max-content;-webkit-transition:80ms cubic-bezier(0.65,0,0.35,1);transition:80ms cubic-bezier(0.65,0,0.35,1);-webkit-transition-property:color,fill,background-color,border-color;transition-property:color,fill,background-color,border-color;color:var(--button-default-fgColor-rest,var(--color-btn-text,#24292f));background-color:var(--button-default-bgColor-rest,var(--color-btn-bg,#f6f8fa));box-shadow:var(--button-default-shadow-resting,var(--color-btn-shadow,0 1px 0 rgba(31,35,40,0.04))),var(--button-default-shadow-inset,var(--color-btn-inset-shadow,inset 0 1px 0 rgba(255,255,255,0.25)));padding-left:8px;padding-right:8px;}/*!sc*/
.bkOoYh:focus:not(:disabled){box-shadow:none;outline:2px solid var(--fgColor-accent,var(--color-accent-fg,#0969da));outline-offset:-2px;}/*!sc*/
.bkOoYh:focus:not(:disabled):not(:focus-visible){outline:solid 1px transparent;}/*!sc*/
.bkOoYh:focus-visible:not(:disabled){box-shadow:none;outline:2px solid var(--fgColor-accent,var(--color-accent-fg,#0969da));outline-offset:-2px;}/*!sc*/
.bkOoYh[href]{display:-webkit-inline-box;display:-webkit-inline-flex;display:-ms-inline-flexbox;display:inline-flex;}/*!sc*/
.bkOoYh[href]:hover{-webkit-text-decoration:none;text-decoration:none;}/*!sc*/
.bkOoYh:hover{-webkit-transition-duration:80ms;transition-duration:80ms;}/*!sc*/
.bkOoYh:active{-webkit-transition:none;transition:none;}/*!sc*/
.bkOoYh[data-inactive]{cursor:auto;}/*!sc*/
.bkOoYh:disabled{cursor:not-allowed;box-shadow:none;color:var(--fgColor-disabled,var(--color-primer-fg-disabled,#8c959f));}/*!sc*/
.bkOoYh:disabled [data-component=ButtonCounter]{color:inherit;}/*!sc*/
@media (forced-colors:active){.bkOoYh:focus{outline:solid 1px transparent;}}/*!sc*/
.bkOoYh [data-component=ButtonCounter]{font-size:12px;}/*!sc*/
.bkOoYh[data-component=IconButton]{display:inline-grid;padding:unset;place-content:center;width:32px;min-width:unset;}/*!sc*/
.bkOoYh[data-size="small"]{padding:0 8px;height:28px;gap:4px;font-size:12px;}/*!sc*/
.bkOoYh[data-size="small"] [data-component="text"]{line-height:calc(20 / 12);}/*!sc*/
.bkOoYh[data-size="small"] [data-component=ButtonCounter]{font-size:12px;}/*!sc*/
.bkOoYh[data-size="small"] [data-component="buttonContent"] > :not(:last-child){margin-right:4px;}/*!sc*/
.bkOoYh[data-size="small"][data-component=IconButton]{width:28px;padding:unset;}/*!sc*/
.bkOoYh[data-size="large"]{padding:0 16px;height:40px;gap:8px;}/*!sc*/
.bkOoYh[data-size="large"] [data-component="buttonContent"] > :not(:last-child){margin-right:8px;}/*!sc*/
.bkOoYh[data-size="large"][data-component=IconButton]{width:40px;padding:unset;}/*!sc*/
.bkOoYh[data-block="block"]{width:100%;}/*!sc*/
.bkOoYh[data-inactive]:not([disabled]){background-color:var(--button-inactive-bgColor,var(--button-inactive-bgColor-rest,var(--color-btn-inactive-bg,#eaeef2)));border-color:var(--button-inactive-bgColor,var(--button-inactive-bgColor-rest,var(--color-btn-inactive-bg,#eaeef2)));color:var(--button-inactive-fgColor,var(--button-inactive-fgColor-rest,var(--color-btn-inactive-text,#57606a)));}/*!sc*/
.bkOoYh[data-inactive]:not([disabled]):focus-visible{box-shadow:none;}/*!sc*/
.bkOoYh [data-component="leadingVisual"]{grid-area:leadingVisual;}/*!sc*/
.bkOoYh [data-component="text"]{grid-area:text;line-height:calc(20/14);white-space:nowrap;}/*!sc*/
.bkOoYh [data-component="trailingVisual"]{grid-area:trailingVisual;}/*!sc*/
.bkOoYh [data-component="trailingAction"]{margin-right:-4px;}/*!sc*/
.bkOoYh [data-component="buttonContent"]{-webkit-flex:1 0 auto;-ms-flex:1 0 auto;flex:1 0 auto;display:grid;grid-template-areas:"leadingVisual text trailingVisual";grid-template-columns:min-content minmax(0,auto) min-content;-webkit-align-items:center;-webkit-box-align:center;-ms-flex-align:center;align-items:center;-webkit-align-content:center;-ms-flex-line-pack:center;align-content:center;}/*!sc*/
.bkOoYh [data-component="buttonContent"] > :not(:last-child){margin-right:8px;}/*!sc*/
.bkOoYh:hover:not([disabled]):not([data-inactive]){background-color:var(--button-default-bgColor-hover,var(--color-btn-hover-bg,#f3f4f6));border-color:var(--button-default-borderColor-hover,var(--button-default-borderColor-hover,var(--color-btn-hover-border,rgba(31,35,40,0.15))));}/*!sc*/
.bkOoYh:active:not([disabled]):not([data-inactive]){background-color:var(--button-default-bgColor-active,var(--color-btn-active-bg,hsla(220,14%,93%,1)));border-color:var(--button-default-borderColor-active,var(--button-default-borderColor-active,var(--color-btn-active-border,rgba(31,35,40,0.15))));}/*!sc*/
.bkOoYh[aria-expanded=true]{background-color:var(--button-default-bgColor-active,var(--color-btn-active-bg,hsla(220,14%,93%,1)));border-color:var(--button-default-borderColor-active,var(--button-default-borderColor-active,var(--color-btn-active-border,rgba(31,35,40,0.15))));}/*!sc*/
.bkOoYh [data-component="leadingVisual"],.bkOoYh [data-component="trailingVisual"],.bkOoYh [data-component="trailingAction"]{color:var(--button-color,var(--fgColor-muted,var(--color-fg-muted,#656d76)));}/*!sc*/
.bkOoYh linkButtonSx:hover:not([disabled]){-webkit-text-decoration:none;text-decoration:none;}/*!sc*/
.bkOoYh linkButtonSx:focus:not([disabled]){-webkit-text-decoration:none;text-decoration:none;}/*!sc*/
.bkOoYh linkButtonSx:active:not([disabled]){-webkit-text-decoration:none;text-decoration:none;}/*!sc*/
.gyYLjU{border-radius:6px;border:1px solid;border-color:var(--button-default-borderColor-rest,var(--button-default-borderColor-rest,var(--color-btn-border,rgba(31,35,40,0.15))));font-family:inherit;font-weight:500;font-size:14px;cursor:pointer;-webkit-appearance:none;-moz-appearance:none;appearance:none;-webkit-user-select:none;-moz-user-select:none;-ms-user-select:none;user-select:none;-webkit-text-decoration:none;text-decoration:none;text-align:center;display:-webkit-box;display:-webkit-flex;display:-ms-flexbox;display:flex;-webkit-align-items:center;-webkit-box-align:center;-ms-flex-align:center;align-items:center;-webkit-box-pack:justify;-webkit-justify-content:space-between;-ms-flex-pack:justify;justify-content:space-between;height:32px;padding:0 12px;gap:8px;min-width:-webkit-max-content;min-width:-moz-max-content;min-width:max-content;-webkit-transition:80ms cubic-bezier(0.65,0,0.35,1);transition:80ms cubic-bezier(0.65,0,0.35,1);-webkit-transition-property:color,fill,background-color,border-color;transition-property:color,fill,background-color,border-color;color:var(--button-default-fgColor-rest,var(--color-btn-text,#24292f));background-color:var(--button-default-bgColor-rest,var(--color-btn-bg,#f6f8fa));box-shadow:var(--button-default-shadow-resting,var(--color-btn-shadow,0 1px 0 rgba(31,35,40,0.04))),var(--button-default-shadow-inset,var(--color-btn-inset-shadow,inset 0 1px 0 rgba(255,255,255,0.25)));}/*!sc*/
.gyYLjU:focus:not(:disabled){box-shadow:none;outline:2px solid var(--fgColor-accent,var(--color-accent-fg,#0969da));outline-offset:-2px;}/*!sc*/
.gyYLjU:focus:not(:disabled):not(:focus-visible){outline:solid 1px transparent;}/*!sc*/
.gyYLjU:focus-visible:not(:disabled){box-shadow:none;outline:2px solid var(--fgColor-accent,var(--color-accent-fg,#0969da));outline-offset:-2px;}/*!sc*/
.gyYLjU[href]{display:-webkit-inline-box;display:-webkit-inline-flex;display:-ms-inline-flexbox;display:inline-flex;}/*!sc*/
.gyYLjU[href]:hover{-webkit-text-decoration:none;text-decoration:none;}/*!sc*/
.gyYLjU:hover{-webkit-transition-duration:80ms;transition-duration:80ms;}/*!sc*/
.gyYLjU:active{-webkit-transition:none;transition:none;}/*!sc*/
.gyYLjU[data-inactive]{cursor:auto;}/*!sc*/
.gyYLjU:disabled{cursor:not-allowed;box-shadow:none;color:var(--fgColor-disabled,var(--color-primer-fg-disabled,#8c959f));}/*!sc*/
.gyYLjU:disabled [data-component=ButtonCounter]{color:inherit;}/*!sc*/
@media (forced-colors:active){.gyYLjU:focus{outline:solid 1px transparent;}}/*!sc*/
.gyYLjU [data-component=ButtonCounter]{font-size:12px;}/*!sc*/
.gyYLjU[data-component=IconButton]{display:inline-grid;padding:unset;place-content:center;width:32px;min-width:unset;}/*!sc*/
.gyYLjU[data-size="small"]{padding:0 8px;height:28px;gap:4px;font-size:12px;}/*!sc*/
.gyYLjU[data-size="small"] [data-component="text"]{line-height:calc(20 / 12);}/*!sc*/
.gyYLjU[data-size="small"] [data-component=ButtonCounter]{font-size:12px;}/*!sc*/
.gyYLjU[data-size="small"] [data-component="buttonContent"] > :not(:last-child){margin-right:4px;}/*!sc*/
.gyYLjU[data-size="small"][data-component=IconButton]{width:28px;padding:unset;}/*!sc*/
.gyYLjU[data-size="large"]{padding:0 16px;height:40px;gap:8px;}/*!sc*/
.gyYLjU[data-size="large"] [data-component="buttonContent"] > :not(:last-child){margin-right:8px;}/*!sc*/
.gyYLjU[data-size="large"][data-component=IconButton]{width:40px;padding:unset;}/*!sc*/
.gyYLjU[data-block="block"]{width:100%;}/*!sc*/
.gyYLjU[data-inactive]:not([disabled]){background-color:var(--button-inactive-bgColor,var(--button-inactive-bgColor-rest,var(--color-btn-inactive-bg,#eaeef2)));border-color:var(--button-inactive-bgColor,var(--button-inactive-bgColor-rest,var(--color-btn-inactive-bg,#eaeef2)));color:var(--button-inactive-fgColor,var(--button-inactive-fgColor-rest,var(--color-btn-inactive-text,#57606a)));}/*!sc*/
.gyYLjU[data-inactive]:not([disabled]):focus-visible{box-shadow:none;}/*!sc*/
.gyYLjU [data-component="leadingVisual"]{grid-area:leadingVisual;}/*!sc*/
.gyYLjU [data-component="text"]{grid-area:text;line-height:calc(20/14);white-space:nowrap;}/*!sc*/
.gyYLjU [data-component="trailingVisual"]{grid-area:trailingVisual;}/*!sc*/
.gyYLjU [data-component="trailingAction"]{margin-right:-4px;}/*!sc*/
.gyYLjU [data-component="buttonContent"]{-webkit-flex:1 0 auto;-ms-flex:1 0 auto;flex:1 0 auto;display:grid;grid-template-areas:"leadingVisual text trailingVisual";grid-template-columns:min-content minmax(0,auto) min-content;-webkit-align-items:center;-webkit-box-align:center;-ms-flex-align:center;align-items:center;-webkit-align-content:center;-ms-flex-line-pack:center;align-content:center;}/*!sc*/
.gyYLjU [data-component="buttonContent"] > :not(:last-child){margin-right:8px;}/*!sc*/
.gyYLjU:hover:not([disabled]):not([data-inactive]){background-color:var(--button-default-bgColor-hover,var(--color-btn-hover-bg,#f3f4f6));border-color:var(--button-default-borderColor-hover,var(--button-default-borderColor-hover,var(--color-btn-hover-border,rgba(31,35,40,0.15))));}/*!sc*/
.gyYLjU:active:not([disabled]):not([data-inactive]){background-color:var(--button-default-bgColor-active,var(--color-btn-active-bg,hsla(220,14%,93%,1)));border-color:var(--button-default-borderColor-active,var(--button-default-borderColor-active,var(--color-btn-active-border,rgba(31,35,40,0.15))));}/*!sc*/
.gyYLjU[aria-expanded=true]{background-color:var(--button-default-bgColor-active,var(--color-btn-active-bg,hsla(220,14%,93%,1)));border-color:var(--button-default-borderColor-active,var(--button-default-borderColor-active,var(--color-btn-active-border,rgba(31,35,40,0.15))));}/*!sc*/
.gyYLjU [data-component="leadingVisual"],.gyYLjU [data-component="trailingVisual"],.gyYLjU [data-component="trailingAction"]{color:var(--button-color,var(--fgColor-muted,var(--color-fg-muted,#656d76)));}/*!sc*/
.jQxWRE{border-radius:6px;border:1px solid;border-color:var(--button-default-borderColor-rest,var(--button-default-borderColor-rest,var(--color-btn-border,rgba(31,35,40,0.15))));font-family:inherit;font-weight:500;font-size:14px;cursor:pointer;-webkit-appearance:none;-moz-appearance:none;appearance:none;-webkit-user-select:none;-moz-user-select:none;-ms-user-select:none;user-select:none;-webkit-text-decoration:none;text-decoration:none;text-align:center;display:-webkit-box;display:-webkit-flex;display:-ms-flexbox;display:flex;-webkit-align-items:center;-webkit-box-align:center;-ms-flex-align:center;align-items:center;-webkit-box-pack:justify;-webkit-justify-content:space-between;-ms-flex-pack:justify;justify-content:space-between;height:32px;padding:0 12px;gap:8px;min-width:-webkit-max-content;min-width:-moz-max-content;min-width:max-content;-webkit-transition:80ms cubic-bezier(0.65,0,0.35,1);transition:80ms cubic-bezier(0.65,0,0.35,1);-webkit-transition-property:color,fill,background-color,border-color;transition-property:color,fill,background-color,border-color;color:var(--button-default-fgColor-rest,var(--color-btn-text,#24292f));background-color:var(--button-default-bgColor-rest,var(--color-btn-bg,#f6f8fa));box-shadow:var(--button-default-shadow-resting,var(--color-btn-shadow,0 1px 0 rgba(31,35,40,0.04))),var(--button-default-shadow-inset,var(--color-btn-inset-shadow,inset 0 1px 0 rgba(255,255,255,0.25)));}/*!sc*/
.jQxWRE:focus:not(:disabled){box-shadow:none;outline:2px solid var(--fgColor-accent,var(--color-accent-fg,#0969da));outline-offset:-2px;}/*!sc*/
.jQxWRE:focus:not(:disabled):not(:focus-visible){outline:solid 1px transparent;}/*!sc*/
.jQxWRE:focus-visible:not(:disabled){box-shadow:none;outline:2px solid var(--fgColor-accent,var(--color-accent-fg,#0969da));outline-offset:-2px;}/*!sc*/
.jQxWRE[href]{display:-webkit-inline-box;display:-webkit-inline-flex;display:-ms-inline-flexbox;display:inline-flex;}/*!sc*/
.jQxWRE[href]:hover{-webkit-text-decoration:none;text-decoration:none;}/*!sc*/
.jQxWRE:hover{-webkit-transition-duration:80ms;transition-duration:80ms;}/*!sc*/
.jQxWRE:active{-webkit-transition:none;transition:none;}/*!sc*/
.jQxWRE[data-inactive]{cursor:auto;}/*!sc*/
.jQxWRE:disabled{cursor:not-allowed;box-shadow:none;color:var(--fgColor-disabled,var(--color-primer-fg-disabled,#8c959f));}/*!sc*/
.jQxWRE:disabled [data-component=ButtonCounter]{color:inherit;}/*!sc*/
@media (forced-colors:active){.jQxWRE:focus{outline:solid 1px transparent;}}/*!sc*/
.jQxWRE [data-component=ButtonCounter]{font-size:12px;}/*!sc*/
.jQxWRE[data-component=IconButton]{display:inline-grid;padding:unset;place-content:center;width:32px;min-width:unset;}/*!sc*/
.jQxWRE[data-size="small"]{padding:0 8px;height:28px;gap:4px;font-size:12px;}/*!sc*/
.jQxWRE[data-size="small"] [data-component="text"]{line-height:calc(20 / 12);}/*!sc*/
.jQxWRE[data-size="small"] [data-component=ButtonCounter]{font-size:12px;}/*!sc*/
.jQxWRE[data-size="small"] [data-component="buttonContent"] > :not(:last-child){margin-right:4px;}/*!sc*/
.jQxWRE[data-size="small"][data-component=IconButton]{width:28px;padding:unset;}/*!sc*/
.jQxWRE[data-size="large"]{padding:0 16px;height:40px;gap:8px;}/*!sc*/
.jQxWRE[data-size="large"] [data-component="buttonContent"] > :not(:last-child){margin-right:8px;}/*!sc*/
.jQxWRE[data-size="large"][data-component=IconButton]{width:40px;padding:unset;}/*!sc*/
.jQxWRE[data-block="block"]{width:100%;}/*!sc*/
.jQxWRE[data-inactive]:not([disabled]){background-color:var(--button-inactive-bgColor,var(--button-inactive-bgColor-rest,var(--color-btn-inactive-bg,#eaeef2)));border-color:var(--button-inactive-bgColor,var(--button-inactive-bgColor-rest,var(--color-btn-inactive-bg,#eaeef2)));color:var(--button-inactive-fgColor,var(--button-inactive-fgColor-rest,var(--color-btn-inactive-text,#57606a)));}/*!sc*/
.jQxWRE[data-inactive]:not([disabled]):focus-visible{box-shadow:none;}/*!sc*/
.jQxWRE [data-component="leadingVisual"]{grid-area:leadingVisual;}/*!sc*/
.jQxWRE [data-component="text"]{grid-area:text;line-height:calc(20/14);white-space:nowrap;}/*!sc*/
.jQxWRE [data-component="trailingVisual"]{grid-area:trailingVisual;}/*!sc*/
.jQxWRE [data-component="trailingAction"]{margin-right:-4px;}/*!sc*/
.jQxWRE [data-component="buttonContent"]{-webkit-flex:1 0 auto;-ms-flex:1 0 auto;flex:1 0 auto;display:grid;grid-template-areas:"leadingVisual text trailingVisual";grid-template-columns:min-content minmax(0,auto) min-content;-webkit-align-items:center;-webkit-box-align:center;-ms-flex-align:center;align-items:center;-webkit-align-content:center;-ms-flex-line-pack:center;align-content:center;}/*!sc*/
.jQxWRE [data-component="buttonContent"] > :not(:last-child){margin-right:8px;}/*!sc*/
.jQxWRE:hover:not([disabled]):not([data-inactive]){background-color:var(--button-default-bgColor-hover,var(--color-btn-hover-bg,#f3f4f6));border-color:var(--button-default-borderColor-hover,var(--button-default-borderColor-hover,var(--color-btn-hover-border,rgba(31,35,40,0.15))));}/*!sc*/
.jQxWRE:active:not([disabled]):not([data-inactive]){background-color:var(--button-default-bgColor-active,var(--color-btn-active-bg,hsla(220,14%,93%,1)));border-color:var(--button-default-borderColor-active,var(--button-default-borderColor-active,var(--color-btn-active-border,rgba(31,35,40,0.15))));}/*!sc*/
.jQxWRE[aria-expanded=true]{background-color:var(--button-default-bgColor-active,var(--color-btn-active-bg,hsla(220,14%,93%,1)));border-color:var(--button-default-borderColor-active,var(--button-default-borderColor-active,var(--color-btn-active-border,rgba(31,35,40,0.15))));}/*!sc*/
.jQxWRE [data-component="leadingVisual"],.jQxWRE [data-component="trailingVisual"],.jQxWRE [data-component="trailingAction"]{color:var(--button-color,var(--fgColor-muted,var(--color-fg-muted,#656d76)));}/*!sc*/
.jQxWRE[data-size="small"][data-no-visuals]{border-top-left-radius:0;border-bottom-left-radius:0;}/*!sc*/
.HrSzO{border-radius:6px;border:1px solid;border-color:var(--button-default-borderColor-rest,var(--button-default-borderColor-rest,var(--color-btn-border,rgba(31,35,40,0.15))));font-family:inherit;font-weight:500;font-size:14px;cursor:pointer;-webkit-appearance:none;-moz-appearance:none;appearance:none;-webkit-user-select:none;-moz-user-select:none;-ms-user-select:none;user-select:none;-webkit-text-decoration:none;text-decoration:none;text-align:center;display:-webkit-box;display:-webkit-flex;display:-ms-flexbox;display:flex;-webkit-align-items:center;-webkit-box-align:center;-ms-flex-align:center;align-items:center;-webkit-box-pack:justify;-webkit-justify-content:space-between;-ms-flex-pack:justify;justify-content:space-between;height:32px;padding:0 12px;gap:8px;min-width:-webkit-max-content;min-width:-moz-max-content;min-width:max-content;-webkit-transition:80ms cubic-bezier(0.65,0,0.35,1);transition:80ms cubic-bezier(0.65,0,0.35,1);-webkit-transition-property:color,fill,background-color,border-color;transition-property:color,fill,background-color,border-color;color:var(--button-default-fgColor-rest,var(--color-btn-text,#24292f));background-color:var(--button-default-bgColor-rest,var(--color-btn-bg,#f6f8fa));box-shadow:var(--button-default-shadow-resting,var(--color-btn-shadow,0 1px 0 rgba(31,35,40,0.04))),var(--button-default-shadow-inset,var(--color-btn-inset-shadow,inset 0 1px 0 rgba(255,255,255,0.25)));}/*!sc*/
.HrSzO:focus:not(:disabled){box-shadow:none;outline:2px solid var(--fgColor-accent,var(--color-accent-fg,#0969da));outline-offset:-2px;}/*!sc*/
.HrSzO:focus:not(:disabled):not(:focus-visible){outline:solid 1px transparent;}/*!sc*/
.HrSzO:focus-visible:not(:disabled){box-shadow:none;outline:2px solid var(--fgColor-accent,var(--color-accent-fg,#0969da));outline-offset:-2px;}/*!sc*/
.HrSzO[href]{display:-webkit-inline-box;display:-webkit-inline-flex;display:-ms-inline-flexbox;display:inline-flex;}/*!sc*/
.HrSzO[href]:hover{-webkit-text-decoration:none;text-decoration:none;}/*!sc*/
.HrSzO:hover{-webkit-transition-duration:80ms;transition-duration:80ms;}/*!sc*/
.HrSzO:active{-webkit-transition:none;transition:none;}/*!sc*/
.HrSzO[data-inactive]{cursor:auto;}/*!sc*/
.HrSzO:disabled{cursor:not-allowed;box-shadow:none;color:var(--fgColor-disabled,var(--color-primer-fg-disabled,#8c959f));}/*!sc*/
.HrSzO:disabled [data-component=ButtonCounter]{color:inherit;}/*!sc*/
@media (forced-colors:active){.HrSzO:focus{outline:solid 1px transparent;}}/*!sc*/
.HrSzO [data-component=ButtonCounter]{font-size:12px;}/*!sc*/
.HrSzO[data-component=IconButton]{display:inline-grid;padding:unset;place-content:center;width:32px;min-width:unset;}/*!sc*/
.HrSzO[data-size="small"]{padding:0 8px;height:28px;gap:4px;font-size:12px;}/*!sc*/
.HrSzO[data-size="small"] [data-component="text"]{line-height:calc(20 / 12);}/*!sc*/
.HrSzO[data-size="small"] [data-component=ButtonCounter]{font-size:12px;}/*!sc*/
.HrSzO[data-size="small"] [data-component="buttonContent"] > :not(:last-child){margin-right:4px;}/*!sc*/
.HrSzO[data-size="small"][data-component=IconButton]{width:28px;padding:unset;}/*!sc*/
.HrSzO[data-size="large"]{padding:0 16px;height:40px;gap:8px;}/*!sc*/
.HrSzO[data-size="large"] [data-component="buttonContent"] > :not(:last-child){margin-right:8px;}/*!sc*/
.HrSzO[data-size="large"][data-component=IconButton]{width:40px;padding:unset;}/*!sc*/
.HrSzO[data-block="block"]{width:100%;}/*!sc*/
.HrSzO[data-inactive]:not([disabled]){background-color:var(--button-inactive-bgColor,var(--button-inactive-bgColor-rest,var(--color-btn-inactive-bg,#eaeef2)));border-color:var(--button-inactive-bgColor,var(--button-inactive-bgColor-rest,var(--color-btn-inactive-bg,#eaeef2)));color:var(--button-inactive-fgColor,var(--button-inactive-fgColor-rest,var(--color-btn-inactive-text,#57606a)));}/*!sc*/
.HrSzO[data-inactive]:not([disabled]):focus-visible{box-shadow:none;}/*!sc*/
.HrSzO [data-component="leadingVisual"]{grid-area:leadingVisual;}/*!sc*/
.HrSzO [data-component="text"]{grid-area:text;line-height:calc(20/14);white-space:nowrap;}/*!sc*/
.HrSzO [data-component="trailingVisual"]{grid-area:trailingVisual;}/*!sc*/
.HrSzO [data-component="trailingAction"]{margin-right:-4px;}/*!sc*/
.HrSzO [data-component="buttonContent"]{-webkit-flex:1 0 auto;-ms-flex:1 0 auto;flex:1 0 auto;display:grid;grid-template-areas:"leadingVisual text trailingVisual";grid-template-columns:min-content minmax(0,auto) min-content;-webkit-align-items:center;-webkit-box-align:center;-ms-flex-align:center;align-items:center;-webkit-align-content:center;-ms-flex-line-pack:center;align-content:center;}/*!sc*/
.HrSzO [data-component="buttonContent"] > :not(:last-child){margin-right:8px;}/*!sc*/
.HrSzO:hover:not([disabled]):not([data-inactive]){background-color:var(--button-default-bgColor-hover,var(--color-btn-hover-bg,#f3f4f6));border-color:var(--button-default-borderColor-hover,var(--button-default-borderColor-hover,var(--color-btn-hover-border,rgba(31,35,40,0.15))));}/*!sc*/
.HrSzO:active:not([disabled]):not([data-inactive]){background-color:var(--button-default-bgColor-active,var(--color-btn-active-bg,hsla(220,14%,93%,1)));border-color:var(--button-default-borderColor-active,var(--button-default-borderColor-active,var(--color-btn-active-border,rgba(31,35,40,0.15))));}/*!sc*/
.HrSzO[aria-expanded=true]{background-color:var(--button-default-bgColor-active,var(--color-btn-active-bg,hsla(220,14%,93%,1)));border-color:var(--button-default-borderColor-active,var(--button-default-borderColor-active,var(--color-btn-active-border,rgba(31,35,40,0.15))));}/*!sc*/
.HrSzO [data-component="leadingVisual"],.HrSzO [data-component="trailingVisual"],.HrSzO [data-component="trailingAction"]{color:var(--button-color,var(--fgColor-muted,var(--color-fg-muted,#656d76)));}/*!sc*/
.HrSzO[data-size="small"][data-no-visuals]{border-top-right-radius:0;border-bottom-right-radius:0;border-right-width:0;}/*!sc*/
.HrSzO[data-size="small"][data-no-visuals]:hover:not([disabled]){-webkit-text-decoration:none;text-decoration:none;}/*!sc*/
.HrSzO[data-size="small"][data-no-visuals]:focus:not([disabled]){-webkit-text-decoration:none;text-decoration:none;}/*!sc*/
.HrSzO[data-size="small"][data-no-visuals]:active:not([disabled]){-webkit-text-decoration:none;text-decoration:none;}/*!sc*/
.dGDIQc{border-radius:6px;border:1px solid;border-color:transparent;font-family:inherit;font-weight:500;font-size:14px;cursor:pointer;-webkit-appearance:none;-moz-appearance:none;appearance:none;-webkit-user-select:none;-moz-user-select:none;-ms-user-select:none;user-select:none;-webkit-text-decoration:none;text-decoration:none;text-align:center;display:-webkit-box;display:-webkit-flex;display:-ms-flexbox;display:flex;-webkit-align-items:center;-webkit-box-align:center;-ms-flex-align:center;align-items:center;-webkit-box-pack:justify;-webkit-justify-content:space-between;-ms-flex-pack:justify;justify-content:space-between;height:32px;padding:0 12px;gap:8px;min-width:-webkit-max-content;min-width:-moz-max-content;min-width:max-content;-webkit-transition:80ms cubic-bezier(0.65,0,0.35,1);transition:80ms cubic-bezier(0.65,0,0.35,1);-webkit-transition-property:color,fill,background-color,border-color;transition-property:color,fill,background-color,border-color;color:var(--button-default-fgColor-rest,var(--color-btn-text,#24292f));background-color:transparent;box-shadow:none;}/*!sc*/
.dGDIQc:focus:not(:disabled){box-shadow:none;outline:2px solid var(--fgColor-accent,var(--color-accent-fg,#0969da));outline-offset:-2px;}/*!sc*/
.dGDIQc:focus:not(:disabled):not(:focus-visible){outline:solid 1px transparent;}/*!sc*/
.dGDIQc:focus-visible:not(:disabled){box-shadow:none;outline:2px solid var(--fgColor-accent,var(--color-accent-fg,#0969da));outline-offset:-2px;}/*!sc*/
.dGDIQc[href]{display:-webkit-inline-box;display:-webkit-inline-flex;display:-ms-inline-flexbox;display:inline-flex;}/*!sc*/
.dGDIQc[href]:hover{-webkit-text-decoration:none;text-decoration:none;}/*!sc*/
.dGDIQc:hover{-webkit-transition-duration:80ms;transition-duration:80ms;}/*!sc*/
.dGDIQc:active{-webkit-transition:none;transition:none;}/*!sc*/
.dGDIQc[data-inactive]{cursor:auto;}/*!sc*/
.dGDIQc:disabled{cursor:not-allowed;box-shadow:none;color:var(--fgColor-disabled,var(--color-primer-fg-disabled,#8c959f));}/*!sc*/
.dGDIQc:disabled [data-component=ButtonCounter],.dGDIQc:disabled [data-component="leadingVisual"],.dGDIQc:disabled [data-component="trailingAction"]{color:inherit;}/*!sc*/
@media (forced-colors:active){.dGDIQc:focus{outline:solid 1px transparent;}}/*!sc*/
.dGDIQc [data-component=ButtonCounter]{font-size:12px;}/*!sc*/
.dGDIQc[data-component=IconButton]{display:inline-grid;padding:unset;place-content:center;width:32px;min-width:unset;}/*!sc*/
.dGDIQc[data-size="small"]{padding:0 8px;height:28px;gap:4px;font-size:12px;}/*!sc*/
.dGDIQc[data-size="small"] [data-component="text"]{line-height:calc(20 / 12);}/*!sc*/
.dGDIQc[data-size="small"] [data-component=ButtonCounter]{font-size:12px;}/*!sc*/
.dGDIQc[data-size="small"] [data-component="buttonContent"] > :not(:last-child){margin-right:4px;}/*!sc*/
.dGDIQc[data-size="small"][data-component=IconButton]{width:28px;padding:unset;}/*!sc*/
.dGDIQc[data-size="large"]{padding:0 16px;height:40px;gap:8px;}/*!sc*/
.dGDIQc[data-size="large"] [data-component="buttonContent"] > :not(:last-child){margin-right:8px;}/*!sc*/
.dGDIQc[data-size="large"][data-component=IconButton]{width:40px;padding:unset;}/*!sc*/
.dGDIQc[data-block="block"]{width:100%;}/*!sc*/
.dGDIQc[data-inactive]:not([disabled]){background-color:var(--button-inactive-bgColor,var(--button-inactive-bgColor-rest,var(--color-btn-inactive-bg,#eaeef2)));border-color:var(--button-inactive-bgColor,var(--button-inactive-bgColor-rest,var(--color-btn-inactive-bg,#eaeef2)));color:var(--button-inactive-fgColor,var(--button-inactive-fgColor-rest,var(--color-btn-inactive-text,#57606a)));}/*!sc*/
.dGDIQc[data-inactive]:not([disabled]):focus-visible{box-shadow:none;}/*!sc*/
.dGDIQc [data-component="leadingVisual"]{grid-area:leadingVisual;color:var(--fgColor-muted,var(--color-fg-muted,#656d76));}/*!sc*/
.dGDIQc [data-component="text"]{grid-area:text;line-height:calc(20/14);white-space:nowrap;}/*!sc*/
.dGDIQc [data-component="trailingVisual"]{grid-area:trailingVisual;}/*!sc*/
.dGDIQc [data-component="trailingAction"]{margin-right:-4px;color:var(--fgColor-muted,var(--color-fg-muted,#656d76));}/*!sc*/
.dGDIQc [data-component="buttonContent"]{-webkit-flex:1 0 auto;-ms-flex:1 0 auto;flex:1 0 auto;display:grid;grid-template-areas:"leadingVisual text trailingVisual";grid-template-columns:min-content minmax(0,auto) min-content;-webkit-align-items:center;-webkit-box-align:center;-ms-flex-align:center;align-items:center;-webkit-align-content:center;-ms-flex-line-pack:center;align-content:center;}/*!sc*/
.dGDIQc [data-component="buttonContent"] > :not(:last-child){margin-right:8px;}/*!sc*/
.dGDIQc:hover:not([disabled]){background-color:var(--control-transparent-bgColor-hover,var(--color-action-list-item-default-hover-bg,rgba(208,215,222,0.32)));}/*!sc*/
.dGDIQc:active:not([disabled]){background-color:var(--control-transparent-bgColor-active,var(--color-action-list-item-default-active-bg,rgba(208,215,222,0.48)));}/*!sc*/
.dGDIQc[aria-expanded=true]{background-color:var(--control-transparent-bgColor-selected,var(--color-action-list-item-default-selected-bg,rgba(208,215,222,0.24)));}/*!sc*/
.dGDIQc[data-component="IconButton"][data-no-visuals]{color:var(--fgColor-muted,var(--color-fg-muted,#656d76));}/*!sc*/
.dGDIQc[data-no-visuals]{color:var(--fgColor-accent,var(--color-accent-fg,#0969da));}/*!sc*/
.dGDIQc:has([data-component="ButtonCounter"]){color:var(--button-default-fgColor-rest,var(--color-btn-text,#24292f));}/*!sc*/
.dGDIQc:disabled[data-no-visuals]{color:var(--fgColor-disabled,var(--color-primer-fg-disabled,#8c959f));}/*!sc*/
.dGDIQc:disabled[data-no-visuals] [data-component=ButtonCounter]{color:inherit;}/*!sc*/
.dGDIQc[data-size="small"][data-no-visuals]{color:var(--fgColor-muted,var(--color-fg-muted,#656d76));}/*!sc*/
data-styled.g9[id="types__StyledButton-sc-ws60qy-0"]{content:"blmaBs,hkJzmn,eBOWAw,dHiXw,UfKBS,iSXJzk,hZiIV,jAAONu,ivbpoP,fAkXQN,frAFhH,gfKkfV,bkOoYh,gyYLjU,jQxWRE,HrSzO,dGDIQc,"}/*!sc*/
.rTZSs{position:absolute;width:1px;height:1px;padding:0;margin:-1px;overflow:hidden;-webkit-clip:rect(0,0,0,0);clip:rect(0,0,0,0);white-space:nowrap;border-width:0;}/*!sc*/
data-styled.g10[id="_VisuallyHidden__VisuallyHidden-sc-11jhm7a-0"]{content:"rTZSs,"}/*!sc*/
.fUpWeN{display:inline-block;overflow:hidden;text-overflow:ellipsis;vertical-align:top;white-space:nowrap;max-width:125px;max-width:100%;}/*!sc*/
data-styled.g15[id="Truncate__StyledTruncate-sc-23o1d2-0"]{content:"fUpWeN,"}/*!sc*/
.bRTpIc{position:relative;display:inline-block;}/*!sc*/
.bRTpIc::before{position:absolute;z-index:1000001;display:none;width:0px;height:0px;color:var(--bgColor-emphasis,var(--color-neutral-emphasis-plus,#24292f));pointer-events:none;content:'';border:6px solid transparent;opacity:0;}/*!sc*/
.bRTpIc::after{position:absolute;z-index:1000000;display:none;padding:0.5em 0.75em;font:normal normal 11px/1.5 -apple-system,BlinkMacSystemFont,"Segoe UI","Noto Sans",Helvetica,Arial,sans-serif,"Apple Color Emoji","Segoe UI Emoji";-webkit-font-smoothing:subpixel-antialiased;color:var(--fgColor-onEmphasis,var(--color-fg-on-emphasis,#ffffff));text-align:center;-webkit-text-decoration:none;text-decoration:none;text-shadow:none;text-transform:none;-webkit-letter-spacing:normal;-moz-letter-spacing:normal;-ms-letter-spacing:normal;letter-spacing:normal;word-wrap:break-word;white-space:pre;pointer-events:none;content:attr(aria-label);background:var(--bgColor-emphasis,var(--color-neutral-emphasis-plus,#24292f));border-radius:3px;opacity:0;}/*!sc*/
@-webkit-keyframes tooltip-appear{from{opacity:0;}to{opacity:1;}}/*!sc*/
@keyframes tooltip-appear{from{opacity:0;}to{opacity:1;}}/*!sc*/
.bRTpIc:hover::before,.bRTpIc:active::before,.bRTpIc:focus::before,.bRTpIc:focus-within::before,.bRTpIc:hover::after,.bRTpIc:active::after,.bRTpIc:focus::after,.bRTpIc:focus-within::after{display:inline-block;-webkit-text-decoration:none;text-decoration:none;-webkit-animation-name:tooltip-appear;animation-name:tooltip-appear;-webkit-animation-duration:0.1s;animation-duration:0.1s;-webkit-animation-fill-mode:forwards;animation-fill-mode:forwards;-webkit-animation-timing-function:ease-in;animation-timing-function:ease-in;-webkit-animation-delay:0.4s;animation-delay:0.4s;}/*!sc*/
.bRTpIc.tooltipped-no-delay:hover::before,.bRTpIc.tooltipped-no-delay:active::before,.bRTpIc.tooltipped-no-delay:focus::before,.bRTpIc.tooltipped-no-delay:focus-within::before,.bRTpIc.tooltipped-no-delay:hover::after,.bRTpIc.tooltipped-no-delay:active::after,.bRTpIc.tooltipped-no-delay:focus::after,.bRTpIc.tooltipped-no-delay:focus-within::after{-webkit-animation-delay:0s;animation-delay:0s;}/*!sc*/
.bRTpIc.tooltipped-multiline:hover::after,.bRTpIc.tooltipped-multiline:active::after,.bRTpIc.tooltipped-multiline:focus::after,.bRTpIc.tooltipped-multiline:focus-within::after{display:table-cell;}/*!sc*/
.bRTpIc.tooltipped-s::after,.bRTpIc.tooltipped-se::after,.bRTpIc.tooltipped-sw::after{top:100%;right:50%;margin-top:6px;}/*!sc*/
.bRTpIc.tooltipped-s::before,.bRTpIc.tooltipped-se::before,.bRTpIc.tooltipped-sw::before{top:auto;right:50%;bottom:-7px;margin-right:-6px;border-bottom-color:var(--bgColor-emphasis,var(--color-neutral-emphasis-plus,#24292f));}/*!sc*/
.bRTpIc.tooltipped-se::after{right:auto;left:50%;margin-left:-16px;}/*!sc*/
.bRTpIc.tooltipped-sw::after{margin-right:-16px;}/*!sc*/
.bRTpIc.tooltipped-n::after,.bRTpIc.tooltipped-ne::after,.bRTpIc.tooltipped-nw::after{right:50%;bottom:100%;margin-bottom:6px;}/*!sc*/
.bRTpIc.tooltipped-n::before,.bRTpIc.tooltipped-ne::before,.bRTpIc.tooltipped-nw::before{top:-7px;right:50%;bottom:auto;margin-right:-6px;border-top-color:var(--bgColor-emphasis,var(--color-neutral-emphasis-plus,#24292f));}/*!sc*/
.bRTpIc.tooltipped-ne::after{right:auto;left:50%;margin-left:-16px;}/*!sc*/
.bRTpIc.tooltipped-nw::after{margin-right:-16px;}/*!sc*/
.bRTpIc.tooltipped-s::after,.bRTpIc.tooltipped-n::after{-webkit-transform:translateX(50%);-ms-transform:translateX(50%);transform:translateX(50%);}/*!sc*/
.bRTpIc.tooltipped-w::after{right:100%;bottom:50%;margin-right:6px;-webkit-transform:translateY(50%);-ms-transform:translateY(50%);transform:translateY(50%);}/*!sc*/
.bRTpIc.tooltipped-w::before{top:50%;bottom:50%;left:-7px;margin-top:-6px;border-left-color:var(--bgColor-emphasis,var(--color-neutral-emphasis-plus,#24292f));}/*!sc*/
.bRTpIc.tooltipped-e::after{bottom:50%;left:100%;margin-left:6px;-webkit-transform:translateY(50%);-ms-transform:translateY(50%);transform:translateY(50%);}/*!sc*/
.bRTpIc.tooltipped-e::before{top:50%;right:-7px;bottom:50%;margin-top:-6px;border-right-color:var(--bgColor-emphasis,var(--color-neutral-emphasis-plus,#24292f));}/*!sc*/
.bRTpIc.tooltipped-multiline::after{width:-webkit-max-content;width:-moz-max-content;width:max-content;max-width:250px;word-wrap:break-word;white-space:pre-line;border-collapse:separate;}/*!sc*/
.bRTpIc.tooltipped-multiline.tooltipped-s::after,.bRTpIc.tooltipped-multiline.tooltipped-n::after{right:auto;left:50%;-webkit-transform:translateX(-50%);-ms-transform:translateX(-50%);transform:translateX(-50%);}/*!sc*/
.bRTpIc.tooltipped-multiline.tooltipped-w::after,.bRTpIc.tooltipped-multiline.tooltipped-e::after{right:100%;}/*!sc*/
.bRTpIc.tooltipped-align-right-2::after{right:0;margin-right:0;}/*!sc*/
.bRTpIc.tooltipped-align-right-2::before{right:15px;}/*!sc*/
.bRTpIc.tooltipped-align-left-2::after{left:0;margin-left:0;}/*!sc*/
.bRTpIc.tooltipped-align-left-2::before{left:10px;}/*!sc*/
data-styled.g18[id="Tooltip__TooltipBase-sc-17tf59c-0"]{content:"bRTpIc,"}/*!sc*/
.hPEVNM{-webkit-animation:rotate-keyframes 1s linear infinite;animation:rotate-keyframes 1s linear infinite;}/*!sc*/
@-webkit-keyframes rotate-keyframes{100%{-webkit-transform:rotate(360deg);-ms-transform:rotate(360deg);transform:rotate(360deg);}}/*!sc*/
@keyframes rotate-keyframes{100%{-webkit-transform:rotate(360deg);-ms-transform:rotate(360deg);transform:rotate(360deg);}}/*!sc*/
data-styled.g28[id="Spinner__StyledSpinner-sc-1knt686-0"]{content:"hPEVNM,"}/*!sc*/
.frxNoc{font-size:14px;line-height:20px;color:var(--fgColor-default,var(--color-fg-default,#1F2328));vertical-align:middle;background-color:var(--bgColor-default,var(--color-canvas-default,#ffffff));border:1px solid var(--control-borderColor-rest,var(--borderColor-default,var(--color-border-default,#d0d7de)));border-radius:6px;outline:none;box-shadow:var(--shadow-inset,var(--color-primer-shadow-inset,inset 0 1px 0 rgba(208,215,222,0.2)));display:-webkit-inline-box;display:-webkit-inline-flex;display:-ms-inline-flexbox;display:inline-flex;-webkit-align-items:stretch;-webkit-box-align:stretch;-ms-flex-align:stretch;align-items:stretch;min-height:32px;overflow:hidden;display:-webkit-box;display:-webkit-flex;display:-ms-flexbox;display:flex;min-width:160px;}/*!sc*/
.frxNoc input,.frxNoc textarea{cursor:text;}/*!sc*/
.frxNoc select{cursor:pointer;}/*!sc*/
.frxNoc::-webkit-input-placeholder{color:var(--fgColor-muted,var(--color-fg-subtle,#6e7781));}/*!sc*/
.frxNoc::-moz-placeholder{color:var(--fgColor-muted,var(--color-fg-subtle,#6e7781));}/*!sc*/
.frxNoc:-ms-input-placeholder{color:var(--fgColor-muted,var(--color-fg-subtle,#6e7781));}/*!sc*/
.frxNoc::placeholder{color:var(--fgColor-muted,var(--color-fg-subtle,#6e7781));}/*!sc*/
.frxNoc:focus-within{border-color:var(--fgColor-accent,var(--color-accent-fg,#0969da));outline:2px solid var(--fgColor-accent,var(--color-accent-fg,#0969da));outline-offset:-1px;}/*!sc*/
.frxNoc > textarea{padding:12px;}/*!sc*/
@media (min-width:768px){.frxNoc{font-size:14px;}}/*!sc*/
data-styled.g37[id="TextInputWrapper__TextInputBaseWrapper-sc-1mqhpbi-0"]{content:"frxNoc,"}/*!sc*/
.jbzqwE{background-repeat:no-repeat;background-position:right 8px center;padding-left:12px;padding-right:12px;display:-webkit-box;display:-webkit-flex;display:-ms-flexbox;display:flex;min-width:160px;}/*!sc*/
.jbzqwE > :not(:last-child){margin-right:8px;}/*!sc*/
.jbzqwE .TextInput-icon,.jbzqwE .TextInput-action{-webkit-align-self:center;-ms-flex-item-align:center;align-self:center;color:var(--fgColor-muted,var(--color-fg-muted,#656d76));-webkit-flex-shrink:0;-ms-flex-negative:0;flex-shrink:0;}/*!sc*/
.jbzqwE > input,.jbzqwE > select{padding-left:0;padding-right:0;}/*!sc*/
data-styled.g38[id="TextInputWrapper-sc-1mqhpbi-1"]{content:"jbzqwE,"}/*!sc*/
.cDLBls{border:0;font-size:inherit;font-family:inherit;background-color:transparent;-webkit-appearance:none;color:inherit;width:100%;}/*!sc*/
.cDLBls:focus{outline:0;}/*!sc*/
data-styled.g39[id="UnstyledTextInput-sc-14ypya-0"]{content:"cDLBls,"}/*!sc*/
.jEdVkE{--segmented-control-button-inner-padding:12px;--segmented-control-button-bg-inset:4px;--segmented-control-outer-radius:6px;background-color:transparent;border-color:transparent;border-radius:var(--segmented-control-outer-radius);border-width:0;color:currentColor;cursor:pointer;font-family:inherit;font-size:inherit;font-weight:600;padding:0;height:100%;width:100%;}/*!sc*/
.jEdVkE .segmentedControl-content{-webkit-align-items:center;-webkit-box-align:center;-ms-flex-align:center;align-items:center;background-color:var(--controlKnob-bgColor-rest,var(--color-segmented-control-button-bg,#ffffff));border-color:var(--controlKnob-borderColor-rest,var(--color-segmented-control-button-hover-active-selected-border,#8c959f));border-style:solid;border-width:1px;border-radius:var(--segmented-control-outer-radius);display:-webkit-box;display:-webkit-flex;display:-ms-flexbox;display:flex;height:100%;-webkit-box-pack:center;-webkit-justify-content:center;-ms-flex-pack:center;justify-content:center;padding-left:var(--segmented-control-button-inner-padding);padding-right:var(--segmented-control-button-inner-padding);}/*!sc*/
.jEdVkE svg{fill:var(--fgColor-muted,var(--color-fg-muted,#656d76));}/*!sc*/
.jEdVkE:focus:focus-visible:not(:last-child):after{width:0;}/*!sc*/
.jEdVkE .segmentedControl-text:after{content:"Preview";display:block;font-weight:600;height:0;overflow:hidden;pointer-events:none;-webkit-user-select:none;-moz-user-select:none;-ms-user-select:none;user-select:none;visibility:hidden;}/*!sc*/
@media (pointer:coarse){.jEdVkE:before{content:"";position:absolute;left:0;right:0;-webkit-transform:translateY(-50%);-ms-transform:translateY(-50%);transform:translateY(-50%);top:50%;min-height:44px;}}/*!sc*/
.TvbfG{--segmented-control-button-inner-padding:12px;--segmented-control-button-bg-inset:4px;--segmented-control-outer-radius:6px;background-color:transparent;border-color:transparent;border-radius:var(--segmented-control-outer-radius);border-width:0;color:currentColor;cursor:pointer;font-family:inherit;font-size:inherit;font-weight:400;padding:var(--segmented-control-button-bg-inset);height:100%;width:100%;}/*!sc*/
.TvbfG .segmentedControl-content{-webkit-align-items:center;-webkit-box-align:center;-ms-flex-align:center;align-items:center;background-color:transparent;border-color:transparent;border-style:solid;border-width:1px;border-radius:calc(var(--segmented-control-outer-radius) - var(--segmented-control-button-bg-inset) / 2);display:-webkit-box;display:-webkit-flex;display:-ms-flexbox;display:flex;height:100%;-webkit-box-pack:center;-webkit-justify-content:center;-ms-flex-pack:center;justify-content:center;padding-left:calc(var(--segmented-control-button-inner-padding) - var(--segmented-control-button-bg-inset));padding-right:calc(var(--segmented-control-button-inner-padding) - var(--segmented-control-button-bg-inset));}/*!sc*/
.TvbfG svg{fill:var(--fgColor-muted,var(--color-fg-muted,#656d76));}/*!sc*/
.TvbfG:hover .segmentedControl-content{background-color:var(--controlTrack-bgColor-hover,var(--color-segmented-control-button-hover-bg,rgba(175,184,193,0.2)));}/*!sc*/
.TvbfG:active .segmentedControl-content{background-color:var(--controlTrack-bgColor-active,var(--color-segmented-control-button-hover-active-bg,rgba(175,184,193,0.4)));}/*!sc*/
.TvbfG:focus:focus-visible:not(:last-child):after{width:0;}/*!sc*/
.TvbfG .segmentedControl-text:after{content:"Code";display:block;font-weight:600;height:0;overflow:hidden;pointer-events:none;-webkit-user-select:none;-moz-user-select:none;-ms-user-select:none;user-select:none;visibility:hidden;}/*!sc*/
@media (pointer:coarse){.TvbfG:before{content:"";position:absolute;left:0;right:0;-webkit-transform:translateY(-50%);-ms-transform:translateY(-50%);transform:translateY(-50%);top:50%;min-height:44px;}}/*!sc*/
.fIktcg{--segmented-control-button-inner-padding:12px;--segmented-control-button-bg-inset:4px;--segmented-control-outer-radius:6px;background-color:transparent;border-color:transparent;border-radius:var(--segmented-control-outer-radius);border-width:0;color:currentColor;cursor:pointer;font-family:inherit;font-size:inherit;font-weight:400;padding:var(--segmented-control-button-bg-inset);height:100%;width:100%;}/*!sc*/
.fIktcg .segmentedControl-content{-webkit-align-items:center;-webkit-box-align:center;-ms-flex-align:center;align-items:center;background-color:transparent;border-color:transparent;border-style:solid;border-width:1px;border-radius:calc(var(--segmented-control-outer-radius) - var(--segmented-control-button-bg-inset) / 2);display:-webkit-box;display:-webkit-flex;display:-ms-flexbox;display:flex;height:100%;-webkit-box-pack:center;-webkit-justify-content:center;-ms-flex-pack:center;justify-content:center;padding-left:calc(var(--segmented-control-button-inner-padding) - var(--segmented-control-button-bg-inset));padding-right:calc(var(--segmented-control-button-inner-padding) - var(--segmented-control-button-bg-inset));}/*!sc*/
.fIktcg svg{fill:var(--fgColor-muted,var(--color-fg-muted,#656d76));}/*!sc*/
.fIktcg:hover .segmentedControl-content{background-color:var(--controlTrack-bgColor-hover,var(--color-segmented-control-button-hover-bg,rgba(175,184,193,0.2)));}/*!sc*/
.fIktcg:active .segmentedControl-content{background-color:var(--controlTrack-bgColor-active,var(--color-segmented-control-button-hover-active-bg,rgba(175,184,193,0.4)));}/*!sc*/
.fIktcg:focus:focus-visible:not(:last-child):after{width:0;}/*!sc*/
.fIktcg .segmentedControl-text:after{content:"Blame";display:block;font-weight:600;height:0;overflow:hidden;pointer-events:none;-webkit-user-select:none;-moz-user-select:none;-ms-user-select:none;user-select:none;visibility:hidden;}/*!sc*/
@media (pointer:coarse){.fIktcg:before{content:"";position:absolute;left:0;right:0;-webkit-transform:translateY(-50%);-ms-transform:translateY(-50%);transform:translateY(-50%);top:50%;min-height:44px;}}/*!sc*/
data-styled.g69[id="SegmentedControlButton__SegmentedControlButtonStyled-sc-8lkgxl-0"]{content:"jEdVkE,TvbfG,fIktcg,"}/*!sc*/
.huxtnT{background-color:var(--controlTrack-bgColor-rest,var(--color-segmented-control-bg,#eaeef2));border-radius:6px;display:-webkit-inline-box;display:-webkit-inline-flex;display:-ms-inline-flexbox;display:inline-flex;font-size:14px;height:28px;margin:0;padding:0;}/*!sc*/
data-styled.g71[id="SegmentedControl__SegmentedControlList-sc-1rzig82-0"]{content:"huxtnT,"}/*!sc*/
.TIGQC{list-style:none;padding:0;margin:0;}/*!sc*/
.TIGQC .PRIVATE_TreeView-item{outline:none;}/*!sc*/
.TIGQC .PRIVATE_TreeView-item:focus-visible > div,.TIGQC .PRIVATE_TreeView-item.focus-visible > div{box-shadow:inset 0 0 0 2px var(--fgColor-accent,var(--color-accent-fg,#0969da));}/*!sc*/
@media (forced-colors:active){.TIGQC .PRIVATE_TreeView-item:focus-visible > div,.TIGQC .PRIVATE_TreeView-item.focus-visible > div{outline:2px solid HighlightText;outline-offset:-2;}}/*!sc*/
.TIGQC .PRIVATE_TreeView-item-container{--level:1;--toggle-width:1rem;position:relative;display:grid;grid-template-columns:calc(calc(var(--level) - 1) * (var(--toggle-width) / 2)) var(--toggle-width) 1fr;grid-template-areas:'spacer toggle content';width:100%;min-height:2rem;font-size:14px;color:var(--fgColor-default,var(--color-fg-default,#1F2328));border-radius:6px;cursor:pointer;}/*!sc*/
.TIGQC .PRIVATE_TreeView-item-container:hover{background-color:var(--control-transparent-bgColor-hover,var(--color-action-list-item-default-hover-bg,rgba(208,215,222,0.32)));}/*!sc*/
@media (forced-colors:active){.TIGQC .PRIVATE_TreeView-item-container:hover{outline:2px solid transparent;outline-offset:-2px;}}/*!sc*/
@media (pointer:coarse){.TIGQC .PRIVATE_TreeView-item-container{--toggle-width:1.5rem;min-height:2.75rem;}}/*!sc*/
.TIGQC .PRIVATE_TreeView-item-container:has(.PRIVATE_TreeView-item-skeleton):hover{background-color:transparent;cursor:default;}/*!sc*/
@media (forced-colors:active){.TIGQC .PRIVATE_TreeView-item-container:has(.PRIVATE_TreeView-item-skeleton):hover{outline:none;}}/*!sc*/
.TIGQC[data-omit-spacer='true'] .PRIVATE_TreeView-item-container{grid-template-columns:0 0 1fr;}/*!sc*/
.TIGQC .PRIVATE_TreeView-item[aria-current='true'] > .PRIVATE_TreeView-item-container{background-color:var(--control-transparent-bgColor-selected,var(--color-action-list-item-default-selected-bg,rgba(208,215,222,0.24)));}/*!sc*/
.TIGQC .PRIVATE_TreeView-item[aria-current='true'] > .PRIVATE_TreeView-item-container::after{content:'';position:absolute;top:calc(50% - 0.75rem);left:-8px;width:0.25rem;height:1.5rem;background-color:var(--fgColor-accent,var(--color-accent-fg,#0969da));border-radius:6px;}/*!sc*/
@media (forced-colors:active){.TIGQC .PRIVATE_TreeView-item[aria-current='true'] > .PRIVATE_TreeView-item-container::after{background-color:HighlightText;}}/*!sc*/
.TIGQC .PRIVATE_TreeView-item-toggle{grid-area:toggle;display:-webkit-box;display:-webkit-flex;display:-ms-flexbox;display:flex;-webkit-align-items:center;-webkit-box-align:center;-ms-flex-align:center;align-items:center;-webkit-box-pack:center;-webkit-justify-content:center;-ms-flex-pack:center;justify-content:center;height:100%;color:var(--fgColor-muted,var(--color-fg-muted,#656d76));}/*!sc*/
.TIGQC .PRIVATE_TreeView-item-toggle--hover:hover{background-color:var(--control-transparent-bgColor-hover,var(--color-tree-view-item-chevron-hover-bg,rgba(208,215,222,0.32)));}/*!sc*/
.TIGQC .PRIVATE_TreeView-item-toggle--end{border-top-left-radius:6px;border-bottom-left-radius:6px;}/*!sc*/
.TIGQC .PRIVATE_TreeView-item-content{grid-area:content;display:-webkit-box;display:-webkit-flex;display:-ms-flexbox;display:flex;-webkit-align-items:center;-webkit-box-align:center;-ms-flex-align:center;align-items:center;height:100%;padding:0 8px;gap:8px;}/*!sc*/
.TIGQC .PRIVATE_TreeView-item-content-text{-webkit-flex:1 1 auto;-ms-flex:1 1 auto;flex:1 1 auto;width:0;overflow:hidden;white-space:nowrap;text-overflow:ellipsis;}/*!sc*/
.TIGQC .PRIVATE_TreeView-item-visual{display:-webkit-box;display:-webkit-flex;display:-ms-flexbox;display:flex;color:var(--fgColor-muted,var(--color-fg-muted,#656d76));}/*!sc*/
.TIGQC .PRIVATE_TreeView-item-level-line{width:100%;height:100%;border-right:1px solid;border-color:var(--borderColor-muted,var(--color-border-subtle,rgba(31,35,40,0.15)));}/*!sc*/
@media (hover:hover){.TIGQC .PRIVATE_TreeView-item-level-line{border-color:transparent;}.TIGQC:hover .PRIVATE_TreeView-item-level-line,.TIGQC:focus-within .PRIVATE_TreeView-item-level-line{border-color:var(--borderColor-muted,var(--color-border-subtle,rgba(31,35,40,0.15)));}}/*!sc*/
.TIGQC .PRIVATE_TreeView-directory-icon{display:grid;color:var(--treeViewItem-leadingVisual-bgColor-rest,var(--color-tree-view-item-chevron-directory-fill,#54aeff));}/*!sc*/
.TIGQC .PRIVATE_VisuallyHidden{position:absolute;width:1px;height:1px;padding:0;margin:-1px;overflow:hidden;-webkit-clip:rect(0,0,0,0);clip:rect(0,0,0,0);white-space:nowrap;border-width:0;}/*!sc*/
data-styled.g84[id="TreeView__UlBox-sc-4ex6b6-0"]{content:"TIGQC,"}/*!sc*/
.cjbBGq{display:-webkit-inline-box;display:-webkit-inline-flex;display:-ms-inline-flexbox;display:inline-flex;vertical-align:middle;isolation:isolate;}/*!sc*/
.cjbBGq.cjbBGq > *{margin-inline-end:-1px;position:relative;border-radius:0;}/*!sc*/
.cjbBGq.cjbBGq > *:first-child{border-top-left-radius:6px;border-bottom-left-radius:6px;}/*!sc*/
.cjbBGq.cjbBGq > *:last-child{border-top-right-radius:6px;border-bottom-right-radius:6px;}/*!sc*/
.cjbBGq.cjbBGq > *:focus,.cjbBGq.cjbBGq > *:active,.cjbBGq.cjbBGq > *:hover{z-index:1;}/*!sc*/
data-styled.g86[id="ButtonGroup-sc-1gxhls1-0"]{content:"cjbBGq,"}/*!sc*/
</style><meta data-hydrostats="publish"/> <!-- --> <!-- --> <!-- --> <button hidden="" data-testid="header-permalink-button" data-hotkey-scope="read-only-cursor-text-area"></button><button hidden=""></button><div class="Box-sc-g0xbh4-0"><div style="--sticky-pane-height:100vh" class="Box-sc-g0xbh4-0 fSWWem"><div class="Box-sc-g0xbh4-0 kPPmzM"><div class="Box-sc-g0xbh4-0 cIAPDV"><div tabindex="0" class="Box-sc-g0xbh4-0 gvCnwW"><div class="Box-sc-g0xbh4-0 xEgty"><div class="Box-sc-g0xbh4-0 eUyHuk"></div><div style="--pane-width:320px" class="Box-sc-g0xbh4-0 gNdDUH"><div class="Box-sc-g0xbh4-0 react-tree-pane-contents"><div id="repos-file-tree" class="Box-sc-g0xbh4-0 jywUSN"><div class="Box-sc-g0xbh4-0 hBSSUC"><div class="Box-sc-g0xbh4-0 iPurHz"><h2 class="Heading__StyledHeading-sc-1c1dgg0-0 fNPcqd"><button style="--button-color:fg.muted" type="button" aria-label="Expand file tree" data-testid="expand-file-tree-button-mobile" class="types__StyledButton-sc-ws60qy-0 blmaBs"><span data-component="buttonContent" class="Box-sc-g0xbh4-0 kkrdEu"><span data-component="leadingVisual" class="Box-sc-g0xbh4-0 trpoQ"><svg aria-hidden="true" focusable="false" role="img" class="octicon octicon-arrow-left" viewBox="0 0 16 16" width="16" height="16" fill="currentColor" style="display:inline-block;user-select:none;vertical-align:text-bottom;overflow:visible"><path d="M7.78 12.53a.75.75 0 0 1-1.06 0L2.47 8.28a.75.75 0 0 1 0-1.06l4.25-4.25a.751.751 0 0 1 1.042.018.751.751 0 0 1 .018 1.042L4.81 7h7.44a.75.75 0 0 1 0 1.5H4.81l2.97 2.97a.75.75 0 0 1 0 1.06Z"></path></svg></span><span data-component="text">Files</span></span></button><span role="tooltip" aria-label="Collapse file tree" id="expand-button-file-tree-button" class="Tooltip__TooltipBase-sc-17tf59c-0 bRTpIc tooltipped-se"><button data-component="IconButton" type="button" data-testid="collapse-file-tree-button" aria-labelledby="expand-button-file-tree-button" aria-expanded="true" aria-controls="repos-file-tree" class="types__StyledButton-sc-ws60qy-0 hkJzmn" data-no-visuals="true"><svg aria-hidden="true" focusable="false" role="img" class="octicon octicon-sidebar-expand" viewBox="0 0 16 16" width="16" height="16" fill="currentColor" style="display:inline-block;user-select:none;vertical-align:text-bottom;overflow:visible"><path d="m4.177 7.823 2.396-2.396A.25.25 0 0 1 7 5.604v4.792a.25.25 0 0 1-.427.177L4.177 8.177a.25.25 0 0 1 0-.354Z"></path><path d="M0 1.75C0 .784.784 0 1.75 0h12.5C15.216 0 16 .784 16 1.75v12.5A1.75 1.75 0 0 1 14.25 16H1.75A1.75 1.75 0 0 1 0 14.25Zm1.75-.25a.25.25 0 0 0-.25.25v12.5c0 .138.112.25.25.25H9.5v-13Zm12.5 13a.25.25 0 0 0 .25-.25V1.75a.25.25 0 0 0-.25-.25H11v13Z"></path></svg></button></span><button hidden="" data-testid="" data-hotkey-scope="read-only-cursor-text-area"></button></h2><h2 class="Heading__StyledHeading-sc-1c1dgg0-0 imcwCi">Files</h2></div><div class="Box-sc-g0xbh4-0 hVHHYa"><div class="Box-sc-g0xbh4-0 idZfsJ"><button type="button" id="branch-picker-repos-header-ref-selector" aria-haspopup="true" tabindex="0" aria-label="master branch" data-testid="anchor-button" class="types__StyledButton-sc-ws60qy-0 eBOWAw react-repos-tree-pane-ref-selector width-full ref-selector-class"><span data-component="buttonContent" class="Box-sc-g0xbh4-0 kkrdEu"><span data-component="text"><div class="Box-sc-g0xbh4-0 bKgizp"><div class="Box-sc-g0xbh4-0 iPGYsi"><svg aria-hidden="true" focusable="false" role="img" class="octicon octicon-git-branch" viewBox="0 0 16 16" width="16" height="16" fill="currentColor" style="display:inline-block;user-select:none;vertical-align:text-bottom;overflow:visible"><path d="M9.5 3.25a2.25 2.25 0 1 1 3 2.122V6A2.5 2.5 0 0 1 10 8.5H6a1 1 0 0 0-1 1v1.128a2.251 2.251 0 1 1-1.5 0V5.372a2.25 2.25 0 1 1 1.5 0v1.836A2.493 2.493 0 0 1 6 7h4a1 1 0 0 0 1-1v-.628A2.25 2.25 0 0 1 9.5 3.25Zm-6 0a.75.75 0 1 0 1.5 0 .75.75 0 0 0-1.5 0Zm8.25-.75a.75.75 0 1 0 0 1.5.75.75 0 0 0 0-1.5ZM4.25 12a.75.75 0 1 0 0 1.5.75.75 0 0 0 0-1.5Z"></path></svg></div><div class="Box-sc-g0xbh4-0 caeYDk ref-selector-button-text-container"><span class="Text-sc-17v1xeu-0 bOMzPg"> <!-- -->master</span></div></div></span><span data-component="trailingVisual" class="Box-sc-g0xbh4-0 trpoQ"><svg aria-hidden="true" focusable="false" role="img" class="octicon octicon-triangle-down" viewBox="0 0 16 16" width="16" height="16" fill="currentColor" style="display:inline-block;user-select:none;vertical-align:text-bottom;overflow:visible"><path d="m4.427 7.427 3.396 3.396a.25.25 0 0 0 .354 0l3.396-3.396A.25.25 0 0 0 11.396 7H4.604a.25.25 0 0 0-.177.427Z"></path></svg></span></span></button><button hidden="" data-hotkey-scope="read-only-cursor-text-area"></button></div><div class="Box-sc-g0xbh4-0 jahcnb"><span role="tooltip" aria-label="Add file" class="Tooltip__TooltipBase-sc-17tf59c-0 bRTpIc tooltipped-s"><a sx="[object Object]" data-component="IconButton" type="button" aria-label="Add file" data-no-visuals="true" class="types__StyledButton-sc-ws60qy-0 dHiXw" href="/Marcib/Adatb-zis/new/master"><svg aria-hidden="true" focusable="false" role="img" class="octicon octicon-plus" viewBox="0 0 16 16" width="16" height="16" fill="currentColor" style="display:inline-block;user-select:none;vertical-align:text-bottom;overflow:visible"><path d="M7.75 2a.75.75 0 0 1 .75.75V7h4.25a.75.75 0 0 1 0 1.5H8.5v4.25a.75.75 0 0 1-1.5 0V8.5H2.75a.75.75 0 0 1 0-1.5H7V2.75A.75.75 0 0 1 7.75 2Z"></path></svg></a></span><button data-component="IconButton" type="button" aria-label="Search this repository" data-no-visuals="true" class="types__StyledButton-sc-ws60qy-0 UfKBS"><svg aria-hidden="true" focusable="false" role="img" class="octicon octicon-search" viewBox="0 0 16 16" width="16" height="16" fill="currentColor" style="display:inline-block;user-select:none;vertical-align:text-bottom;overflow:visible"><path d="M10.68 11.74a6 6 0 0 1-7.922-8.982 6 6 0 0 1 8.982 7.922l3.04 3.04a.749.749 0 0 1-.326 1.275.749.749 0 0 1-.734-.215ZM11.5 7a4.499 4.499 0 1 0-8.997 0A4.499 4.499 0 0 0 11.5 7Z"></path></svg></button><button hidden="" data-testid="" data-hotkey-scope="read-only-cursor-text-area"></button></div></div></div><div class="Box-sc-g0xbh4-0 ccToMy"><button hidden="" data-testid="" data-hotkey-scope="read-only-cursor-text-area"></button><button hidden=""></button><span class="TextInputWrapper__TextInputBaseWrapper-sc-1mqhpbi-0 TextInputWrapper-sc-1mqhpbi-1 frxNoc jbzqwE TextInput-wrapper" aria-busy="false"><span class="TextInput-icon"><svg aria-hidden="true" focusable="false" role="img" class="octicon octicon-search" viewBox="0 0 16 16" width="16" height="16" fill="currentColor" style="display:inline-block;user-select:none;vertical-align:text-bottom;overflow:visible"><path d="M10.68 11.74a6 6 0 0 1-7.922-8.982 6 6 0 0 1 8.982 7.922l3.04 3.04a.749.749 0 0 1-.326 1.275.749.749 0 0 1-.734-.215ZM11.5 7a4.499 4.499 0 1 0-8.997 0A4.499 4.499 0 0 0 11.5 7Z"></path></svg></span><input type="text" aria-label="Go to file" role="combobox" aria-controls="file-results-list" aria-expanded="false" aria-haspopup="dialog" autoCorrect="off" spellcheck="false" placeholder="Go to file" data-component="input" class="UnstyledTextInput-sc-14ypya-0 cDLBls" value=""/><span class="TextInput-icon"><div class="Box-sc-g0xbh4-0 cNvKlH"><kbd>t</kbd></div></span></span></div><div class="Box-sc-g0xbh4-0 cLfAnm"><div class="react-tree-show-tree-items"><div data-testid="repos-file-tree-container" class="Box-sc-g0xbh4-0 erWCJP"><nav aria-label="File Tree Navigation"><span role="status" aria-live="polite" aria-atomic="true" class="_VisuallyHidden__VisuallyHidden-sc-11jhm7a-0 rTZSs"></span><ul role="tree" aria-label="Files" class="TreeView__UlBox-sc-4ex6b6-0 TIGQC"><li class="PRIVATE_TreeView-item" tabindex="0" id="korsz_adatbgyak02.ipynb-item" role="treeitem" aria-labelledby=":Rqclmdaj5:" aria-describedby=":Rqclmdaj5H1: :Rqclmdaj5H2:" aria-level="1" aria-current="true" aria-selected="false"><div class="PRIVATE_TreeView-item-container" style="--level:1"><div style="grid-area:spacer;display:flex"><div style="width:100%;display:flex"></div></div><div id=":Rqclmdaj5:" class="PRIVATE_TreeView-item-content"><div class="PRIVATE_VisuallyHidden" aria-hidden="true" id=":Rqclmdaj5H1:"></div><div class="PRIVATE_TreeView-item-visual" aria-hidden="true"><svg aria-hidden="true" focusable="false" role="img" class="octicon octicon-file" viewBox="0 0 16 16" width="16" height="16" fill="currentColor" style="display:inline-block;user-select:none;vertical-align:text-bottom;overflow:visible"><path d="M2 1.75C2 .784 2.784 0 3.75 0h6.586c.464 0 .909.184 1.237.513l2.914 2.914c.329.328.513.773.513 1.237v9.586A1.75 1.75 0 0 1 13.25 16h-9.5A1.75 1.75 0 0 1 2 14.25Zm1.75-.25a.25.25 0 0 0-.25.25v12.5c0 .138.112.25.25.25h9.5a.25.25 0 0 0 .25-.25V6h-2.75A1.75 1.75 0 0 1 9 4.25V1.5Zm6.75.062V4.25c0 .138.112.25.25.25h2.688l-.011-.013-2.914-2.914-.013-.011Z"></path></svg></div><span class="PRIVATE_TreeView-item-content-text"><span>korsz_adatbgyak02.ipynb</span></span></div></div></li></ul></nav></div></div></div></div></div></div><div class="Box-sc-g0xbh4-0 hAeDYA"><div role="slider" aria-label="Draggable pane splitter" aria-valuemin="0" aria-valuemax="0" aria-valuenow="0" aria-valuetext="Pane width 0 pixels" tabindex="0" class="Box-sc-g0xbh4-0 UHyNo"></div></div></div></div><div class="Box-sc-g0xbh4-0 emFMJu"><div class="Box-sc-g0xbh4-0"></div><div class="Box-sc-g0xbh4-0 hlUAHL"><div data-selector="repos-split-pane-content" tabindex="0" class="Box-sc-g0xbh4-0 iStsmI"><div class="Box-sc-g0xbh4-0 eIgvIk"><div class="Box-sc-g0xbh4-0 eVFfWF container"><div class="Box-sc-g0xbh4-0 kgXdnT react-code-view-header--narrow"><div class="Box-sc-g0xbh4-0 kzTa-dF"><div class="Box-sc-g0xbh4-0 bbXCl"><h2 class="Heading__StyledHeading-sc-1c1dgg0-0 fNPcqd"><button style="--button-color:fg.muted" type="button" aria-label="Expand file tree" data-testid="expand-file-tree-button-mobile" class="types__StyledButton-sc-ws60qy-0 blmaBs"><span data-component="buttonContent" class="Box-sc-g0xbh4-0 kkrdEu"><span data-component="leadingVisual" class="Box-sc-g0xbh4-0 trpoQ"><svg aria-hidden="true" focusable="false" role="img" class="octicon octicon-arrow-left" viewBox="0 0 16 16" width="16" height="16" fill="currentColor" style="display:inline-block;user-select:none;vertical-align:text-bottom;overflow:visible"><path d="M7.78 12.53a.75.75 0 0 1-1.06 0L2.47 8.28a.75.75 0 0 1 0-1.06l4.25-4.25a.751.751 0 0 1 1.042.018.751.751 0 0 1 .018 1.042L4.81 7h7.44a.75.75 0 0 1 0 1.5H4.81l2.97 2.97a.75.75 0 0 1 0 1.06Z"></path></svg></span><span data-component="text">Files</span></span></button><span role="tooltip" aria-label="Collapse file tree" id="expand-button-file-tree-button" class="Tooltip__TooltipBase-sc-17tf59c-0 bRTpIc tooltipped-se"><button data-component="IconButton" type="button" data-testid="collapse-file-tree-button" aria-labelledby="expand-button-file-tree-button" aria-expanded="true" aria-controls="repos-file-tree" class="types__StyledButton-sc-ws60qy-0 hkJzmn" data-no-visuals="true"><svg aria-hidden="true" focusable="false" role="img" class="octicon octicon-sidebar-expand" viewBox="0 0 16 16" width="16" height="16" fill="currentColor" style="display:inline-block;user-select:none;vertical-align:text-bottom;overflow:visible"><path d="m4.177 7.823 2.396-2.396A.25.25 0 0 1 7 5.604v4.792a.25.25 0 0 1-.427.177L4.177 8.177a.25.25 0 0 1 0-.354Z"></path><path d="M0 1.75C0 .784.784 0 1.75 0h12.5C15.216 0 16 .784 16 1.75v12.5A1.75 1.75 0 0 1 14.25 16H1.75A1.75 1.75 0 0 1 0 14.25Zm1.75-.25a.25.25 0 0 0-.25.25v12.5c0 .138.112.25.25.25H9.5v-13Zm12.5 13a.25.25 0 0 0 .25-.25V1.75a.25.25 0 0 0-.25-.25H11v13Z"></path></svg></button></span><button hidden="" data-testid="" data-hotkey-scope="read-only-cursor-text-area"></button></h2><div class="Box-sc-g0xbh4-0 hGGMNu"><div class="Box-sc-g0xbh4-0 eHRrYV"><button type="button" id="branch-picker-repos-header-ref-selector-narrow" aria-haspopup="true" tabindex="0" aria-label="master branch" data-testid="anchor-button" class="types__StyledButton-sc-ws60qy-0 iSXJzk ref-selector-class"><span data-component="buttonContent" class="Box-sc-g0xbh4-0 kkrdEu"><span data-component="text"><div class="Box-sc-g0xbh4-0 bKgizp"><div class="Box-sc-g0xbh4-0 iPGYsi"><svg aria-hidden="true" focusable="false" role="img" class="octicon octicon-git-branch" viewBox="0 0 16 16" width="16" height="16" fill="currentColor" style="display:inline-block;user-select:none;vertical-align:text-bottom;overflow:visible"><path d="M9.5 3.25a2.25 2.25 0 1 1 3 2.122V6A2.5 2.5 0 0 1 10 8.5H6a1 1 0 0 0-1 1v1.128a2.251 2.251 0 1 1-1.5 0V5.372a2.25 2.25 0 1 1 1.5 0v1.836A2.493 2.493 0 0 1 6 7h4a1 1 0 0 0 1-1v-.628A2.25 2.25 0 0 1 9.5 3.25Zm-6 0a.75.75 0 1 0 1.5 0 .75.75 0 0 0-1.5 0Zm8.25-.75a.75.75 0 1 0 0 1.5.75.75 0 0 0 0-1.5ZM4.25 12a.75.75 0 1 0 0 1.5.75.75 0 0 0 0-1.5Z"></path></svg></div><div class="Box-sc-g0xbh4-0 dKmYfk ref-selector-button-text-container"><span class="Text-sc-17v1xeu-0 bOMzPg"> <!-- -->master</span></div></div></span><span data-component="trailingVisual" class="Box-sc-g0xbh4-0 trpoQ"><svg aria-hidden="true" focusable="false" role="img" class="octicon octicon-triangle-down" viewBox="0 0 16 16" width="16" height="16" fill="currentColor" style="display:inline-block;user-select:none;vertical-align:text-bottom;overflow:visible"><path d="m4.427 7.427 3.396 3.396a.25.25 0 0 0 .354 0l3.396-3.396A.25.25 0 0 0 11.396 7H4.604a.25.25 0 0 0-.177.427Z"></path></svg></span></span></button><button hidden="" data-hotkey-scope="read-only-cursor-text-area"></button></div> <button type="button" data-no-visuals="true" class="types__StyledButton-sc-ws60qy-0 hZiIV"><span data-component="buttonContent" class="Box-sc-g0xbh4-0 kkrdEu"><span data-component="text">Blame</span></span></button><button hidden="" data-testid="" data-hotkey-scope="read-only-cursor-text-area"></button><button data-component="IconButton" type="button" aria-label="More file actions" class="types__StyledButton-sc-ws60qy-0 jAAONu js-blob-dropdown-click" title="More file actions" data-testid="more-file-actions-button-nav-menu-narrow" id=":R159badaj5:" aria-haspopup="true" tabindex="0" data-no-visuals="true"><svg aria-hidden="true" focusable="false" role="img" class="octicon octicon-kebab-horizontal" viewBox="0 0 16 16" width="16" height="16" fill="currentColor" style="display:inline-block;user-select:none;vertical-align:text-bottom;overflow:visible"><path d="M8 9a1.5 1.5 0 1 0 0-3 1.5 1.5 0 0 0 0 3ZM1.5 9a1.5 1.5 0 1 0 0-3 1.5 1.5 0 0 0 0 3Zm13 0a1.5 1.5 0 1 0 0-3 1.5 1.5 0 0 0 0 3Z"></path></svg></button> </div></div><div class="Box-sc-g0xbh4-0 hSNzKh"><div class="Box-sc-g0xbh4-0 eTvGbF"><nav data-testid="breadcrumbs" aria-labelledby="repos-header-breadcrumb-mobile-heading" id="repos-header-breadcrumb-mobile" class="Box-sc-g0xbh4-0 kzRgrI"><h2 class="Heading__StyledHeading-sc-1c1dgg0-0 cgQnMS sr-only" data-testid="screen-reader-heading" id="repos-header-breadcrumb-mobile-heading">Breadcrumbs</h2><ol class="Box-sc-g0xbh4-0 cmAPIB"><li class="Box-sc-g0xbh4-0 jwXCBK"><a sx="[object Object]" data-testid="breadcrumbs-repo-link" class="Link__StyledLink-sc-14289xe-0 ipyMWB" href="/Marcib/Adatb-zis/tree/master">Adatb-zis</a></li></ol></nav><div data-testid="breadcrumbs-filename" class="Box-sc-g0xbh4-0 jwXCBK"><span aria-hidden="true" class="Text-sc-17v1xeu-0 fIsVJr">/</span><h1 tabindex="-1" id="file-name-id-mobile" class="Heading__StyledHeading-sc-1c1dgg0-0 diwsLq">korsz_adatbgyak02.ipynb</h1></div><button data-component="IconButton" type="button" aria-label="Copy path" data-testid="breadcrumb-copy-path-button" data-size="small" data-no-visuals="true" class="types__StyledButton-sc-ws60qy-0 ivbpoP"><svg aria-hidden="true" focusable="false" role="img" class="octicon octicon-copy" viewBox="0 0 16 16" width="16" height="16" fill="currentColor" style="display:inline-block;user-select:none;vertical-align:text-bottom;overflow:visible"><path d="M0 6.75C0 5.784.784 5 1.75 5h1.5a.75.75 0 0 1 0 1.5h-1.5a.25.25 0 0 0-.25.25v7.5c0 .138.112.25.25.25h7.5a.25.25 0 0 0 .25-.25v-1.5a.75.75 0 0 1 1.5 0v1.5A1.75 1.75 0 0 1 9.25 16h-7.5A1.75 1.75 0 0 1 0 14.25Z"></path><path d="M5 1.75C5 .784 5.784 0 6.75 0h7.5C15.216 0 16 .784 16 1.75v7.5A1.75 1.75 0 0 1 14.25 11h-7.5A1.75 1.75 0 0 1 5 9.25Zm1.75-.25a.25.25 0 0 0-.25.25v7.5c0 .138.112.25.25.25h7.5a.25.25 0 0 0 .25-.25v-7.5a.25.25 0 0 0-.25-.25Z"></path></svg></button></div></div></div></div><div id="StickyHeader" class="Box-sc-g0xbh4-0 bDwCYs react-code-view-header--wide"><div class="Box-sc-g0xbh4-0 fywjmm"><div class="Box-sc-g0xbh4-0 dyczTK"><div class="Box-sc-g0xbh4-0 kszRgZ"><div class="Box-sc-g0xbh4-0 eTvGbF"><nav data-testid="breadcrumbs" aria-labelledby="repos-header-breadcrumb-wide-heading" id="repos-header-breadcrumb-wide" class="Box-sc-g0xbh4-0 kzRgrI"><h2 class="Heading__StyledHeading-sc-1c1dgg0-0 cgQnMS sr-only" data-testid="screen-reader-heading" id="repos-header-breadcrumb-wide-heading">Breadcrumbs</h2><ol class="Box-sc-g0xbh4-0 cmAPIB"><li class="Box-sc-g0xbh4-0 jwXCBK"><a sx="[object Object]" data-testid="breadcrumbs-repo-link" class="Link__StyledLink-sc-14289xe-0 ipyMWB" href="/Marcib/Adatb-zis/tree/master">Adatb-zis</a></li></ol></nav><div data-testid="breadcrumbs-filename" class="Box-sc-g0xbh4-0 jwXCBK"><span aria-hidden="true" class="Text-sc-17v1xeu-0 fIsVJr">/</span><h1 tabindex="-1" id="file-name-id-wide" class="Heading__StyledHeading-sc-1c1dgg0-0 diwsLq">korsz_adatbgyak02.ipynb</h1></div><button data-component="IconButton" type="button" aria-label="Copy path" data-testid="breadcrumb-copy-path-button" data-size="small" data-no-visuals="true" class="types__StyledButton-sc-ws60qy-0 ivbpoP"><svg aria-hidden="true" focusable="false" role="img" class="octicon octicon-copy" viewBox="0 0 16 16" width="16" height="16" fill="currentColor" style="display:inline-block;user-select:none;vertical-align:text-bottom;overflow:visible"><path d="M0 6.75C0 5.784.784 5 1.75 5h1.5a.75.75 0 0 1 0 1.5h-1.5a.25.25 0 0 0-.25.25v7.5c0 .138.112.25.25.25h7.5a.25.25 0 0 0 .25-.25v-1.5a.75.75 0 0 1 1.5 0v1.5A1.75 1.75 0 0 1 9.25 16h-7.5A1.75 1.75 0 0 1 0 14.25Z"></path><path d="M5 1.75C5 .784 5.784 0 6.75 0h7.5C15.216 0 16 .784 16 1.75v7.5A1.75 1.75 0 0 1 14.25 11h-7.5A1.75 1.75 0 0 1 5 9.25Zm1.75-.25a.25.25 0 0 0-.25.25v7.5c0 .138.112.25.25.25h7.5a.25.25 0 0 0 .25-.25v-7.5a.25.25 0 0 0-.25-.25Z"></path></svg></button></div></div><div class="Box-sc-g0xbh4-0 gtBUEp"><div class="d-flex gap-2"> <button type="button" data-no-visuals="true" class="types__StyledButton-sc-ws60qy-0 hZiIV"><span data-component="buttonContent" class="Box-sc-g0xbh4-0 kkrdEu"><span data-component="text">Blame</span></span></button><button hidden="" data-testid="" data-hotkey-scope="read-only-cursor-text-area"></button><button data-component="IconButton" type="button" aria-label="More file actions" class="types__StyledButton-sc-ws60qy-0 jAAONu js-blob-dropdown-click" title="More file actions" data-testid="more-file-actions-button-nav-menu-wide" id=":R176jadaj5:" aria-haspopup="true" tabindex="0" data-no-visuals="true"><svg aria-hidden="true" focusable="false" role="img" class="octicon octicon-kebab-horizontal" viewBox="0 0 16 16" width="16" height="16" fill="currentColor" style="display:inline-block;user-select:none;vertical-align:text-bottom;overflow:visible"><path d="M8 9a1.5 1.5 0 1 0 0-3 1.5 1.5 0 0 0 0 3ZM1.5 9a1.5 1.5 0 1 0 0-3 1.5 1.5 0 0 0 0 3Zm13 0a1.5 1.5 0 1 0 0-3 1.5 1.5 0 0 0 0 3Z"></path></svg></button> </div></div></div></div></div></div></div><div class="Box-sc-g0xbh4-0 hVZtwF react-code-view-bottom-padding"> <div class="Box-sc-g0xbh4-0 cMYnca"></div><div class="Box-sc-g0xbh4-0"></div> <!-- --> <!-- --> </div><div class="Box-sc-g0xbh4-0 hVZtwF"> <!-- --> <!-- --> <div class="Box-sc-g0xbh4-0 jQCQnS"><div class="Box-sc-g0xbh4-0 eYedVD"><h2 class="Heading__StyledHeading-sc-1c1dgg0-0 cgQnMS sr-only" data-testid="screen-reader-heading">Latest commit</h2><div style="width:120px" class="Skeleton Skeleton--text" data-testid="loading"> </div><div class="Box-sc-g0xbh4-0 jGfYmh"><div data-testid="latest-commit-details" class="Box-sc-g0xbh4-0 lhFvfi"></div><h2 class="Heading__StyledHeading-sc-1c1dgg0-0 cgQnMS sr-only" data-testid="screen-reader-heading">History</h2><a class="types__StyledButton-sc-ws60qy-0 fAkXQN react-last-commit-history-group" href="/Marcib/Adatb-zis/commits/master/korsz_adatbgyak02.ipynb" data-size="small"><span data-component="buttonContent" class="Box-sc-g0xbh4-0 kkrdEu"><span data-component="leadingVisual" class="Box-sc-g0xbh4-0 trpoQ"><svg aria-hidden="true" focusable="false" role="img" class="octicon octicon-history" viewBox="0 0 16 16" width="16" height="16" fill="currentColor" style="display:inline-block;user-select:none;vertical-align:text-bottom;overflow:visible"><path d="m.427 1.927 1.215 1.215a8.002 8.002 0 1 1-1.6 5.685.75.75 0 1 1 1.493-.154 6.5 6.5 0 1 0 1.18-4.458l1.358 1.358A.25.25 0 0 1 3.896 6H.25A.25.25 0 0 1 0 5.75V2.104a.25.25 0 0 1 .427-.177ZM7.75 4a.75.75 0 0 1 .75.75v2.992l2.028.812a.75.75 0 0 1-.557 1.392l-2.5-1A.751.751 0 0 1 7 8.25v-3.5A.75.75 0 0 1 7.75 4Z"></path></svg></span><span data-component="text"><span class="Text-sc-17v1xeu-0 dALsKK">History</span></span></span></a><div class="Box-sc-g0xbh4-0 bqgLjk"></div><span role="tooltip" aria-label="Commit history" class="Tooltip__TooltipBase-sc-17tf59c-0 bRTpIc tooltipped-n"><a class="types__StyledButton-sc-ws60qy-0 fAkXQN react-last-commit-history-icon" href="/Marcib/Adatb-zis/commits/master/korsz_adatbgyak02.ipynb"><span data-component="buttonContent" class="Box-sc-g0xbh4-0 kkrdEu"><span data-component="leadingVisual" class="Box-sc-g0xbh4-0 trpoQ"><svg aria-hidden="true" focusable="false" role="img" class="octicon octicon-history" viewBox="0 0 16 16" width="16" height="16" fill="currentColor" style="display:inline-block;user-select:none;vertical-align:text-bottom;overflow:visible"><path d="m.427 1.927 1.215 1.215a8.002 8.002 0 1 1-1.6 5.685.75.75 0 1 1 1.493-.154 6.5 6.5 0 1 0 1.18-4.458l1.358 1.358A.25.25 0 0 1 3.896 6H.25A.25.25 0 0 1 0 5.75V2.104a.25.25 0 0 1 .427-.177ZM7.75 4a.75.75 0 0 1 .75.75v2.992l2.028.812a.75.75 0 0 1-.557 1.392l-2.5-1A.751.751 0 0 1 7 8.25v-3.5A.75.75 0 0 1 7.75 4Z"></path></svg></span></span></a></span></div></div></div><div class="Box-sc-g0xbh4-0 iJmJly"><div class="Box-sc-g0xbh4-0 jACbi container"><div class="Box-sc-g0xbh4-0 gIJuDf react-code-size-details-banner"><div class="Box-sc-g0xbh4-0 fleZSW react-code-size-details-banner"><div class="Box-sc-g0xbh4-0 BnySK text-mono"><div title="176 KB" data-testid="blob-size" class="Truncate__StyledTruncate-sc-23o1d2-0 fUpWeN"><span class="Text-sc-17v1xeu-0 gPDEWA">4315 lines (4315 loc) · 176 KB</span></div></div></div><div class="Box-sc-g0xbh4-0 react-code-size-details-banner"><button style="--button-color:fg.default" type="button" id=":R9faladaj5:" aria-haspopup="true" tabindex="0" data-testid="copilot-popover-button" data-size="small" class="types__StyledButton-sc-ws60qy-0 frAFhH"><span data-component="buttonContent" class="Box-sc-g0xbh4-0 kkrdEu"><span data-component="leadingVisual" class="Box-sc-g0xbh4-0 trpoQ"><svg aria-hidden="true" focusable="false" role="img" class="octicon octicon-copilot" viewBox="0 0 16 16" width="16" height="16" fill="currentColor" style="display:inline-block;user-select:none;vertical-align:text-bottom;overflow:visible"><path d="M7.998 15.035c-4.562 0-7.873-2.914-7.998-3.749V9.338c.085-.628.677-1.686 1.588-2.065.013-.07.024-.143.036-.218.029-.183.06-.384.126-.612-.201-.508-.254-1.084-.254-1.656 0-.87.128-1.769.693-2.484.579-.733 1.494-1.124 2.724-1.261 1.206-.134 2.262.034 2.944.765.05.053.096.108.139.165.044-.057.094-.112.143-.165.682-.731 1.738-.899 2.944-.765 1.23.137 2.145.528 2.724 1.261.566.715.693 1.614.693 2.484 0 .572-.053 1.148-.254 1.656.066.228.098.429.126.612.012.076.024.148.037.218.924.385 1.522 1.471 1.591 2.095v1.872c0 .766-3.351 3.795-8.002 3.795Zm0-1.485c2.28 0 4.584-1.11 5.002-1.433V7.862l-.023-.116c-.49.21-1.075.291-1.727.291-1.146 0-2.059-.327-2.71-.991A3.222 3.222 0 0 1 8 6.303a3.24 3.24 0 0 1-.544.743c-.65.664-1.563.991-2.71.991-.652 0-1.236-.081-1.727-.291l-.023.116v4.255c.419.323 2.722 1.433 5.002 1.433ZM6.762 2.83c-.193-.206-.637-.413-1.682-.297-1.019.113-1.479.404-1.713.7-.247.312-.369.789-.369 1.554 0 .793.129 1.171.308 1.371.162.181.519.379 1.442.379.853 0 1.339-.235 1.638-.54.315-.322.527-.827.617-1.553.117-.935-.037-1.395-.241-1.614Zm4.155-.297c-1.044-.116-1.488.091-1.681.297-.204.219-.359.679-.242 1.614.091.726.303 1.231.618 1.553.299.305.784.54 1.638.54.922 0 1.28-.198 1.442-.379.179-.2.308-.578.308-1.371 0-.765-.123-1.242-.37-1.554-.233-.296-.693-.587-1.713-.7Z"></path><path d="M6.25 9.037a.75.75 0 0 1 .75.75v1.501a.75.75 0 0 1-1.5 0V9.787a.75.75 0 0 1 .75-.75Zm4.25.75v1.501a.75.75 0 0 1-1.5 0V9.787a.75.75 0 0 1 1.5 0Z"></path></svg></span><span data-component="text">Code 55% faster with GitHub Copilot</span></span></button></div></div><div class="Box-sc-g0xbh4-0 VHzRk react-blob-view-header-sticky" id="repos-sticky-header"><div class="Box-sc-g0xbh4-0 ePiodO"><div class="Box-sc-g0xbh4-0 react-blob-sticky-header"><div class="Box-sc-g0xbh4-0 kQJlnf"><div class="Box-sc-g0xbh4-0 gJICKO"><div class="Box-sc-g0xbh4-0 iZJewz"><nav data-testid="breadcrumbs" aria-labelledby="sticky-breadcrumb-heading" id="sticky-breadcrumb" class="Box-sc-g0xbh4-0 kzRgrI"><h2 class="Heading__StyledHeading-sc-1c1dgg0-0 cgQnMS sr-only" data-testid="screen-reader-heading" id="sticky-breadcrumb-heading">Breadcrumbs</h2><ol class="Box-sc-g0xbh4-0 cmAPIB"><li class="Box-sc-g0xbh4-0 jwXCBK"><a sx="[object Object]" data-testid="breadcrumbs-repo-link" class="Link__StyledLink-sc-14289xe-0 ipyMWB" href="/Marcib/Adatb-zis/tree/master">Adatb-zis</a></li></ol></nav><div data-testid="breadcrumbs-filename" class="Box-sc-g0xbh4-0 jwXCBK"><span aria-hidden="true" class="Text-sc-17v1xeu-0 cYjMDB">/</span><h1 tabindex="-1" id="sticky-file-name-id" class="Heading__StyledHeading-sc-1c1dgg0-0 jAEDJk">korsz_adatbgyak02.ipynb</h1></div></div><button style="--button-color:fg.default" type="button" data-size="small" class="types__StyledButton-sc-ws60qy-0 gfKkfV"><span data-component="buttonContent" class="Box-sc-g0xbh4-0 kkrdEu"><span data-component="leadingVisual" class="Box-sc-g0xbh4-0 trpoQ"><svg aria-hidden="true" focusable="false" role="img" class="octicon octicon-arrow-up" viewBox="0 0 16 16" width="16" height="16" fill="currentColor" style="display:inline-block;user-select:none;vertical-align:text-bottom;overflow:visible"><path d="M3.47 7.78a.75.75 0 0 1 0-1.06l4.25-4.25a.75.75 0 0 1 1.06 0l4.25 4.25a.751.751 0 0 1-.018 1.042.751.751 0 0 1-1.042.018L9 4.81v7.44a.75.75 0 0 1-1.5 0V4.81L4.53 7.78a.75.75 0 0 1-1.06 0Z"></path></svg></span><span data-component="text">Top</span></span></button></div></div></div><div class="Box-sc-g0xbh4-0 jfjHXm"><h2 class="Heading__StyledHeading-sc-1c1dgg0-0 cgQnMS sr-only" data-testid="screen-reader-heading">File metadata and controls</h2><div class="Box-sc-g0xbh4-0 bfkNRF"><ul aria-label="File view" class="SegmentedControl__SegmentedControlList-sc-1rzig82-0 huxtnT"><li class="Box-sc-g0xbh4-0 fXBLEV"><button aria-current="true" class="SegmentedControlButton__SegmentedControlButtonStyled-sc-8lkgxl-0 jEdVkE"><span class="segmentedControl-content"><div class="Box-sc-g0xbh4-0 segmentedControl-text">Preview</div></span></button></li><li class="Box-sc-g0xbh4-0 gMPsNT"><button aria-current="false" class="SegmentedControlButton__SegmentedControlButtonStyled-sc-8lkgxl-0 TvbfG"><span class="segmentedControl-content"><div class="Box-sc-g0xbh4-0 segmentedControl-text">Code</div></span></button></li><li class="Box-sc-g0xbh4-0 gMPsNT"><button aria-current="false" class="SegmentedControlButton__SegmentedControlButtonStyled-sc-8lkgxl-0 fIktcg"><span class="segmentedControl-content"><div class="Box-sc-g0xbh4-0 segmentedControl-text">Blame</div></span></button></li></ul><button hidden="" data-testid="" data-hotkey-scope="read-only-cursor-text-area"></button><button hidden="" data-testid="" data-hotkey-scope="read-only-cursor-text-area"></button><button hidden="" data-testid="" data-hotkey-scope="read-only-cursor-text-area"></button><div class="Box-sc-g0xbh4-0 fleZSW react-code-size-details-in-header"><div class="Box-sc-g0xbh4-0 BnySK text-mono"><div title="176 KB" data-testid="blob-size" class="Truncate__StyledTruncate-sc-23o1d2-0 fUpWeN"><span class="Text-sc-17v1xeu-0 gPDEWA">4315 lines (4315 loc) · 176 KB</span></div></div></div><div class="Box-sc-g0xbh4-0 react-code-size-details-in-header"><button style="--button-color:fg.default" type="button" id=":Rt6faladaj5:" aria-haspopup="true" tabindex="0" data-testid="copilot-popover-button" data-size="small" class="types__StyledButton-sc-ws60qy-0 frAFhH"><span data-component="buttonContent" class="Box-sc-g0xbh4-0 kkrdEu"><span data-component="leadingVisual" class="Box-sc-g0xbh4-0 trpoQ"><svg aria-hidden="true" focusable="false" role="img" class="octicon octicon-copilot" viewBox="0 0 16 16" width="16" height="16" fill="currentColor" style="display:inline-block;user-select:none;vertical-align:text-bottom;overflow:visible"><path d="M7.998 15.035c-4.562 0-7.873-2.914-7.998-3.749V9.338c.085-.628.677-1.686 1.588-2.065.013-.07.024-.143.036-.218.029-.183.06-.384.126-.612-.201-.508-.254-1.084-.254-1.656 0-.87.128-1.769.693-2.484.579-.733 1.494-1.124 2.724-1.261 1.206-.134 2.262.034 2.944.765.05.053.096.108.139.165.044-.057.094-.112.143-.165.682-.731 1.738-.899 2.944-.765 1.23.137 2.145.528 2.724 1.261.566.715.693 1.614.693 2.484 0 .572-.053 1.148-.254 1.656.066.228.098.429.126.612.012.076.024.148.037.218.924.385 1.522 1.471 1.591 2.095v1.872c0 .766-3.351 3.795-8.002 3.795Zm0-1.485c2.28 0 4.584-1.11 5.002-1.433V7.862l-.023-.116c-.49.21-1.075.291-1.727.291-1.146 0-2.059-.327-2.71-.991A3.222 3.222 0 0 1 8 6.303a3.24 3.24 0 0 1-.544.743c-.65.664-1.563.991-2.71.991-.652 0-1.236-.081-1.727-.291l-.023.116v4.255c.419.323 2.722 1.433 5.002 1.433ZM6.762 2.83c-.193-.206-.637-.413-1.682-.297-1.019.113-1.479.404-1.713.7-.247.312-.369.789-.369 1.554 0 .793.129 1.171.308 1.371.162.181.519.379 1.442.379.853 0 1.339-.235 1.638-.54.315-.322.527-.827.617-1.553.117-.935-.037-1.395-.241-1.614Zm4.155-.297c-1.044-.116-1.488.091-1.681.297-.204.219-.359.679-.242 1.614.091.726.303 1.231.618 1.553.299.305.784.54 1.638.54.922 0 1.28-.198 1.442-.379.179-.2.308-.578.308-1.371 0-.765-.123-1.242-.37-1.554-.233-.296-.693-.587-1.713-.7Z"></path><path d="M6.25 9.037a.75.75 0 0 1 .75.75v1.501a.75.75 0 0 1-1.5 0V9.787a.75.75 0 0 1 .75-.75Zm4.25.75v1.501a.75.75 0 0 1-1.5 0V9.787a.75.75 0 0 1 1.5 0Z"></path></svg></span><span data-component="text">Code 55% faster with GitHub Copilot</span></span></button></div></div><div class="Box-sc-g0xbh4-0 iBylDf"><div class="Box-sc-g0xbh4-0 kSGBPx react-blob-header-edit-and-raw-actions"><div class="ButtonGroup-sc-1gxhls1-0 cjbBGq"><a href="https://github.com/Marcib/Adatb-zis/raw/master/korsz_adatbgyak02.ipynb" data-testid="raw-button" data-size="small" data-no-visuals="true" class="types__StyledButton-sc-ws60qy-0 bkOoYh"><span data-component="buttonContent" class="Box-sc-g0xbh4-0 kkrdEu"><span data-component="text">Raw</span></span></a><button data-component="IconButton" type="button" aria-label="Copy raw content" data-testid="copy-raw-button" data-size="small" data-no-visuals="true" class="types__StyledButton-sc-ws60qy-0 gyYLjU"><svg aria-hidden="true" focusable="false" role="img" class="octicon octicon-copy" viewBox="0 0 16 16" width="16" height="16" fill="currentColor" style="display:inline-block;user-select:none;vertical-align:text-bottom;overflow:visible"><path d="M0 6.75C0 5.784.784 5 1.75 5h1.5a.75.75 0 0 1 0 1.5h-1.5a.25.25 0 0 0-.25.25v7.5c0 .138.112.25.25.25h7.5a.25.25 0 0 0 .25-.25v-1.5a.75.75 0 0 1 1.5 0v1.5A1.75 1.75 0 0 1 9.25 16h-7.5A1.75 1.75 0 0 1 0 14.25Z"></path><path d="M5 1.75C5 .784 5.784 0 6.75 0h7.5C15.216 0 16 .784 16 1.75v7.5A1.75 1.75 0 0 1 14.25 11h-7.5A1.75 1.75 0 0 1 5 9.25Zm1.75-.25a.25.25 0 0 0-.25.25v7.5c0 .138.112.25.25.25h7.5a.25.25 0 0 0 .25-.25v-7.5a.25.25 0 0 0-.25-.25Z"></path></svg></button><span role="tooltip" aria-label="Download raw file" class="Tooltip__TooltipBase-sc-17tf59c-0 bRTpIc tooltipped-n"><button data-component="IconButton" type="button" aria-label="Download raw content" data-testid="download-raw-button" data-size="small" data-no-visuals="true" class="types__StyledButton-sc-ws60qy-0 jQxWRE"><svg aria-hidden="true" focusable="false" role="img" class="octicon octicon-download" viewBox="0 0 16 16" width="16" height="16" fill="currentColor" style="display:inline-block;user-select:none;vertical-align:text-bottom;overflow:visible"><path d="M2.75 14A1.75 1.75 0 0 1 1 12.25v-2.5a.75.75 0 0 1 1.5 0v2.5c0 .138.112.25.25.25h10.5a.25.25 0 0 0 .25-.25v-2.5a.75.75 0 0 1 1.5 0v2.5A1.75 1.75 0 0 1 13.25 14Z"></path><path d="M7.25 7.689V2a.75.75 0 0 1 1.5 0v5.689l1.97-1.969a.749.749 0 1 1 1.06 1.06l-3.25 3.25a.749.749 0 0 1-1.06 0L4.22 6.78a.749.749 0 1 1 1.06-1.06l1.97 1.969Z"></path></svg></button></span></div><button hidden="" data-testid="raw-button-shortcut" data-hotkey-scope="read-only-cursor-text-area"></button><button hidden="" data-testid="copy-raw-button-shortcut" data-hotkey-scope="read-only-cursor-text-area"></button><button hidden="" data-testid="download-raw-button-shortcut" data-hotkey-scope="read-only-cursor-text-area"></button><a class="Link__StyledLink-sc-14289xe-0 dheQRw js-github-dev-shortcut d-none" href="https://github.dev/"></a><button hidden="" data-testid="" data-hotkey-scope="read-only-cursor-text-area"></button><a class="Link__StyledLink-sc-14289xe-0 dheQRw js-github-dev-new-tab-shortcut d-none" href="https://github.dev/" target="_blank"></a><button hidden="" data-testid="" data-hotkey-scope="read-only-cursor-text-area"></button><div class="ButtonGroup-sc-1gxhls1-0 cjbBGq"><span role="tooltip" aria-label="Edit this file" class="Tooltip__TooltipBase-sc-17tf59c-0 bRTpIc tooltipped-nw"><a sx="[object Object]" data-component="IconButton" type="button" aria-label="Edit file" data-testid="edit-button" data-size="small" data-no-visuals="true" class="types__StyledButton-sc-ws60qy-0 HrSzO" href="/Marcib/Adatb-zis/edit/master/korsz_adatbgyak02.ipynb"><svg aria-hidden="true" focusable="false" role="img" class="octicon octicon-pencil" viewBox="0 0 16 16" width="16" height="16" fill="currentColor" style="display:inline-block;user-select:none;vertical-align:text-bottom;overflow:visible"><path d="M11.013 1.427a1.75 1.75 0 0 1 2.474 0l1.086 1.086a1.75 1.75 0 0 1 0 2.474l-8.61 8.61c-.21.21-.47.364-.756.445l-3.251.93a.75.75 0 0 1-.927-.928l.929-3.25c.081-.286.235-.547.445-.758l8.61-8.61Zm.176 4.823L9.75 4.81l-6.286 6.287a.253.253 0 0 0-.064.108l-.558 1.953 1.953-.558a.253.253 0 0 0 .108-.064Zm1.238-3.763a.25.25 0 0 0-.354 0L10.811 3.75l1.439 1.44 1.263-1.263a.25.25 0 0 0 0-.354Z"></path></svg></a></span><button data-component="IconButton" type="button" aria-label="More edit options" data-testid="more-edit-button" id=":R2l76faladaj5:" aria-haspopup="true" tabindex="0" data-size="small" data-no-visuals="true" class="types__StyledButton-sc-ws60qy-0 gyYLjU"><svg aria-hidden="true" focusable="false" role="img" class="octicon octicon-triangle-down" viewBox="0 0 16 16" width="16" height="16" fill="currentColor" style="display:inline-block;user-select:none;vertical-align:text-bottom;overflow:visible"><path d="m4.427 7.427 3.396 3.396a.25.25 0 0 0 .354 0l3.396-3.396A.25.25 0 0 0 11.396 7H4.604a.25.25 0 0 0-.177.427Z"></path></svg></button></div><button hidden="" data-testid="" data-hotkey="e,Shift+E" data-hotkey-scope="read-only-cursor-text-area"></button></div><div class="Box-sc-g0xbh4-0 react-blob-header-edit-and-raw-actions-combined"><button data-component="IconButton" type="button" aria-label="Edit and raw actions" class="types__StyledButton-sc-ws60qy-0 dGDIQc js-blob-dropdown-click" title="More file actions" data-testid="more-file-actions-button" id=":R5v6faladaj5:" aria-haspopup="true" tabindex="0" data-size="small" data-no-visuals="true"><svg aria-hidden="true" focusable="false" role="img" class="octicon octicon-kebab-horizontal" viewBox="0 0 16 16" width="16" height="16" fill="currentColor" style="display:inline-block;user-select:none;vertical-align:text-bottom;overflow:visible"><path d="M8 9a1.5 1.5 0 1 0 0-3 1.5 1.5 0 0 0 0 3ZM1.5 9a1.5 1.5 0 1 0 0-3 1.5 1.5 0 0 0 0 3Zm13 0a1.5 1.5 0 1 0 0-3 1.5 1.5 0 0 0 0 3Z"></path></svg></button></div></div></div></div><div class="Box-sc-g0xbh4-0"></div></div><div class="Box-sc-g0xbh4-0 ytOJl"><section aria-labelledby="file-name-id-wide file-name-id-mobile" class="Box-sc-g0xbh4-0 eJsjkT"><!--$!--><template></template><div data-testid="suspense-spinner" class="Box-sc-g0xbh4-0 bAzdCq"><svg height="32px" width="32px" viewBox="0 0 16 16" fill="none" aria-label="Loading" class="Spinner__StyledSpinner-sc-1knt686-0 hPEVNM"><circle cx="8" cy="8" r="7" stroke="currentColor" stroke-opacity="0.25" stroke-width="2" vector-effect="non-scaling-stroke"></circle><path d="M15 8a7.002 7.002 0 00-7-7" stroke="currentColor" stroke-width="2" stroke-linecap="round" vector-effect="non-scaling-stroke"></path></svg></div><!--/$--></section></div></div></div> <!-- --> <!-- --> </div></div></div><div class="Box-sc-g0xbh4-0"></div></div></div></div></div><div id="find-result-marks-container" class="Box-sc-g0xbh4-0 aZrVR"></div><button hidden="" data-testid="" data-hotkey-scope="read-only-cursor-text-area"></button><button hidden=""></button></div> <!-- --> <!-- --> <!-- --> <script type="application/json" id="__PRIMER_DATA__">{"resolvedServerColorMode":"day"}</script></div>
</react-app>
</turbo-frame>



  </div>

</turbo-frame>

    </main>
  </div>

  </div>

          <footer class="footer pt-8 pb-6 f6 color-fg-muted p-responsive" role="contentinfo" >
  <h2 class='sr-only'>Footer</h2>

  


  <div class="d-flex flex-justify-center flex-items-center flex-column-reverse flex-lg-row flex-wrap flex-lg-nowrap">
    <div class="d-flex flex-items-center flex-shrink-0 mx-2">
      <a aria-label="Homepage" title="GitHub" class="footer-octicon mr-2" href="https://github.com">
        <svg aria-hidden="true" height="24" viewBox="0 0 16 16" version="1.1" width="24" data-view-component="true" class="octicon octicon-mark-github">
    <path d="M8 0c4.42 0 8 3.58 8 8a8.013 8.013 0 0 1-5.45 7.59c-.4.08-.55-.17-.55-.38 0-.27.01-1.13.01-2.2 0-.75-.25-1.23-.54-1.48 1.78-.2 3.65-.88 3.65-3.95 0-.88-.31-1.59-.82-2.15.08-.2.36-1.02-.08-2.12 0 0-.67-.22-2.2.82-.64-.18-1.32-.27-2-.27-.68 0-1.36.09-2 .27-1.53-1.03-2.2-.82-2.2-.82-.44 1.1-.16 1.92-.08 2.12-.51.56-.82 1.28-.82 2.15 0 3.06 1.86 3.75 3.64 3.95-.23.2-.44.55-.51 1.07-.46.21-1.61.55-2.33-.66-.15-.24-.6-.83-1.23-.82-.67.01-.27.38.01.53.34.19.73.9.82 1.13.16.45.68 1.31 2.69.94 0 .67.01 1.3.01 1.49 0 .21-.15.45-.55.38A7.995 7.995 0 0 1 0 8c0-4.42 3.58-8 8-8Z"></path>
</svg>
</a>
      <span>
        &copy; 2024 GitHub,&nbsp;Inc.
      </span>
    </div>

    <nav aria-label="Footer">
      <h3 class="sr-only" id="sr-footer-heading">Footer navigation</h3>

      <ul class="list-style-none d-flex flex-justify-center flex-wrap mb-2 mb-lg-0" aria-labelledby="sr-footer-heading">

          <li class="mx-2">
            <a data-analytics-event="{&quot;category&quot;:&quot;Footer&quot;,&quot;action&quot;:&quot;go to Terms&quot;,&quot;label&quot;:&quot;text:terms&quot;}" href="https://docs.github.com/site-policy/github-terms/github-terms-of-service" data-view-component="true" class="Link--secondary Link">Terms</a>
          </li>

          <li class="mx-2">
            <a data-analytics-event="{&quot;category&quot;:&quot;Footer&quot;,&quot;action&quot;:&quot;go to privacy&quot;,&quot;label&quot;:&quot;text:privacy&quot;}" href="https://docs.github.com/site-policy/privacy-policies/github-privacy-statement" data-view-component="true" class="Link--secondary Link">Privacy</a>
          </li>

          <li class="mx-2">
            <a data-analytics-event="{&quot;category&quot;:&quot;Footer&quot;,&quot;action&quot;:&quot;go to security&quot;,&quot;label&quot;:&quot;text:security&quot;}" href="/security" data-view-component="true" class="Link--secondary Link">Security</a>
          </li>

          <li class="mx-2">
            <a data-analytics-event="{&quot;category&quot;:&quot;Footer&quot;,&quot;action&quot;:&quot;go to status&quot;,&quot;label&quot;:&quot;text:status&quot;}" href="https://www.githubstatus.com/" data-view-component="true" class="Link--secondary Link">Status</a>
          </li>

          <li class="mx-2">
            <a data-analytics-event="{&quot;category&quot;:&quot;Footer&quot;,&quot;action&quot;:&quot;go to docs&quot;,&quot;label&quot;:&quot;text:docs&quot;}" href="https://docs.github.com" data-view-component="true" class="Link--secondary Link">Docs</a>
          </li>

          <li class="mx-2">
            <a data-analytics-event="{&quot;category&quot;:&quot;Footer&quot;,&quot;action&quot;:&quot;go to contact&quot;,&quot;label&quot;:&quot;text:contact&quot;}" href="https://support.github.com?tags=dotcom-footer" data-view-component="true" class="Link--secondary Link">Contact</a>
          </li>

          <li class="mx-2" >
  <cookie-consent-link>
    <button type="button" class="Link--secondary underline-on-hover border-0 p-0 color-bg-transparent" data-action="click:cookie-consent-link#showConsentManagement">
      Manage cookies
    </button>
  </cookie-consent-link>
</li>

<li class="mx-2">
  <cookie-consent-link>
    <button type="button" class="Link--secondary underline-on-hover border-0 p-0 color-bg-transparent" data-action="click:cookie-consent-link#showConsentManagement">
      Do not share my personal information
    </button>
  </cookie-consent-link>
</li>

      </ul>
    </nav>
  </div>
</footer>




    <cookie-consent id="cookie-consent-banner" class="position-fixed bottom-0 left-0" style="z-index: 999999" data-initial-cookie-consent-allowed="" data-cookie-consent-required="true"></cookie-consent>


  <div id="ajax-error-message" class="ajax-error-message flash flash-error" hidden>
    <svg aria-hidden="true" height="16" viewBox="0 0 16 16" version="1.1" width="16" data-view-component="true" class="octicon octicon-alert">
    <path d="M6.457 1.047c.659-1.234 2.427-1.234 3.086 0l6.082 11.378A1.75 1.75 0 0 1 14.082 15H1.918a1.75 1.75 0 0 1-1.543-2.575Zm1.763.707a.25.25 0 0 0-.44 0L1.698 13.132a.25.25 0 0 0 .22.368h12.164a.25.25 0 0 0 .22-.368Zm.53 3.996v2.5a.75.75 0 0 1-1.5 0v-2.5a.75.75 0 0 1 1.5 0ZM9 11a1 1 0 1 1-2 0 1 1 0 0 1 2 0Z"></path>
</svg>
    <button type="button" class="flash-close js-ajax-error-dismiss" aria-label="Dismiss error">
      <svg aria-hidden="true" height="16" viewBox="0 0 16 16" version="1.1" width="16" data-view-component="true" class="octicon octicon-x">
    <path d="M3.72 3.72a.75.75 0 0 1 1.06 0L8 6.94l3.22-3.22a.749.749 0 0 1 1.275.326.749.749 0 0 1-.215.734L9.06 8l3.22 3.22a.749.749 0 0 1-.326 1.275.749.749 0 0 1-.734-.215L8 9.06l-3.22 3.22a.751.751 0 0 1-1.042-.018.751.751 0 0 1-.018-1.042L6.94 8 3.72 4.78a.75.75 0 0 1 0-1.06Z"></path>
</svg>
    </button>
    You can’t perform that action at this time.
  </div>

    <template id="site-details-dialog">
  <details class="details-reset details-overlay details-overlay-dark lh-default color-fg-default hx_rsm" open>
    <summary role="button" aria-label="Close dialog"></summary>
    <details-dialog class="Box Box--overlay d-flex flex-column anim-fade-in fast hx_rsm-dialog hx_rsm-modal">
      <button class="Box-btn-octicon m-0 btn-octicon position-absolute right-0 top-0" type="button" aria-label="Close dialog" data-close-dialog>
        <svg aria-hidden="true" height="16" viewBox="0 0 16 16" version="1.1" width="16" data-view-component="true" class="octicon octicon-x">
    <path d="M3.72 3.72a.75.75 0 0 1 1.06 0L8 6.94l3.22-3.22a.749.749 0 0 1 1.275.326.749.749 0 0 1-.215.734L9.06 8l3.22 3.22a.749.749 0 0 1-.326 1.275.749.749 0 0 1-.734-.215L8 9.06l-3.22 3.22a.751.751 0 0 1-1.042-.018.751.751 0 0 1-.018-1.042L6.94 8 3.72 4.78a.75.75 0 0 1 0-1.06Z"></path>
</svg>
      </button>
      <div class="octocat-spinner my-6 js-details-dialog-spinner"></div>
    </details-dialog>
  </details>
</template>

    <div class="Popover js-hovercard-content position-absolute" style="display: none; outline: none;" tabindex="0">
  <div class="Popover-message Popover-message--bottom-left Popover-message--large Box color-shadow-large" style="width:360px;">
  </div>
</div>

    <template id="snippet-clipboard-copy-button">
  <div class="zeroclipboard-container position-absolute right-0 top-0">
    <clipboard-copy aria-label="Copy" class="ClipboardButton btn js-clipboard-copy m-2 p-0 tooltipped-no-delay" data-copy-feedback="Copied!" data-tooltip-direction="w">
      <svg aria-hidden="true" height="16" viewBox="0 0 16 16" version="1.1" width="16" data-view-component="true" class="octicon octicon-copy js-clipboard-copy-icon m-2">
    <path d="M0 6.75C0 5.784.784 5 1.75 5h1.5a.75.75 0 0 1 0 1.5h-1.5a.25.25 0 0 0-.25.25v7.5c0 .138.112.25.25.25h7.5a.25.25 0 0 0 .25-.25v-1.5a.75.75 0 0 1 1.5 0v1.5A1.75 1.75 0 0 1 9.25 16h-7.5A1.75 1.75 0 0 1 0 14.25Z"></path><path d="M5 1.75C5 .784 5.784 0 6.75 0h7.5C15.216 0 16 .784 16 1.75v7.5A1.75 1.75 0 0 1 14.25 11h-7.5A1.75 1.75 0 0 1 5 9.25Zm1.75-.25a.25.25 0 0 0-.25.25v7.5c0 .138.112.25.25.25h7.5a.25.25 0 0 0 .25-.25v-7.5a.25.25 0 0 0-.25-.25Z"></path>
</svg>
      <svg aria-hidden="true" height="16" viewBox="0 0 16 16" version="1.1" width="16" data-view-component="true" class="octicon octicon-check js-clipboard-check-icon color-fg-success d-none m-2">
    <path d="M13.78 4.22a.75.75 0 0 1 0 1.06l-7.25 7.25a.75.75 0 0 1-1.06 0L2.22 9.28a.751.751 0 0 1 .018-1.042.751.751 0 0 1 1.042-.018L6 10.94l6.72-6.72a.75.75 0 0 1 1.06 0Z"></path>
</svg>
    </clipboard-copy>
  </div>
</template>
<template id="snippet-clipboard-copy-button-unpositioned">
  <div class="zeroclipboard-container">
    <clipboard-copy aria-label="Copy" class="ClipboardButton btn btn-invisible js-clipboard-copy m-2 p-0 tooltipped-no-delay d-flex flex-justify-center flex-items-center" data-copy-feedback="Copied!" data-tooltip-direction="w">
      <svg aria-hidden="true" height="16" viewBox="0 0 16 16" version="1.1" width="16" data-view-component="true" class="octicon octicon-copy js-clipboard-copy-icon">
    <path d="M0 6.75C0 5.784.784 5 1.75 5h1.5a.75.75 0 0 1 0 1.5h-1.5a.25.25 0 0 0-.25.25v7.5c0 .138.112.25.25.25h7.5a.25.25 0 0 0 .25-.25v-1.5a.75.75 0 0 1 1.5 0v1.5A1.75 1.75 0 0 1 9.25 16h-7.5A1.75 1.75 0 0 1 0 14.25Z"></path><path d="M5 1.75C5 .784 5.784 0 6.75 0h7.5C15.216 0 16 .784 16 1.75v7.5A1.75 1.75 0 0 1 14.25 11h-7.5A1.75 1.75 0 0 1 5 9.25Zm1.75-.25a.25.25 0 0 0-.25.25v7.5c0 .138.112.25.25.25h7.5a.25.25 0 0 0 .25-.25v-7.5a.25.25 0 0 0-.25-.25Z"></path>
</svg>
      <svg aria-hidden="true" height="16" viewBox="0 0 16 16" version="1.1" width="16" data-view-component="true" class="octicon octicon-check js-clipboard-check-icon color-fg-success d-none">
    <path d="M13.78 4.22a.75.75 0 0 1 0 1.06l-7.25 7.25a.75.75 0 0 1-1.06 0L2.22 9.28a.751.751 0 0 1 .018-1.042.751.751 0 0 1 1.042-.018L6 10.94l6.72-6.72a.75.75 0 0 1 1.06 0Z"></path>
</svg>
    </clipboard-copy>
  </div>
</template>


    <style>
      .user-mention[href$="/Marcib"] {
        color: var(--color-user-mention-fg);
        background-color: var(--color-user-mention-bg);
        border-radius: 2px;
        margin-left: -2px;
        margin-right: -2px;
        padding: 0 2px;
      }
    </style>


    </div>

    <div id="js-global-screen-reader-notice" class="sr-only" aria-live="polite" aria-atomic="true" ></div>
    <div id="js-global-screen-reader-notice-assertive" class="sr-only" aria-live="assertive" aria-atomic="true"></div>
  </body>
</html>

