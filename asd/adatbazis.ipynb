{
    "metadata": {
        "kernelspec": {
            "name": "SQL",
            "display_name": "SQL",
            "language": "sql"
        },
        "language_info": {
            "name": "sql",
            "version": ""
        },
        "extensions": {
            "azuredatastudio": {
                "version": 1,
                "views": []
            }
        }
    },
    "nbformat_minor": 2,
    "nbformat": 4,
    "cells": [
        {
            "cell_type": "markdown",
            "source": [
                "Készítsünk sorszámozott listát a szálláshelyek adatairól! \n",
                "\n",
                "a. A lista legyen a szálláshely típusa szerint, azon belül hely szerint, majd a neve szerint növekvően rendezve! \n",
                "\n",
                "b. A számozás típusonként kezdődjön újra!"
            ],
            "metadata": {
                "azdata_cell_guid": "0169da75-dde6-481d-9a20-1bd4d783b662"
            },
            "attachments": {}
        },
        {
            "cell_type": "code",
            "source": [
                "select *,ROW_NUMBER() over(PARTITION by tipus order by tipus,hely,szallas_nev)\r\n",
                " from  Szallashely"
            ],
            "metadata": {
                "azdata_cell_guid": "815e3c22-0cf1-4b70-a8d8-3abee67807be",
                "tags": []
            },
            "outputs": [],
            "execution_count": null
        },
        {
            "cell_type": "markdown",
            "source": [
                "3\n",
                "\n",
                "Készítsük listát, amely megjeleníti az ügyfelek azonosítóját, nevét és a foglalásainak kezdő- és befejező dátumát, valamint azt, hogy a foglalás összesen hány főre történt! \n",
                "\n",
                "a. Egy új oszlopban jelenítsük meg azt is, hogy az ügyfél előző három foglalása összesen hány főre történt!"
            ],
            "metadata": {
                "azdata_cell_guid": "cf598654-16f0-433f-b948-48fc57101ab0"
            },
            "attachments": {}
        },
        {
            "cell_type": "code",
            "source": [
                "Select from Foglalas f join  Ugyfel u on f.UGYFEL_FK=u.[LOGIN]"
            ],
            "metadata": {
                "azdata_cell_guid": "10a7a42b-a1ef-430a-8631-9e41405a0f7c"
            },
            "outputs": [],
            "execution_count": null
        }
    ]
}