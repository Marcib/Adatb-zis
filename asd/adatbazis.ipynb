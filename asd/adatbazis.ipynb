{
    "metadata": {
        "kernelspec": {
            "name": "SQL",
            "display_name": "SQL",
            "language": "sql"
        },
        "language_info": {
            "name": "sql",
            "version": ""
        },
        "extensions": {
            "azuredatastudio": {
                "version": 1,
                "views": []
            }
        }
    },
    "nbformat_minor": 2,
    "nbformat": 4,
    "cells": [
        {
            "cell_type": "markdown",
            "source": [
                "Készítsünk sorszámozott listát a szálláshelyek adatairól! \n",
                "\n",
                "a. A lista legyen a szálláshely típusa szerint, azon belül hely szerint, majd a neve szerint növekvően rendezve! \n",
                "\n",
                "b. A számozás típusonként kezdődjön újra!"
            ],
            "metadata": {
                "azdata_cell_guid": "0169da75-dde6-481d-9a20-1bd4d783b662"
            },
            "attachments": {}
        },
        {
            "cell_type": "code",
            "source": [
                "select *,ROW_NUMBER() over(PARTITION by tipus order by tipus,hely,szallas_nev)\r\n",
                " from  Szallashely"
            ],
            "metadata": {
                "azdata_cell_guid": "815e3c22-0cf1-4b70-a8d8-3abee67807be",
                "tags": [
                    "hide_input"
                ]
            },
            "outputs": [],
            "execution_count": null
        }
    ]
}